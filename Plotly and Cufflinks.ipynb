{
 "cells": [
  {
   "cell_type": "code",
   "execution_count": 1,
   "metadata": {},
   "outputs": [],
   "source": [
    "import pandas as pd\n",
    "import numpy as np"
   ]
  },
  {
   "cell_type": "code",
   "execution_count": 7,
   "metadata": {},
   "outputs": [],
   "source": [
    "from plotly import __version__"
   ]
  },
  {
   "cell_type": "code",
   "execution_count": 8,
   "metadata": {},
   "outputs": [
    {
     "name": "stdout",
     "output_type": "stream",
     "text": [
      "4.8.1\n"
     ]
    }
   ],
   "source": [
    "print(__version__)"
   ]
  },
  {
   "cell_type": "code",
   "execution_count": 9,
   "metadata": {},
   "outputs": [],
   "source": [
    "import cufflinks as cf"
   ]
  },
  {
   "cell_type": "code",
   "execution_count": 12,
   "metadata": {},
   "outputs": [],
   "source": [
    "from plotly.offline import download_plotlyjs,init_notebook_mode,plot,iplot"
   ]
  },
  {
   "cell_type": "code",
   "execution_count": 13,
   "metadata": {},
   "outputs": [
    {
     "data": {
      "text/html": [
       "        <script type=\"text/javascript\">\n",
       "        window.PlotlyConfig = {MathJaxConfig: 'local'};\n",
       "        if (window.MathJax) {MathJax.Hub.Config({SVG: {font: \"STIX-Web\"}});}\n",
       "        if (typeof require !== 'undefined') {\n",
       "        require.undef(\"plotly\");\n",
       "        requirejs.config({\n",
       "            paths: {\n",
       "                'plotly': ['https://cdn.plot.ly/plotly-latest.min']\n",
       "            }\n",
       "        });\n",
       "        require(['plotly'], function(Plotly) {\n",
       "            window._Plotly = Plotly;\n",
       "        });\n",
       "        }\n",
       "        </script>\n",
       "        "
      ]
     },
     "metadata": {},
     "output_type": "display_data"
    }
   ],
   "source": [
    "init_notebook_mode(connected=True)"
   ]
  },
  {
   "cell_type": "code",
   "execution_count": 14,
   "metadata": {},
   "outputs": [
    {
     "data": {
      "text/html": [
       "        <script type=\"text/javascript\">\n",
       "        window.PlotlyConfig = {MathJaxConfig: 'local'};\n",
       "        if (window.MathJax) {MathJax.Hub.Config({SVG: {font: \"STIX-Web\"}});}\n",
       "        if (typeof require !== 'undefined') {\n",
       "        require.undef(\"plotly\");\n",
       "        requirejs.config({\n",
       "            paths: {\n",
       "                'plotly': ['https://cdn.plot.ly/plotly-latest.min']\n",
       "            }\n",
       "        });\n",
       "        require(['plotly'], function(Plotly) {\n",
       "            window._Plotly = Plotly;\n",
       "        });\n",
       "        }\n",
       "        </script>\n",
       "        "
      ]
     },
     "metadata": {},
     "output_type": "display_data"
    }
   ],
   "source": [
    "cf.go_offline()"
   ]
  },
  {
   "cell_type": "code",
   "execution_count": 18,
   "metadata": {},
   "outputs": [],
   "source": [
    "#DATA\n",
    "df = pd.DataFrame(np.random.randn(100,4), columns = 'A B C D'.split())"
   ]
  },
  {
   "cell_type": "code",
   "execution_count": 20,
   "metadata": {},
   "outputs": [
    {
     "data": {
      "text/html": [
       "<div>\n",
       "<style scoped>\n",
       "    .dataframe tbody tr th:only-of-type {\n",
       "        vertical-align: middle;\n",
       "    }\n",
       "\n",
       "    .dataframe tbody tr th {\n",
       "        vertical-align: top;\n",
       "    }\n",
       "\n",
       "    .dataframe thead th {\n",
       "        text-align: right;\n",
       "    }\n",
       "</style>\n",
       "<table border=\"1\" class=\"dataframe\">\n",
       "  <thead>\n",
       "    <tr style=\"text-align: right;\">\n",
       "      <th></th>\n",
       "      <th>A</th>\n",
       "      <th>B</th>\n",
       "      <th>C</th>\n",
       "      <th>D</th>\n",
       "    </tr>\n",
       "  </thead>\n",
       "  <tbody>\n",
       "    <tr>\n",
       "      <td>0</td>\n",
       "      <td>-0.140227</td>\n",
       "      <td>-0.491381</td>\n",
       "      <td>0.832298</td>\n",
       "      <td>0.149805</td>\n",
       "    </tr>\n",
       "    <tr>\n",
       "      <td>1</td>\n",
       "      <td>-0.062154</td>\n",
       "      <td>0.200968</td>\n",
       "      <td>2.948794</td>\n",
       "      <td>-1.419880</td>\n",
       "    </tr>\n",
       "    <tr>\n",
       "      <td>2</td>\n",
       "      <td>1.360499</td>\n",
       "      <td>-0.511838</td>\n",
       "      <td>-0.932720</td>\n",
       "      <td>-0.732708</td>\n",
       "    </tr>\n",
       "    <tr>\n",
       "      <td>3</td>\n",
       "      <td>-0.314990</td>\n",
       "      <td>-0.294755</td>\n",
       "      <td>2.793354</td>\n",
       "      <td>-0.608538</td>\n",
       "    </tr>\n",
       "    <tr>\n",
       "      <td>4</td>\n",
       "      <td>1.002969</td>\n",
       "      <td>0.791287</td>\n",
       "      <td>0.854245</td>\n",
       "      <td>0.326036</td>\n",
       "    </tr>\n",
       "  </tbody>\n",
       "</table>\n",
       "</div>"
      ],
      "text/plain": [
       "          A         B         C         D\n",
       "0 -0.140227 -0.491381  0.832298  0.149805\n",
       "1 -0.062154  0.200968  2.948794 -1.419880\n",
       "2  1.360499 -0.511838 -0.932720 -0.732708\n",
       "3 -0.314990 -0.294755  2.793354 -0.608538\n",
       "4  1.002969  0.791287  0.854245  0.326036"
      ]
     },
     "execution_count": 20,
     "metadata": {},
     "output_type": "execute_result"
    }
   ],
   "source": [
    "df.head()"
   ]
  },
  {
   "cell_type": "code",
   "execution_count": 21,
   "metadata": {},
   "outputs": [],
   "source": [
    "df2 = pd.DataFrame({'Category':['A','B','C'], 'Values':[32,43,50]})"
   ]
  },
  {
   "cell_type": "code",
   "execution_count": 22,
   "metadata": {},
   "outputs": [
    {
     "data": {
      "text/html": [
       "<div>\n",
       "<style scoped>\n",
       "    .dataframe tbody tr th:only-of-type {\n",
       "        vertical-align: middle;\n",
       "    }\n",
       "\n",
       "    .dataframe tbody tr th {\n",
       "        vertical-align: top;\n",
       "    }\n",
       "\n",
       "    .dataframe thead th {\n",
       "        text-align: right;\n",
       "    }\n",
       "</style>\n",
       "<table border=\"1\" class=\"dataframe\">\n",
       "  <thead>\n",
       "    <tr style=\"text-align: right;\">\n",
       "      <th></th>\n",
       "      <th>Category</th>\n",
       "      <th>Values</th>\n",
       "    </tr>\n",
       "  </thead>\n",
       "  <tbody>\n",
       "    <tr>\n",
       "      <td>0</td>\n",
       "      <td>A</td>\n",
       "      <td>32</td>\n",
       "    </tr>\n",
       "    <tr>\n",
       "      <td>1</td>\n",
       "      <td>B</td>\n",
       "      <td>43</td>\n",
       "    </tr>\n",
       "    <tr>\n",
       "      <td>2</td>\n",
       "      <td>C</td>\n",
       "      <td>50</td>\n",
       "    </tr>\n",
       "  </tbody>\n",
       "</table>\n",
       "</div>"
      ],
      "text/plain": [
       "  Category  Values\n",
       "0        A      32\n",
       "1        B      43\n",
       "2        C      50"
      ]
     },
     "execution_count": 22,
     "metadata": {},
     "output_type": "execute_result"
    }
   ],
   "source": [
    "df2"
   ]
  },
  {
   "cell_type": "code",
   "execution_count": 23,
   "metadata": {},
   "outputs": [
    {
     "data": {
      "text/plain": [
       "<matplotlib.axes._subplots.AxesSubplot at 0x17011c9d8c8>"
      ]
     },
     "execution_count": 23,
     "metadata": {},
     "output_type": "execute_result"
    }
   ],
   "source": [
    "df.plot()"
   ]
  },
  {
   "cell_type": "code",
   "execution_count": 24,
   "metadata": {},
   "outputs": [],
   "source": [
    "%matplotlib inline"
   ]
  },
  {
   "cell_type": "code",
   "execution_count": 30,
   "metadata": {},
   "outputs": [
    {
     "data": {
      "text/plain": [
       "<matplotlib.axes._subplots.AxesSubplot at 0x17013cee548>"
      ]
     },
     "execution_count": 30,
     "metadata": {},
     "output_type": "execute_result"
    },
    {
     "data": {
      "image/png": "[encoded data removed]",
      "text/plain": [
       "<Figure size 432x288 with 1 Axes>"
      ]
     },
     "metadata": {
      "needs_background": "light"
     },
     "output_type": "display_data"
    }
   ],
   "source": [
    "df.plot()"
   ]
  },
  {
   "cell_type": "code",
   "execution_count": 32,
   "metadata": {},
   "outputs": [],
   "source": [
    "from IPython.display import display"
   ]
  },
  {
   "cell_type": "code",
   "execution_count": 33,
   "metadata": {},
   "outputs": [
    {
     "data": {
      "application/vnd.plotly.v1+json": {
       "config": {
        "linkText": "Export to plot.ly",
        "plotlyServerURL": "https://plot.ly",
        "showLink": true
       },
       "data": [
        {
         "line": {
          "color": "rgba(255, 153, 51, 1.0)",
          "dash": "solid",
          "shape": "linear",
          "width": 1.3
         },
         "mode": "lines",
         "name": "A",
         "text": "",
         "type": "scatter",
         "x": [
          0,
          1,
          2,
          3,
          4,
          5,
          6,
          7,
          8,
          9,
          10,
          11,
          12,
          13,
          14,
          15,
          16,
          17,
          18,
          19,
          20,
          21,
          22,
          23,
          24,
          25,
          26,
          27,
          28,
          29,
          30,
          31,
          32,
          33,
          34,
          35,
          36,
          37,
          38,
          39,
          40,
          41,
          42,
          43,
          44,
          45,
          46,
          47,
          48,
          49,
          50,
          51,
          52,
          53,
          54,
          55,
          56,
          57,
          58,
          59,
          60,
          61,
          62,
          63,
          64,
          65,
          66,
          67,
          68,
          69,
          70,
          71,
          72,
          73,
          74,
          75,
          76,
          77,
          78,
          79,
          80,
          81,
          82,
          83,
          84,
          85,
          86,
          87,
          88,
          89,
          90,
          91,
          92,
          93,
          94,
          95,
          96,
          97,
          98,
          99
         ],
         "y": [
          -0.14022739364165643,
          -0.06215427637826168,
          1.3604993525322426,
          -0.31499023670117493,
          1.0029694989154603,
          0.970785908978943,
          -1.9952834025092647,
          1.0039135826827332,
          -0.9158744798111359,
          -1.5467467590902721,
          0.37209295460286496,
          -0.11707489023640913,
          0.3729934586411193,
          -0.09155881745717738,
          -0.03683336514171592,
          -0.41858716289621883,
          1.2727487669685111,
          0.7032449700650091,
          -0.3738248467613199,
          1.5095426393794726,
          -0.18607365814905844,
          0.4183288835354543,
          0.19887318935897869,
          -0.8883000951919754,
          -0.5092841539648556,
          -0.6087002578641567,
          -0.9661264541068408,
          -1.915268445309993,
          0.6093753654788755,
          1.580437092556138,
          1.2038017025994858,
          -0.9256468334675966,
          1.4351143773603932,
          1.1091342369517356,
          -0.018304712037069137,
          -2.2313836406164778,
          0.7070440778124587,
          -0.5307156073349464,
          2.296219589090963,
          2.387706409516227,
          0.6271835271545523,
          -1.2173587220621744,
          0.42570764846744746,
          -1.865485577029963,
          0.09358857883241165,
          0.21890364457894615,
          -0.8132962135397189,
          0.8909606370067288,
          -1.3191599374713485,
          -0.266719405828341,
          1.1247976919873686,
          0.48999024384756007,
          0.5807255032073525,
          -0.6562912505872847,
          -0.6742217180417197,
          2.214992557360574,
          -0.9679289742345283,
          0.43124375434740847,
          1.2054308100887878,
          -0.0920927130932392,
          0.9421320700961858,
          0.11984996143687157,
          -0.15429180556311048,
          0.2918631513091189,
          -1.8717576688946829,
          -0.8679678182080496,
          -0.020103099947394832,
          -0.042027336524633696,
          1.239199523092614,
          0.31174508367849085,
          0.9361084479519998,
          -0.18618102912744675,
          0.5826791217951177,
          0.43352959070524805,
          0.05304296463400472,
          -0.5926127266145984,
          -2.714955903645562,
          -0.7302768692480879,
          0.5416647778556658,
          1.066691518602927,
          -0.20464590566938895,
          1.667570632967258,
          -1.2848121388168667,
          -1.2693020887010722,
          1.1961530520102446,
          -2.303978558507296,
          -0.34484568309621116,
          0.33316727300389903,
          -1.5277704570453603,
          -0.2677533280031435,
          -1.1069183000442135,
          -0.69696863763343,
          0.4220514472520369,
          -0.7119580435533539,
          -0.4861965889709872,
          -1.0514199478282396,
          -1.2973863778725738,
          -1.852599660498362,
          0.2669849512911801,
          0.6934313898697425
         ]
        },
        {
         "line": {
          "color": "rgba(55, 128, 191, 1.0)",
          "dash": "solid",
          "shape": "linear",
          "width": 1.3
         },
         "mode": "lines",
         "name": "B",
         "text": "",
         "type": "scatter",
         "x": [
          0,
          1,
          2,
          3,
          4,
          5,
          6,
          7,
          8,
          9,
          10,
          11,
          12,
          13,
          14,
          15,
          16,
          17,
          18,
          19,
          20,
          21,
          22,
          23,
          24,
          25,
          26,
          27,
          28,
          29,
          30,
          31,
          32,
          33,
          34,
          35,
          36,
          37,
          38,
          39,
          40,
          41,
          42,
          43,
          44,
          45,
          46,
          47,
          48,
          49,
          50,
          51,
          52,
          53,
          54,
          55,
          56,
          57,
          58,
          59,
          60,
          61,
          62,
          63,
          64,
          65,
          66,
          67,
          68,
          69,
          70,
          71,
          72,
          73,
          74,
          75,
          76,
          77,
          78,
          79,
          80,
          81,
          82,
          83,
          84,
          85,
          86,
          87,
          88,
          89,
          90,
          91,
          92,
          93,
          94,
          95,
          96,
          97,
          98,
          99
         ],
         "y": [
          -0.49138081110649495,
          0.20096821703152126,
          -0.5118376940715328,
          -0.294754672042674,
          0.7912868491160063,
          0.6016396273238315,
          -1.8517024871032415,
          -0.8357324338017871,
          0.5567672502176182,
          0.34248645594707156,
          1.1284364585110525,
          -0.9475016318413956,
          0.6052496337791674,
          -0.14129046372803092,
          0.23878933595490678,
          -1.3302105428345574,
          0.7065868414255477,
          0.8596504098464547,
          -1.0289972766977775,
          0.38416590094808395,
          -0.6805516583040593,
          0.25047413304492844,
          -1.0934455244419623,
          0.21783950085433063,
          -1.6465140549141115,
          1.773635885242201,
          -0.15523341084556538,
          2.676693565466258,
          -0.5545091562056877,
          -1.1680827062075498,
          0.4012562551292746,
          1.5825339892798398,
          -0.5398529138511904,
          1.0645026613523625,
          -1.4028466624172862,
          -0.8110265275168601,
          0.017905104851356973,
          -0.5880126717343193,
          -1.9196292048084675,
          -0.5770587119572501,
          -0.3709996873352136,
          0.6380882254802426,
          -2.048108646820459,
          -0.6244061305032667,
          0.1979958562682151,
          1.235861000391054,
          -0.056613145024522714,
          1.4231514175036732,
          -0.12371210746402267,
          2.0043855782244577,
          0.24377248592591028,
          -0.9191773044109226,
          1.260013880741051,
          0.25973909324840844,
          0.7809547129755966,
          -1.1393604843367602,
          0.5155300758995982,
          -0.08659470454921091,
          0.7450800307774069,
          0.8763936308013027,
          0.6536472576730905,
          -0.5269623477618497,
          -0.3983721526933854,
          0.2628759268519323,
          -0.05138886524695858,
          1.999743718409326,
          0.08002061538393514,
          1.8932986126680995,
          -0.4392068648508249,
          1.8041669201375656,
          0.5014501185022648,
          0.6418703110176629,
          0.916215226940129,
          0.09519773076228714,
          0.2024566893905404,
          -1.126067618256918,
          -1.043129801809276,
          1.4232891346410141,
          0.45471152794813313,
          -0.3789454598854821,
          1.113225442536063,
          0.9673482795705286,
          -2.1035698135731296,
          0.5732793851398493,
          0.008794944506913387,
          -1.11121827900885,
          -1.242414784044673,
          0.23578253336456306,
          1.5892034787841012,
          -0.2997132280280576,
          -0.38497283723599923,
          0.7293960491010912,
          0.09212027910610585,
          0.1752052422872672,
          0.5906643403648387,
          -0.7612504986085381,
          1.2337359981255012,
          -0.5972867609627632,
          0.9206519061066598,
          -1.5461656964766408
         ]
        },
        {
         "line": {
          "color": "rgba(50, 171, 96, 1.0)",
          "dash": "solid",
          "shape": "linear",
          "width": 1.3
         },
         "mode": "lines",
         "name": "C",
         "text": "",
         "type": "scatter",
         "x": [
          0,
          1,
          2,
          3,
          4,
          5,
          6,
          7,
          8,
          9,
          10,
          11,
          12,
          13,
          14,
          15,
          16,
          17,
          18,
          19,
          20,
          21,
          22,
          23,
          24,
          25,
          26,
          27,
          28,
          29,
          30,
          31,
          32,
          33,
          34,
          35,
          36,
          37,
          38,
          39,
          40,
          41,
          42,
          43,
          44,
          45,
          46,
          47,
          48,
          49,
          50,
          51,
          52,
          53,
          54,
          55,
          56,
          57,
          58,
          59,
          60,
          61,
          62,
          63,
          64,
          65,
          66,
          67,
          68,
          69,
          70,
          71,
          72,
          73,
          74,
          75,
          76,
          77,
          78,
          79,
          80,
          81,
          82,
          83,
          84,
          85,
          86,
          87,
          88,
          89,
          90,
          91,
          92,
          93,
          94,
          95,
          96,
          97,
          98,
          99
         ],
         "y": [
          0.8322983650067056,
          2.9487944257739023,
          -0.9327203264414998,
          2.7933536990347863,
          0.8542454719675332,
          0.31809576337229933,
          -0.6715186412029381,
          0.15938393556550307,
          -1.7425405225991573,
          1.4863178222912832,
          -1.872915682609848,
          -0.5960420579789987,
          -2.203298476933827,
          -0.2329350022052127,
          0.7796450318301332,
          1.052891983781643,
          -0.1409371827770851,
          0.6474336473085542,
          -1.505571111529484,
          0.7062178145702688,
          -1.964670446835789,
          -0.4981514131178999,
          1.5181771987126984,
          -1.536175060551129,
          -0.38959992623384093,
          -0.3022172312940435,
          -0.25772880922383,
          -0.39695053175002115,
          -0.3095852443436779,
          -0.11194083861580877,
          0.7601753859738068,
          -0.530247095041203,
          0.20861687899845097,
          0.7674050485892783,
          0.4452817555900837,
          0.0767095841096248,
          -2.2259461140532677,
          -1.2116302710576747,
          -1.32822562098306,
          -0.5222062624020434,
          0.7911058892910624,
          0.4677239636003078,
          0.30047245775079023,
          0.3655170020081269,
          0.20289276559461722,
          0.4153352653664582,
          -0.052447423831299834,
          0.11944076654957166,
          0.8015700610030586,
          0.2918230148556353,
          1.4531188182365395,
          0.24933808921225617,
          0.3785975989601048,
          0.226260847886642,
          -0.41584412274397065,
          0.4454689629799662,
          -1.0586950119045058,
          -0.14716718680168142,
          0.8857301418421732,
          1.384794926717062,
          -0.4903542543080155,
          -0.2473618499212272,
          -0.7009630708566316,
          0.5156263381961245,
          -1.1291255812234384,
          -0.829298694609309,
          1.3248499130433977,
          0.08442761312503773,
          1.0275396393621423,
          -0.3766191390707656,
          -1.731605498902651,
          -0.8783732284756439,
          -0.4096881845872658,
          -0.9214946500952481,
          0.5544203859970838,
          0.055184168100756534,
          1.5837192344598334,
          1.7266557126922775,
          0.8683138050421154,
          -1.0555846243018687,
          -2.184309585184786,
          -0.3803520581700609,
          0.4206995113741631,
          0.085060901439029,
          1.15516801238735,
          1.256396811071076,
          0.6613073885245957,
          0.4055860332919486,
          0.7494503435914309,
          -0.3553773638208235,
          0.22709931025133642,
          -1.8067918820329791,
          -1.3655651555395014,
          -0.7013106904763116,
          -0.9608101653884948,
          -0.3913486413753859,
          -1.0725993756038412,
          1.8512012914505818,
          0.7088848612689266,
          -0.14842242801709593
         ]
        },
        {
         "line": {
          "color": "rgba(128, 0, 128, 1.0)",
          "dash": "solid",
          "shape": "linear",
          "width": 1.3
         },
         "mode": "lines",
         "name": "D",
         "text": "",
         "type": "scatter",
         "x": [
          0,
          1,
          2,
          3,
          4,
          5,
          6,
          7,
          8,
          9,
          10,
          11,
          12,
          13,
          14,
          15,
          16,
          17,
          18,
          19,
          20,
          21,
          22,
          23,
          24,
          25,
          26,
          27,
          28,
          29,
          30,
          31,
          32,
          33,
          34,
          35,
          36,
          37,
          38,
          39,
          40,
          41,
          42,
          43,
          44,
          45,
          46,
          47,
          48,
          49,
          50,
          51,
          52,
          53,
          54,
          55,
          56,
          57,
          58,
          59,
          60,
          61,
          62,
          63,
          64,
          65,
          66,
          67,
          68,
          69,
          70,
          71,
          72,
          73,
          74,
          75,
          76,
          77,
          78,
          79,
          80,
          81,
          82,
          83,
          84,
          85,
          86,
          87,
          88,
          89,
          90,
          91,
          92,
          93,
          94,
          95,
          96,
          97,
          98,
          99
         ],
         "y": [
          0.14980519387875132,
          -1.4198798107052975,
          -0.7327077885129524,
          -0.6085377074797261,
          0.32603603643856804,
          0.05800489349336685,
          -0.7663414536041493,
          -0.4980972756109609,
          1.6291425865446543,
          0.4637796522855408,
          0.041789905018740685,
          0.3775787012811703,
          -1.5982595699465927,
          1.319815229205623,
          -0.7973020773164097,
          0.016588448398173073,
          0.7687636179232215,
          0.946061861862273,
          0.5630595028889144,
          -1.732414528269466,
          0.2202207093991576,
          -0.18890053343860205,
          -1.4304638653323456,
          -1.4128856795325917,
          0.06393104024926448,
          0.14144503101449765,
          0.4802131029118245,
          1.009367633119822,
          -0.5821688413981985,
          0.43607399705809297,
          -1.107229741845423,
          -0.1763841373336813,
          0.977963986531852,
          -1.6522872849716423,
          -0.5793361170634413,
          0.5558489986821461,
          1.065170588802731,
          1.3299176946618927,
          0.15570712345963303,
          -0.37284916437786214,
          0.8574099168049211,
          1.3580023577303706,
          -1.227710763935321,
          -1.581773724016081,
          -0.9583483914893025,
          0.5220724489139206,
          -0.9447623535968571,
          2.326472964841943,
          -1.0285467364486465,
          -0.9518028155898937,
          1.8256635162843007,
          -0.7447939489245792,
          -0.35542822662993445,
          2.0226683813177546,
          0.30189223247555663,
          -0.06399955557885503,
          -1.556050477309016,
          -1.6343501528936466,
          -0.41084832490311385,
          -0.16266217074037218,
          0.2914615780978868,
          -0.424044469491487,
          1.1063947607956812,
          -1.3891732650666997,
          -0.2954048676433976,
          1.1092818568490956,
          -0.19599030027340839,
          0.5291884870361916,
          0.36172739040270746,
          -0.560905791229739,
          -0.33918392310298456,
          0.5910664413066594,
          -1.0603114537944383,
          -0.16533511057927797,
          1.2364316740221963,
          0.1454372667550455,
          -1.4880456437309315,
          -0.0934156145073493,
          0.940054247885066,
          0.4769872896615898,
          2.142452777427751,
          -1.620668974236862,
          -0.019343804836262146,
          0.5090676133052232,
          -1.9161718154222847,
          0.3853671714937817,
          0.994868242832238,
          1.0964425597617593,
          1.467335409627744,
          0.7646621744062372,
          -1.7816290892180877,
          0.0907817268338275,
          -0.20687425439460655,
          -0.980047818319929,
          -0.07394196352769604,
          0.5749412114732553,
          -0.19751122740326005,
          1.2592560828216992,
          -0.094315966458522,
          1.016397700020748
         ]
        }
       ],
       "layout": {
        "legend": {
         "bgcolor": "#F5F6F9",
         "font": {
          "color": "#4D5663"
         }
        },
        "paper_bgcolor": "#F5F6F9",
        "plot_bgcolor": "#F5F6F9",
        "template": {
         "data": {
          "bar": [
           {
            "error_x": {
             "color": "#2a3f5f"
            },
            "error_y": {
             "color": "#2a3f5f"
            },
            "marker": {
             "line": {
              "color": "#E5ECF6",
              "width": 0.5
             }
            },
            "type": "bar"
           }
          ],
          "barpolar": [
           {
            "marker": {
             "line": {
              "color": "#E5ECF6",
              "width": 0.5
             }
            },
            "type": "barpolar"
           }
          ],
          "carpet": [
           {
            "aaxis": {
             "endlinecolor": "#2a3f5f",
             "gridcolor": "white",
             "linecolor": "white",
             "minorgridcolor": "white",
             "startlinecolor": "#2a3f5f"
            },
            "baxis": {
             "endlinecolor": "#2a3f5f",
             "gridcolor": "white",
             "linecolor": "white",
             "minorgridcolor": "white",
             "startlinecolor": "#2a3f5f"
            },
            "type": "carpet"
           }
          ],
          "choropleth": [
           {
            "colorbar": {
             "outlinewidth": 0,
             "ticks": ""
            },
            "type": "choropleth"
           }
          ],
          "contour": [
           {
            "colorbar": {
             "outlinewidth": 0,
             "ticks": ""
            },
            "colorscale": [
             [
              0,
              "#0d0887"
             ],
             [
              0.1111111111111111,
              "#46039f"
             ],
             [
              0.2222222222222222,
              "#7201a8"
             ],
             [
              0.3333333333333333,
              "#9c179e"
             ],
             [
              0.4444444444444444,
              "#bd3786"
             ],
             [
              0.5555555555555556,
              "#d8576b"
             ],
             [
              0.6666666666666666,
              "#ed7953"
             ],
             [
              0.7777777777777778,
              "#fb9f3a"
             ],
             [
              0.8888888888888888,
              "#fdca26"
             ],
             [
              1,
              "#f0f921"
             ]
            ],
            "type": "contour"
           }
          ],
          "contourcarpet": [
           {
            "colorbar": {
             "outlinewidth": 0,
             "ticks": ""
            },
            "type": "contourcarpet"
           }
          ],
          "heatmap": [
           {
            "colorbar": {
             "outlinewidth": 0,
             "ticks": ""
            },
            "colorscale": [
             [
              0,
              "#0d0887"
             ],
             [
              0.1111111111111111,
              "#46039f"
             ],
             [
              0.2222222222222222,
              "#7201a8"
             ],
             [
              0.3333333333333333,
              "#9c179e"
             ],
             [
              0.4444444444444444,
              "#bd3786"
             ],
             [
              0.5555555555555556,
              "#d8576b"
             ],
             [
              0.6666666666666666,
              "#ed7953"
             ],
             [
              0.7777777777777778,
              "#fb9f3a"
             ],
             [
              0.8888888888888888,
              "#fdca26"
             ],
             [
              1,
              "#f0f921"
             ]
            ],
            "type": "heatmap"
           }
          ],
          "heatmapgl": [
           {
            "colorbar": {
             "outlinewidth": 0,
             "ticks": ""
            },
            "colorscale": [
             [
              0,
              "#0d0887"
             ],
             [
              0.1111111111111111,
              "#46039f"
             ],
             [
              0.2222222222222222,
              "#7201a8"
             ],
             [
              0.3333333333333333,
              "#9c179e"
             ],
             [
              0.4444444444444444,
              "#bd3786"
             ],
             [
              0.5555555555555556,
              "#d8576b"
             ],
             [
              0.6666666666666666,
              "#ed7953"
             ],
             [
              0.7777777777777778,
              "#fb9f3a"
             ],
             [
              0.8888888888888888,
              "#fdca26"
             ],
             [
              1,
              "#f0f921"
             ]
            ],
            "type": "heatmapgl"
           }
          ],
          "histogram": [
           {
            "marker": {
             "colorbar": {
              "outlinewidth": 0,
              "ticks": ""
             }
            },
            "type": "histogram"
           }
          ],
          "histogram2d": [
           {
            "colorbar": {
             "outlinewidth": 0,
             "ticks": ""
            },
            "colorscale": [
             [
              0,
              "#0d0887"
             ],
             [
              0.1111111111111111,
              "#46039f"
             ],
             [
              0.2222222222222222,
              "#7201a8"
             ],
             [
              0.3333333333333333,
              "#9c179e"
             ],
             [
              0.4444444444444444,
              "#bd3786"
             ],
             [
              0.5555555555555556,
              "#d8576b"
             ],
             [
              0.6666666666666666,
              "#ed7953"
             ],
             [
              0.7777777777777778,
              "#fb9f3a"
             ],
             [
              0.8888888888888888,
              "#fdca26"
             ],
             [
              1,
              "#f0f921"
             ]
            ],
            "type": "histogram2d"
           }
          ],
          "histogram2dcontour": [
           {
            "colorbar": {
             "outlinewidth": 0,
             "ticks": ""
            },
            "colorscale": [
             [
              0,
              "#0d0887"
             ],
             [
              0.1111111111111111,
              "#46039f"
             ],
             [
              0.2222222222222222,
              "#7201a8"
             ],
             [
              0.3333333333333333,
              "#9c179e"
             ],
             [
              0.4444444444444444,
              "#bd3786"
             ],
             [
              0.5555555555555556,
              "#d8576b"
             ],
             [
              0.6666666666666666,
              "#ed7953"
             ],
             [
              0.7777777777777778,
              "#fb9f3a"
             ],
             [
              0.8888888888888888,
              "#fdca26"
             ],
             [
              1,
              "#f0f921"
             ]
            ],
            "type": "histogram2dcontour"
           }
          ],
          "mesh3d": [
           {
            "colorbar": {
             "outlinewidth": 0,
             "ticks": ""
            },
            "type": "mesh3d"
           }
          ],
          "parcoords": [
           {
            "line": {
             "colorbar": {
              "outlinewidth": 0,
              "ticks": ""
             }
            },
            "type": "parcoords"
           }
          ],
          "pie": [
           {
            "automargin": true,
            "type": "pie"
           }
          ],
          "scatter": [
           {
            "marker": {
             "colorbar": {
              "outlinewidth": 0,
              "ticks": ""
             }
            },
            "type": "scatter"
           }
          ],
          "scatter3d": [
           {
            "line": {
             "colorbar": {
              "outlinewidth": 0,
              "ticks": ""
             }
            },
            "marker": {
             "colorbar": {
              "outlinewidth": 0,
              "ticks": ""
             }
            },
            "type": "scatter3d"
           }
          ],
          "scattercarpet": [
           {
            "marker": {
             "colorbar": {
              "outlinewidth": 0,
              "ticks": ""
             }
            },
            "type": "scattercarpet"
           }
          ],
          "scattergeo": [
           {
            "marker": {
             "colorbar": {
              "outlinewidth": 0,
              "ticks": ""
             }
            },
            "type": "scattergeo"
           }
          ],
          "scattergl": [
           {
            "marker": {
             "colorbar": {
              "outlinewidth": 0,
              "ticks": ""
             }
            },
            "type": "scattergl"
           }
          ],
          "scattermapbox": [
           {
            "marker": {
             "colorbar": {
              "outlinewidth": 0,
              "ticks": ""
             }
            },
            "type": "scattermapbox"
           }
          ],
          "scatterpolar": [
           {
            "marker": {
             "colorbar": {
              "outlinewidth": 0,
              "ticks": ""
             }
            },
            "type": "scatterpolar"
           }
          ],
          "scatterpolargl": [
           {
            "marker": {
             "colorbar": {
              "outlinewidth": 0,
              "ticks": ""
             }
            },
            "type": "scatterpolargl"
           }
          ],
          "scatterternary": [
           {
            "marker": {
             "colorbar": {
              "outlinewidth": 0,
              "ticks": ""
             }
            },
            "type": "scatterternary"
           }
          ],
          "surface": [
           {
            "colorbar": {
             "outlinewidth": 0,
             "ticks": ""
            },
            "colorscale": [
             [
              0,
              "#0d0887"
             ],
             [
              0.1111111111111111,
              "#46039f"
             ],
             [
              0.2222222222222222,
              "#7201a8"
             ],
             [
              0.3333333333333333,
              "#9c179e"
             ],
             [
              0.4444444444444444,
              "#bd3786"
             ],
             [
              0.5555555555555556,
              "#d8576b"
             ],
             [
              0.6666666666666666,
              "#ed7953"
             ],
             [
              0.7777777777777778,
              "#fb9f3a"
             ],
             [
              0.8888888888888888,
              "#fdca26"
             ],
             [
              1,
              "#f0f921"
             ]
            ],
            "type": "surface"
           }
          ],
          "table": [
           {
            "cells": {
             "fill": {
              "color": "#EBF0F8"
             },
             "line": {
              "color": "white"
             }
            },
            "header": {
             "fill": {
              "color": "#C8D4E3"
             },
             "line": {
              "color": "white"
             }
            },
            "type": "table"
           }
          ]
         },
         "layout": {
          "annotationdefaults": {
           "arrowcolor": "#2a3f5f",
           "arrowhead": 0,
           "arrowwidth": 1
          },
          "coloraxis": {
           "colorbar": {
            "outlinewidth": 0,
            "ticks": ""
           }
          },
          "colorscale": {
           "diverging": [
            [
             0,
             "#8e0152"
            ],
            [
             0.1,
             "#c51b7d"
            ],
            [
             0.2,
             "#de77ae"
            ],
            [
             0.3,
             "#f1b6da"
            ],
            [
             0.4,
             "#fde0ef"
            ],
            [
             0.5,
             "#f7f7f7"
            ],
            [
             0.6,
             "#e6f5d0"
            ],
            [
             0.7,
             "#b8e186"
            ],
            [
             0.8,
             "#7fbc41"
            ],
            [
             0.9,
             "#4d9221"
            ],
            [
             1,
             "#276419"
            ]
           ],
           "sequential": [
            [
             0,
             "#0d0887"
            ],
            [
             0.1111111111111111,
             "#46039f"
            ],
            [
             0.2222222222222222,
             "#7201a8"
            ],
            [
             0.3333333333333333,
             "#9c179e"
            ],
            [
             0.4444444444444444,
             "#bd3786"
            ],
            [
             0.5555555555555556,
             "#d8576b"
            ],
            [
             0.6666666666666666,
             "#ed7953"
            ],
            [
             0.7777777777777778,
             "#fb9f3a"
            ],
            [
             0.8888888888888888,
             "#fdca26"
            ],
            [
             1,
             "#f0f921"
            ]
           ],
           "sequentialminus": [
            [
             0,
             "#0d0887"
            ],
            [
             0.1111111111111111,
             "#46039f"
            ],
            [
             0.2222222222222222,
             "#7201a8"
            ],
            [
             0.3333333333333333,
             "#9c179e"
            ],
            [
             0.4444444444444444,
             "#bd3786"
            ],
            [
             0.5555555555555556,
             "#d8576b"
            ],
            [
             0.6666666666666666,
             "#ed7953"
            ],
            [
             0.7777777777777778,
             "#fb9f3a"
            ],
            [
             0.8888888888888888,
             "#fdca26"
            ],
            [
             1,
             "#f0f921"
            ]
           ]
          },
          "colorway": [
           "#636efa",
           "#EF553B",
           "#00cc96",
           "#ab63fa",
           "#FFA15A",
           "#19d3f3",
           "#FF6692",
           "#B6E880",
           "#FF97FF",
           "#FECB52"
          ],
          "font": {
           "color": "#2a3f5f"
          },
          "geo": {
           "bgcolor": "white",
           "lakecolor": "white",
           "landcolor": "#E5ECF6",
           "showlakes": true,
           "showland": true,
           "subunitcolor": "white"
          },
          "hoverlabel": {
           "align": "left"
          },
          "hovermode": "closest",
          "mapbox": {
           "style": "light"
          },
          "paper_bgcolor": "white",
          "plot_bgcolor": "#E5ECF6",
          "polar": {
           "angularaxis": {
            "gridcolor": "white",
            "linecolor": "white",
            "ticks": ""
           },
           "bgcolor": "#E5ECF6",
           "radialaxis": {
            "gridcolor": "white",
            "linecolor": "white",
            "ticks": ""
           }
          },
          "scene": {
           "xaxis": {
            "backgroundcolor": "#E5ECF6",
            "gridcolor": "white",
            "gridwidth": 2,
            "linecolor": "white",
            "showbackground": true,
            "ticks": "",
            "zerolinecolor": "white"
           },
           "yaxis": {
            "backgroundcolor": "#E5ECF6",
            "gridcolor": "white",
            "gridwidth": 2,
            "linecolor": "white",
            "showbackground": true,
            "ticks": "",
            "zerolinecolor": "white"
           },
           "zaxis": {
            "backgroundcolor": "#E5ECF6",
            "gridcolor": "white",
            "gridwidth": 2,
            "linecolor": "white",
            "showbackground": true,
            "ticks": "",
            "zerolinecolor": "white"
           }
          },
          "shapedefaults": {
           "line": {
            "color": "#2a3f5f"
           }
          },
          "ternary": {
           "aaxis": {
            "gridcolor": "white",
            "linecolor": "white",
            "ticks": ""
           },
           "baxis": {
            "gridcolor": "white",
            "linecolor": "white",
            "ticks": ""
           },
           "bgcolor": "#E5ECF6",
           "caxis": {
            "gridcolor": "white",
            "linecolor": "white",
            "ticks": ""
           }
          },
          "title": {
           "x": 0.05
          },
          "xaxis": {
           "automargin": true,
           "gridcolor": "white",
           "linecolor": "white",
           "ticks": "",
           "title": {
            "standoff": 15
           },
           "zerolinecolor": "white",
           "zerolinewidth": 2
          },
          "yaxis": {
           "automargin": true,
           "gridcolor": "white",
           "linecolor": "white",
           "ticks": "",
           "title": {
            "standoff": 15
           },
           "zerolinecolor": "white",
           "zerolinewidth": 2
          }
         }
        },
        "title": {
         "font": {
          "color": "#4D5663"
         }
        },
        "xaxis": {
         "gridcolor": "#E1E5ED",
         "showgrid": true,
         "tickfont": {
          "color": "#4D5663"
         },
         "title": {
          "font": {
           "color": "#4D5663"
          },
          "text": ""
         },
         "zerolinecolor": "#E1E5ED"
        },
        "yaxis": {
         "gridcolor": "#E1E5ED",
         "showgrid": true,
         "tickfont": {
          "color": "#4D5663"
         },
         "title": {
          "font": {
           "color": "#4D5663"
          },
          "text": ""
         },
         "zerolinecolor": "#E1E5ED"
        }
       }
      },
      "text/html": [
       "<div>\n",
       "        \n",
       "        \n",
       "            <div id=\"63d67f56-d525-4a23-8a9e-95534c38a6e7\" class=\"plotly-graph-div\" style=\"height:525px; width:100%;\"></div>\n",
       "            <script type=\"text/javascript\">\n",
       "                require([\"plotly\"], function(Plotly) {\n",
       "                    window.PLOTLYENV=window.PLOTLYENV || {};\n",
       "                    window.PLOTLYENV.BASE_URL='https://plot.ly';\n",
       "                    \n",
       "                if (document.getElementById(\"63d67f56-d525-4a23-8a9e-95534c38a6e7\")) {\n",
       "                    Plotly.newPlot(\n",
       "                        '63d67f56-d525-4a23-8a9e-95534c38a6e7',\n",
       "                        [{\"line\": {\"color\": \"rgba(255, 153, 51, 1.0)\", \"dash\": \"solid\", \"shape\": \"linear\", \"width\": 1.3}, \"mode\": \"lines\", \"name\": \"A\", \"text\": \"\", \"type\": \"scatter\", \"x\": [0, 1, 2, 3, 4, 5, 6, 7, 8, 9, 10, 11, 12, 13, 14, 15, 16, 17, 18, 19, 20, 21, 22, 23, 24, 25, 26, 27, 28, 29, 30, 31, 32, 33, 34, 35, 36, 37, 38, 39, 40, 41, 42, 43, 44, 45, 46, 47, 48, 49, 50, 51, 52, 53, 54, 55, 56, 57, 58, 59, 60, 61, 62, 63, 64, 65, 66, 67, 68, 69, 70, 71, 72, 73, 74, 75, 76, 77, 78, 79, 80, 81, 82, 83, 84, 85, 86, 87, 88, 89, 90, 91, 92, 93, 94, 95, 96, 97, 98, 99], \"y\": [-0.14022739364165643, -0.06215427637826168, 1.3604993525322426, -0.31499023670117493, 1.0029694989154603, 0.970785908978943, -1.9952834025092647, 1.0039135826827332, -0.9158744798111359, -1.5467467590902721, 0.37209295460286496, -0.11707489023640913, 0.3729934586411193, -0.09155881745717738, -0.03683336514171592, -0.41858716289621883, 1.2727487669685111, 0.7032449700650091, -0.3738248467613199, 1.5095426393794726, -0.18607365814905844, 0.4183288835354543, 0.19887318935897869, -0.8883000951919754, -0.5092841539648556, -0.6087002578641567, -0.9661264541068408, -1.915268445309993, 0.6093753654788755, 1.580437092556138, 1.2038017025994858, -0.9256468334675966, 1.4351143773603932, 1.1091342369517356, -0.018304712037069137, -2.2313836406164778, 0.7070440778124587, -0.5307156073349464, 2.296219589090963, 2.387706409516227, 0.6271835271545523, -1.2173587220621744, 0.42570764846744746, -1.865485577029963, 0.09358857883241165, 0.21890364457894615, -0.8132962135397189, 0.8909606370067288, -1.3191599374713485, -0.266719405828341, 1.1247976919873686, 0.48999024384756007, 0.5807255032073525, -0.6562912505872847, -0.6742217180417197, 2.214992557360574, -0.9679289742345283, 0.43124375434740847, 1.2054308100887878, -0.0920927130932392, 0.9421320700961858, 0.11984996143687157, -0.15429180556311048, 0.2918631513091189, -1.8717576688946829, -0.8679678182080496, -0.020103099947394832, -0.042027336524633696, 1.239199523092614, 0.31174508367849085, 0.9361084479519998, -0.18618102912744675, 0.5826791217951177, 0.43352959070524805, 0.05304296463400472, -0.5926127266145984, -2.714955903645562, -0.7302768692480879, 0.5416647778556658, 1.066691518602927, -0.20464590566938895, 1.667570632967258, -1.2848121388168667, -1.2693020887010722, 1.1961530520102446, -2.303978558507296, -0.34484568309621116, 0.33316727300389903, -1.5277704570453603, -0.2677533280031435, -1.1069183000442135, -0.69696863763343, 0.4220514472520369, -0.7119580435533539, -0.4861965889709872, -1.0514199478282396, -1.2973863778725738, -1.852599660498362, 0.2669849512911801, 0.6934313898697425]}, {\"line\": {\"color\": \"rgba(55, 128, 191, 1.0)\", \"dash\": \"solid\", \"shape\": \"linear\", \"width\": 1.3}, \"mode\": \"lines\", \"name\": \"B\", \"text\": \"\", \"type\": \"scatter\", \"x\": [0, 1, 2, 3, 4, 5, 6, 7, 8, 9, 10, 11, 12, 13, 14, 15, 16, 17, 18, 19, 20, 21, 22, 23, 24, 25, 26, 27, 28, 29, 30, 31, 32, 33, 34, 35, 36, 37, 38, 39, 40, 41, 42, 43, 44, 45, 46, 47, 48, 49, 50, 51, 52, 53, 54, 55, 56, 57, 58, 59, 60, 61, 62, 63, 64, 65, 66, 67, 68, 69, 70, 71, 72, 73, 74, 75, 76, 77, 78, 79, 80, 81, 82, 83, 84, 85, 86, 87, 88, 89, 90, 91, 92, 93, 94, 95, 96, 97, 98, 99], \"y\": [-0.49138081110649495, 0.20096821703152126, -0.5118376940715328, -0.294754672042674, 0.7912868491160063, 0.6016396273238315, -1.8517024871032415, -0.8357324338017871, 0.5567672502176182, 0.34248645594707156, 1.1284364585110525, -0.9475016318413956, 0.6052496337791674, -0.14129046372803092, 0.23878933595490678, -1.3302105428345574, 0.7065868414255477, 0.8596504098464547, -1.0289972766977775, 0.38416590094808395, -0.6805516583040593, 0.25047413304492844, -1.0934455244419623, 0.21783950085433063, -1.6465140549141115, 1.773635885242201, -0.15523341084556538, 2.676693565466258, -0.5545091562056877, -1.1680827062075498, 0.4012562551292746, 1.5825339892798398, -0.5398529138511904, 1.0645026613523625, -1.4028466624172862, -0.8110265275168601, 0.017905104851356973, -0.5880126717343193, -1.9196292048084675, -0.5770587119572501, -0.3709996873352136, 0.6380882254802426, -2.048108646820459, -0.6244061305032667, 0.1979958562682151, 1.235861000391054, -0.056613145024522714, 1.4231514175036732, -0.12371210746402267, 2.0043855782244577, 0.24377248592591028, -0.9191773044109226, 1.260013880741051, 0.25973909324840844, 0.7809547129755966, -1.1393604843367602, 0.5155300758995982, -0.08659470454921091, 0.7450800307774069, 0.8763936308013027, 0.6536472576730905, -0.5269623477618497, -0.3983721526933854, 0.2628759268519323, -0.05138886524695858, 1.999743718409326, 0.08002061538393514, 1.8932986126680995, -0.4392068648508249, 1.8041669201375656, 0.5014501185022648, 0.6418703110176629, 0.916215226940129, 0.09519773076228714, 0.2024566893905404, -1.126067618256918, -1.043129801809276, 1.4232891346410141, 0.45471152794813313, -0.3789454598854821, 1.113225442536063, 0.9673482795705286, -2.1035698135731296, 0.5732793851398493, 0.008794944506913387, -1.11121827900885, -1.242414784044673, 0.23578253336456306, 1.5892034787841012, -0.2997132280280576, -0.38497283723599923, 0.7293960491010912, 0.09212027910610585, 0.1752052422872672, 0.5906643403648387, -0.7612504986085381, 1.2337359981255012, -0.5972867609627632, 0.9206519061066598, -1.5461656964766408]}, {\"line\": {\"color\": \"rgba(50, 171, 96, 1.0)\", \"dash\": \"solid\", \"shape\": \"linear\", \"width\": 1.3}, \"mode\": \"lines\", \"name\": \"C\", \"text\": \"\", \"type\": \"scatter\", \"x\": [0, 1, 2, 3, 4, 5, 6, 7, 8, 9, 10, 11, 12, 13, 14, 15, 16, 17, 18, 19, 20, 21, 22, 23, 24, 25, 26, 27, 28, 29, 30, 31, 32, 33, 34, 35, 36, 37, 38, 39, 40, 41, 42, 43, 44, 45, 46, 47, 48, 49, 50, 51, 52, 53, 54, 55, 56, 57, 58, 59, 60, 61, 62, 63, 64, 65, 66, 67, 68, 69, 70, 71, 72, 73, 74, 75, 76, 77, 78, 79, 80, 81, 82, 83, 84, 85, 86, 87, 88, 89, 90, 91, 92, 93, 94, 95, 96, 97, 98, 99], \"y\": [0.8322983650067056, 2.9487944257739023, -0.9327203264414998, 2.7933536990347863, 0.8542454719675332, 0.31809576337229933, -0.6715186412029381, 0.15938393556550307, -1.7425405225991573, 1.4863178222912832, -1.872915682609848, -0.5960420579789987, -2.203298476933827, -0.2329350022052127, 0.7796450318301332, 1.052891983781643, -0.1409371827770851, 0.6474336473085542, -1.505571111529484, 0.7062178145702688, -1.964670446835789, -0.4981514131178999, 1.5181771987126984, -1.536175060551129, -0.38959992623384093, -0.3022172312940435, -0.25772880922383, -0.39695053175002115, -0.3095852443436779, -0.11194083861580877, 0.7601753859738068, -0.530247095041203, 0.20861687899845097, 0.7674050485892783, 0.4452817555900837, 0.0767095841096248, -2.2259461140532677, -1.2116302710576747, -1.32822562098306, -0.5222062624020434, 0.7911058892910624, 0.4677239636003078, 0.30047245775079023, 0.3655170020081269, 0.20289276559461722, 0.4153352653664582, -0.052447423831299834, 0.11944076654957166, 0.8015700610030586, 0.2918230148556353, 1.4531188182365395, 0.24933808921225617, 0.3785975989601048, 0.226260847886642, -0.41584412274397065, 0.4454689629799662, -1.0586950119045058, -0.14716718680168142, 0.8857301418421732, 1.384794926717062, -0.4903542543080155, -0.2473618499212272, -0.7009630708566316, 0.5156263381961245, -1.1291255812234384, -0.829298694609309, 1.3248499130433977, 0.08442761312503773, 1.0275396393621423, -0.3766191390707656, -1.731605498902651, -0.8783732284756439, -0.4096881845872658, -0.9214946500952481, 0.5544203859970838, 0.055184168100756534, 1.5837192344598334, 1.7266557126922775, 0.8683138050421154, -1.0555846243018687, -2.184309585184786, -0.3803520581700609, 0.4206995113741631, 0.085060901439029, 1.15516801238735, 1.256396811071076, 0.6613073885245957, 0.4055860332919486, 0.7494503435914309, -0.3553773638208235, 0.22709931025133642, -1.8067918820329791, -1.3655651555395014, -0.7013106904763116, -0.9608101653884948, -0.3913486413753859, -1.0725993756038412, 1.8512012914505818, 0.7088848612689266, -0.14842242801709593]}, {\"line\": {\"color\": \"rgba(128, 0, 128, 1.0)\", \"dash\": \"solid\", \"shape\": \"linear\", \"width\": 1.3}, \"mode\": \"lines\", \"name\": \"D\", \"text\": \"\", \"type\": \"scatter\", \"x\": [0, 1, 2, 3, 4, 5, 6, 7, 8, 9, 10, 11, 12, 13, 14, 15, 16, 17, 18, 19, 20, 21, 22, 23, 24, 25, 26, 27, 28, 29, 30, 31, 32, 33, 34, 35, 36, 37, 38, 39, 40, 41, 42, 43, 44, 45, 46, 47, 48, 49, 50, 51, 52, 53, 54, 55, 56, 57, 58, 59, 60, 61, 62, 63, 64, 65, 66, 67, 68, 69, 70, 71, 72, 73, 74, 75, 76, 77, 78, 79, 80, 81, 82, 83, 84, 85, 86, 87, 88, 89, 90, 91, 92, 93, 94, 95, 96, 97, 98, 99], \"y\": [0.14980519387875132, -1.4198798107052975, -0.7327077885129524, -0.6085377074797261, 0.32603603643856804, 0.05800489349336685, -0.7663414536041493, -0.4980972756109609, 1.6291425865446543, 0.4637796522855408, 0.041789905018740685, 0.3775787012811703, -1.5982595699465927, 1.319815229205623, -0.7973020773164097, 0.016588448398173073, 0.7687636179232215, 0.946061861862273, 0.5630595028889144, -1.732414528269466, 0.2202207093991576, -0.18890053343860205, -1.4304638653323456, -1.4128856795325917, 0.06393104024926448, 0.14144503101449765, 0.4802131029118245, 1.009367633119822, -0.5821688413981985, 0.43607399705809297, -1.107229741845423, -0.1763841373336813, 0.977963986531852, -1.6522872849716423, -0.5793361170634413, 0.5558489986821461, 1.065170588802731, 1.3299176946618927, 0.15570712345963303, -0.37284916437786214, 0.8574099168049211, 1.3580023577303706, -1.227710763935321, -1.581773724016081, -0.9583483914893025, 0.5220724489139206, -0.9447623535968571, 2.326472964841943, -1.0285467364486465, -0.9518028155898937, 1.8256635162843007, -0.7447939489245792, -0.35542822662993445, 2.0226683813177546, 0.30189223247555663, -0.06399955557885503, -1.556050477309016, -1.6343501528936466, -0.41084832490311385, -0.16266217074037218, 0.2914615780978868, -0.424044469491487, 1.1063947607956812, -1.3891732650666997, -0.2954048676433976, 1.1092818568490956, -0.19599030027340839, 0.5291884870361916, 0.36172739040270746, -0.560905791229739, -0.33918392310298456, 0.5910664413066594, -1.0603114537944383, -0.16533511057927797, 1.2364316740221963, 0.1454372667550455, -1.4880456437309315, -0.0934156145073493, 0.940054247885066, 0.4769872896615898, 2.142452777427751, -1.620668974236862, -0.019343804836262146, 0.5090676133052232, -1.9161718154222847, 0.3853671714937817, 0.994868242832238, 1.0964425597617593, 1.467335409627744, 0.7646621744062372, -1.7816290892180877, 0.0907817268338275, -0.20687425439460655, -0.980047818319929, -0.07394196352769604, 0.5749412114732553, -0.19751122740326005, 1.2592560828216992, -0.094315966458522, 1.016397700020748]}],\n",
       "                        {\"legend\": {\"bgcolor\": \"#F5F6F9\", \"font\": {\"color\": \"#4D5663\"}}, \"paper_bgcolor\": \"#F5F6F9\", \"plot_bgcolor\": \"#F5F6F9\", \"template\": {\"data\": {\"bar\": [{\"error_x\": {\"color\": \"#2a3f5f\"}, \"error_y\": {\"color\": \"#2a3f5f\"}, \"marker\": {\"line\": {\"color\": \"#E5ECF6\", \"width\": 0.5}}, \"type\": \"bar\"}], \"barpolar\": [{\"marker\": {\"line\": {\"color\": \"#E5ECF6\", \"width\": 0.5}}, \"type\": \"barpolar\"}], \"carpet\": [{\"aaxis\": {\"endlinecolor\": \"#2a3f5f\", \"gridcolor\": \"white\", \"linecolor\": \"white\", \"minorgridcolor\": \"white\", \"startlinecolor\": \"#2a3f5f\"}, \"baxis\": {\"endlinecolor\": \"#2a3f5f\", \"gridcolor\": \"white\", \"linecolor\": \"white\", \"minorgridcolor\": \"white\", \"startlinecolor\": \"#2a3f5f\"}, \"type\": \"carpet\"}], \"choropleth\": [{\"colorbar\": {\"outlinewidth\": 0, \"ticks\": \"\"}, \"type\": \"choropleth\"}], \"contour\": [{\"colorbar\": {\"outlinewidth\": 0, \"ticks\": \"\"}, \"colorscale\": [[0.0, \"#0d0887\"], [0.1111111111111111, \"#46039f\"], [0.2222222222222222, \"#7201a8\"], [0.3333333333333333, \"#9c179e\"], [0.4444444444444444, \"#bd3786\"], [0.5555555555555556, \"#d8576b\"], [0.6666666666666666, \"#ed7953\"], [0.7777777777777778, \"#fb9f3a\"], [0.8888888888888888, \"#fdca26\"], [1.0, \"#f0f921\"]], \"type\": \"contour\"}], \"contourcarpet\": [{\"colorbar\": {\"outlinewidth\": 0, \"ticks\": \"\"}, \"type\": \"contourcarpet\"}], \"heatmap\": [{\"colorbar\": {\"outlinewidth\": 0, \"ticks\": \"\"}, \"colorscale\": [[0.0, \"#0d0887\"], [0.1111111111111111, \"#46039f\"], [0.2222222222222222, \"#7201a8\"], [0.3333333333333333, \"#9c179e\"], [0.4444444444444444, \"#bd3786\"], [0.5555555555555556, \"#d8576b\"], [0.6666666666666666, \"#ed7953\"], [0.7777777777777778, \"#fb9f3a\"], [0.8888888888888888, \"#fdca26\"], [1.0, \"#f0f921\"]], \"type\": \"heatmap\"}], \"heatmapgl\": [{\"colorbar\": {\"outlinewidth\": 0, \"ticks\": \"\"}, \"colorscale\": [[0.0, \"#0d0887\"], [0.1111111111111111, \"#46039f\"], [0.2222222222222222, \"#7201a8\"], [0.3333333333333333, \"#9c179e\"], [0.4444444444444444, \"#bd3786\"], [0.5555555555555556, \"#d8576b\"], [0.6666666666666666, \"#ed7953\"], [0.7777777777777778, \"#fb9f3a\"], [0.8888888888888888, \"#fdca26\"], [1.0, \"#f0f921\"]], \"type\": \"heatmapgl\"}], \"histogram\": [{\"marker\": {\"colorbar\": {\"outlinewidth\": 0, \"ticks\": \"\"}}, \"type\": \"histogram\"}], \"histogram2d\": [{\"colorbar\": {\"outlinewidth\": 0, \"ticks\": \"\"}, \"colorscale\": [[0.0, \"#0d0887\"], [0.1111111111111111, \"#46039f\"], [0.2222222222222222, \"#7201a8\"], [0.3333333333333333, \"#9c179e\"], [0.4444444444444444, \"#bd3786\"], [0.5555555555555556, \"#d8576b\"], [0.6666666666666666, \"#ed7953\"], [0.7777777777777778, \"#fb9f3a\"], [0.8888888888888888, \"#fdca26\"], [1.0, \"#f0f921\"]], \"type\": \"histogram2d\"}], \"histogram2dcontour\": [{\"colorbar\": {\"outlinewidth\": 0, \"ticks\": \"\"}, \"colorscale\": [[0.0, \"#0d0887\"], [0.1111111111111111, \"#46039f\"], [0.2222222222222222, \"#7201a8\"], [0.3333333333333333, \"#9c179e\"], [0.4444444444444444, \"#bd3786\"], [0.5555555555555556, \"#d8576b\"], [0.6666666666666666, \"#ed7953\"], [0.7777777777777778, \"#fb9f3a\"], [0.8888888888888888, \"#fdca26\"], [1.0, \"#f0f921\"]], \"type\": \"histogram2dcontour\"}], \"mesh3d\": [{\"colorbar\": {\"outlinewidth\": 0, \"ticks\": \"\"}, \"type\": \"mesh3d\"}], \"parcoords\": [{\"line\": {\"colorbar\": {\"outlinewidth\": 0, \"ticks\": \"\"}}, \"type\": \"parcoords\"}], \"pie\": [{\"automargin\": true, \"type\": \"pie\"}], \"scatter\": [{\"marker\": {\"colorbar\": {\"outlinewidth\": 0, \"ticks\": \"\"}}, \"type\": \"scatter\"}], \"scatter3d\": [{\"line\": {\"colorbar\": {\"outlinewidth\": 0, \"ticks\": \"\"}}, \"marker\": {\"colorbar\": {\"outlinewidth\": 0, \"ticks\": \"\"}}, \"type\": \"scatter3d\"}], \"scattercarpet\": [{\"marker\": {\"colorbar\": {\"outlinewidth\": 0, \"ticks\": \"\"}}, \"type\": \"scattercarpet\"}], \"scattergeo\": [{\"marker\": {\"colorbar\": {\"outlinewidth\": 0, \"ticks\": \"\"}}, \"type\": \"scattergeo\"}], \"scattergl\": [{\"marker\": {\"colorbar\": {\"outlinewidth\": 0, \"ticks\": \"\"}}, \"type\": \"scattergl\"}], \"scattermapbox\": [{\"marker\": {\"colorbar\": {\"outlinewidth\": 0, \"ticks\": \"\"}}, \"type\": \"scattermapbox\"}], \"scatterpolar\": [{\"marker\": {\"colorbar\": {\"outlinewidth\": 0, \"ticks\": \"\"}}, \"type\": \"scatterpolar\"}], \"scatterpolargl\": [{\"marker\": {\"colorbar\": {\"outlinewidth\": 0, \"ticks\": \"\"}}, \"type\": \"scatterpolargl\"}], \"scatterternary\": [{\"marker\": {\"colorbar\": {\"outlinewidth\": 0, \"ticks\": \"\"}}, \"type\": \"scatterternary\"}], \"surface\": [{\"colorbar\": {\"outlinewidth\": 0, \"ticks\": \"\"}, \"colorscale\": [[0.0, \"#0d0887\"], [0.1111111111111111, \"#46039f\"], [0.2222222222222222, \"#7201a8\"], [0.3333333333333333, \"#9c179e\"], [0.4444444444444444, \"#bd3786\"], [0.5555555555555556, \"#d8576b\"], [0.6666666666666666, \"#ed7953\"], [0.7777777777777778, \"#fb9f3a\"], [0.8888888888888888, \"#fdca26\"], [1.0, \"#f0f921\"]], \"type\": \"surface\"}], \"table\": [{\"cells\": {\"fill\": {\"color\": \"#EBF0F8\"}, \"line\": {\"color\": \"white\"}}, \"header\": {\"fill\": {\"color\": \"#C8D4E3\"}, \"line\": {\"color\": \"white\"}}, \"type\": \"table\"}]}, \"layout\": {\"annotationdefaults\": {\"arrowcolor\": \"#2a3f5f\", \"arrowhead\": 0, \"arrowwidth\": 1}, \"coloraxis\": {\"colorbar\": {\"outlinewidth\": 0, \"ticks\": \"\"}}, \"colorscale\": {\"diverging\": [[0, \"#8e0152\"], [0.1, \"#c51b7d\"], [0.2, \"#de77ae\"], [0.3, \"#f1b6da\"], [0.4, \"#fde0ef\"], [0.5, \"#f7f7f7\"], [0.6, \"#e6f5d0\"], [0.7, \"#b8e186\"], [0.8, \"#7fbc41\"], [0.9, \"#4d9221\"], [1, \"#276419\"]], \"sequential\": [[0.0, \"#0d0887\"], [0.1111111111111111, \"#46039f\"], [0.2222222222222222, \"#7201a8\"], [0.3333333333333333, \"#9c179e\"], [0.4444444444444444, \"#bd3786\"], [0.5555555555555556, \"#d8576b\"], [0.6666666666666666, \"#ed7953\"], [0.7777777777777778, \"#fb9f3a\"], [0.8888888888888888, \"#fdca26\"], [1.0, \"#f0f921\"]], \"sequentialminus\": [[0.0, \"#0d0887\"], [0.1111111111111111, \"#46039f\"], [0.2222222222222222, \"#7201a8\"], [0.3333333333333333, \"#9c179e\"], [0.4444444444444444, \"#bd3786\"], [0.5555555555555556, \"#d8576b\"], [0.6666666666666666, \"#ed7953\"], [0.7777777777777778, \"#fb9f3a\"], [0.8888888888888888, \"#fdca26\"], [1.0, \"#f0f921\"]]}, \"colorway\": [\"#636efa\", \"#EF553B\", \"#00cc96\", \"#ab63fa\", \"#FFA15A\", \"#19d3f3\", \"#FF6692\", \"#B6E880\", \"#FF97FF\", \"#FECB52\"], \"font\": {\"color\": \"#2a3f5f\"}, \"geo\": {\"bgcolor\": \"white\", \"lakecolor\": \"white\", \"landcolor\": \"#E5ECF6\", \"showlakes\": true, \"showland\": true, \"subunitcolor\": \"white\"}, \"hoverlabel\": {\"align\": \"left\"}, \"hovermode\": \"closest\", \"mapbox\": {\"style\": \"light\"}, \"paper_bgcolor\": \"white\", \"plot_bgcolor\": \"#E5ECF6\", \"polar\": {\"angularaxis\": {\"gridcolor\": \"white\", \"linecolor\": \"white\", \"ticks\": \"\"}, \"bgcolor\": \"#E5ECF6\", \"radialaxis\": {\"gridcolor\": \"white\", \"linecolor\": \"white\", \"ticks\": \"\"}}, \"scene\": {\"xaxis\": {\"backgroundcolor\": \"#E5ECF6\", \"gridcolor\": \"white\", \"gridwidth\": 2, \"linecolor\": \"white\", \"showbackground\": true, \"ticks\": \"\", \"zerolinecolor\": \"white\"}, \"yaxis\": {\"backgroundcolor\": \"#E5ECF6\", \"gridcolor\": \"white\", \"gridwidth\": 2, \"linecolor\": \"white\", \"showbackground\": true, \"ticks\": \"\", \"zerolinecolor\": \"white\"}, \"zaxis\": {\"backgroundcolor\": \"#E5ECF6\", \"gridcolor\": \"white\", \"gridwidth\": 2, \"linecolor\": \"white\", \"showbackground\": true, \"ticks\": \"\", \"zerolinecolor\": \"white\"}}, \"shapedefaults\": {\"line\": {\"color\": \"#2a3f5f\"}}, \"ternary\": {\"aaxis\": {\"gridcolor\": \"white\", \"linecolor\": \"white\", \"ticks\": \"\"}, \"baxis\": {\"gridcolor\": \"white\", \"linecolor\": \"white\", \"ticks\": \"\"}, \"bgcolor\": \"#E5ECF6\", \"caxis\": {\"gridcolor\": \"white\", \"linecolor\": \"white\", \"ticks\": \"\"}}, \"title\": {\"x\": 0.05}, \"xaxis\": {\"automargin\": true, \"gridcolor\": \"white\", \"linecolor\": \"white\", \"ticks\": \"\", \"title\": {\"standoff\": 15}, \"zerolinecolor\": \"white\", \"zerolinewidth\": 2}, \"yaxis\": {\"automargin\": true, \"gridcolor\": \"white\", \"linecolor\": \"white\", \"ticks\": \"\", \"title\": {\"standoff\": 15}, \"zerolinecolor\": \"white\", \"zerolinewidth\": 2}}}, \"title\": {\"font\": {\"color\": \"#4D5663\"}}, \"xaxis\": {\"gridcolor\": \"#E1E5ED\", \"showgrid\": true, \"tickfont\": {\"color\": \"#4D5663\"}, \"title\": {\"font\": {\"color\": \"#4D5663\"}, \"text\": \"\"}, \"zerolinecolor\": \"#E1E5ED\"}, \"yaxis\": {\"gridcolor\": \"#E1E5ED\", \"showgrid\": true, \"tickfont\": {\"color\": \"#4D5663\"}, \"title\": {\"font\": {\"color\": \"#4D5663\"}, \"text\": \"\"}, \"zerolinecolor\": \"#E1E5ED\"}},\n",
       "                        {\"showLink\": true, \"linkText\": \"Export to plot.ly\", \"plotlyServerURL\": \"https://plot.ly\", \"responsive\": true}\n",
       "                    ).then(function(){\n",
       "                            \n",
       "var gd = document.getElementById('63d67f56-d525-4a23-8a9e-95534c38a6e7');\n",
       "var x = new MutationObserver(function (mutations, observer) {{\n",
       "        var display = window.getComputedStyle(gd).display;\n",
       "        if (!display || display === 'none') {{\n",
       "            console.log([gd, 'removed!']);\n",
       "            Plotly.purge(gd);\n",
       "            observer.disconnect();\n",
       "        }}\n",
       "}});\n",
       "\n",
       "// Listen for the removal of the full notebook cells\n",
       "var notebookContainer = gd.closest('#notebook-container');\n",
       "if (notebookContainer) {{\n",
       "    x.observe(notebookContainer, {childList: true});\n",
       "}}\n",
       "\n",
       "// Listen for the clearing of the current output cell\n",
       "var outputEl = gd.closest('.output');\n",
       "if (outputEl) {{\n",
       "    x.observe(outputEl, {childList: true});\n",
       "}}\n",
       "\n",
       "                        })\n",
       "                };\n",
       "                });\n",
       "            </script>\n",
       "        </div>"
      ]
     },
     "metadata": {},
     "output_type": "display_data"
    }
   ],
   "source": [
    "df.iplot()"
   ]
  },
  {
   "cell_type": "code",
   "execution_count": 39,
   "metadata": {},
   "outputs": [
    {
     "data": {
      "application/vnd.plotly.v1+json": {
       "config": {
        "linkText": "Export to plot.ly",
        "plotlyServerURL": "https://plot.ly",
        "showLink": true
       },
       "data": [
        {
         "line": {
          "color": "rgba(255, 153, 51, 1.0)",
          "dash": "solid",
          "shape": "linear",
          "width": 1.3
         },
         "marker": {
          "size": 25,
          "symbol": "circle"
         },
         "mode": "markers",
         "name": "B",
         "text": "",
         "type": "scatter",
         "x": [
          -0.14022739364165643,
          -0.06215427637826168,
          1.3604993525322426,
          -0.31499023670117493,
          1.0029694989154603,
          0.970785908978943,
          -1.9952834025092647,
          1.0039135826827332,
          -0.9158744798111359,
          -1.5467467590902721,
          0.37209295460286496,
          -0.11707489023640913,
          0.3729934586411193,
          -0.09155881745717738,
          -0.03683336514171592,
          -0.41858716289621883,
          1.2727487669685111,
          0.7032449700650091,
          -0.3738248467613199,
          1.5095426393794726,
          -0.18607365814905844,
          0.4183288835354543,
          0.19887318935897869,
          -0.8883000951919754,
          -0.5092841539648556,
          -0.6087002578641567,
          -0.9661264541068408,
          -1.915268445309993,
          0.6093753654788755,
          1.580437092556138,
          1.2038017025994858,
          -0.9256468334675966,
          1.4351143773603932,
          1.1091342369517356,
          -0.018304712037069137,
          -2.2313836406164778,
          0.7070440778124587,
          -0.5307156073349464,
          2.296219589090963,
          2.387706409516227,
          0.6271835271545523,
          -1.2173587220621744,
          0.42570764846744746,
          -1.865485577029963,
          0.09358857883241165,
          0.21890364457894615,
          -0.8132962135397189,
          0.8909606370067288,
          -1.3191599374713485,
          -0.266719405828341,
          1.1247976919873686,
          0.48999024384756007,
          0.5807255032073525,
          -0.6562912505872847,
          -0.6742217180417197,
          2.214992557360574,
          -0.9679289742345283,
          0.43124375434740847,
          1.2054308100887878,
          -0.0920927130932392,
          0.9421320700961858,
          0.11984996143687157,
          -0.15429180556311048,
          0.2918631513091189,
          -1.8717576688946829,
          -0.8679678182080496,
          -0.020103099947394832,
          -0.042027336524633696,
          1.239199523092614,
          0.31174508367849085,
          0.9361084479519998,
          -0.18618102912744675,
          0.5826791217951177,
          0.43352959070524805,
          0.05304296463400472,
          -0.5926127266145984,
          -2.714955903645562,
          -0.7302768692480879,
          0.5416647778556658,
          1.066691518602927,
          -0.20464590566938895,
          1.667570632967258,
          -1.2848121388168667,
          -1.2693020887010722,
          1.1961530520102446,
          -2.303978558507296,
          -0.34484568309621116,
          0.33316727300389903,
          -1.5277704570453603,
          -0.2677533280031435,
          -1.1069183000442135,
          -0.69696863763343,
          0.4220514472520369,
          -0.7119580435533539,
          -0.4861965889709872,
          -1.0514199478282396,
          -1.2973863778725738,
          -1.852599660498362,
          0.2669849512911801,
          0.6934313898697425
         ],
         "y": [
          -0.49138081110649495,
          0.20096821703152126,
          -0.5118376940715328,
          -0.294754672042674,
          0.7912868491160063,
          0.6016396273238315,
          -1.8517024871032415,
          -0.8357324338017871,
          0.5567672502176182,
          0.34248645594707156,
          1.1284364585110525,
          -0.9475016318413956,
          0.6052496337791674,
          -0.14129046372803092,
          0.23878933595490678,
          -1.3302105428345574,
          0.7065868414255477,
          0.8596504098464547,
          -1.0289972766977775,
          0.38416590094808395,
          -0.6805516583040593,
          0.25047413304492844,
          -1.0934455244419623,
          0.21783950085433063,
          -1.6465140549141115,
          1.773635885242201,
          -0.15523341084556538,
          2.676693565466258,
          -0.5545091562056877,
          -1.1680827062075498,
          0.4012562551292746,
          1.5825339892798398,
          -0.5398529138511904,
          1.0645026613523625,
          -1.4028466624172862,
          -0.8110265275168601,
          0.017905104851356973,
          -0.5880126717343193,
          -1.9196292048084675,
          -0.5770587119572501,
          -0.3709996873352136,
          0.6380882254802426,
          -2.048108646820459,
          -0.6244061305032667,
          0.1979958562682151,
          1.235861000391054,
          -0.056613145024522714,
          1.4231514175036732,
          -0.12371210746402267,
          2.0043855782244577,
          0.24377248592591028,
          -0.9191773044109226,
          1.260013880741051,
          0.25973909324840844,
          0.7809547129755966,
          -1.1393604843367602,
          0.5155300758995982,
          -0.08659470454921091,
          0.7450800307774069,
          0.8763936308013027,
          0.6536472576730905,
          -0.5269623477618497,
          -0.3983721526933854,
          0.2628759268519323,
          -0.05138886524695858,
          1.999743718409326,
          0.08002061538393514,
          1.8932986126680995,
          -0.4392068648508249,
          1.8041669201375656,
          0.5014501185022648,
          0.6418703110176629,
          0.916215226940129,
          0.09519773076228714,
          0.2024566893905404,
          -1.126067618256918,
          -1.043129801809276,
          1.4232891346410141,
          0.45471152794813313,
          -0.3789454598854821,
          1.113225442536063,
          0.9673482795705286,
          -2.1035698135731296,
          0.5732793851398493,
          0.008794944506913387,
          -1.11121827900885,
          -1.242414784044673,
          0.23578253336456306,
          1.5892034787841012,
          -0.2997132280280576,
          -0.38497283723599923,
          0.7293960491010912,
          0.09212027910610585,
          0.1752052422872672,
          0.5906643403648387,
          -0.7612504986085381,
          1.2337359981255012,
          -0.5972867609627632,
          0.9206519061066598,
          -1.5461656964766408
         ]
        }
       ],
       "layout": {
        "legend": {
         "bgcolor": "#F5F6F9",
         "font": {
          "color": "#4D5663"
         }
        },
        "paper_bgcolor": "#F5F6F9",
        "plot_bgcolor": "#F5F6F9",
        "template": {
         "data": {
          "bar": [
           {
            "error_x": {
             "color": "#2a3f5f"
            },
            "error_y": {
             "color": "#2a3f5f"
            },
            "marker": {
             "line": {
              "color": "#E5ECF6",
              "width": 0.5
             }
            },
            "type": "bar"
           }
          ],
          "barpolar": [
           {
            "marker": {
             "line": {
              "color": "#E5ECF6",
              "width": 0.5
             }
            },
            "type": "barpolar"
           }
          ],
          "carpet": [
           {
            "aaxis": {
             "endlinecolor": "#2a3f5f",
             "gridcolor": "white",
             "linecolor": "white",
             "minorgridcolor": "white",
             "startlinecolor": "#2a3f5f"
            },
            "baxis": {
             "endlinecolor": "#2a3f5f",
             "gridcolor": "white",
             "linecolor": "white",
             "minorgridcolor": "white",
             "startlinecolor": "#2a3f5f"
            },
            "type": "carpet"
           }
          ],
          "choropleth": [
           {
            "colorbar": {
             "outlinewidth": 0,
             "ticks": ""
            },
            "type": "choropleth"
           }
          ],
          "contour": [
           {
            "colorbar": {
             "outlinewidth": 0,
             "ticks": ""
            },
            "colorscale": [
             [
              0,
              "#0d0887"
             ],
             [
              0.1111111111111111,
              "#46039f"
             ],
             [
              0.2222222222222222,
              "#7201a8"
             ],
             [
              0.3333333333333333,
              "#9c179e"
             ],
             [
              0.4444444444444444,
              "#bd3786"
             ],
             [
              0.5555555555555556,
              "#d8576b"
             ],
             [
              0.6666666666666666,
              "#ed7953"
             ],
             [
              0.7777777777777778,
              "#fb9f3a"
             ],
             [
              0.8888888888888888,
              "#fdca26"
             ],
             [
              1,
              "#f0f921"
             ]
            ],
            "type": "contour"
           }
          ],
          "contourcarpet": [
           {
            "colorbar": {
             "outlinewidth": 0,
             "ticks": ""
            },
            "type": "contourcarpet"
           }
          ],
          "heatmap": [
           {
            "colorbar": {
             "outlinewidth": 0,
             "ticks": ""
            },
            "colorscale": [
             [
              0,
              "#0d0887"
             ],
             [
              0.1111111111111111,
              "#46039f"
             ],
             [
              0.2222222222222222,
              "#7201a8"
             ],
             [
              0.3333333333333333,
              "#9c179e"
             ],
             [
              0.4444444444444444,
              "#bd3786"
             ],
             [
              0.5555555555555556,
              "#d8576b"
             ],
             [
              0.6666666666666666,
              "#ed7953"
             ],
             [
              0.7777777777777778,
              "#fb9f3a"
             ],
             [
              0.8888888888888888,
              "#fdca26"
             ],
             [
              1,
              "#f0f921"
             ]
            ],
            "type": "heatmap"
           }
          ],
          "heatmapgl": [
           {
            "colorbar": {
             "outlinewidth": 0,
             "ticks": ""
            },
            "colorscale": [
             [
              0,
              "#0d0887"
             ],
             [
              0.1111111111111111,
              "#46039f"
             ],
             [
              0.2222222222222222,
              "#7201a8"
             ],
             [
              0.3333333333333333,
              "#9c179e"
             ],
             [
              0.4444444444444444,
              "#bd3786"
             ],
             [
              0.5555555555555556,
              "#d8576b"
             ],
             [
              0.6666666666666666,
              "#ed7953"
             ],
             [
              0.7777777777777778,
              "#fb9f3a"
             ],
             [
              0.8888888888888888,
              "#fdca26"
             ],
             [
              1,
              "#f0f921"
             ]
            ],
            "type": "heatmapgl"
           }
          ],
          "histogram": [
           {
            "marker": {
             "colorbar": {
              "outlinewidth": 0,
              "ticks": ""
             }
            },
            "type": "histogram"
           }
          ],
          "histogram2d": [
           {
            "colorbar": {
             "outlinewidth": 0,
             "ticks": ""
            },
            "colorscale": [
             [
              0,
              "#0d0887"
             ],
             [
              0.1111111111111111,
              "#46039f"
             ],
             [
              0.2222222222222222,
              "#7201a8"
             ],
             [
              0.3333333333333333,
              "#9c179e"
             ],
             [
              0.4444444444444444,
              "#bd3786"
             ],
             [
              0.5555555555555556,
              "#d8576b"
             ],
             [
              0.6666666666666666,
              "#ed7953"
             ],
             [
              0.7777777777777778,
              "#fb9f3a"
             ],
             [
              0.8888888888888888,
              "#fdca26"
             ],
             [
              1,
              "#f0f921"
             ]
            ],
            "type": "histogram2d"
           }
          ],
          "histogram2dcontour": [
           {
            "colorbar": {
             "outlinewidth": 0,
             "ticks": ""
            },
            "colorscale": [
             [
              0,
              "#0d0887"
             ],
             [
              0.1111111111111111,
              "#46039f"
             ],
             [
              0.2222222222222222,
              "#7201a8"
             ],
             [
              0.3333333333333333,
              "#9c179e"
             ],
             [
              0.4444444444444444,
              "#bd3786"
             ],
             [
              0.5555555555555556,
              "#d8576b"
             ],
             [
              0.6666666666666666,
              "#ed7953"
             ],
             [
              0.7777777777777778,
              "#fb9f3a"
             ],
             [
              0.8888888888888888,
              "#fdca26"
             ],
             [
              1,
              "#f0f921"
             ]
            ],
            "type": "histogram2dcontour"
           }
          ],
          "mesh3d": [
           {
            "colorbar": {
             "outlinewidth": 0,
             "ticks": ""
            },
            "type": "mesh3d"
           }
          ],
          "parcoords": [
           {
            "line": {
             "colorbar": {
              "outlinewidth": 0,
              "ticks": ""
             }
            },
            "type": "parcoords"
           }
          ],
          "pie": [
           {
            "automargin": true,
            "type": "pie"
           }
          ],
          "scatter": [
           {
            "marker": {
             "colorbar": {
              "outlinewidth": 0,
              "ticks": ""
             }
            },
            "type": "scatter"
           }
          ],
          "scatter3d": [
           {
            "line": {
             "colorbar": {
              "outlinewidth": 0,
              "ticks": ""
             }
            },
            "marker": {
             "colorbar": {
              "outlinewidth": 0,
              "ticks": ""
             }
            },
            "type": "scatter3d"
           }
          ],
          "scattercarpet": [
           {
            "marker": {
             "colorbar": {
              "outlinewidth": 0,
              "ticks": ""
             }
            },
            "type": "scattercarpet"
           }
          ],
          "scattergeo": [
           {
            "marker": {
             "colorbar": {
              "outlinewidth": 0,
              "ticks": ""
             }
            },
            "type": "scattergeo"
           }
          ],
          "scattergl": [
           {
            "marker": {
             "colorbar": {
              "outlinewidth": 0,
              "ticks": ""
             }
            },
            "type": "scattergl"
           }
          ],
          "scattermapbox": [
           {
            "marker": {
             "colorbar": {
              "outlinewidth": 0,
              "ticks": ""
             }
            },
            "type": "scattermapbox"
           }
          ],
          "scatterpolar": [
           {
            "marker": {
             "colorbar": {
              "outlinewidth": 0,
              "ticks": ""
             }
            },
            "type": "scatterpolar"
           }
          ],
          "scatterpolargl": [
           {
            "marker": {
             "colorbar": {
              "outlinewidth": 0,
              "ticks": ""
             }
            },
            "type": "scatterpolargl"
           }
          ],
          "scatterternary": [
           {
            "marker": {
             "colorbar": {
              "outlinewidth": 0,
              "ticks": ""
             }
            },
            "type": "scatterternary"
           }
          ],
          "surface": [
           {
            "colorbar": {
             "outlinewidth": 0,
             "ticks": ""
            },
            "colorscale": [
             [
              0,
              "#0d0887"
             ],
             [
              0.1111111111111111,
              "#46039f"
             ],
             [
              0.2222222222222222,
              "#7201a8"
             ],
             [
              0.3333333333333333,
              "#9c179e"
             ],
             [
              0.4444444444444444,
              "#bd3786"
             ],
             [
              0.5555555555555556,
              "#d8576b"
             ],
             [
              0.6666666666666666,
              "#ed7953"
             ],
             [
              0.7777777777777778,
              "#fb9f3a"
             ],
             [
              0.8888888888888888,
              "#fdca26"
             ],
             [
              1,
              "#f0f921"
             ]
            ],
            "type": "surface"
           }
          ],
          "table": [
           {
            "cells": {
             "fill": {
              "color": "#EBF0F8"
             },
             "line": {
              "color": "white"
             }
            },
            "header": {
             "fill": {
              "color": "#C8D4E3"
             },
             "line": {
              "color": "white"
             }
            },
            "type": "table"
           }
          ]
         },
         "layout": {
          "annotationdefaults": {
           "arrowcolor": "#2a3f5f",
           "arrowhead": 0,
           "arrowwidth": 1
          },
          "coloraxis": {
           "colorbar": {
            "outlinewidth": 0,
            "ticks": ""
           }
          },
          "colorscale": {
           "diverging": [
            [
             0,
             "#8e0152"
            ],
            [
             0.1,
             "#c51b7d"
            ],
            [
             0.2,
             "#de77ae"
            ],
            [
             0.3,
             "#f1b6da"
            ],
            [
             0.4,
             "#fde0ef"
            ],
            [
             0.5,
             "#f7f7f7"
            ],
            [
             0.6,
             "#e6f5d0"
            ],
            [
             0.7,
             "#b8e186"
            ],
            [
             0.8,
             "#7fbc41"
            ],
            [
             0.9,
             "#4d9221"
            ],
            [
             1,
             "#276419"
            ]
           ],
           "sequential": [
            [
             0,
             "#0d0887"
            ],
            [
             0.1111111111111111,
             "#46039f"
            ],
            [
             0.2222222222222222,
             "#7201a8"
            ],
            [
             0.3333333333333333,
             "#9c179e"
            ],
            [
             0.4444444444444444,
             "#bd3786"
            ],
            [
             0.5555555555555556,
             "#d8576b"
            ],
            [
             0.6666666666666666,
             "#ed7953"
            ],
            [
             0.7777777777777778,
             "#fb9f3a"
            ],
            [
             0.8888888888888888,
             "#fdca26"
            ],
            [
             1,
             "#f0f921"
            ]
           ],
           "sequentialminus": [
            [
             0,
             "#0d0887"
            ],
            [
             0.1111111111111111,
             "#46039f"
            ],
            [
             0.2222222222222222,
             "#7201a8"
            ],
            [
             0.3333333333333333,
             "#9c179e"
            ],
            [
             0.4444444444444444,
             "#bd3786"
            ],
            [
             0.5555555555555556,
             "#d8576b"
            ],
            [
             0.6666666666666666,
             "#ed7953"
            ],
            [
             0.7777777777777778,
             "#fb9f3a"
            ],
            [
             0.8888888888888888,
             "#fdca26"
            ],
            [
             1,
             "#f0f921"
            ]
           ]
          },
          "colorway": [
           "#636efa",
           "#EF553B",
           "#00cc96",
           "#ab63fa",
           "#FFA15A",
           "#19d3f3",
           "#FF6692",
           "#B6E880",
           "#FF97FF",
           "#FECB52"
          ],
          "font": {
           "color": "#2a3f5f"
          },
          "geo": {
           "bgcolor": "white",
           "lakecolor": "white",
           "landcolor": "#E5ECF6",
           "showlakes": true,
           "showland": true,
           "subunitcolor": "white"
          },
          "hoverlabel": {
           "align": "left"
          },
          "hovermode": "closest",
          "mapbox": {
           "style": "light"
          },
          "paper_bgcolor": "white",
          "plot_bgcolor": "#E5ECF6",
          "polar": {
           "angularaxis": {
            "gridcolor": "white",
            "linecolor": "white",
            "ticks": ""
           },
           "bgcolor": "#E5ECF6",
           "radialaxis": {
            "gridcolor": "white",
            "linecolor": "white",
            "ticks": ""
           }
          },
          "scene": {
           "xaxis": {
            "backgroundcolor": "#E5ECF6",
            "gridcolor": "white",
            "gridwidth": 2,
            "linecolor": "white",
            "showbackground": true,
            "ticks": "",
            "zerolinecolor": "white"
           },
           "yaxis": {
            "backgroundcolor": "#E5ECF6",
            "gridcolor": "white",
            "gridwidth": 2,
            "linecolor": "white",
            "showbackground": true,
            "ticks": "",
            "zerolinecolor": "white"
           },
           "zaxis": {
            "backgroundcolor": "#E5ECF6",
            "gridcolor": "white",
            "gridwidth": 2,
            "linecolor": "white",
            "showbackground": true,
            "ticks": "",
            "zerolinecolor": "white"
           }
          },
          "shapedefaults": {
           "line": {
            "color": "#2a3f5f"
           }
          },
          "ternary": {
           "aaxis": {
            "gridcolor": "white",
            "linecolor": "white",
            "ticks": ""
           },
           "baxis": {
            "gridcolor": "white",
            "linecolor": "white",
            "ticks": ""
           },
           "bgcolor": "#E5ECF6",
           "caxis": {
            "gridcolor": "white",
            "linecolor": "white",
            "ticks": ""
           }
          },
          "title": {
           "x": 0.05
          },
          "xaxis": {
           "automargin": true,
           "gridcolor": "white",
           "linecolor": "white",
           "ticks": "",
           "title": {
            "standoff": 15
           },
           "zerolinecolor": "white",
           "zerolinewidth": 2
          },
          "yaxis": {
           "automargin": true,
           "gridcolor": "white",
           "linecolor": "white",
           "ticks": "",
           "title": {
            "standoff": 15
           },
           "zerolinecolor": "white",
           "zerolinewidth": 2
          }
         }
        },
        "title": {
         "font": {
          "color": "#4D5663"
         }
        },
        "xaxis": {
         "gridcolor": "#E1E5ED",
         "showgrid": true,
         "tickfont": {
          "color": "#4D5663"
         },
         "title": {
          "font": {
           "color": "#4D5663"
          },
          "text": ""
         },
         "zerolinecolor": "#E1E5ED"
        },
        "yaxis": {
         "gridcolor": "#E1E5ED",
         "showgrid": true,
         "tickfont": {
          "color": "#4D5663"
         },
         "title": {
          "font": {
           "color": "#4D5663"
          },
          "text": ""
         },
         "zerolinecolor": "#E1E5ED"
        }
       }
      },
      "text/html": [
       "<div>\n",
       "        \n",
       "        \n",
       "            <div id=\"0e646e7b-173b-440a-9560-0784774c0d51\" class=\"plotly-graph-div\" style=\"height:525px; width:100%;\"></div>\n",
       "            <script type=\"text/javascript\">\n",
       "                require([\"plotly\"], function(Plotly) {\n",
       "                    window.PLOTLYENV=window.PLOTLYENV || {};\n",
       "                    window.PLOTLYENV.BASE_URL='https://plot.ly';\n",
       "                    \n",
       "                if (document.getElementById(\"0e646e7b-173b-440a-9560-0784774c0d51\")) {\n",
       "                    Plotly.newPlot(\n",
       "                        '0e646e7b-173b-440a-9560-0784774c0d51',\n",
       "                        [{\"line\": {\"color\": \"rgba(255, 153, 51, 1.0)\", \"dash\": \"solid\", \"shape\": \"linear\", \"width\": 1.3}, \"marker\": {\"size\": 25, \"symbol\": \"circle\"}, \"mode\": \"markers\", \"name\": \"B\", \"text\": \"\", \"type\": \"scatter\", \"x\": [-0.14022739364165643, -0.06215427637826168, 1.3604993525322426, -0.31499023670117493, 1.0029694989154603, 0.970785908978943, -1.9952834025092647, 1.0039135826827332, -0.9158744798111359, -1.5467467590902721, 0.37209295460286496, -0.11707489023640913, 0.3729934586411193, -0.09155881745717738, -0.03683336514171592, -0.41858716289621883, 1.2727487669685111, 0.7032449700650091, -0.3738248467613199, 1.5095426393794726, -0.18607365814905844, 0.4183288835354543, 0.19887318935897869, -0.8883000951919754, -0.5092841539648556, -0.6087002578641567, -0.9661264541068408, -1.915268445309993, 0.6093753654788755, 1.580437092556138, 1.2038017025994858, -0.9256468334675966, 1.4351143773603932, 1.1091342369517356, -0.018304712037069137, -2.2313836406164778, 0.7070440778124587, -0.5307156073349464, 2.296219589090963, 2.387706409516227, 0.6271835271545523, -1.2173587220621744, 0.42570764846744746, -1.865485577029963, 0.09358857883241165, 0.21890364457894615, -0.8132962135397189, 0.8909606370067288, -1.3191599374713485, -0.266719405828341, 1.1247976919873686, 0.48999024384756007, 0.5807255032073525, -0.6562912505872847, -0.6742217180417197, 2.214992557360574, -0.9679289742345283, 0.43124375434740847, 1.2054308100887878, -0.0920927130932392, 0.9421320700961858, 0.11984996143687157, -0.15429180556311048, 0.2918631513091189, -1.8717576688946829, -0.8679678182080496, -0.020103099947394832, -0.042027336524633696, 1.239199523092614, 0.31174508367849085, 0.9361084479519998, -0.18618102912744675, 0.5826791217951177, 0.43352959070524805, 0.05304296463400472, -0.5926127266145984, -2.714955903645562, -0.7302768692480879, 0.5416647778556658, 1.066691518602927, -0.20464590566938895, 1.667570632967258, -1.2848121388168667, -1.2693020887010722, 1.1961530520102446, -2.303978558507296, -0.34484568309621116, 0.33316727300389903, -1.5277704570453603, -0.2677533280031435, -1.1069183000442135, -0.69696863763343, 0.4220514472520369, -0.7119580435533539, -0.4861965889709872, -1.0514199478282396, -1.2973863778725738, -1.852599660498362, 0.2669849512911801, 0.6934313898697425], \"y\": [-0.49138081110649495, 0.20096821703152126, -0.5118376940715328, -0.294754672042674, 0.7912868491160063, 0.6016396273238315, -1.8517024871032415, -0.8357324338017871, 0.5567672502176182, 0.34248645594707156, 1.1284364585110525, -0.9475016318413956, 0.6052496337791674, -0.14129046372803092, 0.23878933595490678, -1.3302105428345574, 0.7065868414255477, 0.8596504098464547, -1.0289972766977775, 0.38416590094808395, -0.6805516583040593, 0.25047413304492844, -1.0934455244419623, 0.21783950085433063, -1.6465140549141115, 1.773635885242201, -0.15523341084556538, 2.676693565466258, -0.5545091562056877, -1.1680827062075498, 0.4012562551292746, 1.5825339892798398, -0.5398529138511904, 1.0645026613523625, -1.4028466624172862, -0.8110265275168601, 0.017905104851356973, -0.5880126717343193, -1.9196292048084675, -0.5770587119572501, -0.3709996873352136, 0.6380882254802426, -2.048108646820459, -0.6244061305032667, 0.1979958562682151, 1.235861000391054, -0.056613145024522714, 1.4231514175036732, -0.12371210746402267, 2.0043855782244577, 0.24377248592591028, -0.9191773044109226, 1.260013880741051, 0.25973909324840844, 0.7809547129755966, -1.1393604843367602, 0.5155300758995982, -0.08659470454921091, 0.7450800307774069, 0.8763936308013027, 0.6536472576730905, -0.5269623477618497, -0.3983721526933854, 0.2628759268519323, -0.05138886524695858, 1.999743718409326, 0.08002061538393514, 1.8932986126680995, -0.4392068648508249, 1.8041669201375656, 0.5014501185022648, 0.6418703110176629, 0.916215226940129, 0.09519773076228714, 0.2024566893905404, -1.126067618256918, -1.043129801809276, 1.4232891346410141, 0.45471152794813313, -0.3789454598854821, 1.113225442536063, 0.9673482795705286, -2.1035698135731296, 0.5732793851398493, 0.008794944506913387, -1.11121827900885, -1.242414784044673, 0.23578253336456306, 1.5892034787841012, -0.2997132280280576, -0.38497283723599923, 0.7293960491010912, 0.09212027910610585, 0.1752052422872672, 0.5906643403648387, -0.7612504986085381, 1.2337359981255012, -0.5972867609627632, 0.9206519061066598, -1.5461656964766408]}],\n",
       "                        {\"legend\": {\"bgcolor\": \"#F5F6F9\", \"font\": {\"color\": \"#4D5663\"}}, \"paper_bgcolor\": \"#F5F6F9\", \"plot_bgcolor\": \"#F5F6F9\", \"template\": {\"data\": {\"bar\": [{\"error_x\": {\"color\": \"#2a3f5f\"}, \"error_y\": {\"color\": \"#2a3f5f\"}, \"marker\": {\"line\": {\"color\": \"#E5ECF6\", \"width\": 0.5}}, \"type\": \"bar\"}], \"barpolar\": [{\"marker\": {\"line\": {\"color\": \"#E5ECF6\", \"width\": 0.5}}, \"type\": \"barpolar\"}], \"carpet\": [{\"aaxis\": {\"endlinecolor\": \"#2a3f5f\", \"gridcolor\": \"white\", \"linecolor\": \"white\", \"minorgridcolor\": \"white\", \"startlinecolor\": \"#2a3f5f\"}, \"baxis\": {\"endlinecolor\": \"#2a3f5f\", \"gridcolor\": \"white\", \"linecolor\": \"white\", \"minorgridcolor\": \"white\", \"startlinecolor\": \"#2a3f5f\"}, \"type\": \"carpet\"}], \"choropleth\": [{\"colorbar\": {\"outlinewidth\": 0, \"ticks\": \"\"}, \"type\": \"choropleth\"}], \"contour\": [{\"colorbar\": {\"outlinewidth\": 0, \"ticks\": \"\"}, \"colorscale\": [[0.0, \"#0d0887\"], [0.1111111111111111, \"#46039f\"], [0.2222222222222222, \"#7201a8\"], [0.3333333333333333, \"#9c179e\"], [0.4444444444444444, \"#bd3786\"], [0.5555555555555556, \"#d8576b\"], [0.6666666666666666, \"#ed7953\"], [0.7777777777777778, \"#fb9f3a\"], [0.8888888888888888, \"#fdca26\"], [1.0, \"#f0f921\"]], \"type\": \"contour\"}], \"contourcarpet\": [{\"colorbar\": {\"outlinewidth\": 0, \"ticks\": \"\"}, \"type\": \"contourcarpet\"}], \"heatmap\": [{\"colorbar\": {\"outlinewidth\": 0, \"ticks\": \"\"}, \"colorscale\": [[0.0, \"#0d0887\"], [0.1111111111111111, \"#46039f\"], [0.2222222222222222, \"#7201a8\"], [0.3333333333333333, \"#9c179e\"], [0.4444444444444444, \"#bd3786\"], [0.5555555555555556, \"#d8576b\"], [0.6666666666666666, \"#ed7953\"], [0.7777777777777778, \"#fb9f3a\"], [0.8888888888888888, \"#fdca26\"], [1.0, \"#f0f921\"]], \"type\": \"heatmap\"}], \"heatmapgl\": [{\"colorbar\": {\"outlinewidth\": 0, \"ticks\": \"\"}, \"colorscale\": [[0.0, \"#0d0887\"], [0.1111111111111111, \"#46039f\"], [0.2222222222222222, \"#7201a8\"], [0.3333333333333333, \"#9c179e\"], [0.4444444444444444, \"#bd3786\"], [0.5555555555555556, \"#d8576b\"], [0.6666666666666666, \"#ed7953\"], [0.7777777777777778, \"#fb9f3a\"], [0.8888888888888888, \"#fdca26\"], [1.0, \"#f0f921\"]], \"type\": \"heatmapgl\"}], \"histogram\": [{\"marker\": {\"colorbar\": {\"outlinewidth\": 0, \"ticks\": \"\"}}, \"type\": \"histogram\"}], \"histogram2d\": [{\"colorbar\": {\"outlinewidth\": 0, \"ticks\": \"\"}, \"colorscale\": [[0.0, \"#0d0887\"], [0.1111111111111111, \"#46039f\"], [0.2222222222222222, \"#7201a8\"], [0.3333333333333333, \"#9c179e\"], [0.4444444444444444, \"#bd3786\"], [0.5555555555555556, \"#d8576b\"], [0.6666666666666666, \"#ed7953\"], [0.7777777777777778, \"#fb9f3a\"], [0.8888888888888888, \"#fdca26\"], [1.0, \"#f0f921\"]], \"type\": \"histogram2d\"}], \"histogram2dcontour\": [{\"colorbar\": {\"outlinewidth\": 0, \"ticks\": \"\"}, \"colorscale\": [[0.0, \"#0d0887\"], [0.1111111111111111, \"#46039f\"], [0.2222222222222222, \"#7201a8\"], [0.3333333333333333, \"#9c179e\"], [0.4444444444444444, \"#bd3786\"], [0.5555555555555556, \"#d8576b\"], [0.6666666666666666, \"#ed7953\"], [0.7777777777777778, \"#fb9f3a\"], [0.8888888888888888, \"#fdca26\"], [1.0, \"#f0f921\"]], \"type\": \"histogram2dcontour\"}], \"mesh3d\": [{\"colorbar\": {\"outlinewidth\": 0, \"ticks\": \"\"}, \"type\": \"mesh3d\"}], \"parcoords\": [{\"line\": {\"colorbar\": {\"outlinewidth\": 0, \"ticks\": \"\"}}, \"type\": \"parcoords\"}], \"pie\": [{\"automargin\": true, \"type\": \"pie\"}], \"scatter\": [{\"marker\": {\"colorbar\": {\"outlinewidth\": 0, \"ticks\": \"\"}}, \"type\": \"scatter\"}], \"scatter3d\": [{\"line\": {\"colorbar\": {\"outlinewidth\": 0, \"ticks\": \"\"}}, \"marker\": {\"colorbar\": {\"outlinewidth\": 0, \"ticks\": \"\"}}, \"type\": \"scatter3d\"}], \"scattercarpet\": [{\"marker\": {\"colorbar\": {\"outlinewidth\": 0, \"ticks\": \"\"}}, \"type\": \"scattercarpet\"}], \"scattergeo\": [{\"marker\": {\"colorbar\": {\"outlinewidth\": 0, \"ticks\": \"\"}}, \"type\": \"scattergeo\"}], \"scattergl\": [{\"marker\": {\"colorbar\": {\"outlinewidth\": 0, \"ticks\": \"\"}}, \"type\": \"scattergl\"}], \"scattermapbox\": [{\"marker\": {\"colorbar\": {\"outlinewidth\": 0, \"ticks\": \"\"}}, \"type\": \"scattermapbox\"}], \"scatterpolar\": [{\"marker\": {\"colorbar\": {\"outlinewidth\": 0, \"ticks\": \"\"}}, \"type\": \"scatterpolar\"}], \"scatterpolargl\": [{\"marker\": {\"colorbar\": {\"outlinewidth\": 0, \"ticks\": \"\"}}, \"type\": \"scatterpolargl\"}], \"scatterternary\": [{\"marker\": {\"colorbar\": {\"outlinewidth\": 0, \"ticks\": \"\"}}, \"type\": \"scatterternary\"}], \"surface\": [{\"colorbar\": {\"outlinewidth\": 0, \"ticks\": \"\"}, \"colorscale\": [[0.0, \"#0d0887\"], [0.1111111111111111, \"#46039f\"], [0.2222222222222222, \"#7201a8\"], [0.3333333333333333, \"#9c179e\"], [0.4444444444444444, \"#bd3786\"], [0.5555555555555556, \"#d8576b\"], [0.6666666666666666, \"#ed7953\"], [0.7777777777777778, \"#fb9f3a\"], [0.8888888888888888, \"#fdca26\"], [1.0, \"#f0f921\"]], \"type\": \"surface\"}], \"table\": [{\"cells\": {\"fill\": {\"color\": \"#EBF0F8\"}, \"line\": {\"color\": \"white\"}}, \"header\": {\"fill\": {\"color\": \"#C8D4E3\"}, \"line\": {\"color\": \"white\"}}, \"type\": \"table\"}]}, \"layout\": {\"annotationdefaults\": {\"arrowcolor\": \"#2a3f5f\", \"arrowhead\": 0, \"arrowwidth\": 1}, \"coloraxis\": {\"colorbar\": {\"outlinewidth\": 0, \"ticks\": \"\"}}, \"colorscale\": {\"diverging\": [[0, \"#8e0152\"], [0.1, \"#c51b7d\"], [0.2, \"#de77ae\"], [0.3, \"#f1b6da\"], [0.4, \"#fde0ef\"], [0.5, \"#f7f7f7\"], [0.6, \"#e6f5d0\"], [0.7, \"#b8e186\"], [0.8, \"#7fbc41\"], [0.9, \"#4d9221\"], [1, \"#276419\"]], \"sequential\": [[0.0, \"#0d0887\"], [0.1111111111111111, \"#46039f\"], [0.2222222222222222, \"#7201a8\"], [0.3333333333333333, \"#9c179e\"], [0.4444444444444444, \"#bd3786\"], [0.5555555555555556, \"#d8576b\"], [0.6666666666666666, \"#ed7953\"], [0.7777777777777778, \"#fb9f3a\"], [0.8888888888888888, \"#fdca26\"], [1.0, \"#f0f921\"]], \"sequentialminus\": [[0.0, \"#0d0887\"], [0.1111111111111111, \"#46039f\"], [0.2222222222222222, \"#7201a8\"], [0.3333333333333333, \"#9c179e\"], [0.4444444444444444, \"#bd3786\"], [0.5555555555555556, \"#d8576b\"], [0.6666666666666666, \"#ed7953\"], [0.7777777777777778, \"#fb9f3a\"], [0.8888888888888888, \"#fdca26\"], [1.0, \"#f0f921\"]]}, \"colorway\": [\"#636efa\", \"#EF553B\", \"#00cc96\", \"#ab63fa\", \"#FFA15A\", \"#19d3f3\", \"#FF6692\", \"#B6E880\", \"#FF97FF\", \"#FECB52\"], \"font\": {\"color\": \"#2a3f5f\"}, \"geo\": {\"bgcolor\": \"white\", \"lakecolor\": \"white\", \"landcolor\": \"#E5ECF6\", \"showlakes\": true, \"showland\": true, \"subunitcolor\": \"white\"}, \"hoverlabel\": {\"align\": \"left\"}, \"hovermode\": \"closest\", \"mapbox\": {\"style\": \"light\"}, \"paper_bgcolor\": \"white\", \"plot_bgcolor\": \"#E5ECF6\", \"polar\": {\"angularaxis\": {\"gridcolor\": \"white\", \"linecolor\": \"white\", \"ticks\": \"\"}, \"bgcolor\": \"#E5ECF6\", \"radialaxis\": {\"gridcolor\": \"white\", \"linecolor\": \"white\", \"ticks\": \"\"}}, \"scene\": {\"xaxis\": {\"backgroundcolor\": \"#E5ECF6\", \"gridcolor\": \"white\", \"gridwidth\": 2, \"linecolor\": \"white\", \"showbackground\": true, \"ticks\": \"\", \"zerolinecolor\": \"white\"}, \"yaxis\": {\"backgroundcolor\": \"#E5ECF6\", \"gridcolor\": \"white\", \"gridwidth\": 2, \"linecolor\": \"white\", \"showbackground\": true, \"ticks\": \"\", \"zerolinecolor\": \"white\"}, \"zaxis\": {\"backgroundcolor\": \"#E5ECF6\", \"gridcolor\": \"white\", \"gridwidth\": 2, \"linecolor\": \"white\", \"showbackground\": true, \"ticks\": \"\", \"zerolinecolor\": \"white\"}}, \"shapedefaults\": {\"line\": {\"color\": \"#2a3f5f\"}}, \"ternary\": {\"aaxis\": {\"gridcolor\": \"white\", \"linecolor\": \"white\", \"ticks\": \"\"}, \"baxis\": {\"gridcolor\": \"white\", \"linecolor\": \"white\", \"ticks\": \"\"}, \"bgcolor\": \"#E5ECF6\", \"caxis\": {\"gridcolor\": \"white\", \"linecolor\": \"white\", \"ticks\": \"\"}}, \"title\": {\"x\": 0.05}, \"xaxis\": {\"automargin\": true, \"gridcolor\": \"white\", \"linecolor\": \"white\", \"ticks\": \"\", \"title\": {\"standoff\": 15}, \"zerolinecolor\": \"white\", \"zerolinewidth\": 2}, \"yaxis\": {\"automargin\": true, \"gridcolor\": \"white\", \"linecolor\": \"white\", \"ticks\": \"\", \"title\": {\"standoff\": 15}, \"zerolinecolor\": \"white\", \"zerolinewidth\": 2}}}, \"title\": {\"font\": {\"color\": \"#4D5663\"}}, \"xaxis\": {\"gridcolor\": \"#E1E5ED\", \"showgrid\": true, \"tickfont\": {\"color\": \"#4D5663\"}, \"title\": {\"font\": {\"color\": \"#4D5663\"}, \"text\": \"\"}, \"zerolinecolor\": \"#E1E5ED\"}, \"yaxis\": {\"gridcolor\": \"#E1E5ED\", \"showgrid\": true, \"tickfont\": {\"color\": \"#4D5663\"}, \"title\": {\"font\": {\"color\": \"#4D5663\"}, \"text\": \"\"}, \"zerolinecolor\": \"#E1E5ED\"}},\n",
       "                        {\"showLink\": true, \"linkText\": \"Export to plot.ly\", \"plotlyServerURL\": \"https://plot.ly\", \"responsive\": true}\n",
       "                    ).then(function(){\n",
       "                            \n",
       "var gd = document.getElementById('0e646e7b-173b-440a-9560-0784774c0d51');\n",
       "var x = new MutationObserver(function (mutations, observer) {{\n",
       "        var display = window.getComputedStyle(gd).display;\n",
       "        if (!display || display === 'none') {{\n",
       "            console.log([gd, 'removed!']);\n",
       "            Plotly.purge(gd);\n",
       "            observer.disconnect();\n",
       "        }}\n",
       "}});\n",
       "\n",
       "// Listen for the removal of the full notebook cells\n",
       "var notebookContainer = gd.closest('#notebook-container');\n",
       "if (notebookContainer) {{\n",
       "    x.observe(notebookContainer, {childList: true});\n",
       "}}\n",
       "\n",
       "// Listen for the clearing of the current output cell\n",
       "var outputEl = gd.closest('.output');\n",
       "if (outputEl) {{\n",
       "    x.observe(outputEl, {childList: true});\n",
       "}}\n",
       "\n",
       "                        })\n",
       "                };\n",
       "                });\n",
       "            </script>\n",
       "        </div>"
      ]
     },
     "metadata": {},
     "output_type": "display_data"
    }
   ],
   "source": [
    "df.iplot(kind = 'scatter', x = 'A', y = 'B', mode = 'markers',\n",
    "        size = 25)"
   ]
  },
  {
   "cell_type": "code",
   "execution_count": 40,
   "metadata": {
    "scrolled": true
   },
   "outputs": [
    {
     "data": {
      "application/vnd.plotly.v1+json": {
       "config": {
        "linkText": "Export to plot.ly",
        "plotlyServerURL": "https://plot.ly",
        "showLink": true
       },
       "data": [
        {
         "marker": {
          "color": "rgba(255, 153, 51, 0.6)",
          "line": {
           "color": "rgba(255, 153, 51, 1.0)",
           "width": 1
          }
         },
         "name": "Values",
         "orientation": "v",
         "text": "",
         "type": "bar",
         "x": [
          "A",
          "B",
          "C"
         ],
         "y": [
          32,
          43,
          50
         ]
        }
       ],
       "layout": {
        "legend": {
         "bgcolor": "#F5F6F9",
         "font": {
          "color": "#4D5663"
         }
        },
        "paper_bgcolor": "#F5F6F9",
        "plot_bgcolor": "#F5F6F9",
        "template": {
         "data": {
          "bar": [
           {
            "error_x": {
             "color": "#2a3f5f"
            },
            "error_y": {
             "color": "#2a3f5f"
            },
            "marker": {
             "line": {
              "color": "#E5ECF6",
              "width": 0.5
             }
            },
            "type": "bar"
           }
          ],
          "barpolar": [
           {
            "marker": {
             "line": {
              "color": "#E5ECF6",
              "width": 0.5
             }
            },
            "type": "barpolar"
           }
          ],
          "carpet": [
           {
            "aaxis": {
             "endlinecolor": "#2a3f5f",
             "gridcolor": "white",
             "linecolor": "white",
             "minorgridcolor": "white",
             "startlinecolor": "#2a3f5f"
            },
            "baxis": {
             "endlinecolor": "#2a3f5f",
             "gridcolor": "white",
             "linecolor": "white",
             "minorgridcolor": "white",
             "startlinecolor": "#2a3f5f"
            },
            "type": "carpet"
           }
          ],
          "choropleth": [
           {
            "colorbar": {
             "outlinewidth": 0,
             "ticks": ""
            },
            "type": "choropleth"
           }
          ],
          "contour": [
           {
            "colorbar": {
             "outlinewidth": 0,
             "ticks": ""
            },
            "colorscale": [
             [
              0,
              "#0d0887"
             ],
             [
              0.1111111111111111,
              "#46039f"
             ],
             [
              0.2222222222222222,
              "#7201a8"
             ],
             [
              0.3333333333333333,
              "#9c179e"
             ],
             [
              0.4444444444444444,
              "#bd3786"
             ],
             [
              0.5555555555555556,
              "#d8576b"
             ],
             [
              0.6666666666666666,
              "#ed7953"
             ],
             [
              0.7777777777777778,
              "#fb9f3a"
             ],
             [
              0.8888888888888888,
              "#fdca26"
             ],
             [
              1,
              "#f0f921"
             ]
            ],
            "type": "contour"
           }
          ],
          "contourcarpet": [
           {
            "colorbar": {
             "outlinewidth": 0,
             "ticks": ""
            },
            "type": "contourcarpet"
           }
          ],
          "heatmap": [
           {
            "colorbar": {
             "outlinewidth": 0,
             "ticks": ""
            },
            "colorscale": [
             [
              0,
              "#0d0887"
             ],
             [
              0.1111111111111111,
              "#46039f"
             ],
             [
              0.2222222222222222,
              "#7201a8"
             ],
             [
              0.3333333333333333,
              "#9c179e"
             ],
             [
              0.4444444444444444,
              "#bd3786"
             ],
             [
              0.5555555555555556,
              "#d8576b"
             ],
             [
              0.6666666666666666,
              "#ed7953"
             ],
             [
              0.7777777777777778,
              "#fb9f3a"
             ],
             [
              0.8888888888888888,
              "#fdca26"
             ],
             [
              1,
              "#f0f921"
             ]
            ],
            "type": "heatmap"
           }
          ],
          "heatmapgl": [
           {
            "colorbar": {
             "outlinewidth": 0,
             "ticks": ""
            },
            "colorscale": [
             [
              0,
              "#0d0887"
             ],
             [
              0.1111111111111111,
              "#46039f"
             ],
             [
              0.2222222222222222,
              "#7201a8"
             ],
             [
              0.3333333333333333,
              "#9c179e"
             ],
             [
              0.4444444444444444,
              "#bd3786"
             ],
             [
              0.5555555555555556,
              "#d8576b"
             ],
             [
              0.6666666666666666,
              "#ed7953"
             ],
             [
              0.7777777777777778,
              "#fb9f3a"
             ],
             [
              0.8888888888888888,
              "#fdca26"
             ],
             [
              1,
              "#f0f921"
             ]
            ],
            "type": "heatmapgl"
           }
          ],
          "histogram": [
           {
            "marker": {
             "colorbar": {
              "outlinewidth": 0,
              "ticks": ""
             }
            },
            "type": "histogram"
           }
          ],
          "histogram2d": [
           {
            "colorbar": {
             "outlinewidth": 0,
             "ticks": ""
            },
            "colorscale": [
             [
              0,
              "#0d0887"
             ],
             [
              0.1111111111111111,
              "#46039f"
             ],
             [
              0.2222222222222222,
              "#7201a8"
             ],
             [
              0.3333333333333333,
              "#9c179e"
             ],
             [
              0.4444444444444444,
              "#bd3786"
             ],
             [
              0.5555555555555556,
              "#d8576b"
             ],
             [
              0.6666666666666666,
              "#ed7953"
             ],
             [
              0.7777777777777778,
              "#fb9f3a"
             ],
             [
              0.8888888888888888,
              "#fdca26"
             ],
             [
              1,
              "#f0f921"
             ]
            ],
            "type": "histogram2d"
           }
          ],
          "histogram2dcontour": [
           {
            "colorbar": {
             "outlinewidth": 0,
             "ticks": ""
            },
            "colorscale": [
             [
              0,
              "#0d0887"
             ],
             [
              0.1111111111111111,
              "#46039f"
             ],
             [
              0.2222222222222222,
              "#7201a8"
             ],
             [
              0.3333333333333333,
              "#9c179e"
             ],
             [
              0.4444444444444444,
              "#bd3786"
             ],
             [
              0.5555555555555556,
              "#d8576b"
             ],
             [
              0.6666666666666666,
              "#ed7953"
             ],
             [
              0.7777777777777778,
              "#fb9f3a"
             ],
             [
              0.8888888888888888,
              "#fdca26"
             ],
             [
              1,
              "#f0f921"
             ]
            ],
            "type": "histogram2dcontour"
           }
          ],
          "mesh3d": [
           {
            "colorbar": {
             "outlinewidth": 0,
             "ticks": ""
            },
            "type": "mesh3d"
           }
          ],
          "parcoords": [
           {
            "line": {
             "colorbar": {
              "outlinewidth": 0,
              "ticks": ""
             }
            },
            "type": "parcoords"
           }
          ],
          "pie": [
           {
            "automargin": true,
            "type": "pie"
           }
          ],
          "scatter": [
           {
            "marker": {
             "colorbar": {
              "outlinewidth": 0,
              "ticks": ""
             }
            },
            "type": "scatter"
           }
          ],
          "scatter3d": [
           {
            "line": {
             "colorbar": {
              "outlinewidth": 0,
              "ticks": ""
             }
            },
            "marker": {
             "colorbar": {
              "outlinewidth": 0,
              "ticks": ""
             }
            },
            "type": "scatter3d"
           }
          ],
          "scattercarpet": [
           {
            "marker": {
             "colorbar": {
              "outlinewidth": 0,
              "ticks": ""
             }
            },
            "type": "scattercarpet"
           }
          ],
          "scattergeo": [
           {
            "marker": {
             "colorbar": {
              "outlinewidth": 0,
              "ticks": ""
             }
            },
            "type": "scattergeo"
           }
          ],
          "scattergl": [
           {
            "marker": {
             "colorbar": {
              "outlinewidth": 0,
              "ticks": ""
             }
            },
            "type": "scattergl"
           }
          ],
          "scattermapbox": [
           {
            "marker": {
             "colorbar": {
              "outlinewidth": 0,
              "ticks": ""
             }
            },
            "type": "scattermapbox"
           }
          ],
          "scatterpolar": [
           {
            "marker": {
             "colorbar": {
              "outlinewidth": 0,
              "ticks": ""
             }
            },
            "type": "scatterpolar"
           }
          ],
          "scatterpolargl": [
           {
            "marker": {
             "colorbar": {
              "outlinewidth": 0,
              "ticks": ""
             }
            },
            "type": "scatterpolargl"
           }
          ],
          "scatterternary": [
           {
            "marker": {
             "colorbar": {
              "outlinewidth": 0,
              "ticks": ""
             }
            },
            "type": "scatterternary"
           }
          ],
          "surface": [
           {
            "colorbar": {
             "outlinewidth": 0,
             "ticks": ""
            },
            "colorscale": [
             [
              0,
              "#0d0887"
             ],
             [
              0.1111111111111111,
              "#46039f"
             ],
             [
              0.2222222222222222,
              "#7201a8"
             ],
             [
              0.3333333333333333,
              "#9c179e"
             ],
             [
              0.4444444444444444,
              "#bd3786"
             ],
             [
              0.5555555555555556,
              "#d8576b"
             ],
             [
              0.6666666666666666,
              "#ed7953"
             ],
             [
              0.7777777777777778,
              "#fb9f3a"
             ],
             [
              0.8888888888888888,
              "#fdca26"
             ],
             [
              1,
              "#f0f921"
             ]
            ],
            "type": "surface"
           }
          ],
          "table": [
           {
            "cells": {
             "fill": {
              "color": "#EBF0F8"
             },
             "line": {
              "color": "white"
             }
            },
            "header": {
             "fill": {
              "color": "#C8D4E3"
             },
             "line": {
              "color": "white"
             }
            },
            "type": "table"
           }
          ]
         },
         "layout": {
          "annotationdefaults": {
           "arrowcolor": "#2a3f5f",
           "arrowhead": 0,
           "arrowwidth": 1
          },
          "coloraxis": {
           "colorbar": {
            "outlinewidth": 0,
            "ticks": ""
           }
          },
          "colorscale": {
           "diverging": [
            [
             0,
             "#8e0152"
            ],
            [
             0.1,
             "#c51b7d"
            ],
            [
             0.2,
             "#de77ae"
            ],
            [
             0.3,
             "#f1b6da"
            ],
            [
             0.4,
             "#fde0ef"
            ],
            [
             0.5,
             "#f7f7f7"
            ],
            [
             0.6,
             "#e6f5d0"
            ],
            [
             0.7,
             "#b8e186"
            ],
            [
             0.8,
             "#7fbc41"
            ],
            [
             0.9,
             "#4d9221"
            ],
            [
             1,
             "#276419"
            ]
           ],
           "sequential": [
            [
             0,
             "#0d0887"
            ],
            [
             0.1111111111111111,
             "#46039f"
            ],
            [
             0.2222222222222222,
             "#7201a8"
            ],
            [
             0.3333333333333333,
             "#9c179e"
            ],
            [
             0.4444444444444444,
             "#bd3786"
            ],
            [
             0.5555555555555556,
             "#d8576b"
            ],
            [
             0.6666666666666666,
             "#ed7953"
            ],
            [
             0.7777777777777778,
             "#fb9f3a"
            ],
            [
             0.8888888888888888,
             "#fdca26"
            ],
            [
             1,
             "#f0f921"
            ]
           ],
           "sequentialminus": [
            [
             0,
             "#0d0887"
            ],
            [
             0.1111111111111111,
             "#46039f"
            ],
            [
             0.2222222222222222,
             "#7201a8"
            ],
            [
             0.3333333333333333,
             "#9c179e"
            ],
            [
             0.4444444444444444,
             "#bd3786"
            ],
            [
             0.5555555555555556,
             "#d8576b"
            ],
            [
             0.6666666666666666,
             "#ed7953"
            ],
            [
             0.7777777777777778,
             "#fb9f3a"
            ],
            [
             0.8888888888888888,
             "#fdca26"
            ],
            [
             1,
             "#f0f921"
            ]
           ]
          },
          "colorway": [
           "#636efa",
           "#EF553B",
           "#00cc96",
           "#ab63fa",
           "#FFA15A",
           "#19d3f3",
           "#FF6692",
           "#B6E880",
           "#FF97FF",
           "#FECB52"
          ],
          "font": {
           "color": "#2a3f5f"
          },
          "geo": {
           "bgcolor": "white",
           "lakecolor": "white",
           "landcolor": "#E5ECF6",
           "showlakes": true,
           "showland": true,
           "subunitcolor": "white"
          },
          "hoverlabel": {
           "align": "left"
          },
          "hovermode": "closest",
          "mapbox": {
           "style": "light"
          },
          "paper_bgcolor": "white",
          "plot_bgcolor": "#E5ECF6",
          "polar": {
           "angularaxis": {
            "gridcolor": "white",
            "linecolor": "white",
            "ticks": ""
           },
           "bgcolor": "#E5ECF6",
           "radialaxis": {
            "gridcolor": "white",
            "linecolor": "white",
            "ticks": ""
           }
          },
          "scene": {
           "xaxis": {
            "backgroundcolor": "#E5ECF6",
            "gridcolor": "white",
            "gridwidth": 2,
            "linecolor": "white",
            "showbackground": true,
            "ticks": "",
            "zerolinecolor": "white"
           },
           "yaxis": {
            "backgroundcolor": "#E5ECF6",
            "gridcolor": "white",
            "gridwidth": 2,
            "linecolor": "white",
            "showbackground": true,
            "ticks": "",
            "zerolinecolor": "white"
           },
           "zaxis": {
            "backgroundcolor": "#E5ECF6",
            "gridcolor": "white",
            "gridwidth": 2,
            "linecolor": "white",
            "showbackground": true,
            "ticks": "",
            "zerolinecolor": "white"
           }
          },
          "shapedefaults": {
           "line": {
            "color": "#2a3f5f"
           }
          },
          "ternary": {
           "aaxis": {
            "gridcolor": "white",
            "linecolor": "white",
            "ticks": ""
           },
           "baxis": {
            "gridcolor": "white",
            "linecolor": "white",
            "ticks": ""
           },
           "bgcolor": "#E5ECF6",
           "caxis": {
            "gridcolor": "white",
            "linecolor": "white",
            "ticks": ""
           }
          },
          "title": {
           "x": 0.05
          },
          "xaxis": {
           "automargin": true,
           "gridcolor": "white",
           "linecolor": "white",
           "ticks": "",
           "title": {
            "standoff": 15
           },
           "zerolinecolor": "white",
           "zerolinewidth": 2
          },
          "yaxis": {
           "automargin": true,
           "gridcolor": "white",
           "linecolor": "white",
           "ticks": "",
           "title": {
            "standoff": 15
           },
           "zerolinecolor": "white",
           "zerolinewidth": 2
          }
         }
        },
        "title": {
         "font": {
          "color": "#4D5663"
         }
        },
        "xaxis": {
         "gridcolor": "#E1E5ED",
         "showgrid": true,
         "tickfont": {
          "color": "#4D5663"
         },
         "title": {
          "font": {
           "color": "#4D5663"
          },
          "text": ""
         },
         "zerolinecolor": "#E1E5ED"
        },
        "yaxis": {
         "gridcolor": "#E1E5ED",
         "showgrid": true,
         "tickfont": {
          "color": "#4D5663"
         },
         "title": {
          "font": {
           "color": "#4D5663"
          },
          "text": ""
         },
         "zerolinecolor": "#E1E5ED"
        }
       }
      },
      "text/html": [
       "<div>\n",
       "        \n",
       "        \n",
       "            <div id=\"743e08ba-35ee-422f-abf5-658be009c1cd\" class=\"plotly-graph-div\" style=\"height:525px; width:100%;\"></div>\n",
       "            <script type=\"text/javascript\">\n",
       "                require([\"plotly\"], function(Plotly) {\n",
       "                    window.PLOTLYENV=window.PLOTLYENV || {};\n",
       "                    window.PLOTLYENV.BASE_URL='https://plot.ly';\n",
       "                    \n",
       "                if (document.getElementById(\"743e08ba-35ee-422f-abf5-658be009c1cd\")) {\n",
       "                    Plotly.newPlot(\n",
       "                        '743e08ba-35ee-422f-abf5-658be009c1cd',\n",
       "                        [{\"marker\": {\"color\": \"rgba(255, 153, 51, 0.6)\", \"line\": {\"color\": \"rgba(255, 153, 51, 1.0)\", \"width\": 1}}, \"name\": \"Values\", \"orientation\": \"v\", \"text\": \"\", \"type\": \"bar\", \"x\": [\"A\", \"B\", \"C\"], \"y\": [32, 43, 50]}],\n",
       "                        {\"legend\": {\"bgcolor\": \"#F5F6F9\", \"font\": {\"color\": \"#4D5663\"}}, \"paper_bgcolor\": \"#F5F6F9\", \"plot_bgcolor\": \"#F5F6F9\", \"template\": {\"data\": {\"bar\": [{\"error_x\": {\"color\": \"#2a3f5f\"}, \"error_y\": {\"color\": \"#2a3f5f\"}, \"marker\": {\"line\": {\"color\": \"#E5ECF6\", \"width\": 0.5}}, \"type\": \"bar\"}], \"barpolar\": [{\"marker\": {\"line\": {\"color\": \"#E5ECF6\", \"width\": 0.5}}, \"type\": \"barpolar\"}], \"carpet\": [{\"aaxis\": {\"endlinecolor\": \"#2a3f5f\", \"gridcolor\": \"white\", \"linecolor\": \"white\", \"minorgridcolor\": \"white\", \"startlinecolor\": \"#2a3f5f\"}, \"baxis\": {\"endlinecolor\": \"#2a3f5f\", \"gridcolor\": \"white\", \"linecolor\": \"white\", \"minorgridcolor\": \"white\", \"startlinecolor\": \"#2a3f5f\"}, \"type\": \"carpet\"}], \"choropleth\": [{\"colorbar\": {\"outlinewidth\": 0, \"ticks\": \"\"}, \"type\": \"choropleth\"}], \"contour\": [{\"colorbar\": {\"outlinewidth\": 0, \"ticks\": \"\"}, \"colorscale\": [[0.0, \"#0d0887\"], [0.1111111111111111, \"#46039f\"], [0.2222222222222222, \"#7201a8\"], [0.3333333333333333, \"#9c179e\"], [0.4444444444444444, \"#bd3786\"], [0.5555555555555556, \"#d8576b\"], [0.6666666666666666, \"#ed7953\"], [0.7777777777777778, \"#fb9f3a\"], [0.8888888888888888, \"#fdca26\"], [1.0, \"#f0f921\"]], \"type\": \"contour\"}], \"contourcarpet\": [{\"colorbar\": {\"outlinewidth\": 0, \"ticks\": \"\"}, \"type\": \"contourcarpet\"}], \"heatmap\": [{\"colorbar\": {\"outlinewidth\": 0, \"ticks\": \"\"}, \"colorscale\": [[0.0, \"#0d0887\"], [0.1111111111111111, \"#46039f\"], [0.2222222222222222, \"#7201a8\"], [0.3333333333333333, \"#9c179e\"], [0.4444444444444444, \"#bd3786\"], [0.5555555555555556, \"#d8576b\"], [0.6666666666666666, \"#ed7953\"], [0.7777777777777778, \"#fb9f3a\"], [0.8888888888888888, \"#fdca26\"], [1.0, \"#f0f921\"]], \"type\": \"heatmap\"}], \"heatmapgl\": [{\"colorbar\": {\"outlinewidth\": 0, \"ticks\": \"\"}, \"colorscale\": [[0.0, \"#0d0887\"], [0.1111111111111111, \"#46039f\"], [0.2222222222222222, \"#7201a8\"], [0.3333333333333333, \"#9c179e\"], [0.4444444444444444, \"#bd3786\"], [0.5555555555555556, \"#d8576b\"], [0.6666666666666666, \"#ed7953\"], [0.7777777777777778, \"#fb9f3a\"], [0.8888888888888888, \"#fdca26\"], [1.0, \"#f0f921\"]], \"type\": \"heatmapgl\"}], \"histogram\": [{\"marker\": {\"colorbar\": {\"outlinewidth\": 0, \"ticks\": \"\"}}, \"type\": \"histogram\"}], \"histogram2d\": [{\"colorbar\": {\"outlinewidth\": 0, \"ticks\": \"\"}, \"colorscale\": [[0.0, \"#0d0887\"], [0.1111111111111111, \"#46039f\"], [0.2222222222222222, \"#7201a8\"], [0.3333333333333333, \"#9c179e\"], [0.4444444444444444, \"#bd3786\"], [0.5555555555555556, \"#d8576b\"], [0.6666666666666666, \"#ed7953\"], [0.7777777777777778, \"#fb9f3a\"], [0.8888888888888888, \"#fdca26\"], [1.0, \"#f0f921\"]], \"type\": \"histogram2d\"}], \"histogram2dcontour\": [{\"colorbar\": {\"outlinewidth\": 0, \"ticks\": \"\"}, \"colorscale\": [[0.0, \"#0d0887\"], [0.1111111111111111, \"#46039f\"], [0.2222222222222222, \"#7201a8\"], [0.3333333333333333, \"#9c179e\"], [0.4444444444444444, \"#bd3786\"], [0.5555555555555556, \"#d8576b\"], [0.6666666666666666, \"#ed7953\"], [0.7777777777777778, \"#fb9f3a\"], [0.8888888888888888, \"#fdca26\"], [1.0, \"#f0f921\"]], \"type\": \"histogram2dcontour\"}], \"mesh3d\": [{\"colorbar\": {\"outlinewidth\": 0, \"ticks\": \"\"}, \"type\": \"mesh3d\"}], \"parcoords\": [{\"line\": {\"colorbar\": {\"outlinewidth\": 0, \"ticks\": \"\"}}, \"type\": \"parcoords\"}], \"pie\": [{\"automargin\": true, \"type\": \"pie\"}], \"scatter\": [{\"marker\": {\"colorbar\": {\"outlinewidth\": 0, \"ticks\": \"\"}}, \"type\": \"scatter\"}], \"scatter3d\": [{\"line\": {\"colorbar\": {\"outlinewidth\": 0, \"ticks\": \"\"}}, \"marker\": {\"colorbar\": {\"outlinewidth\": 0, \"ticks\": \"\"}}, \"type\": \"scatter3d\"}], \"scattercarpet\": [{\"marker\": {\"colorbar\": {\"outlinewidth\": 0, \"ticks\": \"\"}}, \"type\": \"scattercarpet\"}], \"scattergeo\": [{\"marker\": {\"colorbar\": {\"outlinewidth\": 0, \"ticks\": \"\"}}, \"type\": \"scattergeo\"}], \"scattergl\": [{\"marker\": {\"colorbar\": {\"outlinewidth\": 0, \"ticks\": \"\"}}, \"type\": \"scattergl\"}], \"scattermapbox\": [{\"marker\": {\"colorbar\": {\"outlinewidth\": 0, \"ticks\": \"\"}}, \"type\": \"scattermapbox\"}], \"scatterpolar\": [{\"marker\": {\"colorbar\": {\"outlinewidth\": 0, \"ticks\": \"\"}}, \"type\": \"scatterpolar\"}], \"scatterpolargl\": [{\"marker\": {\"colorbar\": {\"outlinewidth\": 0, \"ticks\": \"\"}}, \"type\": \"scatterpolargl\"}], \"scatterternary\": [{\"marker\": {\"colorbar\": {\"outlinewidth\": 0, \"ticks\": \"\"}}, \"type\": \"scatterternary\"}], \"surface\": [{\"colorbar\": {\"outlinewidth\": 0, \"ticks\": \"\"}, \"colorscale\": [[0.0, \"#0d0887\"], [0.1111111111111111, \"#46039f\"], [0.2222222222222222, \"#7201a8\"], [0.3333333333333333, \"#9c179e\"], [0.4444444444444444, \"#bd3786\"], [0.5555555555555556, \"#d8576b\"], [0.6666666666666666, \"#ed7953\"], [0.7777777777777778, \"#fb9f3a\"], [0.8888888888888888, \"#fdca26\"], [1.0, \"#f0f921\"]], \"type\": \"surface\"}], \"table\": [{\"cells\": {\"fill\": {\"color\": \"#EBF0F8\"}, \"line\": {\"color\": \"white\"}}, \"header\": {\"fill\": {\"color\": \"#C8D4E3\"}, \"line\": {\"color\": \"white\"}}, \"type\": \"table\"}]}, \"layout\": {\"annotationdefaults\": {\"arrowcolor\": \"#2a3f5f\", \"arrowhead\": 0, \"arrowwidth\": 1}, \"coloraxis\": {\"colorbar\": {\"outlinewidth\": 0, \"ticks\": \"\"}}, \"colorscale\": {\"diverging\": [[0, \"#8e0152\"], [0.1, \"#c51b7d\"], [0.2, \"#de77ae\"], [0.3, \"#f1b6da\"], [0.4, \"#fde0ef\"], [0.5, \"#f7f7f7\"], [0.6, \"#e6f5d0\"], [0.7, \"#b8e186\"], [0.8, \"#7fbc41\"], [0.9, \"#4d9221\"], [1, \"#276419\"]], \"sequential\": [[0.0, \"#0d0887\"], [0.1111111111111111, \"#46039f\"], [0.2222222222222222, \"#7201a8\"], [0.3333333333333333, \"#9c179e\"], [0.4444444444444444, \"#bd3786\"], [0.5555555555555556, \"#d8576b\"], [0.6666666666666666, \"#ed7953\"], [0.7777777777777778, \"#fb9f3a\"], [0.8888888888888888, \"#fdca26\"], [1.0, \"#f0f921\"]], \"sequentialminus\": [[0.0, \"#0d0887\"], [0.1111111111111111, \"#46039f\"], [0.2222222222222222, \"#7201a8\"], [0.3333333333333333, \"#9c179e\"], [0.4444444444444444, \"#bd3786\"], [0.5555555555555556, \"#d8576b\"], [0.6666666666666666, \"#ed7953\"], [0.7777777777777778, \"#fb9f3a\"], [0.8888888888888888, \"#fdca26\"], [1.0, \"#f0f921\"]]}, \"colorway\": [\"#636efa\", \"#EF553B\", \"#00cc96\", \"#ab63fa\", \"#FFA15A\", \"#19d3f3\", \"#FF6692\", \"#B6E880\", \"#FF97FF\", \"#FECB52\"], \"font\": {\"color\": \"#2a3f5f\"}, \"geo\": {\"bgcolor\": \"white\", \"lakecolor\": \"white\", \"landcolor\": \"#E5ECF6\", \"showlakes\": true, \"showland\": true, \"subunitcolor\": \"white\"}, \"hoverlabel\": {\"align\": \"left\"}, \"hovermode\": \"closest\", \"mapbox\": {\"style\": \"light\"}, \"paper_bgcolor\": \"white\", \"plot_bgcolor\": \"#E5ECF6\", \"polar\": {\"angularaxis\": {\"gridcolor\": \"white\", \"linecolor\": \"white\", \"ticks\": \"\"}, \"bgcolor\": \"#E5ECF6\", \"radialaxis\": {\"gridcolor\": \"white\", \"linecolor\": \"white\", \"ticks\": \"\"}}, \"scene\": {\"xaxis\": {\"backgroundcolor\": \"#E5ECF6\", \"gridcolor\": \"white\", \"gridwidth\": 2, \"linecolor\": \"white\", \"showbackground\": true, \"ticks\": \"\", \"zerolinecolor\": \"white\"}, \"yaxis\": {\"backgroundcolor\": \"#E5ECF6\", \"gridcolor\": \"white\", \"gridwidth\": 2, \"linecolor\": \"white\", \"showbackground\": true, \"ticks\": \"\", \"zerolinecolor\": \"white\"}, \"zaxis\": {\"backgroundcolor\": \"#E5ECF6\", \"gridcolor\": \"white\", \"gridwidth\": 2, \"linecolor\": \"white\", \"showbackground\": true, \"ticks\": \"\", \"zerolinecolor\": \"white\"}}, \"shapedefaults\": {\"line\": {\"color\": \"#2a3f5f\"}}, \"ternary\": {\"aaxis\": {\"gridcolor\": \"white\", \"linecolor\": \"white\", \"ticks\": \"\"}, \"baxis\": {\"gridcolor\": \"white\", \"linecolor\": \"white\", \"ticks\": \"\"}, \"bgcolor\": \"#E5ECF6\", \"caxis\": {\"gridcolor\": \"white\", \"linecolor\": \"white\", \"ticks\": \"\"}}, \"title\": {\"x\": 0.05}, \"xaxis\": {\"automargin\": true, \"gridcolor\": \"white\", \"linecolor\": \"white\", \"ticks\": \"\", \"title\": {\"standoff\": 15}, \"zerolinecolor\": \"white\", \"zerolinewidth\": 2}, \"yaxis\": {\"automargin\": true, \"gridcolor\": \"white\", \"linecolor\": \"white\", \"ticks\": \"\", \"title\": {\"standoff\": 15}, \"zerolinecolor\": \"white\", \"zerolinewidth\": 2}}}, \"title\": {\"font\": {\"color\": \"#4D5663\"}}, \"xaxis\": {\"gridcolor\": \"#E1E5ED\", \"showgrid\": true, \"tickfont\": {\"color\": \"#4D5663\"}, \"title\": {\"font\": {\"color\": \"#4D5663\"}, \"text\": \"\"}, \"zerolinecolor\": \"#E1E5ED\"}, \"yaxis\": {\"gridcolor\": \"#E1E5ED\", \"showgrid\": true, \"tickfont\": {\"color\": \"#4D5663\"}, \"title\": {\"font\": {\"color\": \"#4D5663\"}, \"text\": \"\"}, \"zerolinecolor\": \"#E1E5ED\"}},\n",
       "                        {\"showLink\": true, \"linkText\": \"Export to plot.ly\", \"plotlyServerURL\": \"https://plot.ly\", \"responsive\": true}\n",
       "                    ).then(function(){\n",
       "                            \n",
       "var gd = document.getElementById('743e08ba-35ee-422f-abf5-658be009c1cd');\n",
       "var x = new MutationObserver(function (mutations, observer) {{\n",
       "        var display = window.getComputedStyle(gd).display;\n",
       "        if (!display || display === 'none') {{\n",
       "            console.log([gd, 'removed!']);\n",
       "            Plotly.purge(gd);\n",
       "            observer.disconnect();\n",
       "        }}\n",
       "}});\n",
       "\n",
       "// Listen for the removal of the full notebook cells\n",
       "var notebookContainer = gd.closest('#notebook-container');\n",
       "if (notebookContainer) {{\n",
       "    x.observe(notebookContainer, {childList: true});\n",
       "}}\n",
       "\n",
       "// Listen for the clearing of the current output cell\n",
       "var outputEl = gd.closest('.output');\n",
       "if (outputEl) {{\n",
       "    x.observe(outputEl, {childList: true});\n",
       "}}\n",
       "\n",
       "                        })\n",
       "                };\n",
       "                });\n",
       "            </script>\n",
       "        </div>"
      ]
     },
     "metadata": {},
     "output_type": "display_data"
    }
   ],
   "source": [
    "df2 .iplot(kind = 'bar', x = 'Category', y = 'Values')"
   ]
  },
  {
   "cell_type": "code",
   "execution_count": 41,
   "metadata": {},
   "outputs": [
    {
     "data": {
      "application/vnd.plotly.v1+json": {
       "config": {
        "linkText": "Export to plot.ly",
        "plotlyServerURL": "https://plot.ly",
        "showLink": true
       },
       "data": [
        {
         "boxpoints": false,
         "line": {
          "width": 1.3
         },
         "marker": {
          "color": "rgba(255, 153, 51, 1.0)"
         },
         "name": "A",
         "orientation": "v",
         "type": "box",
         "y": [
          -0.14022739364165643,
          -0.06215427637826168,
          1.3604993525322426,
          -0.31499023670117493,
          1.0029694989154603,
          0.970785908978943,
          -1.9952834025092647,
          1.0039135826827332,
          -0.9158744798111359,
          -1.5467467590902721,
          0.37209295460286496,
          -0.11707489023640913,
          0.3729934586411193,
          -0.09155881745717738,
          -0.03683336514171592,
          -0.41858716289621883,
          1.2727487669685111,
          0.7032449700650091,
          -0.3738248467613199,
          1.5095426393794726,
          -0.18607365814905844,
          0.4183288835354543,
          0.19887318935897869,
          -0.8883000951919754,
          -0.5092841539648556,
          -0.6087002578641567,
          -0.9661264541068408,
          -1.915268445309993,
          0.6093753654788755,
          1.580437092556138,
          1.2038017025994858,
          -0.9256468334675966,
          1.4351143773603932,
          1.1091342369517356,
          -0.018304712037069137,
          -2.2313836406164778,
          0.7070440778124587,
          -0.5307156073349464,
          2.296219589090963,
          2.387706409516227,
          0.6271835271545523,
          -1.2173587220621744,
          0.42570764846744746,
          -1.865485577029963,
          0.09358857883241165,
          0.21890364457894615,
          -0.8132962135397189,
          0.8909606370067288,
          -1.3191599374713485,
          -0.266719405828341,
          1.1247976919873686,
          0.48999024384756007,
          0.5807255032073525,
          -0.6562912505872847,
          -0.6742217180417197,
          2.214992557360574,
          -0.9679289742345283,
          0.43124375434740847,
          1.2054308100887878,
          -0.0920927130932392,
          0.9421320700961858,
          0.11984996143687157,
          -0.15429180556311048,
          0.2918631513091189,
          -1.8717576688946829,
          -0.8679678182080496,
          -0.020103099947394832,
          -0.042027336524633696,
          1.239199523092614,
          0.31174508367849085,
          0.9361084479519998,
          -0.18618102912744675,
          0.5826791217951177,
          0.43352959070524805,
          0.05304296463400472,
          -0.5926127266145984,
          -2.714955903645562,
          -0.7302768692480879,
          0.5416647778556658,
          1.066691518602927,
          -0.20464590566938895,
          1.667570632967258,
          -1.2848121388168667,
          -1.2693020887010722,
          1.1961530520102446,
          -2.303978558507296,
          -0.34484568309621116,
          0.33316727300389903,
          -1.5277704570453603,
          -0.2677533280031435,
          -1.1069183000442135,
          -0.69696863763343,
          0.4220514472520369,
          -0.7119580435533539,
          -0.4861965889709872,
          -1.0514199478282396,
          -1.2973863778725738,
          -1.852599660498362,
          0.2669849512911801,
          0.6934313898697425
         ]
        },
        {
         "boxpoints": false,
         "line": {
          "width": 1.3
         },
         "marker": {
          "color": "rgba(55, 128, 191, 1.0)"
         },
         "name": "B",
         "orientation": "v",
         "type": "box",
         "y": [
          -0.49138081110649495,
          0.20096821703152126,
          -0.5118376940715328,
          -0.294754672042674,
          0.7912868491160063,
          0.6016396273238315,
          -1.8517024871032415,
          -0.8357324338017871,
          0.5567672502176182,
          0.34248645594707156,
          1.1284364585110525,
          -0.9475016318413956,
          0.6052496337791674,
          -0.14129046372803092,
          0.23878933595490678,
          -1.3302105428345574,
          0.7065868414255477,
          0.8596504098464547,
          -1.0289972766977775,
          0.38416590094808395,
          -0.6805516583040593,
          0.25047413304492844,
          -1.0934455244419623,
          0.21783950085433063,
          -1.6465140549141115,
          1.773635885242201,
          -0.15523341084556538,
          2.676693565466258,
          -0.5545091562056877,
          -1.1680827062075498,
          0.4012562551292746,
          1.5825339892798398,
          -0.5398529138511904,
          1.0645026613523625,
          -1.4028466624172862,
          -0.8110265275168601,
          0.017905104851356973,
          -0.5880126717343193,
          -1.9196292048084675,
          -0.5770587119572501,
          -0.3709996873352136,
          0.6380882254802426,
          -2.048108646820459,
          -0.6244061305032667,
          0.1979958562682151,
          1.235861000391054,
          -0.056613145024522714,
          1.4231514175036732,
          -0.12371210746402267,
          2.0043855782244577,
          0.24377248592591028,
          -0.9191773044109226,
          1.260013880741051,
          0.25973909324840844,
          0.7809547129755966,
          -1.1393604843367602,
          0.5155300758995982,
          -0.08659470454921091,
          0.7450800307774069,
          0.8763936308013027,
          0.6536472576730905,
          -0.5269623477618497,
          -0.3983721526933854,
          0.2628759268519323,
          -0.05138886524695858,
          1.999743718409326,
          0.08002061538393514,
          1.8932986126680995,
          -0.4392068648508249,
          1.8041669201375656,
          0.5014501185022648,
          0.6418703110176629,
          0.916215226940129,
          0.09519773076228714,
          0.2024566893905404,
          -1.126067618256918,
          -1.043129801809276,
          1.4232891346410141,
          0.45471152794813313,
          -0.3789454598854821,
          1.113225442536063,
          0.9673482795705286,
          -2.1035698135731296,
          0.5732793851398493,
          0.008794944506913387,
          -1.11121827900885,
          -1.242414784044673,
          0.23578253336456306,
          1.5892034787841012,
          -0.2997132280280576,
          -0.38497283723599923,
          0.7293960491010912,
          0.09212027910610585,
          0.1752052422872672,
          0.5906643403648387,
          -0.7612504986085381,
          1.2337359981255012,
          -0.5972867609627632,
          0.9206519061066598,
          -1.5461656964766408
         ]
        },
        {
         "boxpoints": false,
         "line": {
          "width": 1.3
         },
         "marker": {
          "color": "rgba(50, 171, 96, 1.0)"
         },
         "name": "C",
         "orientation": "v",
         "type": "box",
         "y": [
          0.8322983650067056,
          2.9487944257739023,
          -0.9327203264414998,
          2.7933536990347863,
          0.8542454719675332,
          0.31809576337229933,
          -0.6715186412029381,
          0.15938393556550307,
          -1.7425405225991573,
          1.4863178222912832,
          -1.872915682609848,
          -0.5960420579789987,
          -2.203298476933827,
          -0.2329350022052127,
          0.7796450318301332,
          1.052891983781643,
          -0.1409371827770851,
          0.6474336473085542,
          -1.505571111529484,
          0.7062178145702688,
          -1.964670446835789,
          -0.4981514131178999,
          1.5181771987126984,
          -1.536175060551129,
          -0.38959992623384093,
          -0.3022172312940435,
          -0.25772880922383,
          -0.39695053175002115,
          -0.3095852443436779,
          -0.11194083861580877,
          0.7601753859738068,
          -0.530247095041203,
          0.20861687899845097,
          0.7674050485892783,
          0.4452817555900837,
          0.0767095841096248,
          -2.2259461140532677,
          -1.2116302710576747,
          -1.32822562098306,
          -0.5222062624020434,
          0.7911058892910624,
          0.4677239636003078,
          0.30047245775079023,
          0.3655170020081269,
          0.20289276559461722,
          0.4153352653664582,
          -0.052447423831299834,
          0.11944076654957166,
          0.8015700610030586,
          0.2918230148556353,
          1.4531188182365395,
          0.24933808921225617,
          0.3785975989601048,
          0.226260847886642,
          -0.41584412274397065,
          0.4454689629799662,
          -1.0586950119045058,
          -0.14716718680168142,
          0.8857301418421732,
          1.384794926717062,
          -0.4903542543080155,
          -0.2473618499212272,
          -0.7009630708566316,
          0.5156263381961245,
          -1.1291255812234384,
          -0.829298694609309,
          1.3248499130433977,
          0.08442761312503773,
          1.0275396393621423,
          -0.3766191390707656,
          -1.731605498902651,
          -0.8783732284756439,
          -0.4096881845872658,
          -0.9214946500952481,
          0.5544203859970838,
          0.055184168100756534,
          1.5837192344598334,
          1.7266557126922775,
          0.8683138050421154,
          -1.0555846243018687,
          -2.184309585184786,
          -0.3803520581700609,
          0.4206995113741631,
          0.085060901439029,
          1.15516801238735,
          1.256396811071076,
          0.6613073885245957,
          0.4055860332919486,
          0.7494503435914309,
          -0.3553773638208235,
          0.22709931025133642,
          -1.8067918820329791,
          -1.3655651555395014,
          -0.7013106904763116,
          -0.9608101653884948,
          -0.3913486413753859,
          -1.0725993756038412,
          1.8512012914505818,
          0.7088848612689266,
          -0.14842242801709593
         ]
        },
        {
         "boxpoints": false,
         "line": {
          "width": 1.3
         },
         "marker": {
          "color": "rgba(128, 0, 128, 1.0)"
         },
         "name": "D",
         "orientation": "v",
         "type": "box",
         "y": [
          0.14980519387875132,
          -1.4198798107052975,
          -0.7327077885129524,
          -0.6085377074797261,
          0.32603603643856804,
          0.05800489349336685,
          -0.7663414536041493,
          -0.4980972756109609,
          1.6291425865446543,
          0.4637796522855408,
          0.041789905018740685,
          0.3775787012811703,
          -1.5982595699465927,
          1.319815229205623,
          -0.7973020773164097,
          0.016588448398173073,
          0.7687636179232215,
          0.946061861862273,
          0.5630595028889144,
          -1.732414528269466,
          0.2202207093991576,
          -0.18890053343860205,
          -1.4304638653323456,
          -1.4128856795325917,
          0.06393104024926448,
          0.14144503101449765,
          0.4802131029118245,
          1.009367633119822,
          -0.5821688413981985,
          0.43607399705809297,
          -1.107229741845423,
          -0.1763841373336813,
          0.977963986531852,
          -1.6522872849716423,
          -0.5793361170634413,
          0.5558489986821461,
          1.065170588802731,
          1.3299176946618927,
          0.15570712345963303,
          -0.37284916437786214,
          0.8574099168049211,
          1.3580023577303706,
          -1.227710763935321,
          -1.581773724016081,
          -0.9583483914893025,
          0.5220724489139206,
          -0.9447623535968571,
          2.326472964841943,
          -1.0285467364486465,
          -0.9518028155898937,
          1.8256635162843007,
          -0.7447939489245792,
          -0.35542822662993445,
          2.0226683813177546,
          0.30189223247555663,
          -0.06399955557885503,
          -1.556050477309016,
          -1.6343501528936466,
          -0.41084832490311385,
          -0.16266217074037218,
          0.2914615780978868,
          -0.424044469491487,
          1.1063947607956812,
          -1.3891732650666997,
          -0.2954048676433976,
          1.1092818568490956,
          -0.19599030027340839,
          0.5291884870361916,
          0.36172739040270746,
          -0.560905791229739,
          -0.33918392310298456,
          0.5910664413066594,
          -1.0603114537944383,
          -0.16533511057927797,
          1.2364316740221963,
          0.1454372667550455,
          -1.4880456437309315,
          -0.0934156145073493,
          0.940054247885066,
          0.4769872896615898,
          2.142452777427751,
          -1.620668974236862,
          -0.019343804836262146,
          0.5090676133052232,
          -1.9161718154222847,
          0.3853671714937817,
          0.994868242832238,
          1.0964425597617593,
          1.467335409627744,
          0.7646621744062372,
          -1.7816290892180877,
          0.0907817268338275,
          -0.20687425439460655,
          -0.980047818319929,
          -0.07394196352769604,
          0.5749412114732553,
          -0.19751122740326005,
          1.2592560828216992,
          -0.094315966458522,
          1.016397700020748
         ]
        }
       ],
       "layout": {
        "legend": {
         "bgcolor": "#F5F6F9",
         "font": {
          "color": "#4D5663"
         }
        },
        "paper_bgcolor": "#F5F6F9",
        "plot_bgcolor": "#F5F6F9",
        "template": {
         "data": {
          "bar": [
           {
            "error_x": {
             "color": "#2a3f5f"
            },
            "error_y": {
             "color": "#2a3f5f"
            },
            "marker": {
             "line": {
              "color": "#E5ECF6",
              "width": 0.5
             }
            },
            "type": "bar"
           }
          ],
          "barpolar": [
           {
            "marker": {
             "line": {
              "color": "#E5ECF6",
              "width": 0.5
             }
            },
            "type": "barpolar"
           }
          ],
          "carpet": [
           {
            "aaxis": {
             "endlinecolor": "#2a3f5f",
             "gridcolor": "white",
             "linecolor": "white",
             "minorgridcolor": "white",
             "startlinecolor": "#2a3f5f"
            },
            "baxis": {
             "endlinecolor": "#2a3f5f",
             "gridcolor": "white",
             "linecolor": "white",
             "minorgridcolor": "white",
             "startlinecolor": "#2a3f5f"
            },
            "type": "carpet"
           }
          ],
          "choropleth": [
           {
            "colorbar": {
             "outlinewidth": 0,
             "ticks": ""
            },
            "type": "choropleth"
           }
          ],
          "contour": [
           {
            "colorbar": {
             "outlinewidth": 0,
             "ticks": ""
            },
            "colorscale": [
             [
              0,
              "#0d0887"
             ],
             [
              0.1111111111111111,
              "#46039f"
             ],
             [
              0.2222222222222222,
              "#7201a8"
             ],
             [
              0.3333333333333333,
              "#9c179e"
             ],
             [
              0.4444444444444444,
              "#bd3786"
             ],
             [
              0.5555555555555556,
              "#d8576b"
             ],
             [
              0.6666666666666666,
              "#ed7953"
             ],
             [
              0.7777777777777778,
              "#fb9f3a"
             ],
             [
              0.8888888888888888,
              "#fdca26"
             ],
             [
              1,
              "#f0f921"
             ]
            ],
            "type": "contour"
           }
          ],
          "contourcarpet": [
           {
            "colorbar": {
             "outlinewidth": 0,
             "ticks": ""
            },
            "type": "contourcarpet"
           }
          ],
          "heatmap": [
           {
            "colorbar": {
             "outlinewidth": 0,
             "ticks": ""
            },
            "colorscale": [
             [
              0,
              "#0d0887"
             ],
             [
              0.1111111111111111,
              "#46039f"
             ],
             [
              0.2222222222222222,
              "#7201a8"
             ],
             [
              0.3333333333333333,
              "#9c179e"
             ],
             [
              0.4444444444444444,
              "#bd3786"
             ],
             [
              0.5555555555555556,
              "#d8576b"
             ],
             [
              0.6666666666666666,
              "#ed7953"
             ],
             [
              0.7777777777777778,
              "#fb9f3a"
             ],
             [
              0.8888888888888888,
              "#fdca26"
             ],
             [
              1,
              "#f0f921"
             ]
            ],
            "type": "heatmap"
           }
          ],
          "heatmapgl": [
           {
            "colorbar": {
             "outlinewidth": 0,
             "ticks": ""
            },
            "colorscale": [
             [
              0,
              "#0d0887"
             ],
             [
              0.1111111111111111,
              "#46039f"
             ],
             [
              0.2222222222222222,
              "#7201a8"
             ],
             [
              0.3333333333333333,
              "#9c179e"
             ],
             [
              0.4444444444444444,
              "#bd3786"
             ],
             [
              0.5555555555555556,
              "#d8576b"
             ],
             [
              0.6666666666666666,
              "#ed7953"
             ],
             [
              0.7777777777777778,
              "#fb9f3a"
             ],
             [
              0.8888888888888888,
              "#fdca26"
             ],
             [
              1,
              "#f0f921"
             ]
            ],
            "type": "heatmapgl"
           }
          ],
          "histogram": [
           {
            "marker": {
             "colorbar": {
              "outlinewidth": 0,
              "ticks": ""
             }
            },
            "type": "histogram"
           }
          ],
          "histogram2d": [
           {
            "colorbar": {
             "outlinewidth": 0,
             "ticks": ""
            },
            "colorscale": [
             [
              0,
              "#0d0887"
             ],
             [
              0.1111111111111111,
              "#46039f"
             ],
             [
              0.2222222222222222,
              "#7201a8"
             ],
             [
              0.3333333333333333,
              "#9c179e"
             ],
             [
              0.4444444444444444,
              "#bd3786"
             ],
             [
              0.5555555555555556,
              "#d8576b"
             ],
             [
              0.6666666666666666,
              "#ed7953"
             ],
             [
              0.7777777777777778,
              "#fb9f3a"
             ],
             [
              0.8888888888888888,
              "#fdca26"
             ],
             [
              1,
              "#f0f921"
             ]
            ],
            "type": "histogram2d"
           }
          ],
          "histogram2dcontour": [
           {
            "colorbar": {
             "outlinewidth": 0,
             "ticks": ""
            },
            "colorscale": [
             [
              0,
              "#0d0887"
             ],
             [
              0.1111111111111111,
              "#46039f"
             ],
             [
              0.2222222222222222,
              "#7201a8"
             ],
             [
              0.3333333333333333,
              "#9c179e"
             ],
             [
              0.4444444444444444,
              "#bd3786"
             ],
             [
              0.5555555555555556,
              "#d8576b"
             ],
             [
              0.6666666666666666,
              "#ed7953"
             ],
             [
              0.7777777777777778,
              "#fb9f3a"
             ],
             [
              0.8888888888888888,
              "#fdca26"
             ],
             [
              1,
              "#f0f921"
             ]
            ],
            "type": "histogram2dcontour"
           }
          ],
          "mesh3d": [
           {
            "colorbar": {
             "outlinewidth": 0,
             "ticks": ""
            },
            "type": "mesh3d"
           }
          ],
          "parcoords": [
           {
            "line": {
             "colorbar": {
              "outlinewidth": 0,
              "ticks": ""
             }
            },
            "type": "parcoords"
           }
          ],
          "pie": [
           {
            "automargin": true,
            "type": "pie"
           }
          ],
          "scatter": [
           {
            "marker": {
             "colorbar": {
              "outlinewidth": 0,
              "ticks": ""
             }
            },
            "type": "scatter"
           }
          ],
          "scatter3d": [
           {
            "line": {
             "colorbar": {
              "outlinewidth": 0,
              "ticks": ""
             }
            },
            "marker": {
             "colorbar": {
              "outlinewidth": 0,
              "ticks": ""
             }
            },
            "type": "scatter3d"
           }
          ],
          "scattercarpet": [
           {
            "marker": {
             "colorbar": {
              "outlinewidth": 0,
              "ticks": ""
             }
            },
            "type": "scattercarpet"
           }
          ],
          "scattergeo": [
           {
            "marker": {
             "colorbar": {
              "outlinewidth": 0,
              "ticks": ""
             }
            },
            "type": "scattergeo"
           }
          ],
          "scattergl": [
           {
            "marker": {
             "colorbar": {
              "outlinewidth": 0,
              "ticks": ""
             }
            },
            "type": "scattergl"
           }
          ],
          "scattermapbox": [
           {
            "marker": {
             "colorbar": {
              "outlinewidth": 0,
              "ticks": ""
             }
            },
            "type": "scattermapbox"
           }
          ],
          "scatterpolar": [
           {
            "marker": {
             "colorbar": {
              "outlinewidth": 0,
              "ticks": ""
             }
            },
            "type": "scatterpolar"
           }
          ],
          "scatterpolargl": [
           {
            "marker": {
             "colorbar": {
              "outlinewidth": 0,
              "ticks": ""
             }
            },
            "type": "scatterpolargl"
           }
          ],
          "scatterternary": [
           {
            "marker": {
             "colorbar": {
              "outlinewidth": 0,
              "ticks": ""
             }
            },
            "type": "scatterternary"
           }
          ],
          "surface": [
           {
            "colorbar": {
             "outlinewidth": 0,
             "ticks": ""
            },
            "colorscale": [
             [
              0,
              "#0d0887"
             ],
             [
              0.1111111111111111,
              "#46039f"
             ],
             [
              0.2222222222222222,
              "#7201a8"
             ],
             [
              0.3333333333333333,
              "#9c179e"
             ],
             [
              0.4444444444444444,
              "#bd3786"
             ],
             [
              0.5555555555555556,
              "#d8576b"
             ],
             [
              0.6666666666666666,
              "#ed7953"
             ],
             [
              0.7777777777777778,
              "#fb9f3a"
             ],
             [
              0.8888888888888888,
              "#fdca26"
             ],
             [
              1,
              "#f0f921"
             ]
            ],
            "type": "surface"
           }
          ],
          "table": [
           {
            "cells": {
             "fill": {
              "color": "#EBF0F8"
             },
             "line": {
              "color": "white"
             }
            },
            "header": {
             "fill": {
              "color": "#C8D4E3"
             },
             "line": {
              "color": "white"
             }
            },
            "type": "table"
           }
          ]
         },
         "layout": {
          "annotationdefaults": {
           "arrowcolor": "#2a3f5f",
           "arrowhead": 0,
           "arrowwidth": 1
          },
          "coloraxis": {
           "colorbar": {
            "outlinewidth": 0,
            "ticks": ""
           }
          },
          "colorscale": {
           "diverging": [
            [
             0,
             "#8e0152"
            ],
            [
             0.1,
             "#c51b7d"
            ],
            [
             0.2,
             "#de77ae"
            ],
            [
             0.3,
             "#f1b6da"
            ],
            [
             0.4,
             "#fde0ef"
            ],
            [
             0.5,
             "#f7f7f7"
            ],
            [
             0.6,
             "#e6f5d0"
            ],
            [
             0.7,
             "#b8e186"
            ],
            [
             0.8,
             "#7fbc41"
            ],
            [
             0.9,
             "#4d9221"
            ],
            [
             1,
             "#276419"
            ]
           ],
           "sequential": [
            [
             0,
             "#0d0887"
            ],
            [
             0.1111111111111111,
             "#46039f"
            ],
            [
             0.2222222222222222,
             "#7201a8"
            ],
            [
             0.3333333333333333,
             "#9c179e"
            ],
            [
             0.4444444444444444,
             "#bd3786"
            ],
            [
             0.5555555555555556,
             "#d8576b"
            ],
            [
             0.6666666666666666,
             "#ed7953"
            ],
            [
             0.7777777777777778,
             "#fb9f3a"
            ],
            [
             0.8888888888888888,
             "#fdca26"
            ],
            [
             1,
             "#f0f921"
            ]
           ],
           "sequentialminus": [
            [
             0,
             "#0d0887"
            ],
            [
             0.1111111111111111,
             "#46039f"
            ],
            [
             0.2222222222222222,
             "#7201a8"
            ],
            [
             0.3333333333333333,
             "#9c179e"
            ],
            [
             0.4444444444444444,
             "#bd3786"
            ],
            [
             0.5555555555555556,
             "#d8576b"
            ],
            [
             0.6666666666666666,
             "#ed7953"
            ],
            [
             0.7777777777777778,
             "#fb9f3a"
            ],
            [
             0.8888888888888888,
             "#fdca26"
            ],
            [
             1,
             "#f0f921"
            ]
           ]
          },
          "colorway": [
           "#636efa",
           "#EF553B",
           "#00cc96",
           "#ab63fa",
           "#FFA15A",
           "#19d3f3",
           "#FF6692",
           "#B6E880",
           "#FF97FF",
           "#FECB52"
          ],
          "font": {
           "color": "#2a3f5f"
          },
          "geo": {
           "bgcolor": "white",
           "lakecolor": "white",
           "landcolor": "#E5ECF6",
           "showlakes": true,
           "showland": true,
           "subunitcolor": "white"
          },
          "hoverlabel": {
           "align": "left"
          },
          "hovermode": "closest",
          "mapbox": {
           "style": "light"
          },
          "paper_bgcolor": "white",
          "plot_bgcolor": "#E5ECF6",
          "polar": {
           "angularaxis": {
            "gridcolor": "white",
            "linecolor": "white",
            "ticks": ""
           },
           "bgcolor": "#E5ECF6",
           "radialaxis": {
            "gridcolor": "white",
            "linecolor": "white",
            "ticks": ""
           }
          },
          "scene": {
           "xaxis": {
            "backgroundcolor": "#E5ECF6",
            "gridcolor": "white",
            "gridwidth": 2,
            "linecolor": "white",
            "showbackground": true,
            "ticks": "",
            "zerolinecolor": "white"
           },
           "yaxis": {
            "backgroundcolor": "#E5ECF6",
            "gridcolor": "white",
            "gridwidth": 2,
            "linecolor": "white",
            "showbackground": true,
            "ticks": "",
            "zerolinecolor": "white"
           },
           "zaxis": {
            "backgroundcolor": "#E5ECF6",
            "gridcolor": "white",
            "gridwidth": 2,
            "linecolor": "white",
            "showbackground": true,
            "ticks": "",
            "zerolinecolor": "white"
           }
          },
          "shapedefaults": {
           "line": {
            "color": "#2a3f5f"
           }
          },
          "ternary": {
           "aaxis": {
            "gridcolor": "white",
            "linecolor": "white",
            "ticks": ""
           },
           "baxis": {
            "gridcolor": "white",
            "linecolor": "white",
            "ticks": ""
           },
           "bgcolor": "#E5ECF6",
           "caxis": {
            "gridcolor": "white",
            "linecolor": "white",
            "ticks": ""
           }
          },
          "title": {
           "x": 0.05
          },
          "xaxis": {
           "automargin": true,
           "gridcolor": "white",
           "linecolor": "white",
           "ticks": "",
           "title": {
            "standoff": 15
           },
           "zerolinecolor": "white",
           "zerolinewidth": 2
          },
          "yaxis": {
           "automargin": true,
           "gridcolor": "white",
           "linecolor": "white",
           "ticks": "",
           "title": {
            "standoff": 15
           },
           "zerolinecolor": "white",
           "zerolinewidth": 2
          }
         }
        },
        "title": {
         "font": {
          "color": "#4D5663"
         }
        },
        "xaxis": {
         "gridcolor": "#E1E5ED",
         "showgrid": true,
         "tickfont": {
          "color": "#4D5663"
         },
         "title": {
          "font": {
           "color": "#4D5663"
          },
          "text": ""
         },
         "zerolinecolor": "#E1E5ED"
        },
        "yaxis": {
         "gridcolor": "#E1E5ED",
         "showgrid": true,
         "tickfont": {
          "color": "#4D5663"
         },
         "title": {
          "font": {
           "color": "#4D5663"
          },
          "text": ""
         },
         "zerolinecolor": "#E1E5ED"
        }
       }
      },
      "text/html": [
       "<div>\n",
       "        \n",
       "        \n",
       "            <div id=\"4fe6c38f-f1c2-4276-91c8-2512ac8bdd13\" class=\"plotly-graph-div\" style=\"height:525px; width:100%;\"></div>\n",
       "            <script type=\"text/javascript\">\n",
       "                require([\"plotly\"], function(Plotly) {\n",
       "                    window.PLOTLYENV=window.PLOTLYENV || {};\n",
       "                    window.PLOTLYENV.BASE_URL='https://plot.ly';\n",
       "                    \n",
       "                if (document.getElementById(\"4fe6c38f-f1c2-4276-91c8-2512ac8bdd13\")) {\n",
       "                    Plotly.newPlot(\n",
       "                        '4fe6c38f-f1c2-4276-91c8-2512ac8bdd13',\n",
       "                        [{\"boxpoints\": false, \"line\": {\"width\": 1.3}, \"marker\": {\"color\": \"rgba(255, 153, 51, 1.0)\"}, \"name\": \"A\", \"orientation\": \"v\", \"type\": \"box\", \"y\": [-0.14022739364165643, -0.06215427637826168, 1.3604993525322426, -0.31499023670117493, 1.0029694989154603, 0.970785908978943, -1.9952834025092647, 1.0039135826827332, -0.9158744798111359, -1.5467467590902721, 0.37209295460286496, -0.11707489023640913, 0.3729934586411193, -0.09155881745717738, -0.03683336514171592, -0.41858716289621883, 1.2727487669685111, 0.7032449700650091, -0.3738248467613199, 1.5095426393794726, -0.18607365814905844, 0.4183288835354543, 0.19887318935897869, -0.8883000951919754, -0.5092841539648556, -0.6087002578641567, -0.9661264541068408, -1.915268445309993, 0.6093753654788755, 1.580437092556138, 1.2038017025994858, -0.9256468334675966, 1.4351143773603932, 1.1091342369517356, -0.018304712037069137, -2.2313836406164778, 0.7070440778124587, -0.5307156073349464, 2.296219589090963, 2.387706409516227, 0.6271835271545523, -1.2173587220621744, 0.42570764846744746, -1.865485577029963, 0.09358857883241165, 0.21890364457894615, -0.8132962135397189, 0.8909606370067288, -1.3191599374713485, -0.266719405828341, 1.1247976919873686, 0.48999024384756007, 0.5807255032073525, -0.6562912505872847, -0.6742217180417197, 2.214992557360574, -0.9679289742345283, 0.43124375434740847, 1.2054308100887878, -0.0920927130932392, 0.9421320700961858, 0.11984996143687157, -0.15429180556311048, 0.2918631513091189, -1.8717576688946829, -0.8679678182080496, -0.020103099947394832, -0.042027336524633696, 1.239199523092614, 0.31174508367849085, 0.9361084479519998, -0.18618102912744675, 0.5826791217951177, 0.43352959070524805, 0.05304296463400472, -0.5926127266145984, -2.714955903645562, -0.7302768692480879, 0.5416647778556658, 1.066691518602927, -0.20464590566938895, 1.667570632967258, -1.2848121388168667, -1.2693020887010722, 1.1961530520102446, -2.303978558507296, -0.34484568309621116, 0.33316727300389903, -1.5277704570453603, -0.2677533280031435, -1.1069183000442135, -0.69696863763343, 0.4220514472520369, -0.7119580435533539, -0.4861965889709872, -1.0514199478282396, -1.2973863778725738, -1.852599660498362, 0.2669849512911801, 0.6934313898697425]}, {\"boxpoints\": false, \"line\": {\"width\": 1.3}, \"marker\": {\"color\": \"rgba(55, 128, 191, 1.0)\"}, \"name\": \"B\", \"orientation\": \"v\", \"type\": \"box\", \"y\": [-0.49138081110649495, 0.20096821703152126, -0.5118376940715328, -0.294754672042674, 0.7912868491160063, 0.6016396273238315, -1.8517024871032415, -0.8357324338017871, 0.5567672502176182, 0.34248645594707156, 1.1284364585110525, -0.9475016318413956, 0.6052496337791674, -0.14129046372803092, 0.23878933595490678, -1.3302105428345574, 0.7065868414255477, 0.8596504098464547, -1.0289972766977775, 0.38416590094808395, -0.6805516583040593, 0.25047413304492844, -1.0934455244419623, 0.21783950085433063, -1.6465140549141115, 1.773635885242201, -0.15523341084556538, 2.676693565466258, -0.5545091562056877, -1.1680827062075498, 0.4012562551292746, 1.5825339892798398, -0.5398529138511904, 1.0645026613523625, -1.4028466624172862, -0.8110265275168601, 0.017905104851356973, -0.5880126717343193, -1.9196292048084675, -0.5770587119572501, -0.3709996873352136, 0.6380882254802426, -2.048108646820459, -0.6244061305032667, 0.1979958562682151, 1.235861000391054, -0.056613145024522714, 1.4231514175036732, -0.12371210746402267, 2.0043855782244577, 0.24377248592591028, -0.9191773044109226, 1.260013880741051, 0.25973909324840844, 0.7809547129755966, -1.1393604843367602, 0.5155300758995982, -0.08659470454921091, 0.7450800307774069, 0.8763936308013027, 0.6536472576730905, -0.5269623477618497, -0.3983721526933854, 0.2628759268519323, -0.05138886524695858, 1.999743718409326, 0.08002061538393514, 1.8932986126680995, -0.4392068648508249, 1.8041669201375656, 0.5014501185022648, 0.6418703110176629, 0.916215226940129, 0.09519773076228714, 0.2024566893905404, -1.126067618256918, -1.043129801809276, 1.4232891346410141, 0.45471152794813313, -0.3789454598854821, 1.113225442536063, 0.9673482795705286, -2.1035698135731296, 0.5732793851398493, 0.008794944506913387, -1.11121827900885, -1.242414784044673, 0.23578253336456306, 1.5892034787841012, -0.2997132280280576, -0.38497283723599923, 0.7293960491010912, 0.09212027910610585, 0.1752052422872672, 0.5906643403648387, -0.7612504986085381, 1.2337359981255012, -0.5972867609627632, 0.9206519061066598, -1.5461656964766408]}, {\"boxpoints\": false, \"line\": {\"width\": 1.3}, \"marker\": {\"color\": \"rgba(50, 171, 96, 1.0)\"}, \"name\": \"C\", \"orientation\": \"v\", \"type\": \"box\", \"y\": [0.8322983650067056, 2.9487944257739023, -0.9327203264414998, 2.7933536990347863, 0.8542454719675332, 0.31809576337229933, -0.6715186412029381, 0.15938393556550307, -1.7425405225991573, 1.4863178222912832, -1.872915682609848, -0.5960420579789987, -2.203298476933827, -0.2329350022052127, 0.7796450318301332, 1.052891983781643, -0.1409371827770851, 0.6474336473085542, -1.505571111529484, 0.7062178145702688, -1.964670446835789, -0.4981514131178999, 1.5181771987126984, -1.536175060551129, -0.38959992623384093, -0.3022172312940435, -0.25772880922383, -0.39695053175002115, -0.3095852443436779, -0.11194083861580877, 0.7601753859738068, -0.530247095041203, 0.20861687899845097, 0.7674050485892783, 0.4452817555900837, 0.0767095841096248, -2.2259461140532677, -1.2116302710576747, -1.32822562098306, -0.5222062624020434, 0.7911058892910624, 0.4677239636003078, 0.30047245775079023, 0.3655170020081269, 0.20289276559461722, 0.4153352653664582, -0.052447423831299834, 0.11944076654957166, 0.8015700610030586, 0.2918230148556353, 1.4531188182365395, 0.24933808921225617, 0.3785975989601048, 0.226260847886642, -0.41584412274397065, 0.4454689629799662, -1.0586950119045058, -0.14716718680168142, 0.8857301418421732, 1.384794926717062, -0.4903542543080155, -0.2473618499212272, -0.7009630708566316, 0.5156263381961245, -1.1291255812234384, -0.829298694609309, 1.3248499130433977, 0.08442761312503773, 1.0275396393621423, -0.3766191390707656, -1.731605498902651, -0.8783732284756439, -0.4096881845872658, -0.9214946500952481, 0.5544203859970838, 0.055184168100756534, 1.5837192344598334, 1.7266557126922775, 0.8683138050421154, -1.0555846243018687, -2.184309585184786, -0.3803520581700609, 0.4206995113741631, 0.085060901439029, 1.15516801238735, 1.256396811071076, 0.6613073885245957, 0.4055860332919486, 0.7494503435914309, -0.3553773638208235, 0.22709931025133642, -1.8067918820329791, -1.3655651555395014, -0.7013106904763116, -0.9608101653884948, -0.3913486413753859, -1.0725993756038412, 1.8512012914505818, 0.7088848612689266, -0.14842242801709593]}, {\"boxpoints\": false, \"line\": {\"width\": 1.3}, \"marker\": {\"color\": \"rgba(128, 0, 128, 1.0)\"}, \"name\": \"D\", \"orientation\": \"v\", \"type\": \"box\", \"y\": [0.14980519387875132, -1.4198798107052975, -0.7327077885129524, -0.6085377074797261, 0.32603603643856804, 0.05800489349336685, -0.7663414536041493, -0.4980972756109609, 1.6291425865446543, 0.4637796522855408, 0.041789905018740685, 0.3775787012811703, -1.5982595699465927, 1.319815229205623, -0.7973020773164097, 0.016588448398173073, 0.7687636179232215, 0.946061861862273, 0.5630595028889144, -1.732414528269466, 0.2202207093991576, -0.18890053343860205, -1.4304638653323456, -1.4128856795325917, 0.06393104024926448, 0.14144503101449765, 0.4802131029118245, 1.009367633119822, -0.5821688413981985, 0.43607399705809297, -1.107229741845423, -0.1763841373336813, 0.977963986531852, -1.6522872849716423, -0.5793361170634413, 0.5558489986821461, 1.065170588802731, 1.3299176946618927, 0.15570712345963303, -0.37284916437786214, 0.8574099168049211, 1.3580023577303706, -1.227710763935321, -1.581773724016081, -0.9583483914893025, 0.5220724489139206, -0.9447623535968571, 2.326472964841943, -1.0285467364486465, -0.9518028155898937, 1.8256635162843007, -0.7447939489245792, -0.35542822662993445, 2.0226683813177546, 0.30189223247555663, -0.06399955557885503, -1.556050477309016, -1.6343501528936466, -0.41084832490311385, -0.16266217074037218, 0.2914615780978868, -0.424044469491487, 1.1063947607956812, -1.3891732650666997, -0.2954048676433976, 1.1092818568490956, -0.19599030027340839, 0.5291884870361916, 0.36172739040270746, -0.560905791229739, -0.33918392310298456, 0.5910664413066594, -1.0603114537944383, -0.16533511057927797, 1.2364316740221963, 0.1454372667550455, -1.4880456437309315, -0.0934156145073493, 0.940054247885066, 0.4769872896615898, 2.142452777427751, -1.620668974236862, -0.019343804836262146, 0.5090676133052232, -1.9161718154222847, 0.3853671714937817, 0.994868242832238, 1.0964425597617593, 1.467335409627744, 0.7646621744062372, -1.7816290892180877, 0.0907817268338275, -0.20687425439460655, -0.980047818319929, -0.07394196352769604, 0.5749412114732553, -0.19751122740326005, 1.2592560828216992, -0.094315966458522, 1.016397700020748]}],\n",
       "                        {\"legend\": {\"bgcolor\": \"#F5F6F9\", \"font\": {\"color\": \"#4D5663\"}}, \"paper_bgcolor\": \"#F5F6F9\", \"plot_bgcolor\": \"#F5F6F9\", \"template\": {\"data\": {\"bar\": [{\"error_x\": {\"color\": \"#2a3f5f\"}, \"error_y\": {\"color\": \"#2a3f5f\"}, \"marker\": {\"line\": {\"color\": \"#E5ECF6\", \"width\": 0.5}}, \"type\": \"bar\"}], \"barpolar\": [{\"marker\": {\"line\": {\"color\": \"#E5ECF6\", \"width\": 0.5}}, \"type\": \"barpolar\"}], \"carpet\": [{\"aaxis\": {\"endlinecolor\": \"#2a3f5f\", \"gridcolor\": \"white\", \"linecolor\": \"white\", \"minorgridcolor\": \"white\", \"startlinecolor\": \"#2a3f5f\"}, \"baxis\": {\"endlinecolor\": \"#2a3f5f\", \"gridcolor\": \"white\", \"linecolor\": \"white\", \"minorgridcolor\": \"white\", \"startlinecolor\": \"#2a3f5f\"}, \"type\": \"carpet\"}], \"choropleth\": [{\"colorbar\": {\"outlinewidth\": 0, \"ticks\": \"\"}, \"type\": \"choropleth\"}], \"contour\": [{\"colorbar\": {\"outlinewidth\": 0, \"ticks\": \"\"}, \"colorscale\": [[0.0, \"#0d0887\"], [0.1111111111111111, \"#46039f\"], [0.2222222222222222, \"#7201a8\"], [0.3333333333333333, \"#9c179e\"], [0.4444444444444444, \"#bd3786\"], [0.5555555555555556, \"#d8576b\"], [0.6666666666666666, \"#ed7953\"], [0.7777777777777778, \"#fb9f3a\"], [0.8888888888888888, \"#fdca26\"], [1.0, \"#f0f921\"]], \"type\": \"contour\"}], \"contourcarpet\": [{\"colorbar\": {\"outlinewidth\": 0, \"ticks\": \"\"}, \"type\": \"contourcarpet\"}], \"heatmap\": [{\"colorbar\": {\"outlinewidth\": 0, \"ticks\": \"\"}, \"colorscale\": [[0.0, \"#0d0887\"], [0.1111111111111111, \"#46039f\"], [0.2222222222222222, \"#7201a8\"], [0.3333333333333333, \"#9c179e\"], [0.4444444444444444, \"#bd3786\"], [0.5555555555555556, \"#d8576b\"], [0.6666666666666666, \"#ed7953\"], [0.7777777777777778, \"#fb9f3a\"], [0.8888888888888888, \"#fdca26\"], [1.0, \"#f0f921\"]], \"type\": \"heatmap\"}], \"heatmapgl\": [{\"colorbar\": {\"outlinewidth\": 0, \"ticks\": \"\"}, \"colorscale\": [[0.0, \"#0d0887\"], [0.1111111111111111, \"#46039f\"], [0.2222222222222222, \"#7201a8\"], [0.3333333333333333, \"#9c179e\"], [0.4444444444444444, \"#bd3786\"], [0.5555555555555556, \"#d8576b\"], [0.6666666666666666, \"#ed7953\"], [0.7777777777777778, \"#fb9f3a\"], [0.8888888888888888, \"#fdca26\"], [1.0, \"#f0f921\"]], \"type\": \"heatmapgl\"}], \"histogram\": [{\"marker\": {\"colorbar\": {\"outlinewidth\": 0, \"ticks\": \"\"}}, \"type\": \"histogram\"}], \"histogram2d\": [{\"colorbar\": {\"outlinewidth\": 0, \"ticks\": \"\"}, \"colorscale\": [[0.0, \"#0d0887\"], [0.1111111111111111, \"#46039f\"], [0.2222222222222222, \"#7201a8\"], [0.3333333333333333, \"#9c179e\"], [0.4444444444444444, \"#bd3786\"], [0.5555555555555556, \"#d8576b\"], [0.6666666666666666, \"#ed7953\"], [0.7777777777777778, \"#fb9f3a\"], [0.8888888888888888, \"#fdca26\"], [1.0, \"#f0f921\"]], \"type\": \"histogram2d\"}], \"histogram2dcontour\": [{\"colorbar\": {\"outlinewidth\": 0, \"ticks\": \"\"}, \"colorscale\": [[0.0, \"#0d0887\"], [0.1111111111111111, \"#46039f\"], [0.2222222222222222, \"#7201a8\"], [0.3333333333333333, \"#9c179e\"], [0.4444444444444444, \"#bd3786\"], [0.5555555555555556, \"#d8576b\"], [0.6666666666666666, \"#ed7953\"], [0.7777777777777778, \"#fb9f3a\"], [0.8888888888888888, \"#fdca26\"], [1.0, \"#f0f921\"]], \"type\": \"histogram2dcontour\"}], \"mesh3d\": [{\"colorbar\": {\"outlinewidth\": 0, \"ticks\": \"\"}, \"type\": \"mesh3d\"}], \"parcoords\": [{\"line\": {\"colorbar\": {\"outlinewidth\": 0, \"ticks\": \"\"}}, \"type\": \"parcoords\"}], \"pie\": [{\"automargin\": true, \"type\": \"pie\"}], \"scatter\": [{\"marker\": {\"colorbar\": {\"outlinewidth\": 0, \"ticks\": \"\"}}, \"type\": \"scatter\"}], \"scatter3d\": [{\"line\": {\"colorbar\": {\"outlinewidth\": 0, \"ticks\": \"\"}}, \"marker\": {\"colorbar\": {\"outlinewidth\": 0, \"ticks\": \"\"}}, \"type\": \"scatter3d\"}], \"scattercarpet\": [{\"marker\": {\"colorbar\": {\"outlinewidth\": 0, \"ticks\": \"\"}}, \"type\": \"scattercarpet\"}], \"scattergeo\": [{\"marker\": {\"colorbar\": {\"outlinewidth\": 0, \"ticks\": \"\"}}, \"type\": \"scattergeo\"}], \"scattergl\": [{\"marker\": {\"colorbar\": {\"outlinewidth\": 0, \"ticks\": \"\"}}, \"type\": \"scattergl\"}], \"scattermapbox\": [{\"marker\": {\"colorbar\": {\"outlinewidth\": 0, \"ticks\": \"\"}}, \"type\": \"scattermapbox\"}], \"scatterpolar\": [{\"marker\": {\"colorbar\": {\"outlinewidth\": 0, \"ticks\": \"\"}}, \"type\": \"scatterpolar\"}], \"scatterpolargl\": [{\"marker\": {\"colorbar\": {\"outlinewidth\": 0, \"ticks\": \"\"}}, \"type\": \"scatterpolargl\"}], \"scatterternary\": [{\"marker\": {\"colorbar\": {\"outlinewidth\": 0, \"ticks\": \"\"}}, \"type\": \"scatterternary\"}], \"surface\": [{\"colorbar\": {\"outlinewidth\": 0, \"ticks\": \"\"}, \"colorscale\": [[0.0, \"#0d0887\"], [0.1111111111111111, \"#46039f\"], [0.2222222222222222, \"#7201a8\"], [0.3333333333333333, \"#9c179e\"], [0.4444444444444444, \"#bd3786\"], [0.5555555555555556, \"#d8576b\"], [0.6666666666666666, \"#ed7953\"], [0.7777777777777778, \"#fb9f3a\"], [0.8888888888888888, \"#fdca26\"], [1.0, \"#f0f921\"]], \"type\": \"surface\"}], \"table\": [{\"cells\": {\"fill\": {\"color\": \"#EBF0F8\"}, \"line\": {\"color\": \"white\"}}, \"header\": {\"fill\": {\"color\": \"#C8D4E3\"}, \"line\": {\"color\": \"white\"}}, \"type\": \"table\"}]}, \"layout\": {\"annotationdefaults\": {\"arrowcolor\": \"#2a3f5f\", \"arrowhead\": 0, \"arrowwidth\": 1}, \"coloraxis\": {\"colorbar\": {\"outlinewidth\": 0, \"ticks\": \"\"}}, \"colorscale\": {\"diverging\": [[0, \"#8e0152\"], [0.1, \"#c51b7d\"], [0.2, \"#de77ae\"], [0.3, \"#f1b6da\"], [0.4, \"#fde0ef\"], [0.5, \"#f7f7f7\"], [0.6, \"#e6f5d0\"], [0.7, \"#b8e186\"], [0.8, \"#7fbc41\"], [0.9, \"#4d9221\"], [1, \"#276419\"]], \"sequential\": [[0.0, \"#0d0887\"], [0.1111111111111111, \"#46039f\"], [0.2222222222222222, \"#7201a8\"], [0.3333333333333333, \"#9c179e\"], [0.4444444444444444, \"#bd3786\"], [0.5555555555555556, \"#d8576b\"], [0.6666666666666666, \"#ed7953\"], [0.7777777777777778, \"#fb9f3a\"], [0.8888888888888888, \"#fdca26\"], [1.0, \"#f0f921\"]], \"sequentialminus\": [[0.0, \"#0d0887\"], [0.1111111111111111, \"#46039f\"], [0.2222222222222222, \"#7201a8\"], [0.3333333333333333, \"#9c179e\"], [0.4444444444444444, \"#bd3786\"], [0.5555555555555556, \"#d8576b\"], [0.6666666666666666, \"#ed7953\"], [0.7777777777777778, \"#fb9f3a\"], [0.8888888888888888, \"#fdca26\"], [1.0, \"#f0f921\"]]}, \"colorway\": [\"#636efa\", \"#EF553B\", \"#00cc96\", \"#ab63fa\", \"#FFA15A\", \"#19d3f3\", \"#FF6692\", \"#B6E880\", \"#FF97FF\", \"#FECB52\"], \"font\": {\"color\": \"#2a3f5f\"}, \"geo\": {\"bgcolor\": \"white\", \"lakecolor\": \"white\", \"landcolor\": \"#E5ECF6\", \"showlakes\": true, \"showland\": true, \"subunitcolor\": \"white\"}, \"hoverlabel\": {\"align\": \"left\"}, \"hovermode\": \"closest\", \"mapbox\": {\"style\": \"light\"}, \"paper_bgcolor\": \"white\", \"plot_bgcolor\": \"#E5ECF6\", \"polar\": {\"angularaxis\": {\"gridcolor\": \"white\", \"linecolor\": \"white\", \"ticks\": \"\"}, \"bgcolor\": \"#E5ECF6\", \"radialaxis\": {\"gridcolor\": \"white\", \"linecolor\": \"white\", \"ticks\": \"\"}}, \"scene\": {\"xaxis\": {\"backgroundcolor\": \"#E5ECF6\", \"gridcolor\": \"white\", \"gridwidth\": 2, \"linecolor\": \"white\", \"showbackground\": true, \"ticks\": \"\", \"zerolinecolor\": \"white\"}, \"yaxis\": {\"backgroundcolor\": \"#E5ECF6\", \"gridcolor\": \"white\", \"gridwidth\": 2, \"linecolor\": \"white\", \"showbackground\": true, \"ticks\": \"\", \"zerolinecolor\": \"white\"}, \"zaxis\": {\"backgroundcolor\": \"#E5ECF6\", \"gridcolor\": \"white\", \"gridwidth\": 2, \"linecolor\": \"white\", \"showbackground\": true, \"ticks\": \"\", \"zerolinecolor\": \"white\"}}, \"shapedefaults\": {\"line\": {\"color\": \"#2a3f5f\"}}, \"ternary\": {\"aaxis\": {\"gridcolor\": \"white\", \"linecolor\": \"white\", \"ticks\": \"\"}, \"baxis\": {\"gridcolor\": \"white\", \"linecolor\": \"white\", \"ticks\": \"\"}, \"bgcolor\": \"#E5ECF6\", \"caxis\": {\"gridcolor\": \"white\", \"linecolor\": \"white\", \"ticks\": \"\"}}, \"title\": {\"x\": 0.05}, \"xaxis\": {\"automargin\": true, \"gridcolor\": \"white\", \"linecolor\": \"white\", \"ticks\": \"\", \"title\": {\"standoff\": 15}, \"zerolinecolor\": \"white\", \"zerolinewidth\": 2}, \"yaxis\": {\"automargin\": true, \"gridcolor\": \"white\", \"linecolor\": \"white\", \"ticks\": \"\", \"title\": {\"standoff\": 15}, \"zerolinecolor\": \"white\", \"zerolinewidth\": 2}}}, \"title\": {\"font\": {\"color\": \"#4D5663\"}}, \"xaxis\": {\"gridcolor\": \"#E1E5ED\", \"showgrid\": true, \"tickfont\": {\"color\": \"#4D5663\"}, \"title\": {\"font\": {\"color\": \"#4D5663\"}, \"text\": \"\"}, \"zerolinecolor\": \"#E1E5ED\"}, \"yaxis\": {\"gridcolor\": \"#E1E5ED\", \"showgrid\": true, \"tickfont\": {\"color\": \"#4D5663\"}, \"title\": {\"font\": {\"color\": \"#4D5663\"}, \"text\": \"\"}, \"zerolinecolor\": \"#E1E5ED\"}},\n",
       "                        {\"showLink\": true, \"linkText\": \"Export to plot.ly\", \"plotlyServerURL\": \"https://plot.ly\", \"responsive\": true}\n",
       "                    ).then(function(){\n",
       "                            \n",
       "var gd = document.getElementById('4fe6c38f-f1c2-4276-91c8-2512ac8bdd13');\n",
       "var x = new MutationObserver(function (mutations, observer) {{\n",
       "        var display = window.getComputedStyle(gd).display;\n",
       "        if (!display || display === 'none') {{\n",
       "            console.log([gd, 'removed!']);\n",
       "            Plotly.purge(gd);\n",
       "            observer.disconnect();\n",
       "        }}\n",
       "}});\n",
       "\n",
       "// Listen for the removal of the full notebook cells\n",
       "var notebookContainer = gd.closest('#notebook-container');\n",
       "if (notebookContainer) {{\n",
       "    x.observe(notebookContainer, {childList: true});\n",
       "}}\n",
       "\n",
       "// Listen for the clearing of the current output cell\n",
       "var outputEl = gd.closest('.output');\n",
       "if (outputEl) {{\n",
       "    x.observe(outputEl, {childList: true});\n",
       "}}\n",
       "\n",
       "                        })\n",
       "                };\n",
       "                });\n",
       "            </script>\n",
       "        </div>"
      ]
     },
     "metadata": {},
     "output_type": "display_data"
    }
   ],
   "source": [
    "df.iplot(kind = 'box')"
   ]
  },
  {
   "cell_type": "code",
   "execution_count": 49,
   "metadata": {},
   "outputs": [],
   "source": [
    "df3 = pd.DataFrame({'x':[1,2,3,4,5], 'y': [10,20,30,20,10],\n",
    "                  'z':[5,4,3,2,1]})"
   ]
  },
  {
   "cell_type": "code",
   "execution_count": 46,
   "metadata": {},
   "outputs": [
    {
     "data": {
      "text/html": [
       "<div>\n",
       "<style scoped>\n",
       "    .dataframe tbody tr th:only-of-type {\n",
       "        vertical-align: middle;\n",
       "    }\n",
       "\n",
       "    .dataframe tbody tr th {\n",
       "        vertical-align: top;\n",
       "    }\n",
       "\n",
       "    .dataframe thead th {\n",
       "        text-align: right;\n",
       "    }\n",
       "</style>\n",
       "<table border=\"1\" class=\"dataframe\">\n",
       "  <thead>\n",
       "    <tr style=\"text-align: right;\">\n",
       "      <th></th>\n",
       "      <th>x</th>\n",
       "      <th>y</th>\n",
       "      <th>z</th>\n",
       "    </tr>\n",
       "  </thead>\n",
       "  <tbody>\n",
       "    <tr>\n",
       "      <td>0</td>\n",
       "      <td>1</td>\n",
       "      <td>10</td>\n",
       "      <td>500</td>\n",
       "    </tr>\n",
       "    <tr>\n",
       "      <td>1</td>\n",
       "      <td>2</td>\n",
       "      <td>20</td>\n",
       "      <td>400</td>\n",
       "    </tr>\n",
       "    <tr>\n",
       "      <td>2</td>\n",
       "      <td>3</td>\n",
       "      <td>30</td>\n",
       "      <td>300</td>\n",
       "    </tr>\n",
       "    <tr>\n",
       "      <td>3</td>\n",
       "      <td>4</td>\n",
       "      <td>20</td>\n",
       "      <td>200</td>\n",
       "    </tr>\n",
       "    <tr>\n",
       "      <td>4</td>\n",
       "      <td>5</td>\n",
       "      <td>10</td>\n",
       "      <td>100</td>\n",
       "    </tr>\n",
       "  </tbody>\n",
       "</table>\n",
       "</div>"
      ],
      "text/plain": [
       "   x   y    z\n",
       "0  1  10  500\n",
       "1  2  20  400\n",
       "2  3  30  300\n",
       "3  4  20  200\n",
       "4  5  10  100"
      ]
     },
     "execution_count": 46,
     "metadata": {},
     "output_type": "execute_result"
    }
   ],
   "source": [
    "df3"
   ]
  },
  {
   "cell_type": "code",
   "execution_count": 54,
   "metadata": {},
   "outputs": [
    {
     "data": {
      "application/vnd.plotly.v1+json": {
       "config": {
        "linkText": "Export to plot.ly",
        "plotlyServerURL": "https://plot.ly",
        "showLink": true
       },
       "data": [
        {
         "colorscale": [
          [
           0,
           "rgb(165,0,38)"
          ],
          [
           0.1,
           "rgb(215,48,39)"
          ],
          [
           0.2,
           "rgb(244,109,67)"
          ],
          [
           0.3,
           "rgb(253,174,97)"
          ],
          [
           0.4,
           "rgb(254,224,144)"
          ],
          [
           0.5,
           "rgb(255,255,191)"
          ],
          [
           0.6,
           "rgb(224,243,248)"
          ],
          [
           0.7,
           "rgb(171,217,233)"
          ],
          [
           0.8,
           "rgb(116,173,209)"
          ],
          [
           0.9,
           "rgb(69,117,180)"
          ],
          [
           1,
           "rgb(49,54,149)"
          ]
         ],
         "type": "surface",
         "x": [
          0,
          1,
          2,
          3,
          4
         ],
         "y": [
          "x",
          "y",
          "z"
         ],
         "z": [
          [
           1,
           2,
           3,
           4,
           5
          ],
          [
           10,
           20,
           30,
           20,
           10
          ],
          [
           5,
           4,
           3,
           2,
           1
          ]
         ]
        }
       ],
       "layout": {
        "legend": {
         "bgcolor": "#F5F6F9",
         "font": {
          "color": "#4D5663"
         }
        },
        "paper_bgcolor": "#F5F6F9",
        "plot_bgcolor": "#F5F6F9",
        "template": {
         "data": {
          "bar": [
           {
            "error_x": {
             "color": "#2a3f5f"
            },
            "error_y": {
             "color": "#2a3f5f"
            },
            "marker": {
             "line": {
              "color": "#E5ECF6",
              "width": 0.5
             }
            },
            "type": "bar"
           }
          ],
          "barpolar": [
           {
            "marker": {
             "line": {
              "color": "#E5ECF6",
              "width": 0.5
             }
            },
            "type": "barpolar"
           }
          ],
          "carpet": [
           {
            "aaxis": {
             "endlinecolor": "#2a3f5f",
             "gridcolor": "white",
             "linecolor": "white",
             "minorgridcolor": "white",
             "startlinecolor": "#2a3f5f"
            },
            "baxis": {
             "endlinecolor": "#2a3f5f",
             "gridcolor": "white",
             "linecolor": "white",
             "minorgridcolor": "white",
             "startlinecolor": "#2a3f5f"
            },
            "type": "carpet"
           }
          ],
          "choropleth": [
           {
            "colorbar": {
             "outlinewidth": 0,
             "ticks": ""
            },
            "type": "choropleth"
           }
          ],
          "contour": [
           {
            "colorbar": {
             "outlinewidth": 0,
             "ticks": ""
            },
            "colorscale": [
             [
              0,
              "#0d0887"
             ],
             [
              0.1111111111111111,
              "#46039f"
             ],
             [
              0.2222222222222222,
              "#7201a8"
             ],
             [
              0.3333333333333333,
              "#9c179e"
             ],
             [
              0.4444444444444444,
              "#bd3786"
             ],
             [
              0.5555555555555556,
              "#d8576b"
             ],
             [
              0.6666666666666666,
              "#ed7953"
             ],
             [
              0.7777777777777778,
              "#fb9f3a"
             ],
             [
              0.8888888888888888,
              "#fdca26"
             ],
             [
              1,
              "#f0f921"
             ]
            ],
            "type": "contour"
           }
          ],
          "contourcarpet": [
           {
            "colorbar": {
             "outlinewidth": 0,
             "ticks": ""
            },
            "type": "contourcarpet"
           }
          ],
          "heatmap": [
           {
            "colorbar": {
             "outlinewidth": 0,
             "ticks": ""
            },
            "colorscale": [
             [
              0,
              "#0d0887"
             ],
             [
              0.1111111111111111,
              "#46039f"
             ],
             [
              0.2222222222222222,
              "#7201a8"
             ],
             [
              0.3333333333333333,
              "#9c179e"
             ],
             [
              0.4444444444444444,
              "#bd3786"
             ],
             [
              0.5555555555555556,
              "#d8576b"
             ],
             [
              0.6666666666666666,
              "#ed7953"
             ],
             [
              0.7777777777777778,
              "#fb9f3a"
             ],
             [
              0.8888888888888888,
              "#fdca26"
             ],
             [
              1,
              "#f0f921"
             ]
            ],
            "type": "heatmap"
           }
          ],
          "heatmapgl": [
           {
            "colorbar": {
             "outlinewidth": 0,
             "ticks": ""
            },
            "colorscale": [
             [
              0,
              "#0d0887"
             ],
             [
              0.1111111111111111,
              "#46039f"
             ],
             [
              0.2222222222222222,
              "#7201a8"
             ],
             [
              0.3333333333333333,
              "#9c179e"
             ],
             [
              0.4444444444444444,
              "#bd3786"
             ],
             [
              0.5555555555555556,
              "#d8576b"
             ],
             [
              0.6666666666666666,
              "#ed7953"
             ],
             [
              0.7777777777777778,
              "#fb9f3a"
             ],
             [
              0.8888888888888888,
              "#fdca26"
             ],
             [
              1,
              "#f0f921"
             ]
            ],
            "type": "heatmapgl"
           }
          ],
          "histogram": [
           {
            "marker": {
             "colorbar": {
              "outlinewidth": 0,
              "ticks": ""
             }
            },
            "type": "histogram"
           }
          ],
          "histogram2d": [
           {
            "colorbar": {
             "outlinewidth": 0,
             "ticks": ""
            },
            "colorscale": [
             [
              0,
              "#0d0887"
             ],
             [
              0.1111111111111111,
              "#46039f"
             ],
             [
              0.2222222222222222,
              "#7201a8"
             ],
             [
              0.3333333333333333,
              "#9c179e"
             ],
             [
              0.4444444444444444,
              "#bd3786"
             ],
             [
              0.5555555555555556,
              "#d8576b"
             ],
             [
              0.6666666666666666,
              "#ed7953"
             ],
             [
              0.7777777777777778,
              "#fb9f3a"
             ],
             [
              0.8888888888888888,
              "#fdca26"
             ],
             [
              1,
              "#f0f921"
             ]
            ],
            "type": "histogram2d"
           }
          ],
          "histogram2dcontour": [
           {
            "colorbar": {
             "outlinewidth": 0,
             "ticks": ""
            },
            "colorscale": [
             [
              0,
              "#0d0887"
             ],
             [
              0.1111111111111111,
              "#46039f"
             ],
             [
              0.2222222222222222,
              "#7201a8"
             ],
             [
              0.3333333333333333,
              "#9c179e"
             ],
             [
              0.4444444444444444,
              "#bd3786"
             ],
             [
              0.5555555555555556,
              "#d8576b"
             ],
             [
              0.6666666666666666,
              "#ed7953"
             ],
             [
              0.7777777777777778,
              "#fb9f3a"
             ],
             [
              0.8888888888888888,
              "#fdca26"
             ],
             [
              1,
              "#f0f921"
             ]
            ],
            "type": "histogram2dcontour"
           }
          ],
          "mesh3d": [
           {
            "colorbar": {
             "outlinewidth": 0,
             "ticks": ""
            },
            "type": "mesh3d"
           }
          ],
          "parcoords": [
           {
            "line": {
             "colorbar": {
              "outlinewidth": 0,
              "ticks": ""
             }
            },
            "type": "parcoords"
           }
          ],
          "pie": [
           {
            "automargin": true,
            "type": "pie"
           }
          ],
          "scatter": [
           {
            "marker": {
             "colorbar": {
              "outlinewidth": 0,
              "ticks": ""
             }
            },
            "type": "scatter"
           }
          ],
          "scatter3d": [
           {
            "line": {
             "colorbar": {
              "outlinewidth": 0,
              "ticks": ""
             }
            },
            "marker": {
             "colorbar": {
              "outlinewidth": 0,
              "ticks": ""
             }
            },
            "type": "scatter3d"
           }
          ],
          "scattercarpet": [
           {
            "marker": {
             "colorbar": {
              "outlinewidth": 0,
              "ticks": ""
             }
            },
            "type": "scattercarpet"
           }
          ],
          "scattergeo": [
           {
            "marker": {
             "colorbar": {
              "outlinewidth": 0,
              "ticks": ""
             }
            },
            "type": "scattergeo"
           }
          ],
          "scattergl": [
           {
            "marker": {
             "colorbar": {
              "outlinewidth": 0,
              "ticks": ""
             }
            },
            "type": "scattergl"
           }
          ],
          "scattermapbox": [
           {
            "marker": {
             "colorbar": {
              "outlinewidth": 0,
              "ticks": ""
             }
            },
            "type": "scattermapbox"
           }
          ],
          "scatterpolar": [
           {
            "marker": {
             "colorbar": {
              "outlinewidth": 0,
              "ticks": ""
             }
            },
            "type": "scatterpolar"
           }
          ],
          "scatterpolargl": [
           {
            "marker": {
             "colorbar": {
              "outlinewidth": 0,
              "ticks": ""
             }
            },
            "type": "scatterpolargl"
           }
          ],
          "scatterternary": [
           {
            "marker": {
             "colorbar": {
              "outlinewidth": 0,
              "ticks": ""
             }
            },
            "type": "scatterternary"
           }
          ],
          "surface": [
           {
            "colorbar": {
             "outlinewidth": 0,
             "ticks": ""
            },
            "colorscale": [
             [
              0,
              "#0d0887"
             ],
             [
              0.1111111111111111,
              "#46039f"
             ],
             [
              0.2222222222222222,
              "#7201a8"
             ],
             [
              0.3333333333333333,
              "#9c179e"
             ],
             [
              0.4444444444444444,
              "#bd3786"
             ],
             [
              0.5555555555555556,
              "#d8576b"
             ],
             [
              0.6666666666666666,
              "#ed7953"
             ],
             [
              0.7777777777777778,
              "#fb9f3a"
             ],
             [
              0.8888888888888888,
              "#fdca26"
             ],
             [
              1,
              "#f0f921"
             ]
            ],
            "type": "surface"
           }
          ],
          "table": [
           {
            "cells": {
             "fill": {
              "color": "#EBF0F8"
             },
             "line": {
              "color": "white"
             }
            },
            "header": {
             "fill": {
              "color": "#C8D4E3"
             },
             "line": {
              "color": "white"
             }
            },
            "type": "table"
           }
          ]
         },
         "layout": {
          "annotationdefaults": {
           "arrowcolor": "#2a3f5f",
           "arrowhead": 0,
           "arrowwidth": 1
          },
          "coloraxis": {
           "colorbar": {
            "outlinewidth": 0,
            "ticks": ""
           }
          },
          "colorscale": {
           "diverging": [
            [
             0,
             "#8e0152"
            ],
            [
             0.1,
             "#c51b7d"
            ],
            [
             0.2,
             "#de77ae"
            ],
            [
             0.3,
             "#f1b6da"
            ],
            [
             0.4,
             "#fde0ef"
            ],
            [
             0.5,
             "#f7f7f7"
            ],
            [
             0.6,
             "#e6f5d0"
            ],
            [
             0.7,
             "#b8e186"
            ],
            [
             0.8,
             "#7fbc41"
            ],
            [
             0.9,
             "#4d9221"
            ],
            [
             1,
             "#276419"
            ]
           ],
           "sequential": [
            [
             0,
             "#0d0887"
            ],
            [
             0.1111111111111111,
             "#46039f"
            ],
            [
             0.2222222222222222,
             "#7201a8"
            ],
            [
             0.3333333333333333,
             "#9c179e"
            ],
            [
             0.4444444444444444,
             "#bd3786"
            ],
            [
             0.5555555555555556,
             "#d8576b"
            ],
            [
             0.6666666666666666,
             "#ed7953"
            ],
            [
             0.7777777777777778,
             "#fb9f3a"
            ],
            [
             0.8888888888888888,
             "#fdca26"
            ],
            [
             1,
             "#f0f921"
            ]
           ],
           "sequentialminus": [
            [
             0,
             "#0d0887"
            ],
            [
             0.1111111111111111,
             "#46039f"
            ],
            [
             0.2222222222222222,
             "#7201a8"
            ],
            [
             0.3333333333333333,
             "#9c179e"
            ],
            [
             0.4444444444444444,
             "#bd3786"
            ],
            [
             0.5555555555555556,
             "#d8576b"
            ],
            [
             0.6666666666666666,
             "#ed7953"
            ],
            [
             0.7777777777777778,
             "#fb9f3a"
            ],
            [
             0.8888888888888888,
             "#fdca26"
            ],
            [
             1,
             "#f0f921"
            ]
           ]
          },
          "colorway": [
           "#636efa",
           "#EF553B",
           "#00cc96",
           "#ab63fa",
           "#FFA15A",
           "#19d3f3",
           "#FF6692",
           "#B6E880",
           "#FF97FF",
           "#FECB52"
          ],
          "font": {
           "color": "#2a3f5f"
          },
          "geo": {
           "bgcolor": "white",
           "lakecolor": "white",
           "landcolor": "#E5ECF6",
           "showlakes": true,
           "showland": true,
           "subunitcolor": "white"
          },
          "hoverlabel": {
           "align": "left"
          },
          "hovermode": "closest",
          "mapbox": {
           "style": "light"
          },
          "paper_bgcolor": "white",
          "plot_bgcolor": "#E5ECF6",
          "polar": {
           "angularaxis": {
            "gridcolor": "white",
            "linecolor": "white",
            "ticks": ""
           },
           "bgcolor": "#E5ECF6",
           "radialaxis": {
            "gridcolor": "white",
            "linecolor": "white",
            "ticks": ""
           }
          },
          "scene": {
           "xaxis": {
            "backgroundcolor": "#E5ECF6",
            "gridcolor": "white",
            "gridwidth": 2,
            "linecolor": "white",
            "showbackground": true,
            "ticks": "",
            "zerolinecolor": "white"
           },
           "yaxis": {
            "backgroundcolor": "#E5ECF6",
            "gridcolor": "white",
            "gridwidth": 2,
            "linecolor": "white",
            "showbackground": true,
            "ticks": "",
            "zerolinecolor": "white"
           },
           "zaxis": {
            "backgroundcolor": "#E5ECF6",
            "gridcolor": "white",
            "gridwidth": 2,
            "linecolor": "white",
            "showbackground": true,
            "ticks": "",
            "zerolinecolor": "white"
           }
          },
          "shapedefaults": {
           "line": {
            "color": "#2a3f5f"
           }
          },
          "ternary": {
           "aaxis": {
            "gridcolor": "white",
            "linecolor": "white",
            "ticks": ""
           },
           "baxis": {
            "gridcolor": "white",
            "linecolor": "white",
            "ticks": ""
           },
           "bgcolor": "#E5ECF6",
           "caxis": {
            "gridcolor": "white",
            "linecolor": "white",
            "ticks": ""
           }
          },
          "title": {
           "x": 0.05
          },
          "xaxis": {
           "automargin": true,
           "gridcolor": "white",
           "linecolor": "white",
           "ticks": "",
           "title": {
            "standoff": 15
           },
           "zerolinecolor": "white",
           "zerolinewidth": 2
          },
          "yaxis": {
           "automargin": true,
           "gridcolor": "white",
           "linecolor": "white",
           "ticks": "",
           "title": {
            "standoff": 15
           },
           "zerolinecolor": "white",
           "zerolinewidth": 2
          }
         }
        },
        "title": {
         "font": {
          "color": "#4D5663"
         }
        },
        "xaxis": {
         "gridcolor": "#E1E5ED",
         "showgrid": true,
         "tickfont": {
          "color": "#4D5663"
         },
         "title": {
          "font": {
           "color": "#4D5663"
          },
          "text": ""
         },
         "zerolinecolor": "#E1E5ED"
        },
        "yaxis": {
         "gridcolor": "#E1E5ED",
         "showgrid": true,
         "tickfont": {
          "color": "#4D5663"
         },
         "title": {
          "font": {
           "color": "#4D5663"
          },
          "text": ""
         },
         "zerolinecolor": "#E1E5ED"
        }
       }
      },
      "text/html": [
       "<div>\n",
       "        \n",
       "        \n",
       "            <div id=\"10e518ab-db93-4b2e-92b5-eeec31944be4\" class=\"plotly-graph-div\" style=\"height:525px; width:100%;\"></div>\n",
       "            <script type=\"text/javascript\">\n",
       "                require([\"plotly\"], function(Plotly) {\n",
       "                    window.PLOTLYENV=window.PLOTLYENV || {};\n",
       "                    window.PLOTLYENV.BASE_URL='https://plot.ly';\n",
       "                    \n",
       "                if (document.getElementById(\"10e518ab-db93-4b2e-92b5-eeec31944be4\")) {\n",
       "                    Plotly.newPlot(\n",
       "                        '10e518ab-db93-4b2e-92b5-eeec31944be4',\n",
       "                        [{\"colorscale\": [[0.0, \"rgb(165,0,38)\"], [0.1, \"rgb(215,48,39)\"], [0.2, \"rgb(244,109,67)\"], [0.3, \"rgb(253,174,97)\"], [0.4, \"rgb(254,224,144)\"], [0.5, \"rgb(255,255,191)\"], [0.6, \"rgb(224,243,248)\"], [0.7, \"rgb(171,217,233)\"], [0.8, \"rgb(116,173,209)\"], [0.9, \"rgb(69,117,180)\"], [1.0, \"rgb(49,54,149)\"]], \"type\": \"surface\", \"x\": [0, 1, 2, 3, 4], \"y\": [\"x\", \"y\", \"z\"], \"z\": [[1, 2, 3, 4, 5], [10, 20, 30, 20, 10], [5, 4, 3, 2, 1]]}],\n",
       "                        {\"legend\": {\"bgcolor\": \"#F5F6F9\", \"font\": {\"color\": \"#4D5663\"}}, \"paper_bgcolor\": \"#F5F6F9\", \"plot_bgcolor\": \"#F5F6F9\", \"template\": {\"data\": {\"bar\": [{\"error_x\": {\"color\": \"#2a3f5f\"}, \"error_y\": {\"color\": \"#2a3f5f\"}, \"marker\": {\"line\": {\"color\": \"#E5ECF6\", \"width\": 0.5}}, \"type\": \"bar\"}], \"barpolar\": [{\"marker\": {\"line\": {\"color\": \"#E5ECF6\", \"width\": 0.5}}, \"type\": \"barpolar\"}], \"carpet\": [{\"aaxis\": {\"endlinecolor\": \"#2a3f5f\", \"gridcolor\": \"white\", \"linecolor\": \"white\", \"minorgridcolor\": \"white\", \"startlinecolor\": \"#2a3f5f\"}, \"baxis\": {\"endlinecolor\": \"#2a3f5f\", \"gridcolor\": \"white\", \"linecolor\": \"white\", \"minorgridcolor\": \"white\", \"startlinecolor\": \"#2a3f5f\"}, \"type\": \"carpet\"}], \"choropleth\": [{\"colorbar\": {\"outlinewidth\": 0, \"ticks\": \"\"}, \"type\": \"choropleth\"}], \"contour\": [{\"colorbar\": {\"outlinewidth\": 0, \"ticks\": \"\"}, \"colorscale\": [[0.0, \"#0d0887\"], [0.1111111111111111, \"#46039f\"], [0.2222222222222222, \"#7201a8\"], [0.3333333333333333, \"#9c179e\"], [0.4444444444444444, \"#bd3786\"], [0.5555555555555556, \"#d8576b\"], [0.6666666666666666, \"#ed7953\"], [0.7777777777777778, \"#fb9f3a\"], [0.8888888888888888, \"#fdca26\"], [1.0, \"#f0f921\"]], \"type\": \"contour\"}], \"contourcarpet\": [{\"colorbar\": {\"outlinewidth\": 0, \"ticks\": \"\"}, \"type\": \"contourcarpet\"}], \"heatmap\": [{\"colorbar\": {\"outlinewidth\": 0, \"ticks\": \"\"}, \"colorscale\": [[0.0, \"#0d0887\"], [0.1111111111111111, \"#46039f\"], [0.2222222222222222, \"#7201a8\"], [0.3333333333333333, \"#9c179e\"], [0.4444444444444444, \"#bd3786\"], [0.5555555555555556, \"#d8576b\"], [0.6666666666666666, \"#ed7953\"], [0.7777777777777778, \"#fb9f3a\"], [0.8888888888888888, \"#fdca26\"], [1.0, \"#f0f921\"]], \"type\": \"heatmap\"}], \"heatmapgl\": [{\"colorbar\": {\"outlinewidth\": 0, \"ticks\": \"\"}, \"colorscale\": [[0.0, \"#0d0887\"], [0.1111111111111111, \"#46039f\"], [0.2222222222222222, \"#7201a8\"], [0.3333333333333333, \"#9c179e\"], [0.4444444444444444, \"#bd3786\"], [0.5555555555555556, \"#d8576b\"], [0.6666666666666666, \"#ed7953\"], [0.7777777777777778, \"#fb9f3a\"], [0.8888888888888888, \"#fdca26\"], [1.0, \"#f0f921\"]], \"type\": \"heatmapgl\"}], \"histogram\": [{\"marker\": {\"colorbar\": {\"outlinewidth\": 0, \"ticks\": \"\"}}, \"type\": \"histogram\"}], \"histogram2d\": [{\"colorbar\": {\"outlinewidth\": 0, \"ticks\": \"\"}, \"colorscale\": [[0.0, \"#0d0887\"], [0.1111111111111111, \"#46039f\"], [0.2222222222222222, \"#7201a8\"], [0.3333333333333333, \"#9c179e\"], [0.4444444444444444, \"#bd3786\"], [0.5555555555555556, \"#d8576b\"], [0.6666666666666666, \"#ed7953\"], [0.7777777777777778, \"#fb9f3a\"], [0.8888888888888888, \"#fdca26\"], [1.0, \"#f0f921\"]], \"type\": \"histogram2d\"}], \"histogram2dcontour\": [{\"colorbar\": {\"outlinewidth\": 0, \"ticks\": \"\"}, \"colorscale\": [[0.0, \"#0d0887\"], [0.1111111111111111, \"#46039f\"], [0.2222222222222222, \"#7201a8\"], [0.3333333333333333, \"#9c179e\"], [0.4444444444444444, \"#bd3786\"], [0.5555555555555556, \"#d8576b\"], [0.6666666666666666, \"#ed7953\"], [0.7777777777777778, \"#fb9f3a\"], [0.8888888888888888, \"#fdca26\"], [1.0, \"#f0f921\"]], \"type\": \"histogram2dcontour\"}], \"mesh3d\": [{\"colorbar\": {\"outlinewidth\": 0, \"ticks\": \"\"}, \"type\": \"mesh3d\"}], \"parcoords\": [{\"line\": {\"colorbar\": {\"outlinewidth\": 0, \"ticks\": \"\"}}, \"type\": \"parcoords\"}], \"pie\": [{\"automargin\": true, \"type\": \"pie\"}], \"scatter\": [{\"marker\": {\"colorbar\": {\"outlinewidth\": 0, \"ticks\": \"\"}}, \"type\": \"scatter\"}], \"scatter3d\": [{\"line\": {\"colorbar\": {\"outlinewidth\": 0, \"ticks\": \"\"}}, \"marker\": {\"colorbar\": {\"outlinewidth\": 0, \"ticks\": \"\"}}, \"type\": \"scatter3d\"}], \"scattercarpet\": [{\"marker\": {\"colorbar\": {\"outlinewidth\": 0, \"ticks\": \"\"}}, \"type\": \"scattercarpet\"}], \"scattergeo\": [{\"marker\": {\"colorbar\": {\"outlinewidth\": 0, \"ticks\": \"\"}}, \"type\": \"scattergeo\"}], \"scattergl\": [{\"marker\": {\"colorbar\": {\"outlinewidth\": 0, \"ticks\": \"\"}}, \"type\": \"scattergl\"}], \"scattermapbox\": [{\"marker\": {\"colorbar\": {\"outlinewidth\": 0, \"ticks\": \"\"}}, \"type\": \"scattermapbox\"}], \"scatterpolar\": [{\"marker\": {\"colorbar\": {\"outlinewidth\": 0, \"ticks\": \"\"}}, \"type\": \"scatterpolar\"}], \"scatterpolargl\": [{\"marker\": {\"colorbar\": {\"outlinewidth\": 0, \"ticks\": \"\"}}, \"type\": \"scatterpolargl\"}], \"scatterternary\": [{\"marker\": {\"colorbar\": {\"outlinewidth\": 0, \"ticks\": \"\"}}, \"type\": \"scatterternary\"}], \"surface\": [{\"colorbar\": {\"outlinewidth\": 0, \"ticks\": \"\"}, \"colorscale\": [[0.0, \"#0d0887\"], [0.1111111111111111, \"#46039f\"], [0.2222222222222222, \"#7201a8\"], [0.3333333333333333, \"#9c179e\"], [0.4444444444444444, \"#bd3786\"], [0.5555555555555556, \"#d8576b\"], [0.6666666666666666, \"#ed7953\"], [0.7777777777777778, \"#fb9f3a\"], [0.8888888888888888, \"#fdca26\"], [1.0, \"#f0f921\"]], \"type\": \"surface\"}], \"table\": [{\"cells\": {\"fill\": {\"color\": \"#EBF0F8\"}, \"line\": {\"color\": \"white\"}}, \"header\": {\"fill\": {\"color\": \"#C8D4E3\"}, \"line\": {\"color\": \"white\"}}, \"type\": \"table\"}]}, \"layout\": {\"annotationdefaults\": {\"arrowcolor\": \"#2a3f5f\", \"arrowhead\": 0, \"arrowwidth\": 1}, \"coloraxis\": {\"colorbar\": {\"outlinewidth\": 0, \"ticks\": \"\"}}, \"colorscale\": {\"diverging\": [[0, \"#8e0152\"], [0.1, \"#c51b7d\"], [0.2, \"#de77ae\"], [0.3, \"#f1b6da\"], [0.4, \"#fde0ef\"], [0.5, \"#f7f7f7\"], [0.6, \"#e6f5d0\"], [0.7, \"#b8e186\"], [0.8, \"#7fbc41\"], [0.9, \"#4d9221\"], [1, \"#276419\"]], \"sequential\": [[0.0, \"#0d0887\"], [0.1111111111111111, \"#46039f\"], [0.2222222222222222, \"#7201a8\"], [0.3333333333333333, \"#9c179e\"], [0.4444444444444444, \"#bd3786\"], [0.5555555555555556, \"#d8576b\"], [0.6666666666666666, \"#ed7953\"], [0.7777777777777778, \"#fb9f3a\"], [0.8888888888888888, \"#fdca26\"], [1.0, \"#f0f921\"]], \"sequentialminus\": [[0.0, \"#0d0887\"], [0.1111111111111111, \"#46039f\"], [0.2222222222222222, \"#7201a8\"], [0.3333333333333333, \"#9c179e\"], [0.4444444444444444, \"#bd3786\"], [0.5555555555555556, \"#d8576b\"], [0.6666666666666666, \"#ed7953\"], [0.7777777777777778, \"#fb9f3a\"], [0.8888888888888888, \"#fdca26\"], [1.0, \"#f0f921\"]]}, \"colorway\": [\"#636efa\", \"#EF553B\", \"#00cc96\", \"#ab63fa\", \"#FFA15A\", \"#19d3f3\", \"#FF6692\", \"#B6E880\", \"#FF97FF\", \"#FECB52\"], \"font\": {\"color\": \"#2a3f5f\"}, \"geo\": {\"bgcolor\": \"white\", \"lakecolor\": \"white\", \"landcolor\": \"#E5ECF6\", \"showlakes\": true, \"showland\": true, \"subunitcolor\": \"white\"}, \"hoverlabel\": {\"align\": \"left\"}, \"hovermode\": \"closest\", \"mapbox\": {\"style\": \"light\"}, \"paper_bgcolor\": \"white\", \"plot_bgcolor\": \"#E5ECF6\", \"polar\": {\"angularaxis\": {\"gridcolor\": \"white\", \"linecolor\": \"white\", \"ticks\": \"\"}, \"bgcolor\": \"#E5ECF6\", \"radialaxis\": {\"gridcolor\": \"white\", \"linecolor\": \"white\", \"ticks\": \"\"}}, \"scene\": {\"xaxis\": {\"backgroundcolor\": \"#E5ECF6\", \"gridcolor\": \"white\", \"gridwidth\": 2, \"linecolor\": \"white\", \"showbackground\": true, \"ticks\": \"\", \"zerolinecolor\": \"white\"}, \"yaxis\": {\"backgroundcolor\": \"#E5ECF6\", \"gridcolor\": \"white\", \"gridwidth\": 2, \"linecolor\": \"white\", \"showbackground\": true, \"ticks\": \"\", \"zerolinecolor\": \"white\"}, \"zaxis\": {\"backgroundcolor\": \"#E5ECF6\", \"gridcolor\": \"white\", \"gridwidth\": 2, \"linecolor\": \"white\", \"showbackground\": true, \"ticks\": \"\", \"zerolinecolor\": \"white\"}}, \"shapedefaults\": {\"line\": {\"color\": \"#2a3f5f\"}}, \"ternary\": {\"aaxis\": {\"gridcolor\": \"white\", \"linecolor\": \"white\", \"ticks\": \"\"}, \"baxis\": {\"gridcolor\": \"white\", \"linecolor\": \"white\", \"ticks\": \"\"}, \"bgcolor\": \"#E5ECF6\", \"caxis\": {\"gridcolor\": \"white\", \"linecolor\": \"white\", \"ticks\": \"\"}}, \"title\": {\"x\": 0.05}, \"xaxis\": {\"automargin\": true, \"gridcolor\": \"white\", \"linecolor\": \"white\", \"ticks\": \"\", \"title\": {\"standoff\": 15}, \"zerolinecolor\": \"white\", \"zerolinewidth\": 2}, \"yaxis\": {\"automargin\": true, \"gridcolor\": \"white\", \"linecolor\": \"white\", \"ticks\": \"\", \"title\": {\"standoff\": 15}, \"zerolinecolor\": \"white\", \"zerolinewidth\": 2}}}, \"title\": {\"font\": {\"color\": \"#4D5663\"}}, \"xaxis\": {\"gridcolor\": \"#E1E5ED\", \"showgrid\": true, \"tickfont\": {\"color\": \"#4D5663\"}, \"title\": {\"font\": {\"color\": \"#4D5663\"}, \"text\": \"\"}, \"zerolinecolor\": \"#E1E5ED\"}, \"yaxis\": {\"gridcolor\": \"#E1E5ED\", \"showgrid\": true, \"tickfont\": {\"color\": \"#4D5663\"}, \"title\": {\"font\": {\"color\": \"#4D5663\"}, \"text\": \"\"}, \"zerolinecolor\": \"#E1E5ED\"}},\n",
       "                        {\"showLink\": true, \"linkText\": \"Export to plot.ly\", \"plotlyServerURL\": \"https://plot.ly\", \"responsive\": true}\n",
       "                    ).then(function(){\n",
       "                            \n",
       "var gd = document.getElementById('10e518ab-db93-4b2e-92b5-eeec31944be4');\n",
       "var x = new MutationObserver(function (mutations, observer) {{\n",
       "        var display = window.getComputedStyle(gd).display;\n",
       "        if (!display || display === 'none') {{\n",
       "            console.log([gd, 'removed!']);\n",
       "            Plotly.purge(gd);\n",
       "            observer.disconnect();\n",
       "        }}\n",
       "}});\n",
       "\n",
       "// Listen for the removal of the full notebook cells\n",
       "var notebookContainer = gd.closest('#notebook-container');\n",
       "if (notebookContainer) {{\n",
       "    x.observe(notebookContainer, {childList: true});\n",
       "}}\n",
       "\n",
       "// Listen for the clearing of the current output cell\n",
       "var outputEl = gd.closest('.output');\n",
       "if (outputEl) {{\n",
       "    x.observe(outputEl, {childList: true});\n",
       "}}\n",
       "\n",
       "                        })\n",
       "                };\n",
       "                });\n",
       "            </script>\n",
       "        </div>"
      ]
     },
     "metadata": {},
     "output_type": "display_data"
    }
   ],
   "source": [
    "df3.iplot(kind = 'surface', colorscale = 'rdylbu')"
   ]
  },
  {
   "cell_type": "code",
   "execution_count": 58,
   "metadata": {},
   "outputs": [
    {
     "data": {
      "application/vnd.plotly.v1+json": {
       "config": {
        "linkText": "Export to plot.ly",
        "plotlyServerURL": "https://plot.ly",
        "showLink": true
       },
       "data": [
        {
         "histfunc": "count",
         "histnorm": "",
         "marker": {
          "color": "rgba(255, 153, 51, 1.0)",
          "line": {
           "color": "#4D5663",
           "width": 1.3
          }
         },
         "name": "A",
         "opacity": 0.8,
         "orientation": "v",
         "type": "histogram",
         "x": [
          -0.14022739364165643,
          -0.06215427637826168,
          1.3604993525322426,
          -0.31499023670117493,
          1.0029694989154603,
          0.970785908978943,
          -1.9952834025092647,
          1.0039135826827332,
          -0.9158744798111359,
          -1.5467467590902721,
          0.37209295460286496,
          -0.11707489023640913,
          0.3729934586411193,
          -0.09155881745717738,
          -0.03683336514171592,
          -0.41858716289621883,
          1.2727487669685111,
          0.7032449700650091,
          -0.3738248467613199,
          1.5095426393794726,
          -0.18607365814905844,
          0.4183288835354543,
          0.19887318935897869,
          -0.8883000951919754,
          -0.5092841539648556,
          -0.6087002578641567,
          -0.9661264541068408,
          -1.915268445309993,
          0.6093753654788755,
          1.580437092556138,
          1.2038017025994858,
          -0.9256468334675966,
          1.4351143773603932,
          1.1091342369517356,
          -0.018304712037069137,
          -2.2313836406164778,
          0.7070440778124587,
          -0.5307156073349464,
          2.296219589090963,
          2.387706409516227,
          0.6271835271545523,
          -1.2173587220621744,
          0.42570764846744746,
          -1.865485577029963,
          0.09358857883241165,
          0.21890364457894615,
          -0.8132962135397189,
          0.8909606370067288,
          -1.3191599374713485,
          -0.266719405828341,
          1.1247976919873686,
          0.48999024384756007,
          0.5807255032073525,
          -0.6562912505872847,
          -0.6742217180417197,
          2.214992557360574,
          -0.9679289742345283,
          0.43124375434740847,
          1.2054308100887878,
          -0.0920927130932392,
          0.9421320700961858,
          0.11984996143687157,
          -0.15429180556311048,
          0.2918631513091189,
          -1.8717576688946829,
          -0.8679678182080496,
          -0.020103099947394832,
          -0.042027336524633696,
          1.239199523092614,
          0.31174508367849085,
          0.9361084479519998,
          -0.18618102912744675,
          0.5826791217951177,
          0.43352959070524805,
          0.05304296463400472,
          -0.5926127266145984,
          -2.714955903645562,
          -0.7302768692480879,
          0.5416647778556658,
          1.066691518602927,
          -0.20464590566938895,
          1.667570632967258,
          -1.2848121388168667,
          -1.2693020887010722,
          1.1961530520102446,
          -2.303978558507296,
          -0.34484568309621116,
          0.33316727300389903,
          -1.5277704570453603,
          -0.2677533280031435,
          -1.1069183000442135,
          -0.69696863763343,
          0.4220514472520369,
          -0.7119580435533539,
          -0.4861965889709872,
          -1.0514199478282396,
          -1.2973863778725738,
          -1.852599660498362,
          0.2669849512911801,
          0.6934313898697425
         ]
        },
        {
         "histfunc": "count",
         "histnorm": "",
         "marker": {
          "color": "rgba(55, 128, 191, 1.0)",
          "line": {
           "color": "#4D5663",
           "width": 1.3
          }
         },
         "name": "B",
         "opacity": 0.8,
         "orientation": "v",
         "type": "histogram",
         "x": [
          -0.49138081110649495,
          0.20096821703152126,
          -0.5118376940715328,
          -0.294754672042674,
          0.7912868491160063,
          0.6016396273238315,
          -1.8517024871032415,
          -0.8357324338017871,
          0.5567672502176182,
          0.34248645594707156,
          1.1284364585110525,
          -0.9475016318413956,
          0.6052496337791674,
          -0.14129046372803092,
          0.23878933595490678,
          -1.3302105428345574,
          0.7065868414255477,
          0.8596504098464547,
          -1.0289972766977775,
          0.38416590094808395,
          -0.6805516583040593,
          0.25047413304492844,
          -1.0934455244419623,
          0.21783950085433063,
          -1.6465140549141115,
          1.773635885242201,
          -0.15523341084556538,
          2.676693565466258,
          -0.5545091562056877,
          -1.1680827062075498,
          0.4012562551292746,
          1.5825339892798398,
          -0.5398529138511904,
          1.0645026613523625,
          -1.4028466624172862,
          -0.8110265275168601,
          0.017905104851356973,
          -0.5880126717343193,
          -1.9196292048084675,
          -0.5770587119572501,
          -0.3709996873352136,
          0.6380882254802426,
          -2.048108646820459,
          -0.6244061305032667,
          0.1979958562682151,
          1.235861000391054,
          -0.056613145024522714,
          1.4231514175036732,
          -0.12371210746402267,
          2.0043855782244577,
          0.24377248592591028,
          -0.9191773044109226,
          1.260013880741051,
          0.25973909324840844,
          0.7809547129755966,
          -1.1393604843367602,
          0.5155300758995982,
          -0.08659470454921091,
          0.7450800307774069,
          0.8763936308013027,
          0.6536472576730905,
          -0.5269623477618497,
          -0.3983721526933854,
          0.2628759268519323,
          -0.05138886524695858,
          1.999743718409326,
          0.08002061538393514,
          1.8932986126680995,
          -0.4392068648508249,
          1.8041669201375656,
          0.5014501185022648,
          0.6418703110176629,
          0.916215226940129,
          0.09519773076228714,
          0.2024566893905404,
          -1.126067618256918,
          -1.043129801809276,
          1.4232891346410141,
          0.45471152794813313,
          -0.3789454598854821,
          1.113225442536063,
          0.9673482795705286,
          -2.1035698135731296,
          0.5732793851398493,
          0.008794944506913387,
          -1.11121827900885,
          -1.242414784044673,
          0.23578253336456306,
          1.5892034787841012,
          -0.2997132280280576,
          -0.38497283723599923,
          0.7293960491010912,
          0.09212027910610585,
          0.1752052422872672,
          0.5906643403648387,
          -0.7612504986085381,
          1.2337359981255012,
          -0.5972867609627632,
          0.9206519061066598,
          -1.5461656964766408
         ]
        },
        {
         "histfunc": "count",
         "histnorm": "",
         "marker": {
          "color": "rgba(50, 171, 96, 1.0)",
          "line": {
           "color": "#4D5663",
           "width": 1.3
          }
         },
         "name": "C",
         "opacity": 0.8,
         "orientation": "v",
         "type": "histogram",
         "x": [
          0.8322983650067056,
          2.9487944257739023,
          -0.9327203264414998,
          2.7933536990347863,
          0.8542454719675332,
          0.31809576337229933,
          -0.6715186412029381,
          0.15938393556550307,
          -1.7425405225991573,
          1.4863178222912832,
          -1.872915682609848,
          -0.5960420579789987,
          -2.203298476933827,
          -0.2329350022052127,
          0.7796450318301332,
          1.052891983781643,
          -0.1409371827770851,
          0.6474336473085542,
          -1.505571111529484,
          0.7062178145702688,
          -1.964670446835789,
          -0.4981514131178999,
          1.5181771987126984,
          -1.536175060551129,
          -0.38959992623384093,
          -0.3022172312940435,
          -0.25772880922383,
          -0.39695053175002115,
          -0.3095852443436779,
          -0.11194083861580877,
          0.7601753859738068,
          -0.530247095041203,
          0.20861687899845097,
          0.7674050485892783,
          0.4452817555900837,
          0.0767095841096248,
          -2.2259461140532677,
          -1.2116302710576747,
          -1.32822562098306,
          -0.5222062624020434,
          0.7911058892910624,
          0.4677239636003078,
          0.30047245775079023,
          0.3655170020081269,
          0.20289276559461722,
          0.4153352653664582,
          -0.052447423831299834,
          0.11944076654957166,
          0.8015700610030586,
          0.2918230148556353,
          1.4531188182365395,
          0.24933808921225617,
          0.3785975989601048,
          0.226260847886642,
          -0.41584412274397065,
          0.4454689629799662,
          -1.0586950119045058,
          -0.14716718680168142,
          0.8857301418421732,
          1.384794926717062,
          -0.4903542543080155,
          -0.2473618499212272,
          -0.7009630708566316,
          0.5156263381961245,
          -1.1291255812234384,
          -0.829298694609309,
          1.3248499130433977,
          0.08442761312503773,
          1.0275396393621423,
          -0.3766191390707656,
          -1.731605498902651,
          -0.8783732284756439,
          -0.4096881845872658,
          -0.9214946500952481,
          0.5544203859970838,
          0.055184168100756534,
          1.5837192344598334,
          1.7266557126922775,
          0.8683138050421154,
          -1.0555846243018687,
          -2.184309585184786,
          -0.3803520581700609,
          0.4206995113741631,
          0.085060901439029,
          1.15516801238735,
          1.256396811071076,
          0.6613073885245957,
          0.4055860332919486,
          0.7494503435914309,
          -0.3553773638208235,
          0.22709931025133642,
          -1.8067918820329791,
          -1.3655651555395014,
          -0.7013106904763116,
          -0.9608101653884948,
          -0.3913486413753859,
          -1.0725993756038412,
          1.8512012914505818,
          0.7088848612689266,
          -0.14842242801709593
         ]
        },
        {
         "histfunc": "count",
         "histnorm": "",
         "marker": {
          "color": "rgba(128, 0, 128, 1.0)",
          "line": {
           "color": "#4D5663",
           "width": 1.3
          }
         },
         "name": "D",
         "opacity": 0.8,
         "orientation": "v",
         "type": "histogram",
         "x": [
          0.14980519387875132,
          -1.4198798107052975,
          -0.7327077885129524,
          -0.6085377074797261,
          0.32603603643856804,
          0.05800489349336685,
          -0.7663414536041493,
          -0.4980972756109609,
          1.6291425865446543,
          0.4637796522855408,
          0.041789905018740685,
          0.3775787012811703,
          -1.5982595699465927,
          1.319815229205623,
          -0.7973020773164097,
          0.016588448398173073,
          0.7687636179232215,
          0.946061861862273,
          0.5630595028889144,
          -1.732414528269466,
          0.2202207093991576,
          -0.18890053343860205,
          -1.4304638653323456,
          -1.4128856795325917,
          0.06393104024926448,
          0.14144503101449765,
          0.4802131029118245,
          1.009367633119822,
          -0.5821688413981985,
          0.43607399705809297,
          -1.107229741845423,
          -0.1763841373336813,
          0.977963986531852,
          -1.6522872849716423,
          -0.5793361170634413,
          0.5558489986821461,
          1.065170588802731,
          1.3299176946618927,
          0.15570712345963303,
          -0.37284916437786214,
          0.8574099168049211,
          1.3580023577303706,
          -1.227710763935321,
          -1.581773724016081,
          -0.9583483914893025,
          0.5220724489139206,
          -0.9447623535968571,
          2.326472964841943,
          -1.0285467364486465,
          -0.9518028155898937,
          1.8256635162843007,
          -0.7447939489245792,
          -0.35542822662993445,
          2.0226683813177546,
          0.30189223247555663,
          -0.06399955557885503,
          -1.556050477309016,
          -1.6343501528936466,
          -0.41084832490311385,
          -0.16266217074037218,
          0.2914615780978868,
          -0.424044469491487,
          1.1063947607956812,
          -1.3891732650666997,
          -0.2954048676433976,
          1.1092818568490956,
          -0.19599030027340839,
          0.5291884870361916,
          0.36172739040270746,
          -0.560905791229739,
          -0.33918392310298456,
          0.5910664413066594,
          -1.0603114537944383,
          -0.16533511057927797,
          1.2364316740221963,
          0.1454372667550455,
          -1.4880456437309315,
          -0.0934156145073493,
          0.940054247885066,
          0.4769872896615898,
          2.142452777427751,
          -1.620668974236862,
          -0.019343804836262146,
          0.5090676133052232,
          -1.9161718154222847,
          0.3853671714937817,
          0.994868242832238,
          1.0964425597617593,
          1.467335409627744,
          0.7646621744062372,
          -1.7816290892180877,
          0.0907817268338275,
          -0.20687425439460655,
          -0.980047818319929,
          -0.07394196352769604,
          0.5749412114732553,
          -0.19751122740326005,
          1.2592560828216992,
          -0.094315966458522,
          1.016397700020748
         ]
        }
       ],
       "layout": {
        "barmode": "overlay",
        "legend": {
         "bgcolor": "#F5F6F9",
         "font": {
          "color": "#4D5663"
         }
        },
        "paper_bgcolor": "#F5F6F9",
        "plot_bgcolor": "#F5F6F9",
        "template": {
         "data": {
          "bar": [
           {
            "error_x": {
             "color": "#2a3f5f"
            },
            "error_y": {
             "color": "#2a3f5f"
            },
            "marker": {
             "line": {
              "color": "#E5ECF6",
              "width": 0.5
             }
            },
            "type": "bar"
           }
          ],
          "barpolar": [
           {
            "marker": {
             "line": {
              "color": "#E5ECF6",
              "width": 0.5
             }
            },
            "type": "barpolar"
           }
          ],
          "carpet": [
           {
            "aaxis": {
             "endlinecolor": "#2a3f5f",
             "gridcolor": "white",
             "linecolor": "white",
             "minorgridcolor": "white",
             "startlinecolor": "#2a3f5f"
            },
            "baxis": {
             "endlinecolor": "#2a3f5f",
             "gridcolor": "white",
             "linecolor": "white",
             "minorgridcolor": "white",
             "startlinecolor": "#2a3f5f"
            },
            "type": "carpet"
           }
          ],
          "choropleth": [
           {
            "colorbar": {
             "outlinewidth": 0,
             "ticks": ""
            },
            "type": "choropleth"
           }
          ],
          "contour": [
           {
            "colorbar": {
             "outlinewidth": 0,
             "ticks": ""
            },
            "colorscale": [
             [
              0,
              "#0d0887"
             ],
             [
              0.1111111111111111,
              "#46039f"
             ],
             [
              0.2222222222222222,
              "#7201a8"
             ],
             [
              0.3333333333333333,
              "#9c179e"
             ],
             [
              0.4444444444444444,
              "#bd3786"
             ],
             [
              0.5555555555555556,
              "#d8576b"
             ],
             [
              0.6666666666666666,
              "#ed7953"
             ],
             [
              0.7777777777777778,
              "#fb9f3a"
             ],
             [
              0.8888888888888888,
              "#fdca26"
             ],
             [
              1,
              "#f0f921"
             ]
            ],
            "type": "contour"
           }
          ],
          "contourcarpet": [
           {
            "colorbar": {
             "outlinewidth": 0,
             "ticks": ""
            },
            "type": "contourcarpet"
           }
          ],
          "heatmap": [
           {
            "colorbar": {
             "outlinewidth": 0,
             "ticks": ""
            },
            "colorscale": [
             [
              0,
              "#0d0887"
             ],
             [
              0.1111111111111111,
              "#46039f"
             ],
             [
              0.2222222222222222,
              "#7201a8"
             ],
             [
              0.3333333333333333,
              "#9c179e"
             ],
             [
              0.4444444444444444,
              "#bd3786"
             ],
             [
              0.5555555555555556,
              "#d8576b"
             ],
             [
              0.6666666666666666,
              "#ed7953"
             ],
             [
              0.7777777777777778,
              "#fb9f3a"
             ],
             [
              0.8888888888888888,
              "#fdca26"
             ],
             [
              1,
              "#f0f921"
             ]
            ],
            "type": "heatmap"
           }
          ],
          "heatmapgl": [
           {
            "colorbar": {
             "outlinewidth": 0,
             "ticks": ""
            },
            "colorscale": [
             [
              0,
              "#0d0887"
             ],
             [
              0.1111111111111111,
              "#46039f"
             ],
             [
              0.2222222222222222,
              "#7201a8"
             ],
             [
              0.3333333333333333,
              "#9c179e"
             ],
             [
              0.4444444444444444,
              "#bd3786"
             ],
             [
              0.5555555555555556,
              "#d8576b"
             ],
             [
              0.6666666666666666,
              "#ed7953"
             ],
             [
              0.7777777777777778,
              "#fb9f3a"
             ],
             [
              0.8888888888888888,
              "#fdca26"
             ],
             [
              1,
              "#f0f921"
             ]
            ],
            "type": "heatmapgl"
           }
          ],
          "histogram": [
           {
            "marker": {
             "colorbar": {
              "outlinewidth": 0,
              "ticks": ""
             }
            },
            "type": "histogram"
           }
          ],
          "histogram2d": [
           {
            "colorbar": {
             "outlinewidth": 0,
             "ticks": ""
            },
            "colorscale": [
             [
              0,
              "#0d0887"
             ],
             [
              0.1111111111111111,
              "#46039f"
             ],
             [
              0.2222222222222222,
              "#7201a8"
             ],
             [
              0.3333333333333333,
              "#9c179e"
             ],
             [
              0.4444444444444444,
              "#bd3786"
             ],
             [
              0.5555555555555556,
              "#d8576b"
             ],
             [
              0.6666666666666666,
              "#ed7953"
             ],
             [
              0.7777777777777778,
              "#fb9f3a"
             ],
             [
              0.8888888888888888,
              "#fdca26"
             ],
             [
              1,
              "#f0f921"
             ]
            ],
            "type": "histogram2d"
           }
          ],
          "histogram2dcontour": [
           {
            "colorbar": {
             "outlinewidth": 0,
             "ticks": ""
            },
            "colorscale": [
             [
              0,
              "#0d0887"
             ],
             [
              0.1111111111111111,
              "#46039f"
             ],
             [
              0.2222222222222222,
              "#7201a8"
             ],
             [
              0.3333333333333333,
              "#9c179e"
             ],
             [
              0.4444444444444444,
              "#bd3786"
             ],
             [
              0.5555555555555556,
              "#d8576b"
             ],
             [
              0.6666666666666666,
              "#ed7953"
             ],
             [
              0.7777777777777778,
              "#fb9f3a"
             ],
             [
              0.8888888888888888,
              "#fdca26"
             ],
             [
              1,
              "#f0f921"
             ]
            ],
            "type": "histogram2dcontour"
           }
          ],
          "mesh3d": [
           {
            "colorbar": {
             "outlinewidth": 0,
             "ticks": ""
            },
            "type": "mesh3d"
           }
          ],
          "parcoords": [
           {
            "line": {
             "colorbar": {
              "outlinewidth": 0,
              "ticks": ""
             }
            },
            "type": "parcoords"
           }
          ],
          "pie": [
           {
            "automargin": true,
            "type": "pie"
           }
          ],
          "scatter": [
           {
            "marker": {
             "colorbar": {
              "outlinewidth": 0,
              "ticks": ""
             }
            },
            "type": "scatter"
           }
          ],
          "scatter3d": [
           {
            "line": {
             "colorbar": {
              "outlinewidth": 0,
              "ticks": ""
             }
            },
            "marker": {
             "colorbar": {
              "outlinewidth": 0,
              "ticks": ""
             }
            },
            "type": "scatter3d"
           }
          ],
          "scattercarpet": [
           {
            "marker": {
             "colorbar": {
              "outlinewidth": 0,
              "ticks": ""
             }
            },
            "type": "scattercarpet"
           }
          ],
          "scattergeo": [
           {
            "marker": {
             "colorbar": {
              "outlinewidth": 0,
              "ticks": ""
             }
            },
            "type": "scattergeo"
           }
          ],
          "scattergl": [
           {
            "marker": {
             "colorbar": {
              "outlinewidth": 0,
              "ticks": ""
             }
            },
            "type": "scattergl"
           }
          ],
          "scattermapbox": [
           {
            "marker": {
             "colorbar": {
              "outlinewidth": 0,
              "ticks": ""
             }
            },
            "type": "scattermapbox"
           }
          ],
          "scatterpolar": [
           {
            "marker": {
             "colorbar": {
              "outlinewidth": 0,
              "ticks": ""
             }
            },
            "type": "scatterpolar"
           }
          ],
          "scatterpolargl": [
           {
            "marker": {
             "colorbar": {
              "outlinewidth": 0,
              "ticks": ""
             }
            },
            "type": "scatterpolargl"
           }
          ],
          "scatterternary": [
           {
            "marker": {
             "colorbar": {
              "outlinewidth": 0,
              "ticks": ""
             }
            },
            "type": "scatterternary"
           }
          ],
          "surface": [
           {
            "colorbar": {
             "outlinewidth": 0,
             "ticks": ""
            },
            "colorscale": [
             [
              0,
              "#0d0887"
             ],
             [
              0.1111111111111111,
              "#46039f"
             ],
             [
              0.2222222222222222,
              "#7201a8"
             ],
             [
              0.3333333333333333,
              "#9c179e"
             ],
             [
              0.4444444444444444,
              "#bd3786"
             ],
             [
              0.5555555555555556,
              "#d8576b"
             ],
             [
              0.6666666666666666,
              "#ed7953"
             ],
             [
              0.7777777777777778,
              "#fb9f3a"
             ],
             [
              0.8888888888888888,
              "#fdca26"
             ],
             [
              1,
              "#f0f921"
             ]
            ],
            "type": "surface"
           }
          ],
          "table": [
           {
            "cells": {
             "fill": {
              "color": "#EBF0F8"
             },
             "line": {
              "color": "white"
             }
            },
            "header": {
             "fill": {
              "color": "#C8D4E3"
             },
             "line": {
              "color": "white"
             }
            },
            "type": "table"
           }
          ]
         },
         "layout": {
          "annotationdefaults": {
           "arrowcolor": "#2a3f5f",
           "arrowhead": 0,
           "arrowwidth": 1
          },
          "coloraxis": {
           "colorbar": {
            "outlinewidth": 0,
            "ticks": ""
           }
          },
          "colorscale": {
           "diverging": [
            [
             0,
             "#8e0152"
            ],
            [
             0.1,
             "#c51b7d"
            ],
            [
             0.2,
             "#de77ae"
            ],
            [
             0.3,
             "#f1b6da"
            ],
            [
             0.4,
             "#fde0ef"
            ],
            [
             0.5,
             "#f7f7f7"
            ],
            [
             0.6,
             "#e6f5d0"
            ],
            [
             0.7,
             "#b8e186"
            ],
            [
             0.8,
             "#7fbc41"
            ],
            [
             0.9,
             "#4d9221"
            ],
            [
             1,
             "#276419"
            ]
           ],
           "sequential": [
            [
             0,
             "#0d0887"
            ],
            [
             0.1111111111111111,
             "#46039f"
            ],
            [
             0.2222222222222222,
             "#7201a8"
            ],
            [
             0.3333333333333333,
             "#9c179e"
            ],
            [
             0.4444444444444444,
             "#bd3786"
            ],
            [
             0.5555555555555556,
             "#d8576b"
            ],
            [
             0.6666666666666666,
             "#ed7953"
            ],
            [
             0.7777777777777778,
             "#fb9f3a"
            ],
            [
             0.8888888888888888,
             "#fdca26"
            ],
            [
             1,
             "#f0f921"
            ]
           ],
           "sequentialminus": [
            [
             0,
             "#0d0887"
            ],
            [
             0.1111111111111111,
             "#46039f"
            ],
            [
             0.2222222222222222,
             "#7201a8"
            ],
            [
             0.3333333333333333,
             "#9c179e"
            ],
            [
             0.4444444444444444,
             "#bd3786"
            ],
            [
             0.5555555555555556,
             "#d8576b"
            ],
            [
             0.6666666666666666,
             "#ed7953"
            ],
            [
             0.7777777777777778,
             "#fb9f3a"
            ],
            [
             0.8888888888888888,
             "#fdca26"
            ],
            [
             1,
             "#f0f921"
            ]
           ]
          },
          "colorway": [
           "#636efa",
           "#EF553B",
           "#00cc96",
           "#ab63fa",
           "#FFA15A",
           "#19d3f3",
           "#FF6692",
           "#B6E880",
           "#FF97FF",
           "#FECB52"
          ],
          "font": {
           "color": "#2a3f5f"
          },
          "geo": {
           "bgcolor": "white",
           "lakecolor": "white",
           "landcolor": "#E5ECF6",
           "showlakes": true,
           "showland": true,
           "subunitcolor": "white"
          },
          "hoverlabel": {
           "align": "left"
          },
          "hovermode": "closest",
          "mapbox": {
           "style": "light"
          },
          "paper_bgcolor": "white",
          "plot_bgcolor": "#E5ECF6",
          "polar": {
           "angularaxis": {
            "gridcolor": "white",
            "linecolor": "white",
            "ticks": ""
           },
           "bgcolor": "#E5ECF6",
           "radialaxis": {
            "gridcolor": "white",
            "linecolor": "white",
            "ticks": ""
           }
          },
          "scene": {
           "xaxis": {
            "backgroundcolor": "#E5ECF6",
            "gridcolor": "white",
            "gridwidth": 2,
            "linecolor": "white",
            "showbackground": true,
            "ticks": "",
            "zerolinecolor": "white"
           },
           "yaxis": {
            "backgroundcolor": "#E5ECF6",
            "gridcolor": "white",
            "gridwidth": 2,
            "linecolor": "white",
            "showbackground": true,
            "ticks": "",
            "zerolinecolor": "white"
           },
           "zaxis": {
            "backgroundcolor": "#E5ECF6",
            "gridcolor": "white",
            "gridwidth": 2,
            "linecolor": "white",
            "showbackground": true,
            "ticks": "",
            "zerolinecolor": "white"
           }
          },
          "shapedefaults": {
           "line": {
            "color": "#2a3f5f"
           }
          },
          "ternary": {
           "aaxis": {
            "gridcolor": "white",
            "linecolor": "white",
            "ticks": ""
           },
           "baxis": {
            "gridcolor": "white",
            "linecolor": "white",
            "ticks": ""
           },
           "bgcolor": "#E5ECF6",
           "caxis": {
            "gridcolor": "white",
            "linecolor": "white",
            "ticks": ""
           }
          },
          "title": {
           "x": 0.05
          },
          "xaxis": {
           "automargin": true,
           "gridcolor": "white",
           "linecolor": "white",
           "ticks": "",
           "title": {
            "standoff": 15
           },
           "zerolinecolor": "white",
           "zerolinewidth": 2
          },
          "yaxis": {
           "automargin": true,
           "gridcolor": "white",
           "linecolor": "white",
           "ticks": "",
           "title": {
            "standoff": 15
           },
           "zerolinecolor": "white",
           "zerolinewidth": 2
          }
         }
        },
        "title": {
         "font": {
          "color": "#4D5663"
         }
        },
        "xaxis": {
         "gridcolor": "#E1E5ED",
         "showgrid": true,
         "tickfont": {
          "color": "#4D5663"
         },
         "title": {
          "font": {
           "color": "#4D5663"
          },
          "text": ""
         },
         "zerolinecolor": "#E1E5ED"
        },
        "yaxis": {
         "gridcolor": "#E1E5ED",
         "showgrid": true,
         "tickfont": {
          "color": "#4D5663"
         },
         "title": {
          "font": {
           "color": "#4D5663"
          },
          "text": ""
         },
         "zerolinecolor": "#E1E5ED"
        }
       }
      },
      "text/html": [
       "<div>\n",
       "        \n",
       "        \n",
       "            <div id=\"2a7984e1-7381-4ae2-af2a-044d079a11f9\" class=\"plotly-graph-div\" style=\"height:525px; width:100%;\"></div>\n",
       "            <script type=\"text/javascript\">\n",
       "                require([\"plotly\"], function(Plotly) {\n",
       "                    window.PLOTLYENV=window.PLOTLYENV || {};\n",
       "                    window.PLOTLYENV.BASE_URL='https://plot.ly';\n",
       "                    \n",
       "                if (document.getElementById(\"2a7984e1-7381-4ae2-af2a-044d079a11f9\")) {\n",
       "                    Plotly.newPlot(\n",
       "                        '2a7984e1-7381-4ae2-af2a-044d079a11f9',\n",
       "                        [{\"histfunc\": \"count\", \"histnorm\": \"\", \"marker\": {\"color\": \"rgba(255, 153, 51, 1.0)\", \"line\": {\"color\": \"#4D5663\", \"width\": 1.3}}, \"name\": \"A\", \"opacity\": 0.8, \"orientation\": \"v\", \"type\": \"histogram\", \"x\": [-0.14022739364165643, -0.06215427637826168, 1.3604993525322426, -0.31499023670117493, 1.0029694989154603, 0.970785908978943, -1.9952834025092647, 1.0039135826827332, -0.9158744798111359, -1.5467467590902721, 0.37209295460286496, -0.11707489023640913, 0.3729934586411193, -0.09155881745717738, -0.03683336514171592, -0.41858716289621883, 1.2727487669685111, 0.7032449700650091, -0.3738248467613199, 1.5095426393794726, -0.18607365814905844, 0.4183288835354543, 0.19887318935897869, -0.8883000951919754, -0.5092841539648556, -0.6087002578641567, -0.9661264541068408, -1.915268445309993, 0.6093753654788755, 1.580437092556138, 1.2038017025994858, -0.9256468334675966, 1.4351143773603932, 1.1091342369517356, -0.018304712037069137, -2.2313836406164778, 0.7070440778124587, -0.5307156073349464, 2.296219589090963, 2.387706409516227, 0.6271835271545523, -1.2173587220621744, 0.42570764846744746, -1.865485577029963, 0.09358857883241165, 0.21890364457894615, -0.8132962135397189, 0.8909606370067288, -1.3191599374713485, -0.266719405828341, 1.1247976919873686, 0.48999024384756007, 0.5807255032073525, -0.6562912505872847, -0.6742217180417197, 2.214992557360574, -0.9679289742345283, 0.43124375434740847, 1.2054308100887878, -0.0920927130932392, 0.9421320700961858, 0.11984996143687157, -0.15429180556311048, 0.2918631513091189, -1.8717576688946829, -0.8679678182080496, -0.020103099947394832, -0.042027336524633696, 1.239199523092614, 0.31174508367849085, 0.9361084479519998, -0.18618102912744675, 0.5826791217951177, 0.43352959070524805, 0.05304296463400472, -0.5926127266145984, -2.714955903645562, -0.7302768692480879, 0.5416647778556658, 1.066691518602927, -0.20464590566938895, 1.667570632967258, -1.2848121388168667, -1.2693020887010722, 1.1961530520102446, -2.303978558507296, -0.34484568309621116, 0.33316727300389903, -1.5277704570453603, -0.2677533280031435, -1.1069183000442135, -0.69696863763343, 0.4220514472520369, -0.7119580435533539, -0.4861965889709872, -1.0514199478282396, -1.2973863778725738, -1.852599660498362, 0.2669849512911801, 0.6934313898697425]}, {\"histfunc\": \"count\", \"histnorm\": \"\", \"marker\": {\"color\": \"rgba(55, 128, 191, 1.0)\", \"line\": {\"color\": \"#4D5663\", \"width\": 1.3}}, \"name\": \"B\", \"opacity\": 0.8, \"orientation\": \"v\", \"type\": \"histogram\", \"x\": [-0.49138081110649495, 0.20096821703152126, -0.5118376940715328, -0.294754672042674, 0.7912868491160063, 0.6016396273238315, -1.8517024871032415, -0.8357324338017871, 0.5567672502176182, 0.34248645594707156, 1.1284364585110525, -0.9475016318413956, 0.6052496337791674, -0.14129046372803092, 0.23878933595490678, -1.3302105428345574, 0.7065868414255477, 0.8596504098464547, -1.0289972766977775, 0.38416590094808395, -0.6805516583040593, 0.25047413304492844, -1.0934455244419623, 0.21783950085433063, -1.6465140549141115, 1.773635885242201, -0.15523341084556538, 2.676693565466258, -0.5545091562056877, -1.1680827062075498, 0.4012562551292746, 1.5825339892798398, -0.5398529138511904, 1.0645026613523625, -1.4028466624172862, -0.8110265275168601, 0.017905104851356973, -0.5880126717343193, -1.9196292048084675, -0.5770587119572501, -0.3709996873352136, 0.6380882254802426, -2.048108646820459, -0.6244061305032667, 0.1979958562682151, 1.235861000391054, -0.056613145024522714, 1.4231514175036732, -0.12371210746402267, 2.0043855782244577, 0.24377248592591028, -0.9191773044109226, 1.260013880741051, 0.25973909324840844, 0.7809547129755966, -1.1393604843367602, 0.5155300758995982, -0.08659470454921091, 0.7450800307774069, 0.8763936308013027, 0.6536472576730905, -0.5269623477618497, -0.3983721526933854, 0.2628759268519323, -0.05138886524695858, 1.999743718409326, 0.08002061538393514, 1.8932986126680995, -0.4392068648508249, 1.8041669201375656, 0.5014501185022648, 0.6418703110176629, 0.916215226940129, 0.09519773076228714, 0.2024566893905404, -1.126067618256918, -1.043129801809276, 1.4232891346410141, 0.45471152794813313, -0.3789454598854821, 1.113225442536063, 0.9673482795705286, -2.1035698135731296, 0.5732793851398493, 0.008794944506913387, -1.11121827900885, -1.242414784044673, 0.23578253336456306, 1.5892034787841012, -0.2997132280280576, -0.38497283723599923, 0.7293960491010912, 0.09212027910610585, 0.1752052422872672, 0.5906643403648387, -0.7612504986085381, 1.2337359981255012, -0.5972867609627632, 0.9206519061066598, -1.5461656964766408]}, {\"histfunc\": \"count\", \"histnorm\": \"\", \"marker\": {\"color\": \"rgba(50, 171, 96, 1.0)\", \"line\": {\"color\": \"#4D5663\", \"width\": 1.3}}, \"name\": \"C\", \"opacity\": 0.8, \"orientation\": \"v\", \"type\": \"histogram\", \"x\": [0.8322983650067056, 2.9487944257739023, -0.9327203264414998, 2.7933536990347863, 0.8542454719675332, 0.31809576337229933, -0.6715186412029381, 0.15938393556550307, -1.7425405225991573, 1.4863178222912832, -1.872915682609848, -0.5960420579789987, -2.203298476933827, -0.2329350022052127, 0.7796450318301332, 1.052891983781643, -0.1409371827770851, 0.6474336473085542, -1.505571111529484, 0.7062178145702688, -1.964670446835789, -0.4981514131178999, 1.5181771987126984, -1.536175060551129, -0.38959992623384093, -0.3022172312940435, -0.25772880922383, -0.39695053175002115, -0.3095852443436779, -0.11194083861580877, 0.7601753859738068, -0.530247095041203, 0.20861687899845097, 0.7674050485892783, 0.4452817555900837, 0.0767095841096248, -2.2259461140532677, -1.2116302710576747, -1.32822562098306, -0.5222062624020434, 0.7911058892910624, 0.4677239636003078, 0.30047245775079023, 0.3655170020081269, 0.20289276559461722, 0.4153352653664582, -0.052447423831299834, 0.11944076654957166, 0.8015700610030586, 0.2918230148556353, 1.4531188182365395, 0.24933808921225617, 0.3785975989601048, 0.226260847886642, -0.41584412274397065, 0.4454689629799662, -1.0586950119045058, -0.14716718680168142, 0.8857301418421732, 1.384794926717062, -0.4903542543080155, -0.2473618499212272, -0.7009630708566316, 0.5156263381961245, -1.1291255812234384, -0.829298694609309, 1.3248499130433977, 0.08442761312503773, 1.0275396393621423, -0.3766191390707656, -1.731605498902651, -0.8783732284756439, -0.4096881845872658, -0.9214946500952481, 0.5544203859970838, 0.055184168100756534, 1.5837192344598334, 1.7266557126922775, 0.8683138050421154, -1.0555846243018687, -2.184309585184786, -0.3803520581700609, 0.4206995113741631, 0.085060901439029, 1.15516801238735, 1.256396811071076, 0.6613073885245957, 0.4055860332919486, 0.7494503435914309, -0.3553773638208235, 0.22709931025133642, -1.8067918820329791, -1.3655651555395014, -0.7013106904763116, -0.9608101653884948, -0.3913486413753859, -1.0725993756038412, 1.8512012914505818, 0.7088848612689266, -0.14842242801709593]}, {\"histfunc\": \"count\", \"histnorm\": \"\", \"marker\": {\"color\": \"rgba(128, 0, 128, 1.0)\", \"line\": {\"color\": \"#4D5663\", \"width\": 1.3}}, \"name\": \"D\", \"opacity\": 0.8, \"orientation\": \"v\", \"type\": \"histogram\", \"x\": [0.14980519387875132, -1.4198798107052975, -0.7327077885129524, -0.6085377074797261, 0.32603603643856804, 0.05800489349336685, -0.7663414536041493, -0.4980972756109609, 1.6291425865446543, 0.4637796522855408, 0.041789905018740685, 0.3775787012811703, -1.5982595699465927, 1.319815229205623, -0.7973020773164097, 0.016588448398173073, 0.7687636179232215, 0.946061861862273, 0.5630595028889144, -1.732414528269466, 0.2202207093991576, -0.18890053343860205, -1.4304638653323456, -1.4128856795325917, 0.06393104024926448, 0.14144503101449765, 0.4802131029118245, 1.009367633119822, -0.5821688413981985, 0.43607399705809297, -1.107229741845423, -0.1763841373336813, 0.977963986531852, -1.6522872849716423, -0.5793361170634413, 0.5558489986821461, 1.065170588802731, 1.3299176946618927, 0.15570712345963303, -0.37284916437786214, 0.8574099168049211, 1.3580023577303706, -1.227710763935321, -1.581773724016081, -0.9583483914893025, 0.5220724489139206, -0.9447623535968571, 2.326472964841943, -1.0285467364486465, -0.9518028155898937, 1.8256635162843007, -0.7447939489245792, -0.35542822662993445, 2.0226683813177546, 0.30189223247555663, -0.06399955557885503, -1.556050477309016, -1.6343501528936466, -0.41084832490311385, -0.16266217074037218, 0.2914615780978868, -0.424044469491487, 1.1063947607956812, -1.3891732650666997, -0.2954048676433976, 1.1092818568490956, -0.19599030027340839, 0.5291884870361916, 0.36172739040270746, -0.560905791229739, -0.33918392310298456, 0.5910664413066594, -1.0603114537944383, -0.16533511057927797, 1.2364316740221963, 0.1454372667550455, -1.4880456437309315, -0.0934156145073493, 0.940054247885066, 0.4769872896615898, 2.142452777427751, -1.620668974236862, -0.019343804836262146, 0.5090676133052232, -1.9161718154222847, 0.3853671714937817, 0.994868242832238, 1.0964425597617593, 1.467335409627744, 0.7646621744062372, -1.7816290892180877, 0.0907817268338275, -0.20687425439460655, -0.980047818319929, -0.07394196352769604, 0.5749412114732553, -0.19751122740326005, 1.2592560828216992, -0.094315966458522, 1.016397700020748]}],\n",
       "                        {\"barmode\": \"overlay\", \"legend\": {\"bgcolor\": \"#F5F6F9\", \"font\": {\"color\": \"#4D5663\"}}, \"paper_bgcolor\": \"#F5F6F9\", \"plot_bgcolor\": \"#F5F6F9\", \"template\": {\"data\": {\"bar\": [{\"error_x\": {\"color\": \"#2a3f5f\"}, \"error_y\": {\"color\": \"#2a3f5f\"}, \"marker\": {\"line\": {\"color\": \"#E5ECF6\", \"width\": 0.5}}, \"type\": \"bar\"}], \"barpolar\": [{\"marker\": {\"line\": {\"color\": \"#E5ECF6\", \"width\": 0.5}}, \"type\": \"barpolar\"}], \"carpet\": [{\"aaxis\": {\"endlinecolor\": \"#2a3f5f\", \"gridcolor\": \"white\", \"linecolor\": \"white\", \"minorgridcolor\": \"white\", \"startlinecolor\": \"#2a3f5f\"}, \"baxis\": {\"endlinecolor\": \"#2a3f5f\", \"gridcolor\": \"white\", \"linecolor\": \"white\", \"minorgridcolor\": \"white\", \"startlinecolor\": \"#2a3f5f\"}, \"type\": \"carpet\"}], \"choropleth\": [{\"colorbar\": {\"outlinewidth\": 0, \"ticks\": \"\"}, \"type\": \"choropleth\"}], \"contour\": [{\"colorbar\": {\"outlinewidth\": 0, \"ticks\": \"\"}, \"colorscale\": [[0.0, \"#0d0887\"], [0.1111111111111111, \"#46039f\"], [0.2222222222222222, \"#7201a8\"], [0.3333333333333333, \"#9c179e\"], [0.4444444444444444, \"#bd3786\"], [0.5555555555555556, \"#d8576b\"], [0.6666666666666666, \"#ed7953\"], [0.7777777777777778, \"#fb9f3a\"], [0.8888888888888888, \"#fdca26\"], [1.0, \"#f0f921\"]], \"type\": \"contour\"}], \"contourcarpet\": [{\"colorbar\": {\"outlinewidth\": 0, \"ticks\": \"\"}, \"type\": \"contourcarpet\"}], \"heatmap\": [{\"colorbar\": {\"outlinewidth\": 0, \"ticks\": \"\"}, \"colorscale\": [[0.0, \"#0d0887\"], [0.1111111111111111, \"#46039f\"], [0.2222222222222222, \"#7201a8\"], [0.3333333333333333, \"#9c179e\"], [0.4444444444444444, \"#bd3786\"], [0.5555555555555556, \"#d8576b\"], [0.6666666666666666, \"#ed7953\"], [0.7777777777777778, \"#fb9f3a\"], [0.8888888888888888, \"#fdca26\"], [1.0, \"#f0f921\"]], \"type\": \"heatmap\"}], \"heatmapgl\": [{\"colorbar\": {\"outlinewidth\": 0, \"ticks\": \"\"}, \"colorscale\": [[0.0, \"#0d0887\"], [0.1111111111111111, \"#46039f\"], [0.2222222222222222, \"#7201a8\"], [0.3333333333333333, \"#9c179e\"], [0.4444444444444444, \"#bd3786\"], [0.5555555555555556, \"#d8576b\"], [0.6666666666666666, \"#ed7953\"], [0.7777777777777778, \"#fb9f3a\"], [0.8888888888888888, \"#fdca26\"], [1.0, \"#f0f921\"]], \"type\": \"heatmapgl\"}], \"histogram\": [{\"marker\": {\"colorbar\": {\"outlinewidth\": 0, \"ticks\": \"\"}}, \"type\": \"histogram\"}], \"histogram2d\": [{\"colorbar\": {\"outlinewidth\": 0, \"ticks\": \"\"}, \"colorscale\": [[0.0, \"#0d0887\"], [0.1111111111111111, \"#46039f\"], [0.2222222222222222, \"#7201a8\"], [0.3333333333333333, \"#9c179e\"], [0.4444444444444444, \"#bd3786\"], [0.5555555555555556, \"#d8576b\"], [0.6666666666666666, \"#ed7953\"], [0.7777777777777778, \"#fb9f3a\"], [0.8888888888888888, \"#fdca26\"], [1.0, \"#f0f921\"]], \"type\": \"histogram2d\"}], \"histogram2dcontour\": [{\"colorbar\": {\"outlinewidth\": 0, \"ticks\": \"\"}, \"colorscale\": [[0.0, \"#0d0887\"], [0.1111111111111111, \"#46039f\"], [0.2222222222222222, \"#7201a8\"], [0.3333333333333333, \"#9c179e\"], [0.4444444444444444, \"#bd3786\"], [0.5555555555555556, \"#d8576b\"], [0.6666666666666666, \"#ed7953\"], [0.7777777777777778, \"#fb9f3a\"], [0.8888888888888888, \"#fdca26\"], [1.0, \"#f0f921\"]], \"type\": \"histogram2dcontour\"}], \"mesh3d\": [{\"colorbar\": {\"outlinewidth\": 0, \"ticks\": \"\"}, \"type\": \"mesh3d\"}], \"parcoords\": [{\"line\": {\"colorbar\": {\"outlinewidth\": 0, \"ticks\": \"\"}}, \"type\": \"parcoords\"}], \"pie\": [{\"automargin\": true, \"type\": \"pie\"}], \"scatter\": [{\"marker\": {\"colorbar\": {\"outlinewidth\": 0, \"ticks\": \"\"}}, \"type\": \"scatter\"}], \"scatter3d\": [{\"line\": {\"colorbar\": {\"outlinewidth\": 0, \"ticks\": \"\"}}, \"marker\": {\"colorbar\": {\"outlinewidth\": 0, \"ticks\": \"\"}}, \"type\": \"scatter3d\"}], \"scattercarpet\": [{\"marker\": {\"colorbar\": {\"outlinewidth\": 0, \"ticks\": \"\"}}, \"type\": \"scattercarpet\"}], \"scattergeo\": [{\"marker\": {\"colorbar\": {\"outlinewidth\": 0, \"ticks\": \"\"}}, \"type\": \"scattergeo\"}], \"scattergl\": [{\"marker\": {\"colorbar\": {\"outlinewidth\": 0, \"ticks\": \"\"}}, \"type\": \"scattergl\"}], \"scattermapbox\": [{\"marker\": {\"colorbar\": {\"outlinewidth\": 0, \"ticks\": \"\"}}, \"type\": \"scattermapbox\"}], \"scatterpolar\": [{\"marker\": {\"colorbar\": {\"outlinewidth\": 0, \"ticks\": \"\"}}, \"type\": \"scatterpolar\"}], \"scatterpolargl\": [{\"marker\": {\"colorbar\": {\"outlinewidth\": 0, \"ticks\": \"\"}}, \"type\": \"scatterpolargl\"}], \"scatterternary\": [{\"marker\": {\"colorbar\": {\"outlinewidth\": 0, \"ticks\": \"\"}}, \"type\": \"scatterternary\"}], \"surface\": [{\"colorbar\": {\"outlinewidth\": 0, \"ticks\": \"\"}, \"colorscale\": [[0.0, \"#0d0887\"], [0.1111111111111111, \"#46039f\"], [0.2222222222222222, \"#7201a8\"], [0.3333333333333333, \"#9c179e\"], [0.4444444444444444, \"#bd3786\"], [0.5555555555555556, \"#d8576b\"], [0.6666666666666666, \"#ed7953\"], [0.7777777777777778, \"#fb9f3a\"], [0.8888888888888888, \"#fdca26\"], [1.0, \"#f0f921\"]], \"type\": \"surface\"}], \"table\": [{\"cells\": {\"fill\": {\"color\": \"#EBF0F8\"}, \"line\": {\"color\": \"white\"}}, \"header\": {\"fill\": {\"color\": \"#C8D4E3\"}, \"line\": {\"color\": \"white\"}}, \"type\": \"table\"}]}, \"layout\": {\"annotationdefaults\": {\"arrowcolor\": \"#2a3f5f\", \"arrowhead\": 0, \"arrowwidth\": 1}, \"coloraxis\": {\"colorbar\": {\"outlinewidth\": 0, \"ticks\": \"\"}}, \"colorscale\": {\"diverging\": [[0, \"#8e0152\"], [0.1, \"#c51b7d\"], [0.2, \"#de77ae\"], [0.3, \"#f1b6da\"], [0.4, \"#fde0ef\"], [0.5, \"#f7f7f7\"], [0.6, \"#e6f5d0\"], [0.7, \"#b8e186\"], [0.8, \"#7fbc41\"], [0.9, \"#4d9221\"], [1, \"#276419\"]], \"sequential\": [[0.0, \"#0d0887\"], [0.1111111111111111, \"#46039f\"], [0.2222222222222222, \"#7201a8\"], [0.3333333333333333, \"#9c179e\"], [0.4444444444444444, \"#bd3786\"], [0.5555555555555556, \"#d8576b\"], [0.6666666666666666, \"#ed7953\"], [0.7777777777777778, \"#fb9f3a\"], [0.8888888888888888, \"#fdca26\"], [1.0, \"#f0f921\"]], \"sequentialminus\": [[0.0, \"#0d0887\"], [0.1111111111111111, \"#46039f\"], [0.2222222222222222, \"#7201a8\"], [0.3333333333333333, \"#9c179e\"], [0.4444444444444444, \"#bd3786\"], [0.5555555555555556, \"#d8576b\"], [0.6666666666666666, \"#ed7953\"], [0.7777777777777778, \"#fb9f3a\"], [0.8888888888888888, \"#fdca26\"], [1.0, \"#f0f921\"]]}, \"colorway\": [\"#636efa\", \"#EF553B\", \"#00cc96\", \"#ab63fa\", \"#FFA15A\", \"#19d3f3\", \"#FF6692\", \"#B6E880\", \"#FF97FF\", \"#FECB52\"], \"font\": {\"color\": \"#2a3f5f\"}, \"geo\": {\"bgcolor\": \"white\", \"lakecolor\": \"white\", \"landcolor\": \"#E5ECF6\", \"showlakes\": true, \"showland\": true, \"subunitcolor\": \"white\"}, \"hoverlabel\": {\"align\": \"left\"}, \"hovermode\": \"closest\", \"mapbox\": {\"style\": \"light\"}, \"paper_bgcolor\": \"white\", \"plot_bgcolor\": \"#E5ECF6\", \"polar\": {\"angularaxis\": {\"gridcolor\": \"white\", \"linecolor\": \"white\", \"ticks\": \"\"}, \"bgcolor\": \"#E5ECF6\", \"radialaxis\": {\"gridcolor\": \"white\", \"linecolor\": \"white\", \"ticks\": \"\"}}, \"scene\": {\"xaxis\": {\"backgroundcolor\": \"#E5ECF6\", \"gridcolor\": \"white\", \"gridwidth\": 2, \"linecolor\": \"white\", \"showbackground\": true, \"ticks\": \"\", \"zerolinecolor\": \"white\"}, \"yaxis\": {\"backgroundcolor\": \"#E5ECF6\", \"gridcolor\": \"white\", \"gridwidth\": 2, \"linecolor\": \"white\", \"showbackground\": true, \"ticks\": \"\", \"zerolinecolor\": \"white\"}, \"zaxis\": {\"backgroundcolor\": \"#E5ECF6\", \"gridcolor\": \"white\", \"gridwidth\": 2, \"linecolor\": \"white\", \"showbackground\": true, \"ticks\": \"\", \"zerolinecolor\": \"white\"}}, \"shapedefaults\": {\"line\": {\"color\": \"#2a3f5f\"}}, \"ternary\": {\"aaxis\": {\"gridcolor\": \"white\", \"linecolor\": \"white\", \"ticks\": \"\"}, \"baxis\": {\"gridcolor\": \"white\", \"linecolor\": \"white\", \"ticks\": \"\"}, \"bgcolor\": \"#E5ECF6\", \"caxis\": {\"gridcolor\": \"white\", \"linecolor\": \"white\", \"ticks\": \"\"}}, \"title\": {\"x\": 0.05}, \"xaxis\": {\"automargin\": true, \"gridcolor\": \"white\", \"linecolor\": \"white\", \"ticks\": \"\", \"title\": {\"standoff\": 15}, \"zerolinecolor\": \"white\", \"zerolinewidth\": 2}, \"yaxis\": {\"automargin\": true, \"gridcolor\": \"white\", \"linecolor\": \"white\", \"ticks\": \"\", \"title\": {\"standoff\": 15}, \"zerolinecolor\": \"white\", \"zerolinewidth\": 2}}}, \"title\": {\"font\": {\"color\": \"#4D5663\"}}, \"xaxis\": {\"gridcolor\": \"#E1E5ED\", \"showgrid\": true, \"tickfont\": {\"color\": \"#4D5663\"}, \"title\": {\"font\": {\"color\": \"#4D5663\"}, \"text\": \"\"}, \"zerolinecolor\": \"#E1E5ED\"}, \"yaxis\": {\"gridcolor\": \"#E1E5ED\", \"showgrid\": true, \"tickfont\": {\"color\": \"#4D5663\"}, \"title\": {\"font\": {\"color\": \"#4D5663\"}, \"text\": \"\"}, \"zerolinecolor\": \"#E1E5ED\"}},\n",
       "                        {\"showLink\": true, \"linkText\": \"Export to plot.ly\", \"plotlyServerURL\": \"https://plot.ly\", \"responsive\": true}\n",
       "                    ).then(function(){\n",
       "                            \n",
       "var gd = document.getElementById('2a7984e1-7381-4ae2-af2a-044d079a11f9');\n",
       "var x = new MutationObserver(function (mutations, observer) {{\n",
       "        var display = window.getComputedStyle(gd).display;\n",
       "        if (!display || display === 'none') {{\n",
       "            console.log([gd, 'removed!']);\n",
       "            Plotly.purge(gd);\n",
       "            observer.disconnect();\n",
       "        }}\n",
       "}});\n",
       "\n",
       "// Listen for the removal of the full notebook cells\n",
       "var notebookContainer = gd.closest('#notebook-container');\n",
       "if (notebookContainer) {{\n",
       "    x.observe(notebookContainer, {childList: true});\n",
       "}}\n",
       "\n",
       "// Listen for the clearing of the current output cell\n",
       "var outputEl = gd.closest('.output');\n",
       "if (outputEl) {{\n",
       "    x.observe(outputEl, {childList: true});\n",
       "}}\n",
       "\n",
       "                        })\n",
       "                };\n",
       "                });\n",
       "            </script>\n",
       "        </div>"
      ]
     },
     "metadata": {},
     "output_type": "display_data"
    }
   ],
   "source": [
    "df.iplot(kind = 'hist')"
   ]
  },
  {
   "cell_type": "code",
   "execution_count": 60,
   "metadata": {},
   "outputs": [
    {
     "data": {
      "application/vnd.plotly.v1+json": {
       "config": {
        "linkText": "Export to plot.ly",
        "plotlyServerURL": "https://plot.ly",
        "showLink": true
       },
       "data": [
        {
         "line": {
          "color": "rgba(255, 153, 51, 1.0)",
          "dash": "solid",
          "shape": "linear",
          "width": 1.3
         },
         "mode": "lines",
         "name": "A",
         "text": "",
         "type": "scatter",
         "x": [
          0,
          1,
          2,
          3,
          4,
          5,
          6,
          7,
          8,
          9,
          10,
          11,
          12,
          13,
          14,
          15,
          16,
          17,
          18,
          19,
          20,
          21,
          22,
          23,
          24,
          25,
          26,
          27,
          28,
          29,
          30,
          31,
          32,
          33,
          34,
          35,
          36,
          37,
          38,
          39,
          40,
          41,
          42,
          43,
          44,
          45,
          46,
          47,
          48,
          49,
          50,
          51,
          52,
          53,
          54,
          55,
          56,
          57,
          58,
          59,
          60,
          61,
          62,
          63,
          64,
          65,
          66,
          67,
          68,
          69,
          70,
          71,
          72,
          73,
          74,
          75,
          76,
          77,
          78,
          79,
          80,
          81,
          82,
          83,
          84,
          85,
          86,
          87,
          88,
          89,
          90,
          91,
          92,
          93,
          94,
          95,
          96,
          97,
          98,
          99
         ],
         "y": [
          -0.14022739364165643,
          -0.06215427637826168,
          1.3604993525322426,
          -0.31499023670117493,
          1.0029694989154603,
          0.970785908978943,
          -1.9952834025092647,
          1.0039135826827332,
          -0.9158744798111359,
          -1.5467467590902721,
          0.37209295460286496,
          -0.11707489023640913,
          0.3729934586411193,
          -0.09155881745717738,
          -0.03683336514171592,
          -0.41858716289621883,
          1.2727487669685111,
          0.7032449700650091,
          -0.3738248467613199,
          1.5095426393794726,
          -0.18607365814905844,
          0.4183288835354543,
          0.19887318935897869,
          -0.8883000951919754,
          -0.5092841539648556,
          -0.6087002578641567,
          -0.9661264541068408,
          -1.915268445309993,
          0.6093753654788755,
          1.580437092556138,
          1.2038017025994858,
          -0.9256468334675966,
          1.4351143773603932,
          1.1091342369517356,
          -0.018304712037069137,
          -2.2313836406164778,
          0.7070440778124587,
          -0.5307156073349464,
          2.296219589090963,
          2.387706409516227,
          0.6271835271545523,
          -1.2173587220621744,
          0.42570764846744746,
          -1.865485577029963,
          0.09358857883241165,
          0.21890364457894615,
          -0.8132962135397189,
          0.8909606370067288,
          -1.3191599374713485,
          -0.266719405828341,
          1.1247976919873686,
          0.48999024384756007,
          0.5807255032073525,
          -0.6562912505872847,
          -0.6742217180417197,
          2.214992557360574,
          -0.9679289742345283,
          0.43124375434740847,
          1.2054308100887878,
          -0.0920927130932392,
          0.9421320700961858,
          0.11984996143687157,
          -0.15429180556311048,
          0.2918631513091189,
          -1.8717576688946829,
          -0.8679678182080496,
          -0.020103099947394832,
          -0.042027336524633696,
          1.239199523092614,
          0.31174508367849085,
          0.9361084479519998,
          -0.18618102912744675,
          0.5826791217951177,
          0.43352959070524805,
          0.05304296463400472,
          -0.5926127266145984,
          -2.714955903645562,
          -0.7302768692480879,
          0.5416647778556658,
          1.066691518602927,
          -0.20464590566938895,
          1.667570632967258,
          -1.2848121388168667,
          -1.2693020887010722,
          1.1961530520102446,
          -2.303978558507296,
          -0.34484568309621116,
          0.33316727300389903,
          -1.5277704570453603,
          -0.2677533280031435,
          -1.1069183000442135,
          -0.69696863763343,
          0.4220514472520369,
          -0.7119580435533539,
          -0.4861965889709872,
          -1.0514199478282396,
          -1.2973863778725738,
          -1.852599660498362,
          0.2669849512911801,
          0.6934313898697425
         ]
        },
        {
         "line": {
          "color": "rgba(55, 128, 191, 1.0)",
          "dash": "solid",
          "shape": "linear",
          "width": 1.3
         },
         "mode": "lines",
         "name": "B",
         "text": "",
         "type": "scatter",
         "x": [
          0,
          1,
          2,
          3,
          4,
          5,
          6,
          7,
          8,
          9,
          10,
          11,
          12,
          13,
          14,
          15,
          16,
          17,
          18,
          19,
          20,
          21,
          22,
          23,
          24,
          25,
          26,
          27,
          28,
          29,
          30,
          31,
          32,
          33,
          34,
          35,
          36,
          37,
          38,
          39,
          40,
          41,
          42,
          43,
          44,
          45,
          46,
          47,
          48,
          49,
          50,
          51,
          52,
          53,
          54,
          55,
          56,
          57,
          58,
          59,
          60,
          61,
          62,
          63,
          64,
          65,
          66,
          67,
          68,
          69,
          70,
          71,
          72,
          73,
          74,
          75,
          76,
          77,
          78,
          79,
          80,
          81,
          82,
          83,
          84,
          85,
          86,
          87,
          88,
          89,
          90,
          91,
          92,
          93,
          94,
          95,
          96,
          97,
          98,
          99
         ],
         "y": [
          -0.49138081110649495,
          0.20096821703152126,
          -0.5118376940715328,
          -0.294754672042674,
          0.7912868491160063,
          0.6016396273238315,
          -1.8517024871032415,
          -0.8357324338017871,
          0.5567672502176182,
          0.34248645594707156,
          1.1284364585110525,
          -0.9475016318413956,
          0.6052496337791674,
          -0.14129046372803092,
          0.23878933595490678,
          -1.3302105428345574,
          0.7065868414255477,
          0.8596504098464547,
          -1.0289972766977775,
          0.38416590094808395,
          -0.6805516583040593,
          0.25047413304492844,
          -1.0934455244419623,
          0.21783950085433063,
          -1.6465140549141115,
          1.773635885242201,
          -0.15523341084556538,
          2.676693565466258,
          -0.5545091562056877,
          -1.1680827062075498,
          0.4012562551292746,
          1.5825339892798398,
          -0.5398529138511904,
          1.0645026613523625,
          -1.4028466624172862,
          -0.8110265275168601,
          0.017905104851356973,
          -0.5880126717343193,
          -1.9196292048084675,
          -0.5770587119572501,
          -0.3709996873352136,
          0.6380882254802426,
          -2.048108646820459,
          -0.6244061305032667,
          0.1979958562682151,
          1.235861000391054,
          -0.056613145024522714,
          1.4231514175036732,
          -0.12371210746402267,
          2.0043855782244577,
          0.24377248592591028,
          -0.9191773044109226,
          1.260013880741051,
          0.25973909324840844,
          0.7809547129755966,
          -1.1393604843367602,
          0.5155300758995982,
          -0.08659470454921091,
          0.7450800307774069,
          0.8763936308013027,
          0.6536472576730905,
          -0.5269623477618497,
          -0.3983721526933854,
          0.2628759268519323,
          -0.05138886524695858,
          1.999743718409326,
          0.08002061538393514,
          1.8932986126680995,
          -0.4392068648508249,
          1.8041669201375656,
          0.5014501185022648,
          0.6418703110176629,
          0.916215226940129,
          0.09519773076228714,
          0.2024566893905404,
          -1.126067618256918,
          -1.043129801809276,
          1.4232891346410141,
          0.45471152794813313,
          -0.3789454598854821,
          1.113225442536063,
          0.9673482795705286,
          -2.1035698135731296,
          0.5732793851398493,
          0.008794944506913387,
          -1.11121827900885,
          -1.242414784044673,
          0.23578253336456306,
          1.5892034787841012,
          -0.2997132280280576,
          -0.38497283723599923,
          0.7293960491010912,
          0.09212027910610585,
          0.1752052422872672,
          0.5906643403648387,
          -0.7612504986085381,
          1.2337359981255012,
          -0.5972867609627632,
          0.9206519061066598,
          -1.5461656964766408
         ]
        },
        {
         "connectgaps": false,
         "fill": "tozeroy",
         "line": {
          "color": "green",
          "dash": "solid",
          "shape": "linear",
          "width": 0.5
         },
         "mode": "lines",
         "name": "Spread",
         "showlegend": false,
         "type": "scatter",
         "x": [
          0,
          1,
          2,
          3,
          4,
          5,
          6,
          7,
          8,
          9,
          10,
          11,
          12,
          13,
          14,
          15,
          16,
          17,
          18,
          19,
          20,
          21,
          22,
          23,
          24,
          25,
          26,
          27,
          28,
          29,
          30,
          31,
          32,
          33,
          34,
          35,
          36,
          37,
          38,
          39,
          40,
          41,
          42,
          43,
          44,
          45,
          46,
          47,
          48,
          49,
          50,
          51,
          52,
          53,
          54,
          55,
          56,
          57,
          58,
          59,
          60,
          61,
          62,
          63,
          64,
          65,
          66,
          67,
          68,
          69,
          70,
          71,
          72,
          73,
          74,
          75,
          76,
          77,
          78,
          79,
          80,
          81,
          82,
          83,
          84,
          85,
          86,
          87,
          88,
          89,
          90,
          91,
          92,
          93,
          94,
          95,
          96,
          97,
          98,
          99
         ],
         "xaxis": "x2",
         "y": [
          0.3511534174648385,
          "",
          1.8723370466037754,
          "",
          0.21168264979945395,
          0.36914628165511154,
          "",
          1.8396460164845203,
          "",
          "",
          "",
          0.8304267416049864,
          "",
          0.04973164627085354,
          "",
          0.9116233799383386,
          0.5661619255429634,
          "",
          0.6551724299364576,
          1.1253767384313886,
          0.4944780001550009,
          0.16785475049052584,
          1.2923187138009409,
          "",
          1.137229900949256,
          "",
          "",
          "",
          1.1638845216845632,
          2.748519798763688,
          0.8025454474702112,
          "",
          1.9749672912115837,
          0.04463157559937314,
          1.384541950380217,
          "",
          0.6891389729611017,
          0.05729706439937288,
          4.215848793899431,
          2.964765121473477,
          0.9981832144897659,
          "",
          2.4738162952879064,
          "",
          "",
          "",
          "",
          "",
          "",
          "",
          0.8810252060614583,
          1.4091675482584827,
          "",
          "",
          "",
          3.354353041697334,
          "",
          0.5178384588966194,
          0.4603507793113809,
          "",
          0.2884848124230953,
          0.6468123091987212,
          0.2440803471302749,
          0.0289872244571866,
          "",
          "",
          "",
          "",
          1.678406387943439,
          "",
          0.4346583294497349,
          "",
          "",
          0.3383318599429609,
          "",
          0.5334548916423196,
          "",
          "",
          0.08695324990753267,
          1.4456369784884093,
          "",
          0.7002223533967293,
          0.8187576747562628,
          "",
          1.1873581075033313,
          "",
          0.8975691009484619,
          0.09738473963933597,
          "",
          0.03195990002491411,
          "",
          "",
          0.32993116814593104,
          "",
          "",
          "",
          "",
          "",
          "",
          2.239597086346383
         ],
         "yaxis": "y2"
        },
        {
         "connectgaps": false,
         "fill": "tozeroy",
         "line": {
          "color": "red",
          "dash": "solid",
          "shape": "linear",
          "width": 0.5
         },
         "mode": "lines",
         "name": "Spread",
         "showlegend": false,
         "type": "scatter",
         "x": [
          0,
          1,
          2,
          3,
          4,
          5,
          6,
          7,
          8,
          9,
          10,
          11,
          12,
          13,
          14,
          15,
          16,
          17,
          18,
          19,
          20,
          21,
          22,
          23,
          24,
          25,
          26,
          27,
          28,
          29,
          30,
          31,
          32,
          33,
          34,
          35,
          36,
          37,
          38,
          39,
          40,
          41,
          42,
          43,
          44,
          45,
          46,
          47,
          48,
          49,
          50,
          51,
          52,
          53,
          54,
          55,
          56,
          57,
          58,
          59,
          60,
          61,
          62,
          63,
          64,
          65,
          66,
          67,
          68,
          69,
          70,
          71,
          72,
          73,
          74,
          75,
          76,
          77,
          78,
          79,
          80,
          81,
          82,
          83,
          84,
          85,
          86,
          87,
          88,
          89,
          90,
          91,
          92,
          93,
          94,
          95,
          96,
          97,
          98,
          99
         ],
         "xaxis": "x2",
         "y": [
          "",
          -0.26312249340978294,
          "",
          -0.020235564658500904,
          "",
          "",
          -0.14358091540602325,
          "",
          -1.4726417300287542,
          -1.8892332150373436,
          -0.7563435039081875,
          "",
          -0.23225617513804808,
          "",
          -0.2756227010966227,
          "",
          "",
          -0.1564054397814456,
          "",
          "",
          "",
          "",
          "",
          -1.106139596046306,
          "",
          -2.3823361431063574,
          -0.8108930432612754,
          -4.5919620107762515,
          "",
          "",
          "",
          -2.5081808227474363,
          "",
          "",
          "",
          -1.4203571130996178,
          "",
          "",
          "",
          "",
          "",
          -1.8554469475424171,
          "",
          -1.2410794465266963,
          -0.10440727743580344,
          -1.0169573558121079,
          -0.7566830685151962,
          -0.5321907804969445,
          -1.195447830007326,
          -2.2711049840527986,
          "",
          "",
          -0.6792883775336985,
          -0.9160303438356932,
          -1.4551764310173163,
          "",
          -1.4834590501341265,
          "",
          "",
          -0.9684863438945419,
          "",
          "",
          "",
          "",
          -1.8203688036477244,
          -2.8677115366173758,
          -0.10012371533132997,
          -1.9353259491927333,
          "",
          -1.4924218364590747,
          "",
          -0.8280513401451096,
          -0.3335361051450113,
          "",
          -0.1494137247565357,
          "",
          -1.671826101836286,
          -2.153566003889102,
          "",
          "",
          -1.317871348205452,
          "",
          "",
          -1.8425814738409216,
          "",
          -1.1927602794984458,
          "",
          "",
          -3.1169739358294617,
          "",
          -0.7219454628082143,
          -1.4263646867345212,
          "",
          -0.8871632858406211,
          -1.076860929335826,
          -0.29016944921970145,
          -2.531122375998075,
          -1.2553128995355989,
          -0.6536669548154797,
          ""
         ],
         "yaxis": "y2"
        }
       ],
       "layout": {
        "hovermode": "x",
        "legend": {
         "bgcolor": "#F5F6F9",
         "font": {
          "color": "#4D5663"
         }
        },
        "paper_bgcolor": "#F5F6F9",
        "plot_bgcolor": "#F5F6F9",
        "template": {
         "data": {
          "bar": [
           {
            "error_x": {
             "color": "#2a3f5f"
            },
            "error_y": {
             "color": "#2a3f5f"
            },
            "marker": {
             "line": {
              "color": "#E5ECF6",
              "width": 0.5
             }
            },
            "type": "bar"
           }
          ],
          "barpolar": [
           {
            "marker": {
             "line": {
              "color": "#E5ECF6",
              "width": 0.5
             }
            },
            "type": "barpolar"
           }
          ],
          "carpet": [
           {
            "aaxis": {
             "endlinecolor": "#2a3f5f",
             "gridcolor": "white",
             "linecolor": "white",
             "minorgridcolor": "white",
             "startlinecolor": "#2a3f5f"
            },
            "baxis": {
             "endlinecolor": "#2a3f5f",
             "gridcolor": "white",
             "linecolor": "white",
             "minorgridcolor": "white",
             "startlinecolor": "#2a3f5f"
            },
            "type": "carpet"
           }
          ],
          "choropleth": [
           {
            "colorbar": {
             "outlinewidth": 0,
             "ticks": ""
            },
            "type": "choropleth"
           }
          ],
          "contour": [
           {
            "colorbar": {
             "outlinewidth": 0,
             "ticks": ""
            },
            "colorscale": [
             [
              0,
              "#0d0887"
             ],
             [
              0.1111111111111111,
              "#46039f"
             ],
             [
              0.2222222222222222,
              "#7201a8"
             ],
             [
              0.3333333333333333,
              "#9c179e"
             ],
             [
              0.4444444444444444,
              "#bd3786"
             ],
             [
              0.5555555555555556,
              "#d8576b"
             ],
             [
              0.6666666666666666,
              "#ed7953"
             ],
             [
              0.7777777777777778,
              "#fb9f3a"
             ],
             [
              0.8888888888888888,
              "#fdca26"
             ],
             [
              1,
              "#f0f921"
             ]
            ],
            "type": "contour"
           }
          ],
          "contourcarpet": [
           {
            "colorbar": {
             "outlinewidth": 0,
             "ticks": ""
            },
            "type": "contourcarpet"
           }
          ],
          "heatmap": [
           {
            "colorbar": {
             "outlinewidth": 0,
             "ticks": ""
            },
            "colorscale": [
             [
              0,
              "#0d0887"
             ],
             [
              0.1111111111111111,
              "#46039f"
             ],
             [
              0.2222222222222222,
              "#7201a8"
             ],
             [
              0.3333333333333333,
              "#9c179e"
             ],
             [
              0.4444444444444444,
              "#bd3786"
             ],
             [
              0.5555555555555556,
              "#d8576b"
             ],
             [
              0.6666666666666666,
              "#ed7953"
             ],
             [
              0.7777777777777778,
              "#fb9f3a"
             ],
             [
              0.8888888888888888,
              "#fdca26"
             ],
             [
              1,
              "#f0f921"
             ]
            ],
            "type": "heatmap"
           }
          ],
          "heatmapgl": [
           {
            "colorbar": {
             "outlinewidth": 0,
             "ticks": ""
            },
            "colorscale": [
             [
              0,
              "#0d0887"
             ],
             [
              0.1111111111111111,
              "#46039f"
             ],
             [
              0.2222222222222222,
              "#7201a8"
             ],
             [
              0.3333333333333333,
              "#9c179e"
             ],
             [
              0.4444444444444444,
              "#bd3786"
             ],
             [
              0.5555555555555556,
              "#d8576b"
             ],
             [
              0.6666666666666666,
              "#ed7953"
             ],
             [
              0.7777777777777778,
              "#fb9f3a"
             ],
             [
              0.8888888888888888,
              "#fdca26"
             ],
             [
              1,
              "#f0f921"
             ]
            ],
            "type": "heatmapgl"
           }
          ],
          "histogram": [
           {
            "marker": {
             "colorbar": {
              "outlinewidth": 0,
              "ticks": ""
             }
            },
            "type": "histogram"
           }
          ],
          "histogram2d": [
           {
            "colorbar": {
             "outlinewidth": 0,
             "ticks": ""
            },
            "colorscale": [
             [
              0,
              "#0d0887"
             ],
             [
              0.1111111111111111,
              "#46039f"
             ],
             [
              0.2222222222222222,
              "#7201a8"
             ],
             [
              0.3333333333333333,
              "#9c179e"
             ],
             [
              0.4444444444444444,
              "#bd3786"
             ],
             [
              0.5555555555555556,
              "#d8576b"
             ],
             [
              0.6666666666666666,
              "#ed7953"
             ],
             [
              0.7777777777777778,
              "#fb9f3a"
             ],
             [
              0.8888888888888888,
              "#fdca26"
             ],
             [
              1,
              "#f0f921"
             ]
            ],
            "type": "histogram2d"
           }
          ],
          "histogram2dcontour": [
           {
            "colorbar": {
             "outlinewidth": 0,
             "ticks": ""
            },
            "colorscale": [
             [
              0,
              "#0d0887"
             ],
             [
              0.1111111111111111,
              "#46039f"
             ],
             [
              0.2222222222222222,
              "#7201a8"
             ],
             [
              0.3333333333333333,
              "#9c179e"
             ],
             [
              0.4444444444444444,
              "#bd3786"
             ],
             [
              0.5555555555555556,
              "#d8576b"
             ],
             [
              0.6666666666666666,
              "#ed7953"
             ],
             [
              0.7777777777777778,
              "#fb9f3a"
             ],
             [
              0.8888888888888888,
              "#fdca26"
             ],
             [
              1,
              "#f0f921"
             ]
            ],
            "type": "histogram2dcontour"
           }
          ],
          "mesh3d": [
           {
            "colorbar": {
             "outlinewidth": 0,
             "ticks": ""
            },
            "type": "mesh3d"
           }
          ],
          "parcoords": [
           {
            "line": {
             "colorbar": {
              "outlinewidth": 0,
              "ticks": ""
             }
            },
            "type": "parcoords"
           }
          ],
          "pie": [
           {
            "automargin": true,
            "type": "pie"
           }
          ],
          "scatter": [
           {
            "marker": {
             "colorbar": {
              "outlinewidth": 0,
              "ticks": ""
             }
            },
            "type": "scatter"
           }
          ],
          "scatter3d": [
           {
            "line": {
             "colorbar": {
              "outlinewidth": 0,
              "ticks": ""
             }
            },
            "marker": {
             "colorbar": {
              "outlinewidth": 0,
              "ticks": ""
             }
            },
            "type": "scatter3d"
           }
          ],
          "scattercarpet": [
           {
            "marker": {
             "colorbar": {
              "outlinewidth": 0,
              "ticks": ""
             }
            },
            "type": "scattercarpet"
           }
          ],
          "scattergeo": [
           {
            "marker": {
             "colorbar": {
              "outlinewidth": 0,
              "ticks": ""
             }
            },
            "type": "scattergeo"
           }
          ],
          "scattergl": [
           {
            "marker": {
             "colorbar": {
              "outlinewidth": 0,
              "ticks": ""
             }
            },
            "type": "scattergl"
           }
          ],
          "scattermapbox": [
           {
            "marker": {
             "colorbar": {
              "outlinewidth": 0,
              "ticks": ""
             }
            },
            "type": "scattermapbox"
           }
          ],
          "scatterpolar": [
           {
            "marker": {
             "colorbar": {
              "outlinewidth": 0,
              "ticks": ""
             }
            },
            "type": "scatterpolar"
           }
          ],
          "scatterpolargl": [
           {
            "marker": {
             "colorbar": {
              "outlinewidth": 0,
              "ticks": ""
             }
            },
            "type": "scatterpolargl"
           }
          ],
          "scatterternary": [
           {
            "marker": {
             "colorbar": {
              "outlinewidth": 0,
              "ticks": ""
             }
            },
            "type": "scatterternary"
           }
          ],
          "surface": [
           {
            "colorbar": {
             "outlinewidth": 0,
             "ticks": ""
            },
            "colorscale": [
             [
              0,
              "#0d0887"
             ],
             [
              0.1111111111111111,
              "#46039f"
             ],
             [
              0.2222222222222222,
              "#7201a8"
             ],
             [
              0.3333333333333333,
              "#9c179e"
             ],
             [
              0.4444444444444444,
              "#bd3786"
             ],
             [
              0.5555555555555556,
              "#d8576b"
             ],
             [
              0.6666666666666666,
              "#ed7953"
             ],
             [
              0.7777777777777778,
              "#fb9f3a"
             ],
             [
              0.8888888888888888,
              "#fdca26"
             ],
             [
              1,
              "#f0f921"
             ]
            ],
            "type": "surface"
           }
          ],
          "table": [
           {
            "cells": {
             "fill": {
              "color": "#EBF0F8"
             },
             "line": {
              "color": "white"
             }
            },
            "header": {
             "fill": {
              "color": "#C8D4E3"
             },
             "line": {
              "color": "white"
             }
            },
            "type": "table"
           }
          ]
         },
         "layout": {
          "annotationdefaults": {
           "arrowcolor": "#2a3f5f",
           "arrowhead": 0,
           "arrowwidth": 1
          },
          "coloraxis": {
           "colorbar": {
            "outlinewidth": 0,
            "ticks": ""
           }
          },
          "colorscale": {
           "diverging": [
            [
             0,
             "#8e0152"
            ],
            [
             0.1,
             "#c51b7d"
            ],
            [
             0.2,
             "#de77ae"
            ],
            [
             0.3,
             "#f1b6da"
            ],
            [
             0.4,
             "#fde0ef"
            ],
            [
             0.5,
             "#f7f7f7"
            ],
            [
             0.6,
             "#e6f5d0"
            ],
            [
             0.7,
             "#b8e186"
            ],
            [
             0.8,
             "#7fbc41"
            ],
            [
             0.9,
             "#4d9221"
            ],
            [
             1,
             "#276419"
            ]
           ],
           "sequential": [
            [
             0,
             "#0d0887"
            ],
            [
             0.1111111111111111,
             "#46039f"
            ],
            [
             0.2222222222222222,
             "#7201a8"
            ],
            [
             0.3333333333333333,
             "#9c179e"
            ],
            [
             0.4444444444444444,
             "#bd3786"
            ],
            [
             0.5555555555555556,
             "#d8576b"
            ],
            [
             0.6666666666666666,
             "#ed7953"
            ],
            [
             0.7777777777777778,
             "#fb9f3a"
            ],
            [
             0.8888888888888888,
             "#fdca26"
            ],
            [
             1,
             "#f0f921"
            ]
           ],
           "sequentialminus": [
            [
             0,
             "#0d0887"
            ],
            [
             0.1111111111111111,
             "#46039f"
            ],
            [
             0.2222222222222222,
             "#7201a8"
            ],
            [
             0.3333333333333333,
             "#9c179e"
            ],
            [
             0.4444444444444444,
             "#bd3786"
            ],
            [
             0.5555555555555556,
             "#d8576b"
            ],
            [
             0.6666666666666666,
             "#ed7953"
            ],
            [
             0.7777777777777778,
             "#fb9f3a"
            ],
            [
             0.8888888888888888,
             "#fdca26"
            ],
            [
             1,
             "#f0f921"
            ]
           ]
          },
          "colorway": [
           "#636efa",
           "#EF553B",
           "#00cc96",
           "#ab63fa",
           "#FFA15A",
           "#19d3f3",
           "#FF6692",
           "#B6E880",
           "#FF97FF",
           "#FECB52"
          ],
          "font": {
           "color": "#2a3f5f"
          },
          "geo": {
           "bgcolor": "white",
           "lakecolor": "white",
           "landcolor": "#E5ECF6",
           "showlakes": true,
           "showland": true,
           "subunitcolor": "white"
          },
          "hoverlabel": {
           "align": "left"
          },
          "hovermode": "closest",
          "mapbox": {
           "style": "light"
          },
          "paper_bgcolor": "white",
          "plot_bgcolor": "#E5ECF6",
          "polar": {
           "angularaxis": {
            "gridcolor": "white",
            "linecolor": "white",
            "ticks": ""
           },
           "bgcolor": "#E5ECF6",
           "radialaxis": {
            "gridcolor": "white",
            "linecolor": "white",
            "ticks": ""
           }
          },
          "scene": {
           "xaxis": {
            "backgroundcolor": "#E5ECF6",
            "gridcolor": "white",
            "gridwidth": 2,
            "linecolor": "white",
            "showbackground": true,
            "ticks": "",
            "zerolinecolor": "white"
           },
           "yaxis": {
            "backgroundcolor": "#E5ECF6",
            "gridcolor": "white",
            "gridwidth": 2,
            "linecolor": "white",
            "showbackground": true,
            "ticks": "",
            "zerolinecolor": "white"
           },
           "zaxis": {
            "backgroundcolor": "#E5ECF6",
            "gridcolor": "white",
            "gridwidth": 2,
            "linecolor": "white",
            "showbackground": true,
            "ticks": "",
            "zerolinecolor": "white"
           }
          },
          "shapedefaults": {
           "line": {
            "color": "#2a3f5f"
           }
          },
          "ternary": {
           "aaxis": {
            "gridcolor": "white",
            "linecolor": "white",
            "ticks": ""
           },
           "baxis": {
            "gridcolor": "white",
            "linecolor": "white",
            "ticks": ""
           },
           "bgcolor": "#E5ECF6",
           "caxis": {
            "gridcolor": "white",
            "linecolor": "white",
            "ticks": ""
           }
          },
          "title": {
           "x": 0.05
          },
          "xaxis": {
           "automargin": true,
           "gridcolor": "white",
           "linecolor": "white",
           "ticks": "",
           "title": {
            "standoff": 15
           },
           "zerolinecolor": "white",
           "zerolinewidth": 2
          },
          "yaxis": {
           "automargin": true,
           "gridcolor": "white",
           "linecolor": "white",
           "ticks": "",
           "title": {
            "standoff": 15
           },
           "zerolinecolor": "white",
           "zerolinewidth": 2
          }
         }
        },
        "title": {
         "font": {
          "color": "#4D5663"
         }
        },
        "xaxis": {
         "gridcolor": "#E1E5ED",
         "showgrid": true,
         "tickfont": {
          "color": "#4D5663"
         },
         "title": {
          "font": {
           "color": "#4D5663"
          },
          "text": ""
         },
         "zerolinecolor": "#E1E5ED"
        },
        "xaxis2": {
         "anchor": "y2",
         "gridcolor": "#E1E5ED",
         "showgrid": true,
         "showticklabels": false,
         "tickfont": {
          "color": "#4D5663"
         },
         "title": {
          "font": {
           "color": "#4D5663"
          },
          "text": ""
         },
         "zerolinecolor": "#E1E5ED"
        },
        "yaxis": {
         "domain": [
          0.3,
          1
         ],
         "gridcolor": "#E1E5ED",
         "showgrid": true,
         "tickfont": {
          "color": "#4D5663"
         },
         "title": {
          "font": {
           "color": "#4D5663"
          },
          "text": ""
         },
         "zerolinecolor": "#E1E5ED"
        },
        "yaxis2": {
         "domain": [
          0,
          0.25
         ],
         "gridcolor": "#E1E5ED",
         "showgrid": true,
         "tickfont": {
          "color": "#4D5663"
         },
         "title": {
          "font": {
           "color": "#4D5663"
          },
          "text": "Spread"
         },
         "zerolinecolor": "#E1E5ED"
        }
       }
      },
      "text/html": [
       "<div>\n",
       "        \n",
       "        \n",
       "            <div id=\"1efead01-0fff-4a0f-89ba-4b120957e878\" class=\"plotly-graph-div\" style=\"height:525px; width:100%;\"></div>\n",
       "            <script type=\"text/javascript\">\n",
       "                require([\"plotly\"], function(Plotly) {\n",
       "                    window.PLOTLYENV=window.PLOTLYENV || {};\n",
       "                    window.PLOTLYENV.BASE_URL='https://plot.ly';\n",
       "                    \n",
       "                if (document.getElementById(\"1efead01-0fff-4a0f-89ba-4b120957e878\")) {\n",
       "                    Plotly.newPlot(\n",
       "                        '1efead01-0fff-4a0f-89ba-4b120957e878',\n",
       "                        [{\"line\": {\"color\": \"rgba(255, 153, 51, 1.0)\", \"dash\": \"solid\", \"shape\": \"linear\", \"width\": 1.3}, \"mode\": \"lines\", \"name\": \"A\", \"text\": \"\", \"type\": \"scatter\", \"x\": [0, 1, 2, 3, 4, 5, 6, 7, 8, 9, 10, 11, 12, 13, 14, 15, 16, 17, 18, 19, 20, 21, 22, 23, 24, 25, 26, 27, 28, 29, 30, 31, 32, 33, 34, 35, 36, 37, 38, 39, 40, 41, 42, 43, 44, 45, 46, 47, 48, 49, 50, 51, 52, 53, 54, 55, 56, 57, 58, 59, 60, 61, 62, 63, 64, 65, 66, 67, 68, 69, 70, 71, 72, 73, 74, 75, 76, 77, 78, 79, 80, 81, 82, 83, 84, 85, 86, 87, 88, 89, 90, 91, 92, 93, 94, 95, 96, 97, 98, 99], \"y\": [-0.14022739364165643, -0.06215427637826168, 1.3604993525322426, -0.31499023670117493, 1.0029694989154603, 0.970785908978943, -1.9952834025092647, 1.0039135826827332, -0.9158744798111359, -1.5467467590902721, 0.37209295460286496, -0.11707489023640913, 0.3729934586411193, -0.09155881745717738, -0.03683336514171592, -0.41858716289621883, 1.2727487669685111, 0.7032449700650091, -0.3738248467613199, 1.5095426393794726, -0.18607365814905844, 0.4183288835354543, 0.19887318935897869, -0.8883000951919754, -0.5092841539648556, -0.6087002578641567, -0.9661264541068408, -1.915268445309993, 0.6093753654788755, 1.580437092556138, 1.2038017025994858, -0.9256468334675966, 1.4351143773603932, 1.1091342369517356, -0.018304712037069137, -2.2313836406164778, 0.7070440778124587, -0.5307156073349464, 2.296219589090963, 2.387706409516227, 0.6271835271545523, -1.2173587220621744, 0.42570764846744746, -1.865485577029963, 0.09358857883241165, 0.21890364457894615, -0.8132962135397189, 0.8909606370067288, -1.3191599374713485, -0.266719405828341, 1.1247976919873686, 0.48999024384756007, 0.5807255032073525, -0.6562912505872847, -0.6742217180417197, 2.214992557360574, -0.9679289742345283, 0.43124375434740847, 1.2054308100887878, -0.0920927130932392, 0.9421320700961858, 0.11984996143687157, -0.15429180556311048, 0.2918631513091189, -1.8717576688946829, -0.8679678182080496, -0.020103099947394832, -0.042027336524633696, 1.239199523092614, 0.31174508367849085, 0.9361084479519998, -0.18618102912744675, 0.5826791217951177, 0.43352959070524805, 0.05304296463400472, -0.5926127266145984, -2.714955903645562, -0.7302768692480879, 0.5416647778556658, 1.066691518602927, -0.20464590566938895, 1.667570632967258, -1.2848121388168667, -1.2693020887010722, 1.1961530520102446, -2.303978558507296, -0.34484568309621116, 0.33316727300389903, -1.5277704570453603, -0.2677533280031435, -1.1069183000442135, -0.69696863763343, 0.4220514472520369, -0.7119580435533539, -0.4861965889709872, -1.0514199478282396, -1.2973863778725738, -1.852599660498362, 0.2669849512911801, 0.6934313898697425]}, {\"line\": {\"color\": \"rgba(55, 128, 191, 1.0)\", \"dash\": \"solid\", \"shape\": \"linear\", \"width\": 1.3}, \"mode\": \"lines\", \"name\": \"B\", \"text\": \"\", \"type\": \"scatter\", \"x\": [0, 1, 2, 3, 4, 5, 6, 7, 8, 9, 10, 11, 12, 13, 14, 15, 16, 17, 18, 19, 20, 21, 22, 23, 24, 25, 26, 27, 28, 29, 30, 31, 32, 33, 34, 35, 36, 37, 38, 39, 40, 41, 42, 43, 44, 45, 46, 47, 48, 49, 50, 51, 52, 53, 54, 55, 56, 57, 58, 59, 60, 61, 62, 63, 64, 65, 66, 67, 68, 69, 70, 71, 72, 73, 74, 75, 76, 77, 78, 79, 80, 81, 82, 83, 84, 85, 86, 87, 88, 89, 90, 91, 92, 93, 94, 95, 96, 97, 98, 99], \"y\": [-0.49138081110649495, 0.20096821703152126, -0.5118376940715328, -0.294754672042674, 0.7912868491160063, 0.6016396273238315, -1.8517024871032415, -0.8357324338017871, 0.5567672502176182, 0.34248645594707156, 1.1284364585110525, -0.9475016318413956, 0.6052496337791674, -0.14129046372803092, 0.23878933595490678, -1.3302105428345574, 0.7065868414255477, 0.8596504098464547, -1.0289972766977775, 0.38416590094808395, -0.6805516583040593, 0.25047413304492844, -1.0934455244419623, 0.21783950085433063, -1.6465140549141115, 1.773635885242201, -0.15523341084556538, 2.676693565466258, -0.5545091562056877, -1.1680827062075498, 0.4012562551292746, 1.5825339892798398, -0.5398529138511904, 1.0645026613523625, -1.4028466624172862, -0.8110265275168601, 0.017905104851356973, -0.5880126717343193, -1.9196292048084675, -0.5770587119572501, -0.3709996873352136, 0.6380882254802426, -2.048108646820459, -0.6244061305032667, 0.1979958562682151, 1.235861000391054, -0.056613145024522714, 1.4231514175036732, -0.12371210746402267, 2.0043855782244577, 0.24377248592591028, -0.9191773044109226, 1.260013880741051, 0.25973909324840844, 0.7809547129755966, -1.1393604843367602, 0.5155300758995982, -0.08659470454921091, 0.7450800307774069, 0.8763936308013027, 0.6536472576730905, -0.5269623477618497, -0.3983721526933854, 0.2628759268519323, -0.05138886524695858, 1.999743718409326, 0.08002061538393514, 1.8932986126680995, -0.4392068648508249, 1.8041669201375656, 0.5014501185022648, 0.6418703110176629, 0.916215226940129, 0.09519773076228714, 0.2024566893905404, -1.126067618256918, -1.043129801809276, 1.4232891346410141, 0.45471152794813313, -0.3789454598854821, 1.113225442536063, 0.9673482795705286, -2.1035698135731296, 0.5732793851398493, 0.008794944506913387, -1.11121827900885, -1.242414784044673, 0.23578253336456306, 1.5892034787841012, -0.2997132280280576, -0.38497283723599923, 0.7293960491010912, 0.09212027910610585, 0.1752052422872672, 0.5906643403648387, -0.7612504986085381, 1.2337359981255012, -0.5972867609627632, 0.9206519061066598, -1.5461656964766408]}, {\"connectgaps\": false, \"fill\": \"tozeroy\", \"line\": {\"color\": \"green\", \"dash\": \"solid\", \"shape\": \"linear\", \"width\": 0.5}, \"mode\": \"lines\", \"name\": \"Spread\", \"showlegend\": false, \"type\": \"scatter\", \"x\": [0, 1, 2, 3, 4, 5, 6, 7, 8, 9, 10, 11, 12, 13, 14, 15, 16, 17, 18, 19, 20, 21, 22, 23, 24, 25, 26, 27, 28, 29, 30, 31, 32, 33, 34, 35, 36, 37, 38, 39, 40, 41, 42, 43, 44, 45, 46, 47, 48, 49, 50, 51, 52, 53, 54, 55, 56, 57, 58, 59, 60, 61, 62, 63, 64, 65, 66, 67, 68, 69, 70, 71, 72, 73, 74, 75, 76, 77, 78, 79, 80, 81, 82, 83, 84, 85, 86, 87, 88, 89, 90, 91, 92, 93, 94, 95, 96, 97, 98, 99], \"xaxis\": \"x2\", \"y\": [0.3511534174648385, \"\", 1.8723370466037754, \"\", 0.21168264979945395, 0.36914628165511154, \"\", 1.8396460164845203, \"\", \"\", \"\", 0.8304267416049864, \"\", 0.04973164627085354, \"\", 0.9116233799383386, 0.5661619255429634, \"\", 0.6551724299364576, 1.1253767384313886, 0.4944780001550009, 0.16785475049052584, 1.2923187138009409, \"\", 1.137229900949256, \"\", \"\", \"\", 1.1638845216845632, 2.748519798763688, 0.8025454474702112, \"\", 1.9749672912115837, 0.04463157559937314, 1.384541950380217, \"\", 0.6891389729611017, 0.05729706439937288, 4.215848793899431, 2.964765121473477, 0.9981832144897659, \"\", 2.4738162952879064, \"\", \"\", \"\", \"\", \"\", \"\", \"\", 0.8810252060614583, 1.4091675482584827, \"\", \"\", \"\", 3.354353041697334, \"\", 0.5178384588966194, 0.4603507793113809, \"\", 0.2884848124230953, 0.6468123091987212, 0.2440803471302749, 0.0289872244571866, \"\", \"\", \"\", \"\", 1.678406387943439, \"\", 0.4346583294497349, \"\", \"\", 0.3383318599429609, \"\", 0.5334548916423196, \"\", \"\", 0.08695324990753267, 1.4456369784884093, \"\", 0.7002223533967293, 0.8187576747562628, \"\", 1.1873581075033313, \"\", 0.8975691009484619, 0.09738473963933597, \"\", 0.03195990002491411, \"\", \"\", 0.32993116814593104, \"\", \"\", \"\", \"\", \"\", \"\", 2.239597086346383], \"yaxis\": \"y2\"}, {\"connectgaps\": false, \"fill\": \"tozeroy\", \"line\": {\"color\": \"red\", \"dash\": \"solid\", \"shape\": \"linear\", \"width\": 0.5}, \"mode\": \"lines\", \"name\": \"Spread\", \"showlegend\": false, \"type\": \"scatter\", \"x\": [0, 1, 2, 3, 4, 5, 6, 7, 8, 9, 10, 11, 12, 13, 14, 15, 16, 17, 18, 19, 20, 21, 22, 23, 24, 25, 26, 27, 28, 29, 30, 31, 32, 33, 34, 35, 36, 37, 38, 39, 40, 41, 42, 43, 44, 45, 46, 47, 48, 49, 50, 51, 52, 53, 54, 55, 56, 57, 58, 59, 60, 61, 62, 63, 64, 65, 66, 67, 68, 69, 70, 71, 72, 73, 74, 75, 76, 77, 78, 79, 80, 81, 82, 83, 84, 85, 86, 87, 88, 89, 90, 91, 92, 93, 94, 95, 96, 97, 98, 99], \"xaxis\": \"x2\", \"y\": [\"\", -0.26312249340978294, \"\", -0.020235564658500904, \"\", \"\", -0.14358091540602325, \"\", -1.4726417300287542, -1.8892332150373436, -0.7563435039081875, \"\", -0.23225617513804808, \"\", -0.2756227010966227, \"\", \"\", -0.1564054397814456, \"\", \"\", \"\", \"\", \"\", -1.106139596046306, \"\", -2.3823361431063574, -0.8108930432612754, -4.5919620107762515, \"\", \"\", \"\", -2.5081808227474363, \"\", \"\", \"\", -1.4203571130996178, \"\", \"\", \"\", \"\", \"\", -1.8554469475424171, \"\", -1.2410794465266963, -0.10440727743580344, -1.0169573558121079, -0.7566830685151962, -0.5321907804969445, -1.195447830007326, -2.2711049840527986, \"\", \"\", -0.6792883775336985, -0.9160303438356932, -1.4551764310173163, \"\", -1.4834590501341265, \"\", \"\", -0.9684863438945419, \"\", \"\", \"\", \"\", -1.8203688036477244, -2.8677115366173758, -0.10012371533132997, -1.9353259491927333, \"\", -1.4924218364590747, \"\", -0.8280513401451096, -0.3335361051450113, \"\", -0.1494137247565357, \"\", -1.671826101836286, -2.153566003889102, \"\", \"\", -1.317871348205452, \"\", \"\", -1.8425814738409216, \"\", -1.1927602794984458, \"\", \"\", -3.1169739358294617, \"\", -0.7219454628082143, -1.4263646867345212, \"\", -0.8871632858406211, -1.076860929335826, -0.29016944921970145, -2.531122375998075, -1.2553128995355989, -0.6536669548154797, \"\"], \"yaxis\": \"y2\"}],\n",
       "                        {\"hovermode\": \"x\", \"legend\": {\"bgcolor\": \"#F5F6F9\", \"font\": {\"color\": \"#4D5663\"}}, \"paper_bgcolor\": \"#F5F6F9\", \"plot_bgcolor\": \"#F5F6F9\", \"template\": {\"data\": {\"bar\": [{\"error_x\": {\"color\": \"#2a3f5f\"}, \"error_y\": {\"color\": \"#2a3f5f\"}, \"marker\": {\"line\": {\"color\": \"#E5ECF6\", \"width\": 0.5}}, \"type\": \"bar\"}], \"barpolar\": [{\"marker\": {\"line\": {\"color\": \"#E5ECF6\", \"width\": 0.5}}, \"type\": \"barpolar\"}], \"carpet\": [{\"aaxis\": {\"endlinecolor\": \"#2a3f5f\", \"gridcolor\": \"white\", \"linecolor\": \"white\", \"minorgridcolor\": \"white\", \"startlinecolor\": \"#2a3f5f\"}, \"baxis\": {\"endlinecolor\": \"#2a3f5f\", \"gridcolor\": \"white\", \"linecolor\": \"white\", \"minorgridcolor\": \"white\", \"startlinecolor\": \"#2a3f5f\"}, \"type\": \"carpet\"}], \"choropleth\": [{\"colorbar\": {\"outlinewidth\": 0, \"ticks\": \"\"}, \"type\": \"choropleth\"}], \"contour\": [{\"colorbar\": {\"outlinewidth\": 0, \"ticks\": \"\"}, \"colorscale\": [[0.0, \"#0d0887\"], [0.1111111111111111, \"#46039f\"], [0.2222222222222222, \"#7201a8\"], [0.3333333333333333, \"#9c179e\"], [0.4444444444444444, \"#bd3786\"], [0.5555555555555556, \"#d8576b\"], [0.6666666666666666, \"#ed7953\"], [0.7777777777777778, \"#fb9f3a\"], [0.8888888888888888, \"#fdca26\"], [1.0, \"#f0f921\"]], \"type\": \"contour\"}], \"contourcarpet\": [{\"colorbar\": {\"outlinewidth\": 0, \"ticks\": \"\"}, \"type\": \"contourcarpet\"}], \"heatmap\": [{\"colorbar\": {\"outlinewidth\": 0, \"ticks\": \"\"}, \"colorscale\": [[0.0, \"#0d0887\"], [0.1111111111111111, \"#46039f\"], [0.2222222222222222, \"#7201a8\"], [0.3333333333333333, \"#9c179e\"], [0.4444444444444444, \"#bd3786\"], [0.5555555555555556, \"#d8576b\"], [0.6666666666666666, \"#ed7953\"], [0.7777777777777778, \"#fb9f3a\"], [0.8888888888888888, \"#fdca26\"], [1.0, \"#f0f921\"]], \"type\": \"heatmap\"}], \"heatmapgl\": [{\"colorbar\": {\"outlinewidth\": 0, \"ticks\": \"\"}, \"colorscale\": [[0.0, \"#0d0887\"], [0.1111111111111111, \"#46039f\"], [0.2222222222222222, \"#7201a8\"], [0.3333333333333333, \"#9c179e\"], [0.4444444444444444, \"#bd3786\"], [0.5555555555555556, \"#d8576b\"], [0.6666666666666666, \"#ed7953\"], [0.7777777777777778, \"#fb9f3a\"], [0.8888888888888888, \"#fdca26\"], [1.0, \"#f0f921\"]], \"type\": \"heatmapgl\"}], \"histogram\": [{\"marker\": {\"colorbar\": {\"outlinewidth\": 0, \"ticks\": \"\"}}, \"type\": \"histogram\"}], \"histogram2d\": [{\"colorbar\": {\"outlinewidth\": 0, \"ticks\": \"\"}, \"colorscale\": [[0.0, \"#0d0887\"], [0.1111111111111111, \"#46039f\"], [0.2222222222222222, \"#7201a8\"], [0.3333333333333333, \"#9c179e\"], [0.4444444444444444, \"#bd3786\"], [0.5555555555555556, \"#d8576b\"], [0.6666666666666666, \"#ed7953\"], [0.7777777777777778, \"#fb9f3a\"], [0.8888888888888888, \"#fdca26\"], [1.0, \"#f0f921\"]], \"type\": \"histogram2d\"}], \"histogram2dcontour\": [{\"colorbar\": {\"outlinewidth\": 0, \"ticks\": \"\"}, \"colorscale\": [[0.0, \"#0d0887\"], [0.1111111111111111, \"#46039f\"], [0.2222222222222222, \"#7201a8\"], [0.3333333333333333, \"#9c179e\"], [0.4444444444444444, \"#bd3786\"], [0.5555555555555556, \"#d8576b\"], [0.6666666666666666, \"#ed7953\"], [0.7777777777777778, \"#fb9f3a\"], [0.8888888888888888, \"#fdca26\"], [1.0, \"#f0f921\"]], \"type\": \"histogram2dcontour\"}], \"mesh3d\": [{\"colorbar\": {\"outlinewidth\": 0, \"ticks\": \"\"}, \"type\": \"mesh3d\"}], \"parcoords\": [{\"line\": {\"colorbar\": {\"outlinewidth\": 0, \"ticks\": \"\"}}, \"type\": \"parcoords\"}], \"pie\": [{\"automargin\": true, \"type\": \"pie\"}], \"scatter\": [{\"marker\": {\"colorbar\": {\"outlinewidth\": 0, \"ticks\": \"\"}}, \"type\": \"scatter\"}], \"scatter3d\": [{\"line\": {\"colorbar\": {\"outlinewidth\": 0, \"ticks\": \"\"}}, \"marker\": {\"colorbar\": {\"outlinewidth\": 0, \"ticks\": \"\"}}, \"type\": \"scatter3d\"}], \"scattercarpet\": [{\"marker\": {\"colorbar\": {\"outlinewidth\": 0, \"ticks\": \"\"}}, \"type\": \"scattercarpet\"}], \"scattergeo\": [{\"marker\": {\"colorbar\": {\"outlinewidth\": 0, \"ticks\": \"\"}}, \"type\": \"scattergeo\"}], \"scattergl\": [{\"marker\": {\"colorbar\": {\"outlinewidth\": 0, \"ticks\": \"\"}}, \"type\": \"scattergl\"}], \"scattermapbox\": [{\"marker\": {\"colorbar\": {\"outlinewidth\": 0, \"ticks\": \"\"}}, \"type\": \"scattermapbox\"}], \"scatterpolar\": [{\"marker\": {\"colorbar\": {\"outlinewidth\": 0, \"ticks\": \"\"}}, \"type\": \"scatterpolar\"}], \"scatterpolargl\": [{\"marker\": {\"colorbar\": {\"outlinewidth\": 0, \"ticks\": \"\"}}, \"type\": \"scatterpolargl\"}], \"scatterternary\": [{\"marker\": {\"colorbar\": {\"outlinewidth\": 0, \"ticks\": \"\"}}, \"type\": \"scatterternary\"}], \"surface\": [{\"colorbar\": {\"outlinewidth\": 0, \"ticks\": \"\"}, \"colorscale\": [[0.0, \"#0d0887\"], [0.1111111111111111, \"#46039f\"], [0.2222222222222222, \"#7201a8\"], [0.3333333333333333, \"#9c179e\"], [0.4444444444444444, \"#bd3786\"], [0.5555555555555556, \"#d8576b\"], [0.6666666666666666, \"#ed7953\"], [0.7777777777777778, \"#fb9f3a\"], [0.8888888888888888, \"#fdca26\"], [1.0, \"#f0f921\"]], \"type\": \"surface\"}], \"table\": [{\"cells\": {\"fill\": {\"color\": \"#EBF0F8\"}, \"line\": {\"color\": \"white\"}}, \"header\": {\"fill\": {\"color\": \"#C8D4E3\"}, \"line\": {\"color\": \"white\"}}, \"type\": \"table\"}]}, \"layout\": {\"annotationdefaults\": {\"arrowcolor\": \"#2a3f5f\", \"arrowhead\": 0, \"arrowwidth\": 1}, \"coloraxis\": {\"colorbar\": {\"outlinewidth\": 0, \"ticks\": \"\"}}, \"colorscale\": {\"diverging\": [[0, \"#8e0152\"], [0.1, \"#c51b7d\"], [0.2, \"#de77ae\"], [0.3, \"#f1b6da\"], [0.4, \"#fde0ef\"], [0.5, \"#f7f7f7\"], [0.6, \"#e6f5d0\"], [0.7, \"#b8e186\"], [0.8, \"#7fbc41\"], [0.9, \"#4d9221\"], [1, \"#276419\"]], \"sequential\": [[0.0, \"#0d0887\"], [0.1111111111111111, \"#46039f\"], [0.2222222222222222, \"#7201a8\"], [0.3333333333333333, \"#9c179e\"], [0.4444444444444444, \"#bd3786\"], [0.5555555555555556, \"#d8576b\"], [0.6666666666666666, \"#ed7953\"], [0.7777777777777778, \"#fb9f3a\"], [0.8888888888888888, \"#fdca26\"], [1.0, \"#f0f921\"]], \"sequentialminus\": [[0.0, \"#0d0887\"], [0.1111111111111111, \"#46039f\"], [0.2222222222222222, \"#7201a8\"], [0.3333333333333333, \"#9c179e\"], [0.4444444444444444, \"#bd3786\"], [0.5555555555555556, \"#d8576b\"], [0.6666666666666666, \"#ed7953\"], [0.7777777777777778, \"#fb9f3a\"], [0.8888888888888888, \"#fdca26\"], [1.0, \"#f0f921\"]]}, \"colorway\": [\"#636efa\", \"#EF553B\", \"#00cc96\", \"#ab63fa\", \"#FFA15A\", \"#19d3f3\", \"#FF6692\", \"#B6E880\", \"#FF97FF\", \"#FECB52\"], \"font\": {\"color\": \"#2a3f5f\"}, \"geo\": {\"bgcolor\": \"white\", \"lakecolor\": \"white\", \"landcolor\": \"#E5ECF6\", \"showlakes\": true, \"showland\": true, \"subunitcolor\": \"white\"}, \"hoverlabel\": {\"align\": \"left\"}, \"hovermode\": \"closest\", \"mapbox\": {\"style\": \"light\"}, \"paper_bgcolor\": \"white\", \"plot_bgcolor\": \"#E5ECF6\", \"polar\": {\"angularaxis\": {\"gridcolor\": \"white\", \"linecolor\": \"white\", \"ticks\": \"\"}, \"bgcolor\": \"#E5ECF6\", \"radialaxis\": {\"gridcolor\": \"white\", \"linecolor\": \"white\", \"ticks\": \"\"}}, \"scene\": {\"xaxis\": {\"backgroundcolor\": \"#E5ECF6\", \"gridcolor\": \"white\", \"gridwidth\": 2, \"linecolor\": \"white\", \"showbackground\": true, \"ticks\": \"\", \"zerolinecolor\": \"white\"}, \"yaxis\": {\"backgroundcolor\": \"#E5ECF6\", \"gridcolor\": \"white\", \"gridwidth\": 2, \"linecolor\": \"white\", \"showbackground\": true, \"ticks\": \"\", \"zerolinecolor\": \"white\"}, \"zaxis\": {\"backgroundcolor\": \"#E5ECF6\", \"gridcolor\": \"white\", \"gridwidth\": 2, \"linecolor\": \"white\", \"showbackground\": true, \"ticks\": \"\", \"zerolinecolor\": \"white\"}}, \"shapedefaults\": {\"line\": {\"color\": \"#2a3f5f\"}}, \"ternary\": {\"aaxis\": {\"gridcolor\": \"white\", \"linecolor\": \"white\", \"ticks\": \"\"}, \"baxis\": {\"gridcolor\": \"white\", \"linecolor\": \"white\", \"ticks\": \"\"}, \"bgcolor\": \"#E5ECF6\", \"caxis\": {\"gridcolor\": \"white\", \"linecolor\": \"white\", \"ticks\": \"\"}}, \"title\": {\"x\": 0.05}, \"xaxis\": {\"automargin\": true, \"gridcolor\": \"white\", \"linecolor\": \"white\", \"ticks\": \"\", \"title\": {\"standoff\": 15}, \"zerolinecolor\": \"white\", \"zerolinewidth\": 2}, \"yaxis\": {\"automargin\": true, \"gridcolor\": \"white\", \"linecolor\": \"white\", \"ticks\": \"\", \"title\": {\"standoff\": 15}, \"zerolinecolor\": \"white\", \"zerolinewidth\": 2}}}, \"title\": {\"font\": {\"color\": \"#4D5663\"}}, \"xaxis\": {\"gridcolor\": \"#E1E5ED\", \"showgrid\": true, \"tickfont\": {\"color\": \"#4D5663\"}, \"title\": {\"font\": {\"color\": \"#4D5663\"}, \"text\": \"\"}, \"zerolinecolor\": \"#E1E5ED\"}, \"xaxis2\": {\"anchor\": \"y2\", \"gridcolor\": \"#E1E5ED\", \"showgrid\": true, \"showticklabels\": false, \"tickfont\": {\"color\": \"#4D5663\"}, \"title\": {\"font\": {\"color\": \"#4D5663\"}, \"text\": \"\"}, \"zerolinecolor\": \"#E1E5ED\"}, \"yaxis\": {\"domain\": [0.3, 1], \"gridcolor\": \"#E1E5ED\", \"showgrid\": true, \"tickfont\": {\"color\": \"#4D5663\"}, \"title\": {\"font\": {\"color\": \"#4D5663\"}, \"text\": \"\"}, \"zerolinecolor\": \"#E1E5ED\"}, \"yaxis2\": {\"domain\": [0, 0.25], \"gridcolor\": \"#E1E5ED\", \"showgrid\": true, \"tickfont\": {\"color\": \"#4D5663\"}, \"title\": {\"font\": {\"color\": \"#4D5663\"}, \"text\": \"Spread\"}, \"zerolinecolor\": \"#E1E5ED\"}},\n",
       "                        {\"showLink\": true, \"linkText\": \"Export to plot.ly\", \"plotlyServerURL\": \"https://plot.ly\", \"responsive\": true}\n",
       "                    ).then(function(){\n",
       "                            \n",
       "var gd = document.getElementById('1efead01-0fff-4a0f-89ba-4b120957e878');\n",
       "var x = new MutationObserver(function (mutations, observer) {{\n",
       "        var display = window.getComputedStyle(gd).display;\n",
       "        if (!display || display === 'none') {{\n",
       "            console.log([gd, 'removed!']);\n",
       "            Plotly.purge(gd);\n",
       "            observer.disconnect();\n",
       "        }}\n",
       "}});\n",
       "\n",
       "// Listen for the removal of the full notebook cells\n",
       "var notebookContainer = gd.closest('#notebook-container');\n",
       "if (notebookContainer) {{\n",
       "    x.observe(notebookContainer, {childList: true});\n",
       "}}\n",
       "\n",
       "// Listen for the clearing of the current output cell\n",
       "var outputEl = gd.closest('.output');\n",
       "if (outputEl) {{\n",
       "    x.observe(outputEl, {childList: true});\n",
       "}}\n",
       "\n",
       "                        })\n",
       "                };\n",
       "                });\n",
       "            </script>\n",
       "        </div>"
      ]
     },
     "metadata": {},
     "output_type": "display_data"
    }
   ],
   "source": [
    "df[['A', 'B']].iplot(kind = 'spread')"
   ]
  },
  {
   "cell_type": "code",
   "execution_count": 63,
   "metadata": {},
   "outputs": [
    {
     "data": {
      "application/vnd.plotly.v1+json": {
       "config": {
        "linkText": "Export to plot.ly",
        "plotlyServerURL": "https://plot.ly",
        "showLink": true
       },
       "data": [
        {
         "marker": {
          "color": [
           "rgb(165,0,38)",
           "rgb(215,48,39)",
           "rgb(244,109,67)",
           "rgb(253,174,97)",
           "rgb(254,224,144)",
           "rgb(255,255,191)",
           "rgb(224,243,248)",
           "rgb(171,217,233)",
           "rgb(116,173,209)",
           "rgb(69,117,180)",
           "rgb(49,54,149)"
          ],
          "line": {
           "width": 1.3
          },
          "size": [
           71,
           111,
           36,
           108,
           71,
           61,
           42,
           58,
           21,
           83,
           18,
           43,
           12,
           50,
           70,
           75,
           52,
           67,
           25,
           68,
           17,
           45,
           84,
           25,
           47,
           49,
           50,
           47,
           49,
           52,
           69,
           44,
           59,
           69,
           63,
           56,
           12,
           31,
           29,
           44,
           70,
           64,
           60,
           62,
           58,
           63,
           54,
           57,
           70,
           60,
           83,
           59,
           62,
           59,
           46,
           63,
           34,
           52,
           72,
           81,
           45,
           50,
           41,
           64,
           33,
           38,
           80,
           56,
           74,
           47,
           21,
           38,
           47,
           37,
           65,
           56,
           85,
           88,
           71,
           34,
           12,
           47,
           63,
           56,
           77,
           79,
           67,
           62,
           69,
           48,
           59,
           20,
           28,
           41,
           36,
           47,
           34,
           90,
           68,
           52
          ],
          "symbol": "circle"
         },
         "mode": "markers",
         "text": "",
         "type": "scatter",
         "x": [
          -0.14022739364165643,
          -0.06215427637826168,
          1.3604993525322426,
          -0.31499023670117493,
          1.0029694989154603,
          0.970785908978943,
          -1.9952834025092647,
          1.0039135826827332,
          -0.9158744798111359,
          -1.5467467590902721,
          0.37209295460286496,
          -0.11707489023640913,
          0.3729934586411193,
          -0.09155881745717738,
          -0.03683336514171592,
          -0.41858716289621883,
          1.2727487669685111,
          0.7032449700650091,
          -0.3738248467613199,
          1.5095426393794726,
          -0.18607365814905844,
          0.4183288835354543,
          0.19887318935897869,
          -0.8883000951919754,
          -0.5092841539648556,
          -0.6087002578641567,
          -0.9661264541068408,
          -1.915268445309993,
          0.6093753654788755,
          1.580437092556138,
          1.2038017025994858,
          -0.9256468334675966,
          1.4351143773603932,
          1.1091342369517356,
          -0.018304712037069137,
          -2.2313836406164778,
          0.7070440778124587,
          -0.5307156073349464,
          2.296219589090963,
          2.387706409516227,
          0.6271835271545523,
          -1.2173587220621744,
          0.42570764846744746,
          -1.865485577029963,
          0.09358857883241165,
          0.21890364457894615,
          -0.8132962135397189,
          0.8909606370067288,
          -1.3191599374713485,
          -0.266719405828341,
          1.1247976919873686,
          0.48999024384756007,
          0.5807255032073525,
          -0.6562912505872847,
          -0.6742217180417197,
          2.214992557360574,
          -0.9679289742345283,
          0.43124375434740847,
          1.2054308100887878,
          -0.0920927130932392,
          0.9421320700961858,
          0.11984996143687157,
          -0.15429180556311048,
          0.2918631513091189,
          -1.8717576688946829,
          -0.8679678182080496,
          -0.020103099947394832,
          -0.042027336524633696,
          1.239199523092614,
          0.31174508367849085,
          0.9361084479519998,
          -0.18618102912744675,
          0.5826791217951177,
          0.43352959070524805,
          0.05304296463400472,
          -0.5926127266145984,
          -2.714955903645562,
          -0.7302768692480879,
          0.5416647778556658,
          1.066691518602927,
          -0.20464590566938895,
          1.667570632967258,
          -1.2848121388168667,
          -1.2693020887010722,
          1.1961530520102446,
          -2.303978558507296,
          -0.34484568309621116,
          0.33316727300389903,
          -1.5277704570453603,
          -0.2677533280031435,
          -1.1069183000442135,
          -0.69696863763343,
          0.4220514472520369,
          -0.7119580435533539,
          -0.4861965889709872,
          -1.0514199478282396,
          -1.2973863778725738,
          -1.852599660498362,
          0.2669849512911801,
          0.6934313898697425
         ],
         "y": [
          -0.49138081110649495,
          0.20096821703152126,
          -0.5118376940715328,
          -0.294754672042674,
          0.7912868491160063,
          0.6016396273238315,
          -1.8517024871032415,
          -0.8357324338017871,
          0.5567672502176182,
          0.34248645594707156,
          1.1284364585110525,
          -0.9475016318413956,
          0.6052496337791674,
          -0.14129046372803092,
          0.23878933595490678,
          -1.3302105428345574,
          0.7065868414255477,
          0.8596504098464547,
          -1.0289972766977775,
          0.38416590094808395,
          -0.6805516583040593,
          0.25047413304492844,
          -1.0934455244419623,
          0.21783950085433063,
          -1.6465140549141115,
          1.773635885242201,
          -0.15523341084556538,
          2.676693565466258,
          -0.5545091562056877,
          -1.1680827062075498,
          0.4012562551292746,
          1.5825339892798398,
          -0.5398529138511904,
          1.0645026613523625,
          -1.4028466624172862,
          -0.8110265275168601,
          0.017905104851356973,
          -0.5880126717343193,
          -1.9196292048084675,
          -0.5770587119572501,
          -0.3709996873352136,
          0.6380882254802426,
          -2.048108646820459,
          -0.6244061305032667,
          0.1979958562682151,
          1.235861000391054,
          -0.056613145024522714,
          1.4231514175036732,
          -0.12371210746402267,
          2.0043855782244577,
          0.24377248592591028,
          -0.9191773044109226,
          1.260013880741051,
          0.25973909324840844,
          0.7809547129755966,
          -1.1393604843367602,
          0.5155300758995982,
          -0.08659470454921091,
          0.7450800307774069,
          0.8763936308013027,
          0.6536472576730905,
          -0.5269623477618497,
          -0.3983721526933854,
          0.2628759268519323,
          -0.05138886524695858,
          1.999743718409326,
          0.08002061538393514,
          1.8932986126680995,
          -0.4392068648508249,
          1.8041669201375656,
          0.5014501185022648,
          0.6418703110176629,
          0.916215226940129,
          0.09519773076228714,
          0.2024566893905404,
          -1.126067618256918,
          -1.043129801809276,
          1.4232891346410141,
          0.45471152794813313,
          -0.3789454598854821,
          1.113225442536063,
          0.9673482795705286,
          -2.1035698135731296,
          0.5732793851398493,
          0.008794944506913387,
          -1.11121827900885,
          -1.242414784044673,
          0.23578253336456306,
          1.5892034787841012,
          -0.2997132280280576,
          -0.38497283723599923,
          0.7293960491010912,
          0.09212027910610585,
          0.1752052422872672,
          0.5906643403648387,
          -0.7612504986085381,
          1.2337359981255012,
          -0.5972867609627632,
          0.9206519061066598,
          -1.5461656964766408
         ]
        }
       ],
       "layout": {
        "legend": {
         "bgcolor": "#F5F6F9",
         "font": {
          "color": "#4D5663"
         }
        },
        "paper_bgcolor": "#F5F6F9",
        "plot_bgcolor": "#F5F6F9",
        "template": {
         "data": {
          "bar": [
           {
            "error_x": {
             "color": "#2a3f5f"
            },
            "error_y": {
             "color": "#2a3f5f"
            },
            "marker": {
             "line": {
              "color": "#E5ECF6",
              "width": 0.5
             }
            },
            "type": "bar"
           }
          ],
          "barpolar": [
           {
            "marker": {
             "line": {
              "color": "#E5ECF6",
              "width": 0.5
             }
            },
            "type": "barpolar"
           }
          ],
          "carpet": [
           {
            "aaxis": {
             "endlinecolor": "#2a3f5f",
             "gridcolor": "white",
             "linecolor": "white",
             "minorgridcolor": "white",
             "startlinecolor": "#2a3f5f"
            },
            "baxis": {
             "endlinecolor": "#2a3f5f",
             "gridcolor": "white",
             "linecolor": "white",
             "minorgridcolor": "white",
             "startlinecolor": "#2a3f5f"
            },
            "type": "carpet"
           }
          ],
          "choropleth": [
           {
            "colorbar": {
             "outlinewidth": 0,
             "ticks": ""
            },
            "type": "choropleth"
           }
          ],
          "contour": [
           {
            "colorbar": {
             "outlinewidth": 0,
             "ticks": ""
            },
            "colorscale": [
             [
              0,
              "#0d0887"
             ],
             [
              0.1111111111111111,
              "#46039f"
             ],
             [
              0.2222222222222222,
              "#7201a8"
             ],
             [
              0.3333333333333333,
              "#9c179e"
             ],
             [
              0.4444444444444444,
              "#bd3786"
             ],
             [
              0.5555555555555556,
              "#d8576b"
             ],
             [
              0.6666666666666666,
              "#ed7953"
             ],
             [
              0.7777777777777778,
              "#fb9f3a"
             ],
             [
              0.8888888888888888,
              "#fdca26"
             ],
             [
              1,
              "#f0f921"
             ]
            ],
            "type": "contour"
           }
          ],
          "contourcarpet": [
           {
            "colorbar": {
             "outlinewidth": 0,
             "ticks": ""
            },
            "type": "contourcarpet"
           }
          ],
          "heatmap": [
           {
            "colorbar": {
             "outlinewidth": 0,
             "ticks": ""
            },
            "colorscale": [
             [
              0,
              "#0d0887"
             ],
             [
              0.1111111111111111,
              "#46039f"
             ],
             [
              0.2222222222222222,
              "#7201a8"
             ],
             [
              0.3333333333333333,
              "#9c179e"
             ],
             [
              0.4444444444444444,
              "#bd3786"
             ],
             [
              0.5555555555555556,
              "#d8576b"
             ],
             [
              0.6666666666666666,
              "#ed7953"
             ],
             [
              0.7777777777777778,
              "#fb9f3a"
             ],
             [
              0.8888888888888888,
              "#fdca26"
             ],
             [
              1,
              "#f0f921"
             ]
            ],
            "type": "heatmap"
           }
          ],
          "heatmapgl": [
           {
            "colorbar": {
             "outlinewidth": 0,
             "ticks": ""
            },
            "colorscale": [
             [
              0,
              "#0d0887"
             ],
             [
              0.1111111111111111,
              "#46039f"
             ],
             [
              0.2222222222222222,
              "#7201a8"
             ],
             [
              0.3333333333333333,
              "#9c179e"
             ],
             [
              0.4444444444444444,
              "#bd3786"
             ],
             [
              0.5555555555555556,
              "#d8576b"
             ],
             [
              0.6666666666666666,
              "#ed7953"
             ],
             [
              0.7777777777777778,
              "#fb9f3a"
             ],
             [
              0.8888888888888888,
              "#fdca26"
             ],
             [
              1,
              "#f0f921"
             ]
            ],
            "type": "heatmapgl"
           }
          ],
          "histogram": [
           {
            "marker": {
             "colorbar": {
              "outlinewidth": 0,
              "ticks": ""
             }
            },
            "type": "histogram"
           }
          ],
          "histogram2d": [
           {
            "colorbar": {
             "outlinewidth": 0,
             "ticks": ""
            },
            "colorscale": [
             [
              0,
              "#0d0887"
             ],
             [
              0.1111111111111111,
              "#46039f"
             ],
             [
              0.2222222222222222,
              "#7201a8"
             ],
             [
              0.3333333333333333,
              "#9c179e"
             ],
             [
              0.4444444444444444,
              "#bd3786"
             ],
             [
              0.5555555555555556,
              "#d8576b"
             ],
             [
              0.6666666666666666,
              "#ed7953"
             ],
             [
              0.7777777777777778,
              "#fb9f3a"
             ],
             [
              0.8888888888888888,
              "#fdca26"
             ],
             [
              1,
              "#f0f921"
             ]
            ],
            "type": "histogram2d"
           }
          ],
          "histogram2dcontour": [
           {
            "colorbar": {
             "outlinewidth": 0,
             "ticks": ""
            },
            "colorscale": [
             [
              0,
              "#0d0887"
             ],
             [
              0.1111111111111111,
              "#46039f"
             ],
             [
              0.2222222222222222,
              "#7201a8"
             ],
             [
              0.3333333333333333,
              "#9c179e"
             ],
             [
              0.4444444444444444,
              "#bd3786"
             ],
             [
              0.5555555555555556,
              "#d8576b"
             ],
             [
              0.6666666666666666,
              "#ed7953"
             ],
             [
              0.7777777777777778,
              "#fb9f3a"
             ],
             [
              0.8888888888888888,
              "#fdca26"
             ],
             [
              1,
              "#f0f921"
             ]
            ],
            "type": "histogram2dcontour"
           }
          ],
          "mesh3d": [
           {
            "colorbar": {
             "outlinewidth": 0,
             "ticks": ""
            },
            "type": "mesh3d"
           }
          ],
          "parcoords": [
           {
            "line": {
             "colorbar": {
              "outlinewidth": 0,
              "ticks": ""
             }
            },
            "type": "parcoords"
           }
          ],
          "pie": [
           {
            "automargin": true,
            "type": "pie"
           }
          ],
          "scatter": [
           {
            "marker": {
             "colorbar": {
              "outlinewidth": 0,
              "ticks": ""
             }
            },
            "type": "scatter"
           }
          ],
          "scatter3d": [
           {
            "line": {
             "colorbar": {
              "outlinewidth": 0,
              "ticks": ""
             }
            },
            "marker": {
             "colorbar": {
              "outlinewidth": 0,
              "ticks": ""
             }
            },
            "type": "scatter3d"
           }
          ],
          "scattercarpet": [
           {
            "marker": {
             "colorbar": {
              "outlinewidth": 0,
              "ticks": ""
             }
            },
            "type": "scattercarpet"
           }
          ],
          "scattergeo": [
           {
            "marker": {
             "colorbar": {
              "outlinewidth": 0,
              "ticks": ""
             }
            },
            "type": "scattergeo"
           }
          ],
          "scattergl": [
           {
            "marker": {
             "colorbar": {
              "outlinewidth": 0,
              "ticks": ""
             }
            },
            "type": "scattergl"
           }
          ],
          "scattermapbox": [
           {
            "marker": {
             "colorbar": {
              "outlinewidth": 0,
              "ticks": ""
             }
            },
            "type": "scattermapbox"
           }
          ],
          "scatterpolar": [
           {
            "marker": {
             "colorbar": {
              "outlinewidth": 0,
              "ticks": ""
             }
            },
            "type": "scatterpolar"
           }
          ],
          "scatterpolargl": [
           {
            "marker": {
             "colorbar": {
              "outlinewidth": 0,
              "ticks": ""
             }
            },
            "type": "scatterpolargl"
           }
          ],
          "scatterternary": [
           {
            "marker": {
             "colorbar": {
              "outlinewidth": 0,
              "ticks": ""
             }
            },
            "type": "scatterternary"
           }
          ],
          "surface": [
           {
            "colorbar": {
             "outlinewidth": 0,
             "ticks": ""
            },
            "colorscale": [
             [
              0,
              "#0d0887"
             ],
             [
              0.1111111111111111,
              "#46039f"
             ],
             [
              0.2222222222222222,
              "#7201a8"
             ],
             [
              0.3333333333333333,
              "#9c179e"
             ],
             [
              0.4444444444444444,
              "#bd3786"
             ],
             [
              0.5555555555555556,
              "#d8576b"
             ],
             [
              0.6666666666666666,
              "#ed7953"
             ],
             [
              0.7777777777777778,
              "#fb9f3a"
             ],
             [
              0.8888888888888888,
              "#fdca26"
             ],
             [
              1,
              "#f0f921"
             ]
            ],
            "type": "surface"
           }
          ],
          "table": [
           {
            "cells": {
             "fill": {
              "color": "#EBF0F8"
             },
             "line": {
              "color": "white"
             }
            },
            "header": {
             "fill": {
              "color": "#C8D4E3"
             },
             "line": {
              "color": "white"
             }
            },
            "type": "table"
           }
          ]
         },
         "layout": {
          "annotationdefaults": {
           "arrowcolor": "#2a3f5f",
           "arrowhead": 0,
           "arrowwidth": 1
          },
          "coloraxis": {
           "colorbar": {
            "outlinewidth": 0,
            "ticks": ""
           }
          },
          "colorscale": {
           "diverging": [
            [
             0,
             "#8e0152"
            ],
            [
             0.1,
             "#c51b7d"
            ],
            [
             0.2,
             "#de77ae"
            ],
            [
             0.3,
             "#f1b6da"
            ],
            [
             0.4,
             "#fde0ef"
            ],
            [
             0.5,
             "#f7f7f7"
            ],
            [
             0.6,
             "#e6f5d0"
            ],
            [
             0.7,
             "#b8e186"
            ],
            [
             0.8,
             "#7fbc41"
            ],
            [
             0.9,
             "#4d9221"
            ],
            [
             1,
             "#276419"
            ]
           ],
           "sequential": [
            [
             0,
             "#0d0887"
            ],
            [
             0.1111111111111111,
             "#46039f"
            ],
            [
             0.2222222222222222,
             "#7201a8"
            ],
            [
             0.3333333333333333,
             "#9c179e"
            ],
            [
             0.4444444444444444,
             "#bd3786"
            ],
            [
             0.5555555555555556,
             "#d8576b"
            ],
            [
             0.6666666666666666,
             "#ed7953"
            ],
            [
             0.7777777777777778,
             "#fb9f3a"
            ],
            [
             0.8888888888888888,
             "#fdca26"
            ],
            [
             1,
             "#f0f921"
            ]
           ],
           "sequentialminus": [
            [
             0,
             "#0d0887"
            ],
            [
             0.1111111111111111,
             "#46039f"
            ],
            [
             0.2222222222222222,
             "#7201a8"
            ],
            [
             0.3333333333333333,
             "#9c179e"
            ],
            [
             0.4444444444444444,
             "#bd3786"
            ],
            [
             0.5555555555555556,
             "#d8576b"
            ],
            [
             0.6666666666666666,
             "#ed7953"
            ],
            [
             0.7777777777777778,
             "#fb9f3a"
            ],
            [
             0.8888888888888888,
             "#fdca26"
            ],
            [
             1,
             "#f0f921"
            ]
           ]
          },
          "colorway": [
           "#636efa",
           "#EF553B",
           "#00cc96",
           "#ab63fa",
           "#FFA15A",
           "#19d3f3",
           "#FF6692",
           "#B6E880",
           "#FF97FF",
           "#FECB52"
          ],
          "font": {
           "color": "#2a3f5f"
          },
          "geo": {
           "bgcolor": "white",
           "lakecolor": "white",
           "landcolor": "#E5ECF6",
           "showlakes": true,
           "showland": true,
           "subunitcolor": "white"
          },
          "hoverlabel": {
           "align": "left"
          },
          "hovermode": "closest",
          "mapbox": {
           "style": "light"
          },
          "paper_bgcolor": "white",
          "plot_bgcolor": "#E5ECF6",
          "polar": {
           "angularaxis": {
            "gridcolor": "white",
            "linecolor": "white",
            "ticks": ""
           },
           "bgcolor": "#E5ECF6",
           "radialaxis": {
            "gridcolor": "white",
            "linecolor": "white",
            "ticks": ""
           }
          },
          "scene": {
           "xaxis": {
            "backgroundcolor": "#E5ECF6",
            "gridcolor": "white",
            "gridwidth": 2,
            "linecolor": "white",
            "showbackground": true,
            "ticks": "",
            "zerolinecolor": "white"
           },
           "yaxis": {
            "backgroundcolor": "#E5ECF6",
            "gridcolor": "white",
            "gridwidth": 2,
            "linecolor": "white",
            "showbackground": true,
            "ticks": "",
            "zerolinecolor": "white"
           },
           "zaxis": {
            "backgroundcolor": "#E5ECF6",
            "gridcolor": "white",
            "gridwidth": 2,
            "linecolor": "white",
            "showbackground": true,
            "ticks": "",
            "zerolinecolor": "white"
           }
          },
          "shapedefaults": {
           "line": {
            "color": "#2a3f5f"
           }
          },
          "ternary": {
           "aaxis": {
            "gridcolor": "white",
            "linecolor": "white",
            "ticks": ""
           },
           "baxis": {
            "gridcolor": "white",
            "linecolor": "white",
            "ticks": ""
           },
           "bgcolor": "#E5ECF6",
           "caxis": {
            "gridcolor": "white",
            "linecolor": "white",
            "ticks": ""
           }
          },
          "title": {
           "x": 0.05
          },
          "xaxis": {
           "automargin": true,
           "gridcolor": "white",
           "linecolor": "white",
           "ticks": "",
           "title": {
            "standoff": 15
           },
           "zerolinecolor": "white",
           "zerolinewidth": 2
          },
          "yaxis": {
           "automargin": true,
           "gridcolor": "white",
           "linecolor": "white",
           "ticks": "",
           "title": {
            "standoff": 15
           },
           "zerolinecolor": "white",
           "zerolinewidth": 2
          }
         }
        },
        "title": {
         "font": {
          "color": "#4D5663"
         }
        },
        "xaxis": {
         "gridcolor": "#E1E5ED",
         "showgrid": true,
         "tickfont": {
          "color": "#4D5663"
         },
         "title": {
          "font": {
           "color": "#4D5663"
          },
          "text": ""
         },
         "zerolinecolor": "#E1E5ED"
        },
        "yaxis": {
         "gridcolor": "#E1E5ED",
         "showgrid": true,
         "tickfont": {
          "color": "#4D5663"
         },
         "title": {
          "font": {
           "color": "#4D5663"
          },
          "text": ""
         },
         "zerolinecolor": "#E1E5ED"
        }
       }
      },
      "text/html": [
       "<div>\n",
       "        \n",
       "        \n",
       "            <div id=\"3023ad49-d7de-4540-bd13-4d133a83dea4\" class=\"plotly-graph-div\" style=\"height:525px; width:100%;\"></div>\n",
       "            <script type=\"text/javascript\">\n",
       "                require([\"plotly\"], function(Plotly) {\n",
       "                    window.PLOTLYENV=window.PLOTLYENV || {};\n",
       "                    window.PLOTLYENV.BASE_URL='https://plot.ly';\n",
       "                    \n",
       "                if (document.getElementById(\"3023ad49-d7de-4540-bd13-4d133a83dea4\")) {\n",
       "                    Plotly.newPlot(\n",
       "                        '3023ad49-d7de-4540-bd13-4d133a83dea4',\n",
       "                        [{\"marker\": {\"color\": [\"rgb(165,0,38)\", \"rgb(215,48,39)\", \"rgb(244,109,67)\", \"rgb(253,174,97)\", \"rgb(254,224,144)\", \"rgb(255,255,191)\", \"rgb(224,243,248)\", \"rgb(171,217,233)\", \"rgb(116,173,209)\", \"rgb(69,117,180)\", \"rgb(49,54,149)\"], \"line\": {\"width\": 1.3}, \"size\": [71, 111, 36, 108, 71, 61, 42, 58, 21, 83, 18, 43, 12, 50, 70, 75, 52, 67, 25, 68, 17, 45, 84, 25, 47, 49, 50, 47, 49, 52, 69, 44, 59, 69, 63, 56, 12, 31, 29, 44, 70, 64, 60, 62, 58, 63, 54, 57, 70, 60, 83, 59, 62, 59, 46, 63, 34, 52, 72, 81, 45, 50, 41, 64, 33, 38, 80, 56, 74, 47, 21, 38, 47, 37, 65, 56, 85, 88, 71, 34, 12, 47, 63, 56, 77, 79, 67, 62, 69, 48, 59, 20, 28, 41, 36, 47, 34, 90, 68, 52], \"symbol\": \"circle\"}, \"mode\": \"markers\", \"text\": \"\", \"type\": \"scatter\", \"x\": [-0.14022739364165643, -0.06215427637826168, 1.3604993525322426, -0.31499023670117493, 1.0029694989154603, 0.970785908978943, -1.9952834025092647, 1.0039135826827332, -0.9158744798111359, -1.5467467590902721, 0.37209295460286496, -0.11707489023640913, 0.3729934586411193, -0.09155881745717738, -0.03683336514171592, -0.41858716289621883, 1.2727487669685111, 0.7032449700650091, -0.3738248467613199, 1.5095426393794726, -0.18607365814905844, 0.4183288835354543, 0.19887318935897869, -0.8883000951919754, -0.5092841539648556, -0.6087002578641567, -0.9661264541068408, -1.915268445309993, 0.6093753654788755, 1.580437092556138, 1.2038017025994858, -0.9256468334675966, 1.4351143773603932, 1.1091342369517356, -0.018304712037069137, -2.2313836406164778, 0.7070440778124587, -0.5307156073349464, 2.296219589090963, 2.387706409516227, 0.6271835271545523, -1.2173587220621744, 0.42570764846744746, -1.865485577029963, 0.09358857883241165, 0.21890364457894615, -0.8132962135397189, 0.8909606370067288, -1.3191599374713485, -0.266719405828341, 1.1247976919873686, 0.48999024384756007, 0.5807255032073525, -0.6562912505872847, -0.6742217180417197, 2.214992557360574, -0.9679289742345283, 0.43124375434740847, 1.2054308100887878, -0.0920927130932392, 0.9421320700961858, 0.11984996143687157, -0.15429180556311048, 0.2918631513091189, -1.8717576688946829, -0.8679678182080496, -0.020103099947394832, -0.042027336524633696, 1.239199523092614, 0.31174508367849085, 0.9361084479519998, -0.18618102912744675, 0.5826791217951177, 0.43352959070524805, 0.05304296463400472, -0.5926127266145984, -2.714955903645562, -0.7302768692480879, 0.5416647778556658, 1.066691518602927, -0.20464590566938895, 1.667570632967258, -1.2848121388168667, -1.2693020887010722, 1.1961530520102446, -2.303978558507296, -0.34484568309621116, 0.33316727300389903, -1.5277704570453603, -0.2677533280031435, -1.1069183000442135, -0.69696863763343, 0.4220514472520369, -0.7119580435533539, -0.4861965889709872, -1.0514199478282396, -1.2973863778725738, -1.852599660498362, 0.2669849512911801, 0.6934313898697425], \"y\": [-0.49138081110649495, 0.20096821703152126, -0.5118376940715328, -0.294754672042674, 0.7912868491160063, 0.6016396273238315, -1.8517024871032415, -0.8357324338017871, 0.5567672502176182, 0.34248645594707156, 1.1284364585110525, -0.9475016318413956, 0.6052496337791674, -0.14129046372803092, 0.23878933595490678, -1.3302105428345574, 0.7065868414255477, 0.8596504098464547, -1.0289972766977775, 0.38416590094808395, -0.6805516583040593, 0.25047413304492844, -1.0934455244419623, 0.21783950085433063, -1.6465140549141115, 1.773635885242201, -0.15523341084556538, 2.676693565466258, -0.5545091562056877, -1.1680827062075498, 0.4012562551292746, 1.5825339892798398, -0.5398529138511904, 1.0645026613523625, -1.4028466624172862, -0.8110265275168601, 0.017905104851356973, -0.5880126717343193, -1.9196292048084675, -0.5770587119572501, -0.3709996873352136, 0.6380882254802426, -2.048108646820459, -0.6244061305032667, 0.1979958562682151, 1.235861000391054, -0.056613145024522714, 1.4231514175036732, -0.12371210746402267, 2.0043855782244577, 0.24377248592591028, -0.9191773044109226, 1.260013880741051, 0.25973909324840844, 0.7809547129755966, -1.1393604843367602, 0.5155300758995982, -0.08659470454921091, 0.7450800307774069, 0.8763936308013027, 0.6536472576730905, -0.5269623477618497, -0.3983721526933854, 0.2628759268519323, -0.05138886524695858, 1.999743718409326, 0.08002061538393514, 1.8932986126680995, -0.4392068648508249, 1.8041669201375656, 0.5014501185022648, 0.6418703110176629, 0.916215226940129, 0.09519773076228714, 0.2024566893905404, -1.126067618256918, -1.043129801809276, 1.4232891346410141, 0.45471152794813313, -0.3789454598854821, 1.113225442536063, 0.9673482795705286, -2.1035698135731296, 0.5732793851398493, 0.008794944506913387, -1.11121827900885, -1.242414784044673, 0.23578253336456306, 1.5892034787841012, -0.2997132280280576, -0.38497283723599923, 0.7293960491010912, 0.09212027910610585, 0.1752052422872672, 0.5906643403648387, -0.7612504986085381, 1.2337359981255012, -0.5972867609627632, 0.9206519061066598, -1.5461656964766408]}],\n",
       "                        {\"legend\": {\"bgcolor\": \"#F5F6F9\", \"font\": {\"color\": \"#4D5663\"}}, \"paper_bgcolor\": \"#F5F6F9\", \"plot_bgcolor\": \"#F5F6F9\", \"template\": {\"data\": {\"bar\": [{\"error_x\": {\"color\": \"#2a3f5f\"}, \"error_y\": {\"color\": \"#2a3f5f\"}, \"marker\": {\"line\": {\"color\": \"#E5ECF6\", \"width\": 0.5}}, \"type\": \"bar\"}], \"barpolar\": [{\"marker\": {\"line\": {\"color\": \"#E5ECF6\", \"width\": 0.5}}, \"type\": \"barpolar\"}], \"carpet\": [{\"aaxis\": {\"endlinecolor\": \"#2a3f5f\", \"gridcolor\": \"white\", \"linecolor\": \"white\", \"minorgridcolor\": \"white\", \"startlinecolor\": \"#2a3f5f\"}, \"baxis\": {\"endlinecolor\": \"#2a3f5f\", \"gridcolor\": \"white\", \"linecolor\": \"white\", \"minorgridcolor\": \"white\", \"startlinecolor\": \"#2a3f5f\"}, \"type\": \"carpet\"}], \"choropleth\": [{\"colorbar\": {\"outlinewidth\": 0, \"ticks\": \"\"}, \"type\": \"choropleth\"}], \"contour\": [{\"colorbar\": {\"outlinewidth\": 0, \"ticks\": \"\"}, \"colorscale\": [[0.0, \"#0d0887\"], [0.1111111111111111, \"#46039f\"], [0.2222222222222222, \"#7201a8\"], [0.3333333333333333, \"#9c179e\"], [0.4444444444444444, \"#bd3786\"], [0.5555555555555556, \"#d8576b\"], [0.6666666666666666, \"#ed7953\"], [0.7777777777777778, \"#fb9f3a\"], [0.8888888888888888, \"#fdca26\"], [1.0, \"#f0f921\"]], \"type\": \"contour\"}], \"contourcarpet\": [{\"colorbar\": {\"outlinewidth\": 0, \"ticks\": \"\"}, \"type\": \"contourcarpet\"}], \"heatmap\": [{\"colorbar\": {\"outlinewidth\": 0, \"ticks\": \"\"}, \"colorscale\": [[0.0, \"#0d0887\"], [0.1111111111111111, \"#46039f\"], [0.2222222222222222, \"#7201a8\"], [0.3333333333333333, \"#9c179e\"], [0.4444444444444444, \"#bd3786\"], [0.5555555555555556, \"#d8576b\"], [0.6666666666666666, \"#ed7953\"], [0.7777777777777778, \"#fb9f3a\"], [0.8888888888888888, \"#fdca26\"], [1.0, \"#f0f921\"]], \"type\": \"heatmap\"}], \"heatmapgl\": [{\"colorbar\": {\"outlinewidth\": 0, \"ticks\": \"\"}, \"colorscale\": [[0.0, \"#0d0887\"], [0.1111111111111111, \"#46039f\"], [0.2222222222222222, \"#7201a8\"], [0.3333333333333333, \"#9c179e\"], [0.4444444444444444, \"#bd3786\"], [0.5555555555555556, \"#d8576b\"], [0.6666666666666666, \"#ed7953\"], [0.7777777777777778, \"#fb9f3a\"], [0.8888888888888888, \"#fdca26\"], [1.0, \"#f0f921\"]], \"type\": \"heatmapgl\"}], \"histogram\": [{\"marker\": {\"colorbar\": {\"outlinewidth\": 0, \"ticks\": \"\"}}, \"type\": \"histogram\"}], \"histogram2d\": [{\"colorbar\": {\"outlinewidth\": 0, \"ticks\": \"\"}, \"colorscale\": [[0.0, \"#0d0887\"], [0.1111111111111111, \"#46039f\"], [0.2222222222222222, \"#7201a8\"], [0.3333333333333333, \"#9c179e\"], [0.4444444444444444, \"#bd3786\"], [0.5555555555555556, \"#d8576b\"], [0.6666666666666666, \"#ed7953\"], [0.7777777777777778, \"#fb9f3a\"], [0.8888888888888888, \"#fdca26\"], [1.0, \"#f0f921\"]], \"type\": \"histogram2d\"}], \"histogram2dcontour\": [{\"colorbar\": {\"outlinewidth\": 0, \"ticks\": \"\"}, \"colorscale\": [[0.0, \"#0d0887\"], [0.1111111111111111, \"#46039f\"], [0.2222222222222222, \"#7201a8\"], [0.3333333333333333, \"#9c179e\"], [0.4444444444444444, \"#bd3786\"], [0.5555555555555556, \"#d8576b\"], [0.6666666666666666, \"#ed7953\"], [0.7777777777777778, \"#fb9f3a\"], [0.8888888888888888, \"#fdca26\"], [1.0, \"#f0f921\"]], \"type\": \"histogram2dcontour\"}], \"mesh3d\": [{\"colorbar\": {\"outlinewidth\": 0, \"ticks\": \"\"}, \"type\": \"mesh3d\"}], \"parcoords\": [{\"line\": {\"colorbar\": {\"outlinewidth\": 0, \"ticks\": \"\"}}, \"type\": \"parcoords\"}], \"pie\": [{\"automargin\": true, \"type\": \"pie\"}], \"scatter\": [{\"marker\": {\"colorbar\": {\"outlinewidth\": 0, \"ticks\": \"\"}}, \"type\": \"scatter\"}], \"scatter3d\": [{\"line\": {\"colorbar\": {\"outlinewidth\": 0, \"ticks\": \"\"}}, \"marker\": {\"colorbar\": {\"outlinewidth\": 0, \"ticks\": \"\"}}, \"type\": \"scatter3d\"}], \"scattercarpet\": [{\"marker\": {\"colorbar\": {\"outlinewidth\": 0, \"ticks\": \"\"}}, \"type\": \"scattercarpet\"}], \"scattergeo\": [{\"marker\": {\"colorbar\": {\"outlinewidth\": 0, \"ticks\": \"\"}}, \"type\": \"scattergeo\"}], \"scattergl\": [{\"marker\": {\"colorbar\": {\"outlinewidth\": 0, \"ticks\": \"\"}}, \"type\": \"scattergl\"}], \"scattermapbox\": [{\"marker\": {\"colorbar\": {\"outlinewidth\": 0, \"ticks\": \"\"}}, \"type\": \"scattermapbox\"}], \"scatterpolar\": [{\"marker\": {\"colorbar\": {\"outlinewidth\": 0, \"ticks\": \"\"}}, \"type\": \"scatterpolar\"}], \"scatterpolargl\": [{\"marker\": {\"colorbar\": {\"outlinewidth\": 0, \"ticks\": \"\"}}, \"type\": \"scatterpolargl\"}], \"scatterternary\": [{\"marker\": {\"colorbar\": {\"outlinewidth\": 0, \"ticks\": \"\"}}, \"type\": \"scatterternary\"}], \"surface\": [{\"colorbar\": {\"outlinewidth\": 0, \"ticks\": \"\"}, \"colorscale\": [[0.0, \"#0d0887\"], [0.1111111111111111, \"#46039f\"], [0.2222222222222222, \"#7201a8\"], [0.3333333333333333, \"#9c179e\"], [0.4444444444444444, \"#bd3786\"], [0.5555555555555556, \"#d8576b\"], [0.6666666666666666, \"#ed7953\"], [0.7777777777777778, \"#fb9f3a\"], [0.8888888888888888, \"#fdca26\"], [1.0, \"#f0f921\"]], \"type\": \"surface\"}], \"table\": [{\"cells\": {\"fill\": {\"color\": \"#EBF0F8\"}, \"line\": {\"color\": \"white\"}}, \"header\": {\"fill\": {\"color\": \"#C8D4E3\"}, \"line\": {\"color\": \"white\"}}, \"type\": \"table\"}]}, \"layout\": {\"annotationdefaults\": {\"arrowcolor\": \"#2a3f5f\", \"arrowhead\": 0, \"arrowwidth\": 1}, \"coloraxis\": {\"colorbar\": {\"outlinewidth\": 0, \"ticks\": \"\"}}, \"colorscale\": {\"diverging\": [[0, \"#8e0152\"], [0.1, \"#c51b7d\"], [0.2, \"#de77ae\"], [0.3, \"#f1b6da\"], [0.4, \"#fde0ef\"], [0.5, \"#f7f7f7\"], [0.6, \"#e6f5d0\"], [0.7, \"#b8e186\"], [0.8, \"#7fbc41\"], [0.9, \"#4d9221\"], [1, \"#276419\"]], \"sequential\": [[0.0, \"#0d0887\"], [0.1111111111111111, \"#46039f\"], [0.2222222222222222, \"#7201a8\"], [0.3333333333333333, \"#9c179e\"], [0.4444444444444444, \"#bd3786\"], [0.5555555555555556, \"#d8576b\"], [0.6666666666666666, \"#ed7953\"], [0.7777777777777778, \"#fb9f3a\"], [0.8888888888888888, \"#fdca26\"], [1.0, \"#f0f921\"]], \"sequentialminus\": [[0.0, \"#0d0887\"], [0.1111111111111111, \"#46039f\"], [0.2222222222222222, \"#7201a8\"], [0.3333333333333333, \"#9c179e\"], [0.4444444444444444, \"#bd3786\"], [0.5555555555555556, \"#d8576b\"], [0.6666666666666666, \"#ed7953\"], [0.7777777777777778, \"#fb9f3a\"], [0.8888888888888888, \"#fdca26\"], [1.0, \"#f0f921\"]]}, \"colorway\": [\"#636efa\", \"#EF553B\", \"#00cc96\", \"#ab63fa\", \"#FFA15A\", \"#19d3f3\", \"#FF6692\", \"#B6E880\", \"#FF97FF\", \"#FECB52\"], \"font\": {\"color\": \"#2a3f5f\"}, \"geo\": {\"bgcolor\": \"white\", \"lakecolor\": \"white\", \"landcolor\": \"#E5ECF6\", \"showlakes\": true, \"showland\": true, \"subunitcolor\": \"white\"}, \"hoverlabel\": {\"align\": \"left\"}, \"hovermode\": \"closest\", \"mapbox\": {\"style\": \"light\"}, \"paper_bgcolor\": \"white\", \"plot_bgcolor\": \"#E5ECF6\", \"polar\": {\"angularaxis\": {\"gridcolor\": \"white\", \"linecolor\": \"white\", \"ticks\": \"\"}, \"bgcolor\": \"#E5ECF6\", \"radialaxis\": {\"gridcolor\": \"white\", \"linecolor\": \"white\", \"ticks\": \"\"}}, \"scene\": {\"xaxis\": {\"backgroundcolor\": \"#E5ECF6\", \"gridcolor\": \"white\", \"gridwidth\": 2, \"linecolor\": \"white\", \"showbackground\": true, \"ticks\": \"\", \"zerolinecolor\": \"white\"}, \"yaxis\": {\"backgroundcolor\": \"#E5ECF6\", \"gridcolor\": \"white\", \"gridwidth\": 2, \"linecolor\": \"white\", \"showbackground\": true, \"ticks\": \"\", \"zerolinecolor\": \"white\"}, \"zaxis\": {\"backgroundcolor\": \"#E5ECF6\", \"gridcolor\": \"white\", \"gridwidth\": 2, \"linecolor\": \"white\", \"showbackground\": true, \"ticks\": \"\", \"zerolinecolor\": \"white\"}}, \"shapedefaults\": {\"line\": {\"color\": \"#2a3f5f\"}}, \"ternary\": {\"aaxis\": {\"gridcolor\": \"white\", \"linecolor\": \"white\", \"ticks\": \"\"}, \"baxis\": {\"gridcolor\": \"white\", \"linecolor\": \"white\", \"ticks\": \"\"}, \"bgcolor\": \"#E5ECF6\", \"caxis\": {\"gridcolor\": \"white\", \"linecolor\": \"white\", \"ticks\": \"\"}}, \"title\": {\"x\": 0.05}, \"xaxis\": {\"automargin\": true, \"gridcolor\": \"white\", \"linecolor\": \"white\", \"ticks\": \"\", \"title\": {\"standoff\": 15}, \"zerolinecolor\": \"white\", \"zerolinewidth\": 2}, \"yaxis\": {\"automargin\": true, \"gridcolor\": \"white\", \"linecolor\": \"white\", \"ticks\": \"\", \"title\": {\"standoff\": 15}, \"zerolinecolor\": \"white\", \"zerolinewidth\": 2}}}, \"title\": {\"font\": {\"color\": \"#4D5663\"}}, \"xaxis\": {\"gridcolor\": \"#E1E5ED\", \"showgrid\": true, \"tickfont\": {\"color\": \"#4D5663\"}, \"title\": {\"font\": {\"color\": \"#4D5663\"}, \"text\": \"\"}, \"zerolinecolor\": \"#E1E5ED\"}, \"yaxis\": {\"gridcolor\": \"#E1E5ED\", \"showgrid\": true, \"tickfont\": {\"color\": \"#4D5663\"}, \"title\": {\"font\": {\"color\": \"#4D5663\"}, \"text\": \"\"}, \"zerolinecolor\": \"#E1E5ED\"}},\n",
       "                        {\"showLink\": true, \"linkText\": \"Export to plot.ly\", \"plotlyServerURL\": \"https://plot.ly\", \"responsive\": true}\n",
       "                    ).then(function(){\n",
       "                            \n",
       "var gd = document.getElementById('3023ad49-d7de-4540-bd13-4d133a83dea4');\n",
       "var x = new MutationObserver(function (mutations, observer) {{\n",
       "        var display = window.getComputedStyle(gd).display;\n",
       "        if (!display || display === 'none') {{\n",
       "            console.log([gd, 'removed!']);\n",
       "            Plotly.purge(gd);\n",
       "            observer.disconnect();\n",
       "        }}\n",
       "}});\n",
       "\n",
       "// Listen for the removal of the full notebook cells\n",
       "var notebookContainer = gd.closest('#notebook-container');\n",
       "if (notebookContainer) {{\n",
       "    x.observe(notebookContainer, {childList: true});\n",
       "}}\n",
       "\n",
       "// Listen for the clearing of the current output cell\n",
       "var outputEl = gd.closest('.output');\n",
       "if (outputEl) {{\n",
       "    x.observe(outputEl, {childList: true});\n",
       "}}\n",
       "\n",
       "                        })\n",
       "                };\n",
       "                });\n",
       "            </script>\n",
       "        </div>"
      ]
     },
     "metadata": {},
     "output_type": "display_data"
    }
   ],
   "source": [
    "df.iplot(kind = 'bubble', x = 'A', y = 'B', size = 'C', colorscale = 'rdylbu')"
   ]
  },
  {
   "cell_type": "code",
   "execution_count": 65,
   "metadata": {},
   "outputs": [
    {
     "data": {
      "application/vnd.plotly.v1+json": {
       "config": {
        "linkText": "Export to plot.ly",
        "plotlyServerURL": "https://plot.ly",
        "showLink": true
       },
       "data": [
        {
         "histfunc": "count",
         "histnorm": "",
         "marker": {
          "color": "rgba(255, 153, 51, 1.0)",
          "line": {
           "color": "#4D5663",
           "width": 1.3
          }
         },
         "name": "A",
         "nbinsx": 10,
         "opacity": 0.8,
         "orientation": "v",
         "type": "histogram",
         "x": [
          -0.14022739364165643,
          -0.06215427637826168,
          1.3604993525322426,
          -0.31499023670117493,
          1.0029694989154603,
          0.970785908978943,
          -1.9952834025092647,
          1.0039135826827332,
          -0.9158744798111359,
          -1.5467467590902721,
          0.37209295460286496,
          -0.11707489023640913,
          0.3729934586411193,
          -0.09155881745717738,
          -0.03683336514171592,
          -0.41858716289621883,
          1.2727487669685111,
          0.7032449700650091,
          -0.3738248467613199,
          1.5095426393794726,
          -0.18607365814905844,
          0.4183288835354543,
          0.19887318935897869,
          -0.8883000951919754,
          -0.5092841539648556,
          -0.6087002578641567,
          -0.9661264541068408,
          -1.915268445309993,
          0.6093753654788755,
          1.580437092556138,
          1.2038017025994858,
          -0.9256468334675966,
          1.4351143773603932,
          1.1091342369517356,
          -0.018304712037069137,
          -2.2313836406164778,
          0.7070440778124587,
          -0.5307156073349464,
          2.296219589090963,
          2.387706409516227,
          0.6271835271545523,
          -1.2173587220621744,
          0.42570764846744746,
          -1.865485577029963,
          0.09358857883241165,
          0.21890364457894615,
          -0.8132962135397189,
          0.8909606370067288,
          -1.3191599374713485,
          -0.266719405828341,
          1.1247976919873686,
          0.48999024384756007,
          0.5807255032073525,
          -0.6562912505872847,
          -0.6742217180417197,
          2.214992557360574,
          -0.9679289742345283,
          0.43124375434740847,
          1.2054308100887878,
          -0.0920927130932392,
          0.9421320700961858,
          0.11984996143687157,
          -0.15429180556311048,
          0.2918631513091189,
          -1.8717576688946829,
          -0.8679678182080496,
          -0.020103099947394832,
          -0.042027336524633696,
          1.239199523092614,
          0.31174508367849085,
          0.9361084479519998,
          -0.18618102912744675,
          0.5826791217951177,
          0.43352959070524805,
          0.05304296463400472,
          -0.5926127266145984,
          -2.714955903645562,
          -0.7302768692480879,
          0.5416647778556658,
          1.066691518602927,
          -0.20464590566938895,
          1.667570632967258,
          -1.2848121388168667,
          -1.2693020887010722,
          1.1961530520102446,
          -2.303978558507296,
          -0.34484568309621116,
          0.33316727300389903,
          -1.5277704570453603,
          -0.2677533280031435,
          -1.1069183000442135,
          -0.69696863763343,
          0.4220514472520369,
          -0.7119580435533539,
          -0.4861965889709872,
          -1.0514199478282396,
          -1.2973863778725738,
          -1.852599660498362,
          0.2669849512911801,
          0.6934313898697425
         ],
         "xaxis": "x",
         "yaxis": "y"
        },
        {
         "line": {
          "color": "rgba(128, 128, 128, 1.0)",
          "dash": "solid",
          "shape": "linear",
          "width": 1.3
         },
         "marker": {
          "size": 2,
          "symbol": "circle"
         },
         "mode": "markers",
         "name": "A",
         "text": "",
         "type": "scatter",
         "x": [
          -0.49138081110649495,
          0.20096821703152126,
          -0.5118376940715328,
          -0.294754672042674,
          0.7912868491160063,
          0.6016396273238315,
          -1.8517024871032415,
          -0.8357324338017871,
          0.5567672502176182,
          0.34248645594707156,
          1.1284364585110525,
          -0.9475016318413956,
          0.6052496337791674,
          -0.14129046372803092,
          0.23878933595490678,
          -1.3302105428345574,
          0.7065868414255477,
          0.8596504098464547,
          -1.0289972766977775,
          0.38416590094808395,
          -0.6805516583040593,
          0.25047413304492844,
          -1.0934455244419623,
          0.21783950085433063,
          -1.6465140549141115,
          1.773635885242201,
          -0.15523341084556538,
          2.676693565466258,
          -0.5545091562056877,
          -1.1680827062075498,
          0.4012562551292746,
          1.5825339892798398,
          -0.5398529138511904,
          1.0645026613523625,
          -1.4028466624172862,
          -0.8110265275168601,
          0.017905104851356973,
          -0.5880126717343193,
          -1.9196292048084675,
          -0.5770587119572501,
          -0.3709996873352136,
          0.6380882254802426,
          -2.048108646820459,
          -0.6244061305032667,
          0.1979958562682151,
          1.235861000391054,
          -0.056613145024522714,
          1.4231514175036732,
          -0.12371210746402267,
          2.0043855782244577,
          0.24377248592591028,
          -0.9191773044109226,
          1.260013880741051,
          0.25973909324840844,
          0.7809547129755966,
          -1.1393604843367602,
          0.5155300758995982,
          -0.08659470454921091,
          0.7450800307774069,
          0.8763936308013027,
          0.6536472576730905,
          -0.5269623477618497,
          -0.3983721526933854,
          0.2628759268519323,
          -0.05138886524695858,
          1.999743718409326,
          0.08002061538393514,
          1.8932986126680995,
          -0.4392068648508249,
          1.8041669201375656,
          0.5014501185022648,
          0.6418703110176629,
          0.916215226940129,
          0.09519773076228714,
          0.2024566893905404,
          -1.126067618256918,
          -1.043129801809276,
          1.4232891346410141,
          0.45471152794813313,
          -0.3789454598854821,
          1.113225442536063,
          0.9673482795705286,
          -2.1035698135731296,
          0.5732793851398493,
          0.008794944506913387,
          -1.11121827900885,
          -1.242414784044673,
          0.23578253336456306,
          1.5892034787841012,
          -0.2997132280280576,
          -0.38497283723599923,
          0.7293960491010912,
          0.09212027910610585,
          0.1752052422872672,
          0.5906643403648387,
          -0.7612504986085381,
          1.2337359981255012,
          -0.5972867609627632,
          0.9206519061066598,
          -1.5461656964766408
         ],
         "xaxis": "x2",
         "y": [
          -0.14022739364165643,
          -0.06215427637826168,
          1.3604993525322426,
          -0.31499023670117493,
          1.0029694989154603,
          0.970785908978943,
          -1.9952834025092647,
          1.0039135826827332,
          -0.9158744798111359,
          -1.5467467590902721,
          0.37209295460286496,
          -0.11707489023640913,
          0.3729934586411193,
          -0.09155881745717738,
          -0.03683336514171592,
          -0.41858716289621883,
          1.2727487669685111,
          0.7032449700650091,
          -0.3738248467613199,
          1.5095426393794726,
          -0.18607365814905844,
          0.4183288835354543,
          0.19887318935897869,
          -0.8883000951919754,
          -0.5092841539648556,
          -0.6087002578641567,
          -0.9661264541068408,
          -1.915268445309993,
          0.6093753654788755,
          1.580437092556138,
          1.2038017025994858,
          -0.9256468334675966,
          1.4351143773603932,
          1.1091342369517356,
          -0.018304712037069137,
          -2.2313836406164778,
          0.7070440778124587,
          -0.5307156073349464,
          2.296219589090963,
          2.387706409516227,
          0.6271835271545523,
          -1.2173587220621744,
          0.42570764846744746,
          -1.865485577029963,
          0.09358857883241165,
          0.21890364457894615,
          -0.8132962135397189,
          0.8909606370067288,
          -1.3191599374713485,
          -0.266719405828341,
          1.1247976919873686,
          0.48999024384756007,
          0.5807255032073525,
          -0.6562912505872847,
          -0.6742217180417197,
          2.214992557360574,
          -0.9679289742345283,
          0.43124375434740847,
          1.2054308100887878,
          -0.0920927130932392,
          0.9421320700961858,
          0.11984996143687157,
          -0.15429180556311048,
          0.2918631513091189,
          -1.8717576688946829,
          -0.8679678182080496,
          -0.020103099947394832,
          -0.042027336524633696,
          1.239199523092614,
          0.31174508367849085,
          0.9361084479519998,
          -0.18618102912744675,
          0.5826791217951177,
          0.43352959070524805,
          0.05304296463400472,
          -0.5926127266145984,
          -2.714955903645562,
          -0.7302768692480879,
          0.5416647778556658,
          1.066691518602927,
          -0.20464590566938895,
          1.667570632967258,
          -1.2848121388168667,
          -1.2693020887010722,
          1.1961530520102446,
          -2.303978558507296,
          -0.34484568309621116,
          0.33316727300389903,
          -1.5277704570453603,
          -0.2677533280031435,
          -1.1069183000442135,
          -0.69696863763343,
          0.4220514472520369,
          -0.7119580435533539,
          -0.4861965889709872,
          -1.0514199478282396,
          -1.2973863778725738,
          -1.852599660498362,
          0.2669849512911801,
          0.6934313898697425
         ],
         "yaxis": "y2"
        },
        {
         "line": {
          "color": "rgba(128, 128, 128, 1.0)",
          "dash": "solid",
          "shape": "linear",
          "width": 1.3
         },
         "marker": {
          "size": 2,
          "symbol": "circle"
         },
         "mode": "markers",
         "name": "A",
         "text": "",
         "type": "scatter",
         "x": [
          0.8322983650067056,
          2.9487944257739023,
          -0.9327203264414998,
          2.7933536990347863,
          0.8542454719675332,
          0.31809576337229933,
          -0.6715186412029381,
          0.15938393556550307,
          -1.7425405225991573,
          1.4863178222912832,
          -1.872915682609848,
          -0.5960420579789987,
          -2.203298476933827,
          -0.2329350022052127,
          0.7796450318301332,
          1.052891983781643,
          -0.1409371827770851,
          0.6474336473085542,
          -1.505571111529484,
          0.7062178145702688,
          -1.964670446835789,
          -0.4981514131178999,
          1.5181771987126984,
          -1.536175060551129,
          -0.38959992623384093,
          -0.3022172312940435,
          -0.25772880922383,
          -0.39695053175002115,
          -0.3095852443436779,
          -0.11194083861580877,
          0.7601753859738068,
          -0.530247095041203,
          0.20861687899845097,
          0.7674050485892783,
          0.4452817555900837,
          0.0767095841096248,
          -2.2259461140532677,
          -1.2116302710576747,
          -1.32822562098306,
          -0.5222062624020434,
          0.7911058892910624,
          0.4677239636003078,
          0.30047245775079023,
          0.3655170020081269,
          0.20289276559461722,
          0.4153352653664582,
          -0.052447423831299834,
          0.11944076654957166,
          0.8015700610030586,
          0.2918230148556353,
          1.4531188182365395,
          0.24933808921225617,
          0.3785975989601048,
          0.226260847886642,
          -0.41584412274397065,
          0.4454689629799662,
          -1.0586950119045058,
          -0.14716718680168142,
          0.8857301418421732,
          1.384794926717062,
          -0.4903542543080155,
          -0.2473618499212272,
          -0.7009630708566316,
          0.5156263381961245,
          -1.1291255812234384,
          -0.829298694609309,
          1.3248499130433977,
          0.08442761312503773,
          1.0275396393621423,
          -0.3766191390707656,
          -1.731605498902651,
          -0.8783732284756439,
          -0.4096881845872658,
          -0.9214946500952481,
          0.5544203859970838,
          0.055184168100756534,
          1.5837192344598334,
          1.7266557126922775,
          0.8683138050421154,
          -1.0555846243018687,
          -2.184309585184786,
          -0.3803520581700609,
          0.4206995113741631,
          0.085060901439029,
          1.15516801238735,
          1.256396811071076,
          0.6613073885245957,
          0.4055860332919486,
          0.7494503435914309,
          -0.3553773638208235,
          0.22709931025133642,
          -1.8067918820329791,
          -1.3655651555395014,
          -0.7013106904763116,
          -0.9608101653884948,
          -0.3913486413753859,
          -1.0725993756038412,
          1.8512012914505818,
          0.7088848612689266,
          -0.14842242801709593
         ],
         "xaxis": "x3",
         "y": [
          -0.14022739364165643,
          -0.06215427637826168,
          1.3604993525322426,
          -0.31499023670117493,
          1.0029694989154603,
          0.970785908978943,
          -1.9952834025092647,
          1.0039135826827332,
          -0.9158744798111359,
          -1.5467467590902721,
          0.37209295460286496,
          -0.11707489023640913,
          0.3729934586411193,
          -0.09155881745717738,
          -0.03683336514171592,
          -0.41858716289621883,
          1.2727487669685111,
          0.7032449700650091,
          -0.3738248467613199,
          1.5095426393794726,
          -0.18607365814905844,
          0.4183288835354543,
          0.19887318935897869,
          -0.8883000951919754,
          -0.5092841539648556,
          -0.6087002578641567,
          -0.9661264541068408,
          -1.915268445309993,
          0.6093753654788755,
          1.580437092556138,
          1.2038017025994858,
          -0.9256468334675966,
          1.4351143773603932,
          1.1091342369517356,
          -0.018304712037069137,
          -2.2313836406164778,
          0.7070440778124587,
          -0.5307156073349464,
          2.296219589090963,
          2.387706409516227,
          0.6271835271545523,
          -1.2173587220621744,
          0.42570764846744746,
          -1.865485577029963,
          0.09358857883241165,
          0.21890364457894615,
          -0.8132962135397189,
          0.8909606370067288,
          -1.3191599374713485,
          -0.266719405828341,
          1.1247976919873686,
          0.48999024384756007,
          0.5807255032073525,
          -0.6562912505872847,
          -0.6742217180417197,
          2.214992557360574,
          -0.9679289742345283,
          0.43124375434740847,
          1.2054308100887878,
          -0.0920927130932392,
          0.9421320700961858,
          0.11984996143687157,
          -0.15429180556311048,
          0.2918631513091189,
          -1.8717576688946829,
          -0.8679678182080496,
          -0.020103099947394832,
          -0.042027336524633696,
          1.239199523092614,
          0.31174508367849085,
          0.9361084479519998,
          -0.18618102912744675,
          0.5826791217951177,
          0.43352959070524805,
          0.05304296463400472,
          -0.5926127266145984,
          -2.714955903645562,
          -0.7302768692480879,
          0.5416647778556658,
          1.066691518602927,
          -0.20464590566938895,
          1.667570632967258,
          -1.2848121388168667,
          -1.2693020887010722,
          1.1961530520102446,
          -2.303978558507296,
          -0.34484568309621116,
          0.33316727300389903,
          -1.5277704570453603,
          -0.2677533280031435,
          -1.1069183000442135,
          -0.69696863763343,
          0.4220514472520369,
          -0.7119580435533539,
          -0.4861965889709872,
          -1.0514199478282396,
          -1.2973863778725738,
          -1.852599660498362,
          0.2669849512911801,
          0.6934313898697425
         ],
         "yaxis": "y3"
        },
        {
         "line": {
          "color": "rgba(128, 128, 128, 1.0)",
          "dash": "solid",
          "shape": "linear",
          "width": 1.3
         },
         "marker": {
          "size": 2,
          "symbol": "circle"
         },
         "mode": "markers",
         "name": "A",
         "text": "",
         "type": "scatter",
         "x": [
          0.14980519387875132,
          -1.4198798107052975,
          -0.7327077885129524,
          -0.6085377074797261,
          0.32603603643856804,
          0.05800489349336685,
          -0.7663414536041493,
          -0.4980972756109609,
          1.6291425865446543,
          0.4637796522855408,
          0.041789905018740685,
          0.3775787012811703,
          -1.5982595699465927,
          1.319815229205623,
          -0.7973020773164097,
          0.016588448398173073,
          0.7687636179232215,
          0.946061861862273,
          0.5630595028889144,
          -1.732414528269466,
          0.2202207093991576,
          -0.18890053343860205,
          -1.4304638653323456,
          -1.4128856795325917,
          0.06393104024926448,
          0.14144503101449765,
          0.4802131029118245,
          1.009367633119822,
          -0.5821688413981985,
          0.43607399705809297,
          -1.107229741845423,
          -0.1763841373336813,
          0.977963986531852,
          -1.6522872849716423,
          -0.5793361170634413,
          0.5558489986821461,
          1.065170588802731,
          1.3299176946618927,
          0.15570712345963303,
          -0.37284916437786214,
          0.8574099168049211,
          1.3580023577303706,
          -1.227710763935321,
          -1.581773724016081,
          -0.9583483914893025,
          0.5220724489139206,
          -0.9447623535968571,
          2.326472964841943,
          -1.0285467364486465,
          -0.9518028155898937,
          1.8256635162843007,
          -0.7447939489245792,
          -0.35542822662993445,
          2.0226683813177546,
          0.30189223247555663,
          -0.06399955557885503,
          -1.556050477309016,
          -1.6343501528936466,
          -0.41084832490311385,
          -0.16266217074037218,
          0.2914615780978868,
          -0.424044469491487,
          1.1063947607956812,
          -1.3891732650666997,
          -0.2954048676433976,
          1.1092818568490956,
          -0.19599030027340839,
          0.5291884870361916,
          0.36172739040270746,
          -0.560905791229739,
          -0.33918392310298456,
          0.5910664413066594,
          -1.0603114537944383,
          -0.16533511057927797,
          1.2364316740221963,
          0.1454372667550455,
          -1.4880456437309315,
          -0.0934156145073493,
          0.940054247885066,
          0.4769872896615898,
          2.142452777427751,
          -1.620668974236862,
          -0.019343804836262146,
          0.5090676133052232,
          -1.9161718154222847,
          0.3853671714937817,
          0.994868242832238,
          1.0964425597617593,
          1.467335409627744,
          0.7646621744062372,
          -1.7816290892180877,
          0.0907817268338275,
          -0.20687425439460655,
          -0.980047818319929,
          -0.07394196352769604,
          0.5749412114732553,
          -0.19751122740326005,
          1.2592560828216992,
          -0.094315966458522,
          1.016397700020748
         ],
         "xaxis": "x4",
         "y": [
          -0.14022739364165643,
          -0.06215427637826168,
          1.3604993525322426,
          -0.31499023670117493,
          1.0029694989154603,
          0.970785908978943,
          -1.9952834025092647,
          1.0039135826827332,
          -0.9158744798111359,
          -1.5467467590902721,
          0.37209295460286496,
          -0.11707489023640913,
          0.3729934586411193,
          -0.09155881745717738,
          -0.03683336514171592,
          -0.41858716289621883,
          1.2727487669685111,
          0.7032449700650091,
          -0.3738248467613199,
          1.5095426393794726,
          -0.18607365814905844,
          0.4183288835354543,
          0.19887318935897869,
          -0.8883000951919754,
          -0.5092841539648556,
          -0.6087002578641567,
          -0.9661264541068408,
          -1.915268445309993,
          0.6093753654788755,
          1.580437092556138,
          1.2038017025994858,
          -0.9256468334675966,
          1.4351143773603932,
          1.1091342369517356,
          -0.018304712037069137,
          -2.2313836406164778,
          0.7070440778124587,
          -0.5307156073349464,
          2.296219589090963,
          2.387706409516227,
          0.6271835271545523,
          -1.2173587220621744,
          0.42570764846744746,
          -1.865485577029963,
          0.09358857883241165,
          0.21890364457894615,
          -0.8132962135397189,
          0.8909606370067288,
          -1.3191599374713485,
          -0.266719405828341,
          1.1247976919873686,
          0.48999024384756007,
          0.5807255032073525,
          -0.6562912505872847,
          -0.6742217180417197,
          2.214992557360574,
          -0.9679289742345283,
          0.43124375434740847,
          1.2054308100887878,
          -0.0920927130932392,
          0.9421320700961858,
          0.11984996143687157,
          -0.15429180556311048,
          0.2918631513091189,
          -1.8717576688946829,
          -0.8679678182080496,
          -0.020103099947394832,
          -0.042027336524633696,
          1.239199523092614,
          0.31174508367849085,
          0.9361084479519998,
          -0.18618102912744675,
          0.5826791217951177,
          0.43352959070524805,
          0.05304296463400472,
          -0.5926127266145984,
          -2.714955903645562,
          -0.7302768692480879,
          0.5416647778556658,
          1.066691518602927,
          -0.20464590566938895,
          1.667570632967258,
          -1.2848121388168667,
          -1.2693020887010722,
          1.1961530520102446,
          -2.303978558507296,
          -0.34484568309621116,
          0.33316727300389903,
          -1.5277704570453603,
          -0.2677533280031435,
          -1.1069183000442135,
          -0.69696863763343,
          0.4220514472520369,
          -0.7119580435533539,
          -0.4861965889709872,
          -1.0514199478282396,
          -1.2973863778725738,
          -1.852599660498362,
          0.2669849512911801,
          0.6934313898697425
         ],
         "yaxis": "y4"
        },
        {
         "line": {
          "color": "rgba(128, 128, 128, 1.0)",
          "dash": "solid",
          "shape": "linear",
          "width": 1.3
         },
         "marker": {
          "size": 2,
          "symbol": "circle"
         },
         "mode": "markers",
         "name": "B",
         "text": "",
         "type": "scatter",
         "x": [
          -0.14022739364165643,
          -0.06215427637826168,
          1.3604993525322426,
          -0.31499023670117493,
          1.0029694989154603,
          0.970785908978943,
          -1.9952834025092647,
          1.0039135826827332,
          -0.9158744798111359,
          -1.5467467590902721,
          0.37209295460286496,
          -0.11707489023640913,
          0.3729934586411193,
          -0.09155881745717738,
          -0.03683336514171592,
          -0.41858716289621883,
          1.2727487669685111,
          0.7032449700650091,
          -0.3738248467613199,
          1.5095426393794726,
          -0.18607365814905844,
          0.4183288835354543,
          0.19887318935897869,
          -0.8883000951919754,
          -0.5092841539648556,
          -0.6087002578641567,
          -0.9661264541068408,
          -1.915268445309993,
          0.6093753654788755,
          1.580437092556138,
          1.2038017025994858,
          -0.9256468334675966,
          1.4351143773603932,
          1.1091342369517356,
          -0.018304712037069137,
          -2.2313836406164778,
          0.7070440778124587,
          -0.5307156073349464,
          2.296219589090963,
          2.387706409516227,
          0.6271835271545523,
          -1.2173587220621744,
          0.42570764846744746,
          -1.865485577029963,
          0.09358857883241165,
          0.21890364457894615,
          -0.8132962135397189,
          0.8909606370067288,
          -1.3191599374713485,
          -0.266719405828341,
          1.1247976919873686,
          0.48999024384756007,
          0.5807255032073525,
          -0.6562912505872847,
          -0.6742217180417197,
          2.214992557360574,
          -0.9679289742345283,
          0.43124375434740847,
          1.2054308100887878,
          -0.0920927130932392,
          0.9421320700961858,
          0.11984996143687157,
          -0.15429180556311048,
          0.2918631513091189,
          -1.8717576688946829,
          -0.8679678182080496,
          -0.020103099947394832,
          -0.042027336524633696,
          1.239199523092614,
          0.31174508367849085,
          0.9361084479519998,
          -0.18618102912744675,
          0.5826791217951177,
          0.43352959070524805,
          0.05304296463400472,
          -0.5926127266145984,
          -2.714955903645562,
          -0.7302768692480879,
          0.5416647778556658,
          1.066691518602927,
          -0.20464590566938895,
          1.667570632967258,
          -1.2848121388168667,
          -1.2693020887010722,
          1.1961530520102446,
          -2.303978558507296,
          -0.34484568309621116,
          0.33316727300389903,
          -1.5277704570453603,
          -0.2677533280031435,
          -1.1069183000442135,
          -0.69696863763343,
          0.4220514472520369,
          -0.7119580435533539,
          -0.4861965889709872,
          -1.0514199478282396,
          -1.2973863778725738,
          -1.852599660498362,
          0.2669849512911801,
          0.6934313898697425
         ],
         "xaxis": "x5",
         "y": [
          -0.49138081110649495,
          0.20096821703152126,
          -0.5118376940715328,
          -0.294754672042674,
          0.7912868491160063,
          0.6016396273238315,
          -1.8517024871032415,
          -0.8357324338017871,
          0.5567672502176182,
          0.34248645594707156,
          1.1284364585110525,
          -0.9475016318413956,
          0.6052496337791674,
          -0.14129046372803092,
          0.23878933595490678,
          -1.3302105428345574,
          0.7065868414255477,
          0.8596504098464547,
          -1.0289972766977775,
          0.38416590094808395,
          -0.6805516583040593,
          0.25047413304492844,
          -1.0934455244419623,
          0.21783950085433063,
          -1.6465140549141115,
          1.773635885242201,
          -0.15523341084556538,
          2.676693565466258,
          -0.5545091562056877,
          -1.1680827062075498,
          0.4012562551292746,
          1.5825339892798398,
          -0.5398529138511904,
          1.0645026613523625,
          -1.4028466624172862,
          -0.8110265275168601,
          0.017905104851356973,
          -0.5880126717343193,
          -1.9196292048084675,
          -0.5770587119572501,
          -0.3709996873352136,
          0.6380882254802426,
          -2.048108646820459,
          -0.6244061305032667,
          0.1979958562682151,
          1.235861000391054,
          -0.056613145024522714,
          1.4231514175036732,
          -0.12371210746402267,
          2.0043855782244577,
          0.24377248592591028,
          -0.9191773044109226,
          1.260013880741051,
          0.25973909324840844,
          0.7809547129755966,
          -1.1393604843367602,
          0.5155300758995982,
          -0.08659470454921091,
          0.7450800307774069,
          0.8763936308013027,
          0.6536472576730905,
          -0.5269623477618497,
          -0.3983721526933854,
          0.2628759268519323,
          -0.05138886524695858,
          1.999743718409326,
          0.08002061538393514,
          1.8932986126680995,
          -0.4392068648508249,
          1.8041669201375656,
          0.5014501185022648,
          0.6418703110176629,
          0.916215226940129,
          0.09519773076228714,
          0.2024566893905404,
          -1.126067618256918,
          -1.043129801809276,
          1.4232891346410141,
          0.45471152794813313,
          -0.3789454598854821,
          1.113225442536063,
          0.9673482795705286,
          -2.1035698135731296,
          0.5732793851398493,
          0.008794944506913387,
          -1.11121827900885,
          -1.242414784044673,
          0.23578253336456306,
          1.5892034787841012,
          -0.2997132280280576,
          -0.38497283723599923,
          0.7293960491010912,
          0.09212027910610585,
          0.1752052422872672,
          0.5906643403648387,
          -0.7612504986085381,
          1.2337359981255012,
          -0.5972867609627632,
          0.9206519061066598,
          -1.5461656964766408
         ],
         "yaxis": "y5"
        },
        {
         "histfunc": "count",
         "histnorm": "",
         "marker": {
          "color": "rgba(55, 128, 191, 1.0)",
          "line": {
           "color": "#4D5663",
           "width": 1.3
          }
         },
         "name": "B",
         "nbinsx": 10,
         "opacity": 0.8,
         "orientation": "v",
         "type": "histogram",
         "x": [
          -0.49138081110649495,
          0.20096821703152126,
          -0.5118376940715328,
          -0.294754672042674,
          0.7912868491160063,
          0.6016396273238315,
          -1.8517024871032415,
          -0.8357324338017871,
          0.5567672502176182,
          0.34248645594707156,
          1.1284364585110525,
          -0.9475016318413956,
          0.6052496337791674,
          -0.14129046372803092,
          0.23878933595490678,
          -1.3302105428345574,
          0.7065868414255477,
          0.8596504098464547,
          -1.0289972766977775,
          0.38416590094808395,
          -0.6805516583040593,
          0.25047413304492844,
          -1.0934455244419623,
          0.21783950085433063,
          -1.6465140549141115,
          1.773635885242201,
          -0.15523341084556538,
          2.676693565466258,
          -0.5545091562056877,
          -1.1680827062075498,
          0.4012562551292746,
          1.5825339892798398,
          -0.5398529138511904,
          1.0645026613523625,
          -1.4028466624172862,
          -0.8110265275168601,
          0.017905104851356973,
          -0.5880126717343193,
          -1.9196292048084675,
          -0.5770587119572501,
          -0.3709996873352136,
          0.6380882254802426,
          -2.048108646820459,
          -0.6244061305032667,
          0.1979958562682151,
          1.235861000391054,
          -0.056613145024522714,
          1.4231514175036732,
          -0.12371210746402267,
          2.0043855782244577,
          0.24377248592591028,
          -0.9191773044109226,
          1.260013880741051,
          0.25973909324840844,
          0.7809547129755966,
          -1.1393604843367602,
          0.5155300758995982,
          -0.08659470454921091,
          0.7450800307774069,
          0.8763936308013027,
          0.6536472576730905,
          -0.5269623477618497,
          -0.3983721526933854,
          0.2628759268519323,
          -0.05138886524695858,
          1.999743718409326,
          0.08002061538393514,
          1.8932986126680995,
          -0.4392068648508249,
          1.8041669201375656,
          0.5014501185022648,
          0.6418703110176629,
          0.916215226940129,
          0.09519773076228714,
          0.2024566893905404,
          -1.126067618256918,
          -1.043129801809276,
          1.4232891346410141,
          0.45471152794813313,
          -0.3789454598854821,
          1.113225442536063,
          0.9673482795705286,
          -2.1035698135731296,
          0.5732793851398493,
          0.008794944506913387,
          -1.11121827900885,
          -1.242414784044673,
          0.23578253336456306,
          1.5892034787841012,
          -0.2997132280280576,
          -0.38497283723599923,
          0.7293960491010912,
          0.09212027910610585,
          0.1752052422872672,
          0.5906643403648387,
          -0.7612504986085381,
          1.2337359981255012,
          -0.5972867609627632,
          0.9206519061066598,
          -1.5461656964766408
         ],
         "xaxis": "x6",
         "yaxis": "y6"
        },
        {
         "line": {
          "color": "rgba(128, 128, 128, 1.0)",
          "dash": "solid",
          "shape": "linear",
          "width": 1.3
         },
         "marker": {
          "size": 2,
          "symbol": "circle"
         },
         "mode": "markers",
         "name": "B",
         "text": "",
         "type": "scatter",
         "x": [
          0.8322983650067056,
          2.9487944257739023,
          -0.9327203264414998,
          2.7933536990347863,
          0.8542454719675332,
          0.31809576337229933,
          -0.6715186412029381,
          0.15938393556550307,
          -1.7425405225991573,
          1.4863178222912832,
          -1.872915682609848,
          -0.5960420579789987,
          -2.203298476933827,
          -0.2329350022052127,
          0.7796450318301332,
          1.052891983781643,
          -0.1409371827770851,
          0.6474336473085542,
          -1.505571111529484,
          0.7062178145702688,
          -1.964670446835789,
          -0.4981514131178999,
          1.5181771987126984,
          -1.536175060551129,
          -0.38959992623384093,
          -0.3022172312940435,
          -0.25772880922383,
          -0.39695053175002115,
          -0.3095852443436779,
          -0.11194083861580877,
          0.7601753859738068,
          -0.530247095041203,
          0.20861687899845097,
          0.7674050485892783,
          0.4452817555900837,
          0.0767095841096248,
          -2.2259461140532677,
          -1.2116302710576747,
          -1.32822562098306,
          -0.5222062624020434,
          0.7911058892910624,
          0.4677239636003078,
          0.30047245775079023,
          0.3655170020081269,
          0.20289276559461722,
          0.4153352653664582,
          -0.052447423831299834,
          0.11944076654957166,
          0.8015700610030586,
          0.2918230148556353,
          1.4531188182365395,
          0.24933808921225617,
          0.3785975989601048,
          0.226260847886642,
          -0.41584412274397065,
          0.4454689629799662,
          -1.0586950119045058,
          -0.14716718680168142,
          0.8857301418421732,
          1.384794926717062,
          -0.4903542543080155,
          -0.2473618499212272,
          -0.7009630708566316,
          0.5156263381961245,
          -1.1291255812234384,
          -0.829298694609309,
          1.3248499130433977,
          0.08442761312503773,
          1.0275396393621423,
          -0.3766191390707656,
          -1.731605498902651,
          -0.8783732284756439,
          -0.4096881845872658,
          -0.9214946500952481,
          0.5544203859970838,
          0.055184168100756534,
          1.5837192344598334,
          1.7266557126922775,
          0.8683138050421154,
          -1.0555846243018687,
          -2.184309585184786,
          -0.3803520581700609,
          0.4206995113741631,
          0.085060901439029,
          1.15516801238735,
          1.256396811071076,
          0.6613073885245957,
          0.4055860332919486,
          0.7494503435914309,
          -0.3553773638208235,
          0.22709931025133642,
          -1.8067918820329791,
          -1.3655651555395014,
          -0.7013106904763116,
          -0.9608101653884948,
          -0.3913486413753859,
          -1.0725993756038412,
          1.8512012914505818,
          0.7088848612689266,
          -0.14842242801709593
         ],
         "xaxis": "x7",
         "y": [
          -0.49138081110649495,
          0.20096821703152126,
          -0.5118376940715328,
          -0.294754672042674,
          0.7912868491160063,
          0.6016396273238315,
          -1.8517024871032415,
          -0.8357324338017871,
          0.5567672502176182,
          0.34248645594707156,
          1.1284364585110525,
          -0.9475016318413956,
          0.6052496337791674,
          -0.14129046372803092,
          0.23878933595490678,
          -1.3302105428345574,
          0.7065868414255477,
          0.8596504098464547,
          -1.0289972766977775,
          0.38416590094808395,
          -0.6805516583040593,
          0.25047413304492844,
          -1.0934455244419623,
          0.21783950085433063,
          -1.6465140549141115,
          1.773635885242201,
          -0.15523341084556538,
          2.676693565466258,
          -0.5545091562056877,
          -1.1680827062075498,
          0.4012562551292746,
          1.5825339892798398,
          -0.5398529138511904,
          1.0645026613523625,
          -1.4028466624172862,
          -0.8110265275168601,
          0.017905104851356973,
          -0.5880126717343193,
          -1.9196292048084675,
          -0.5770587119572501,
          -0.3709996873352136,
          0.6380882254802426,
          -2.048108646820459,
          -0.6244061305032667,
          0.1979958562682151,
          1.235861000391054,
          -0.056613145024522714,
          1.4231514175036732,
          -0.12371210746402267,
          2.0043855782244577,
          0.24377248592591028,
          -0.9191773044109226,
          1.260013880741051,
          0.25973909324840844,
          0.7809547129755966,
          -1.1393604843367602,
          0.5155300758995982,
          -0.08659470454921091,
          0.7450800307774069,
          0.8763936308013027,
          0.6536472576730905,
          -0.5269623477618497,
          -0.3983721526933854,
          0.2628759268519323,
          -0.05138886524695858,
          1.999743718409326,
          0.08002061538393514,
          1.8932986126680995,
          -0.4392068648508249,
          1.8041669201375656,
          0.5014501185022648,
          0.6418703110176629,
          0.916215226940129,
          0.09519773076228714,
          0.2024566893905404,
          -1.126067618256918,
          -1.043129801809276,
          1.4232891346410141,
          0.45471152794813313,
          -0.3789454598854821,
          1.113225442536063,
          0.9673482795705286,
          -2.1035698135731296,
          0.5732793851398493,
          0.008794944506913387,
          -1.11121827900885,
          -1.242414784044673,
          0.23578253336456306,
          1.5892034787841012,
          -0.2997132280280576,
          -0.38497283723599923,
          0.7293960491010912,
          0.09212027910610585,
          0.1752052422872672,
          0.5906643403648387,
          -0.7612504986085381,
          1.2337359981255012,
          -0.5972867609627632,
          0.9206519061066598,
          -1.5461656964766408
         ],
         "yaxis": "y7"
        },
        {
         "line": {
          "color": "rgba(128, 128, 128, 1.0)",
          "dash": "solid",
          "shape": "linear",
          "width": 1.3
         },
         "marker": {
          "size": 2,
          "symbol": "circle"
         },
         "mode": "markers",
         "name": "B",
         "text": "",
         "type": "scatter",
         "x": [
          0.14980519387875132,
          -1.4198798107052975,
          -0.7327077885129524,
          -0.6085377074797261,
          0.32603603643856804,
          0.05800489349336685,
          -0.7663414536041493,
          -0.4980972756109609,
          1.6291425865446543,
          0.4637796522855408,
          0.041789905018740685,
          0.3775787012811703,
          -1.5982595699465927,
          1.319815229205623,
          -0.7973020773164097,
          0.016588448398173073,
          0.7687636179232215,
          0.946061861862273,
          0.5630595028889144,
          -1.732414528269466,
          0.2202207093991576,
          -0.18890053343860205,
          -1.4304638653323456,
          -1.4128856795325917,
          0.06393104024926448,
          0.14144503101449765,
          0.4802131029118245,
          1.009367633119822,
          -0.5821688413981985,
          0.43607399705809297,
          -1.107229741845423,
          -0.1763841373336813,
          0.977963986531852,
          -1.6522872849716423,
          -0.5793361170634413,
          0.5558489986821461,
          1.065170588802731,
          1.3299176946618927,
          0.15570712345963303,
          -0.37284916437786214,
          0.8574099168049211,
          1.3580023577303706,
          -1.227710763935321,
          -1.581773724016081,
          -0.9583483914893025,
          0.5220724489139206,
          -0.9447623535968571,
          2.326472964841943,
          -1.0285467364486465,
          -0.9518028155898937,
          1.8256635162843007,
          -0.7447939489245792,
          -0.35542822662993445,
          2.0226683813177546,
          0.30189223247555663,
          -0.06399955557885503,
          -1.556050477309016,
          -1.6343501528936466,
          -0.41084832490311385,
          -0.16266217074037218,
          0.2914615780978868,
          -0.424044469491487,
          1.1063947607956812,
          -1.3891732650666997,
          -0.2954048676433976,
          1.1092818568490956,
          -0.19599030027340839,
          0.5291884870361916,
          0.36172739040270746,
          -0.560905791229739,
          -0.33918392310298456,
          0.5910664413066594,
          -1.0603114537944383,
          -0.16533511057927797,
          1.2364316740221963,
          0.1454372667550455,
          -1.4880456437309315,
          -0.0934156145073493,
          0.940054247885066,
          0.4769872896615898,
          2.142452777427751,
          -1.620668974236862,
          -0.019343804836262146,
          0.5090676133052232,
          -1.9161718154222847,
          0.3853671714937817,
          0.994868242832238,
          1.0964425597617593,
          1.467335409627744,
          0.7646621744062372,
          -1.7816290892180877,
          0.0907817268338275,
          -0.20687425439460655,
          -0.980047818319929,
          -0.07394196352769604,
          0.5749412114732553,
          -0.19751122740326005,
          1.2592560828216992,
          -0.094315966458522,
          1.016397700020748
         ],
         "xaxis": "x8",
         "y": [
          -0.49138081110649495,
          0.20096821703152126,
          -0.5118376940715328,
          -0.294754672042674,
          0.7912868491160063,
          0.6016396273238315,
          -1.8517024871032415,
          -0.8357324338017871,
          0.5567672502176182,
          0.34248645594707156,
          1.1284364585110525,
          -0.9475016318413956,
          0.6052496337791674,
          -0.14129046372803092,
          0.23878933595490678,
          -1.3302105428345574,
          0.7065868414255477,
          0.8596504098464547,
          -1.0289972766977775,
          0.38416590094808395,
          -0.6805516583040593,
          0.25047413304492844,
          -1.0934455244419623,
          0.21783950085433063,
          -1.6465140549141115,
          1.773635885242201,
          -0.15523341084556538,
          2.676693565466258,
          -0.5545091562056877,
          -1.1680827062075498,
          0.4012562551292746,
          1.5825339892798398,
          -0.5398529138511904,
          1.0645026613523625,
          -1.4028466624172862,
          -0.8110265275168601,
          0.017905104851356973,
          -0.5880126717343193,
          -1.9196292048084675,
          -0.5770587119572501,
          -0.3709996873352136,
          0.6380882254802426,
          -2.048108646820459,
          -0.6244061305032667,
          0.1979958562682151,
          1.235861000391054,
          -0.056613145024522714,
          1.4231514175036732,
          -0.12371210746402267,
          2.0043855782244577,
          0.24377248592591028,
          -0.9191773044109226,
          1.260013880741051,
          0.25973909324840844,
          0.7809547129755966,
          -1.1393604843367602,
          0.5155300758995982,
          -0.08659470454921091,
          0.7450800307774069,
          0.8763936308013027,
          0.6536472576730905,
          -0.5269623477618497,
          -0.3983721526933854,
          0.2628759268519323,
          -0.05138886524695858,
          1.999743718409326,
          0.08002061538393514,
          1.8932986126680995,
          -0.4392068648508249,
          1.8041669201375656,
          0.5014501185022648,
          0.6418703110176629,
          0.916215226940129,
          0.09519773076228714,
          0.2024566893905404,
          -1.126067618256918,
          -1.043129801809276,
          1.4232891346410141,
          0.45471152794813313,
          -0.3789454598854821,
          1.113225442536063,
          0.9673482795705286,
          -2.1035698135731296,
          0.5732793851398493,
          0.008794944506913387,
          -1.11121827900885,
          -1.242414784044673,
          0.23578253336456306,
          1.5892034787841012,
          -0.2997132280280576,
          -0.38497283723599923,
          0.7293960491010912,
          0.09212027910610585,
          0.1752052422872672,
          0.5906643403648387,
          -0.7612504986085381,
          1.2337359981255012,
          -0.5972867609627632,
          0.9206519061066598,
          -1.5461656964766408
         ],
         "yaxis": "y8"
        },
        {
         "line": {
          "color": "rgba(128, 128, 128, 1.0)",
          "dash": "solid",
          "shape": "linear",
          "width": 1.3
         },
         "marker": {
          "size": 2,
          "symbol": "circle"
         },
         "mode": "markers",
         "name": "C",
         "text": "",
         "type": "scatter",
         "x": [
          -0.14022739364165643,
          -0.06215427637826168,
          1.3604993525322426,
          -0.31499023670117493,
          1.0029694989154603,
          0.970785908978943,
          -1.9952834025092647,
          1.0039135826827332,
          -0.9158744798111359,
          -1.5467467590902721,
          0.37209295460286496,
          -0.11707489023640913,
          0.3729934586411193,
          -0.09155881745717738,
          -0.03683336514171592,
          -0.41858716289621883,
          1.2727487669685111,
          0.7032449700650091,
          -0.3738248467613199,
          1.5095426393794726,
          -0.18607365814905844,
          0.4183288835354543,
          0.19887318935897869,
          -0.8883000951919754,
          -0.5092841539648556,
          -0.6087002578641567,
          -0.9661264541068408,
          -1.915268445309993,
          0.6093753654788755,
          1.580437092556138,
          1.2038017025994858,
          -0.9256468334675966,
          1.4351143773603932,
          1.1091342369517356,
          -0.018304712037069137,
          -2.2313836406164778,
          0.7070440778124587,
          -0.5307156073349464,
          2.296219589090963,
          2.387706409516227,
          0.6271835271545523,
          -1.2173587220621744,
          0.42570764846744746,
          -1.865485577029963,
          0.09358857883241165,
          0.21890364457894615,
          -0.8132962135397189,
          0.8909606370067288,
          -1.3191599374713485,
          -0.266719405828341,
          1.1247976919873686,
          0.48999024384756007,
          0.5807255032073525,
          -0.6562912505872847,
          -0.6742217180417197,
          2.214992557360574,
          -0.9679289742345283,
          0.43124375434740847,
          1.2054308100887878,
          -0.0920927130932392,
          0.9421320700961858,
          0.11984996143687157,
          -0.15429180556311048,
          0.2918631513091189,
          -1.8717576688946829,
          -0.8679678182080496,
          -0.020103099947394832,
          -0.042027336524633696,
          1.239199523092614,
          0.31174508367849085,
          0.9361084479519998,
          -0.18618102912744675,
          0.5826791217951177,
          0.43352959070524805,
          0.05304296463400472,
          -0.5926127266145984,
          -2.714955903645562,
          -0.7302768692480879,
          0.5416647778556658,
          1.066691518602927,
          -0.20464590566938895,
          1.667570632967258,
          -1.2848121388168667,
          -1.2693020887010722,
          1.1961530520102446,
          -2.303978558507296,
          -0.34484568309621116,
          0.33316727300389903,
          -1.5277704570453603,
          -0.2677533280031435,
          -1.1069183000442135,
          -0.69696863763343,
          0.4220514472520369,
          -0.7119580435533539,
          -0.4861965889709872,
          -1.0514199478282396,
          -1.2973863778725738,
          -1.852599660498362,
          0.2669849512911801,
          0.6934313898697425
         ],
         "xaxis": "x9",
         "y": [
          0.8322983650067056,
          2.9487944257739023,
          -0.9327203264414998,
          2.7933536990347863,
          0.8542454719675332,
          0.31809576337229933,
          -0.6715186412029381,
          0.15938393556550307,
          -1.7425405225991573,
          1.4863178222912832,
          -1.872915682609848,
          -0.5960420579789987,
          -2.203298476933827,
          -0.2329350022052127,
          0.7796450318301332,
          1.052891983781643,
          -0.1409371827770851,
          0.6474336473085542,
          -1.505571111529484,
          0.7062178145702688,
          -1.964670446835789,
          -0.4981514131178999,
          1.5181771987126984,
          -1.536175060551129,
          -0.38959992623384093,
          -0.3022172312940435,
          -0.25772880922383,
          -0.39695053175002115,
          -0.3095852443436779,
          -0.11194083861580877,
          0.7601753859738068,
          -0.530247095041203,
          0.20861687899845097,
          0.7674050485892783,
          0.4452817555900837,
          0.0767095841096248,
          -2.2259461140532677,
          -1.2116302710576747,
          -1.32822562098306,
          -0.5222062624020434,
          0.7911058892910624,
          0.4677239636003078,
          0.30047245775079023,
          0.3655170020081269,
          0.20289276559461722,
          0.4153352653664582,
          -0.052447423831299834,
          0.11944076654957166,
          0.8015700610030586,
          0.2918230148556353,
          1.4531188182365395,
          0.24933808921225617,
          0.3785975989601048,
          0.226260847886642,
          -0.41584412274397065,
          0.4454689629799662,
          -1.0586950119045058,
          -0.14716718680168142,
          0.8857301418421732,
          1.384794926717062,
          -0.4903542543080155,
          -0.2473618499212272,
          -0.7009630708566316,
          0.5156263381961245,
          -1.1291255812234384,
          -0.829298694609309,
          1.3248499130433977,
          0.08442761312503773,
          1.0275396393621423,
          -0.3766191390707656,
          -1.731605498902651,
          -0.8783732284756439,
          -0.4096881845872658,
          -0.9214946500952481,
          0.5544203859970838,
          0.055184168100756534,
          1.5837192344598334,
          1.7266557126922775,
          0.8683138050421154,
          -1.0555846243018687,
          -2.184309585184786,
          -0.3803520581700609,
          0.4206995113741631,
          0.085060901439029,
          1.15516801238735,
          1.256396811071076,
          0.6613073885245957,
          0.4055860332919486,
          0.7494503435914309,
          -0.3553773638208235,
          0.22709931025133642,
          -1.8067918820329791,
          -1.3655651555395014,
          -0.7013106904763116,
          -0.9608101653884948,
          -0.3913486413753859,
          -1.0725993756038412,
          1.8512012914505818,
          0.7088848612689266,
          -0.14842242801709593
         ],
         "yaxis": "y9"
        },
        {
         "line": {
          "color": "rgba(128, 128, 128, 1.0)",
          "dash": "solid",
          "shape": "linear",
          "width": 1.3
         },
         "marker": {
          "size": 2,
          "symbol": "circle"
         },
         "mode": "markers",
         "name": "C",
         "text": "",
         "type": "scatter",
         "x": [
          -0.49138081110649495,
          0.20096821703152126,
          -0.5118376940715328,
          -0.294754672042674,
          0.7912868491160063,
          0.6016396273238315,
          -1.8517024871032415,
          -0.8357324338017871,
          0.5567672502176182,
          0.34248645594707156,
          1.1284364585110525,
          -0.9475016318413956,
          0.6052496337791674,
          -0.14129046372803092,
          0.23878933595490678,
          -1.3302105428345574,
          0.7065868414255477,
          0.8596504098464547,
          -1.0289972766977775,
          0.38416590094808395,
          -0.6805516583040593,
          0.25047413304492844,
          -1.0934455244419623,
          0.21783950085433063,
          -1.6465140549141115,
          1.773635885242201,
          -0.15523341084556538,
          2.676693565466258,
          -0.5545091562056877,
          -1.1680827062075498,
          0.4012562551292746,
          1.5825339892798398,
          -0.5398529138511904,
          1.0645026613523625,
          -1.4028466624172862,
          -0.8110265275168601,
          0.017905104851356973,
          -0.5880126717343193,
          -1.9196292048084675,
          -0.5770587119572501,
          -0.3709996873352136,
          0.6380882254802426,
          -2.048108646820459,
          -0.6244061305032667,
          0.1979958562682151,
          1.235861000391054,
          -0.056613145024522714,
          1.4231514175036732,
          -0.12371210746402267,
          2.0043855782244577,
          0.24377248592591028,
          -0.9191773044109226,
          1.260013880741051,
          0.25973909324840844,
          0.7809547129755966,
          -1.1393604843367602,
          0.5155300758995982,
          -0.08659470454921091,
          0.7450800307774069,
          0.8763936308013027,
          0.6536472576730905,
          -0.5269623477618497,
          -0.3983721526933854,
          0.2628759268519323,
          -0.05138886524695858,
          1.999743718409326,
          0.08002061538393514,
          1.8932986126680995,
          -0.4392068648508249,
          1.8041669201375656,
          0.5014501185022648,
          0.6418703110176629,
          0.916215226940129,
          0.09519773076228714,
          0.2024566893905404,
          -1.126067618256918,
          -1.043129801809276,
          1.4232891346410141,
          0.45471152794813313,
          -0.3789454598854821,
          1.113225442536063,
          0.9673482795705286,
          -2.1035698135731296,
          0.5732793851398493,
          0.008794944506913387,
          -1.11121827900885,
          -1.242414784044673,
          0.23578253336456306,
          1.5892034787841012,
          -0.2997132280280576,
          -0.38497283723599923,
          0.7293960491010912,
          0.09212027910610585,
          0.1752052422872672,
          0.5906643403648387,
          -0.7612504986085381,
          1.2337359981255012,
          -0.5972867609627632,
          0.9206519061066598,
          -1.5461656964766408
         ],
         "xaxis": "x10",
         "y": [
          0.8322983650067056,
          2.9487944257739023,
          -0.9327203264414998,
          2.7933536990347863,
          0.8542454719675332,
          0.31809576337229933,
          -0.6715186412029381,
          0.15938393556550307,
          -1.7425405225991573,
          1.4863178222912832,
          -1.872915682609848,
          -0.5960420579789987,
          -2.203298476933827,
          -0.2329350022052127,
          0.7796450318301332,
          1.052891983781643,
          -0.1409371827770851,
          0.6474336473085542,
          -1.505571111529484,
          0.7062178145702688,
          -1.964670446835789,
          -0.4981514131178999,
          1.5181771987126984,
          -1.536175060551129,
          -0.38959992623384093,
          -0.3022172312940435,
          -0.25772880922383,
          -0.39695053175002115,
          -0.3095852443436779,
          -0.11194083861580877,
          0.7601753859738068,
          -0.530247095041203,
          0.20861687899845097,
          0.7674050485892783,
          0.4452817555900837,
          0.0767095841096248,
          -2.2259461140532677,
          -1.2116302710576747,
          -1.32822562098306,
          -0.5222062624020434,
          0.7911058892910624,
          0.4677239636003078,
          0.30047245775079023,
          0.3655170020081269,
          0.20289276559461722,
          0.4153352653664582,
          -0.052447423831299834,
          0.11944076654957166,
          0.8015700610030586,
          0.2918230148556353,
          1.4531188182365395,
          0.24933808921225617,
          0.3785975989601048,
          0.226260847886642,
          -0.41584412274397065,
          0.4454689629799662,
          -1.0586950119045058,
          -0.14716718680168142,
          0.8857301418421732,
          1.384794926717062,
          -0.4903542543080155,
          -0.2473618499212272,
          -0.7009630708566316,
          0.5156263381961245,
          -1.1291255812234384,
          -0.829298694609309,
          1.3248499130433977,
          0.08442761312503773,
          1.0275396393621423,
          -0.3766191390707656,
          -1.731605498902651,
          -0.8783732284756439,
          -0.4096881845872658,
          -0.9214946500952481,
          0.5544203859970838,
          0.055184168100756534,
          1.5837192344598334,
          1.7266557126922775,
          0.8683138050421154,
          -1.0555846243018687,
          -2.184309585184786,
          -0.3803520581700609,
          0.4206995113741631,
          0.085060901439029,
          1.15516801238735,
          1.256396811071076,
          0.6613073885245957,
          0.4055860332919486,
          0.7494503435914309,
          -0.3553773638208235,
          0.22709931025133642,
          -1.8067918820329791,
          -1.3655651555395014,
          -0.7013106904763116,
          -0.9608101653884948,
          -0.3913486413753859,
          -1.0725993756038412,
          1.8512012914505818,
          0.7088848612689266,
          -0.14842242801709593
         ],
         "yaxis": "y10"
        },
        {
         "histfunc": "count",
         "histnorm": "",
         "marker": {
          "color": "rgba(50, 171, 96, 1.0)",
          "line": {
           "color": "#4D5663",
           "width": 1.3
          }
         },
         "name": "C",
         "nbinsx": 10,
         "opacity": 0.8,
         "orientation": "v",
         "type": "histogram",
         "x": [
          0.8322983650067056,
          2.9487944257739023,
          -0.9327203264414998,
          2.7933536990347863,
          0.8542454719675332,
          0.31809576337229933,
          -0.6715186412029381,
          0.15938393556550307,
          -1.7425405225991573,
          1.4863178222912832,
          -1.872915682609848,
          -0.5960420579789987,
          -2.203298476933827,
          -0.2329350022052127,
          0.7796450318301332,
          1.052891983781643,
          -0.1409371827770851,
          0.6474336473085542,
          -1.505571111529484,
          0.7062178145702688,
          -1.964670446835789,
          -0.4981514131178999,
          1.5181771987126984,
          -1.536175060551129,
          -0.38959992623384093,
          -0.3022172312940435,
          -0.25772880922383,
          -0.39695053175002115,
          -0.3095852443436779,
          -0.11194083861580877,
          0.7601753859738068,
          -0.530247095041203,
          0.20861687899845097,
          0.7674050485892783,
          0.4452817555900837,
          0.0767095841096248,
          -2.2259461140532677,
          -1.2116302710576747,
          -1.32822562098306,
          -0.5222062624020434,
          0.7911058892910624,
          0.4677239636003078,
          0.30047245775079023,
          0.3655170020081269,
          0.20289276559461722,
          0.4153352653664582,
          -0.052447423831299834,
          0.11944076654957166,
          0.8015700610030586,
          0.2918230148556353,
          1.4531188182365395,
          0.24933808921225617,
          0.3785975989601048,
          0.226260847886642,
          -0.41584412274397065,
          0.4454689629799662,
          -1.0586950119045058,
          -0.14716718680168142,
          0.8857301418421732,
          1.384794926717062,
          -0.4903542543080155,
          -0.2473618499212272,
          -0.7009630708566316,
          0.5156263381961245,
          -1.1291255812234384,
          -0.829298694609309,
          1.3248499130433977,
          0.08442761312503773,
          1.0275396393621423,
          -0.3766191390707656,
          -1.731605498902651,
          -0.8783732284756439,
          -0.4096881845872658,
          -0.9214946500952481,
          0.5544203859970838,
          0.055184168100756534,
          1.5837192344598334,
          1.7266557126922775,
          0.8683138050421154,
          -1.0555846243018687,
          -2.184309585184786,
          -0.3803520581700609,
          0.4206995113741631,
          0.085060901439029,
          1.15516801238735,
          1.256396811071076,
          0.6613073885245957,
          0.4055860332919486,
          0.7494503435914309,
          -0.3553773638208235,
          0.22709931025133642,
          -1.8067918820329791,
          -1.3655651555395014,
          -0.7013106904763116,
          -0.9608101653884948,
          -0.3913486413753859,
          -1.0725993756038412,
          1.8512012914505818,
          0.7088848612689266,
          -0.14842242801709593
         ],
         "xaxis": "x11",
         "yaxis": "y11"
        },
        {
         "line": {
          "color": "rgba(128, 128, 128, 1.0)",
          "dash": "solid",
          "shape": "linear",
          "width": 1.3
         },
         "marker": {
          "size": 2,
          "symbol": "circle"
         },
         "mode": "markers",
         "name": "C",
         "text": "",
         "type": "scatter",
         "x": [
          0.14980519387875132,
          -1.4198798107052975,
          -0.7327077885129524,
          -0.6085377074797261,
          0.32603603643856804,
          0.05800489349336685,
          -0.7663414536041493,
          -0.4980972756109609,
          1.6291425865446543,
          0.4637796522855408,
          0.041789905018740685,
          0.3775787012811703,
          -1.5982595699465927,
          1.319815229205623,
          -0.7973020773164097,
          0.016588448398173073,
          0.7687636179232215,
          0.946061861862273,
          0.5630595028889144,
          -1.732414528269466,
          0.2202207093991576,
          -0.18890053343860205,
          -1.4304638653323456,
          -1.4128856795325917,
          0.06393104024926448,
          0.14144503101449765,
          0.4802131029118245,
          1.009367633119822,
          -0.5821688413981985,
          0.43607399705809297,
          -1.107229741845423,
          -0.1763841373336813,
          0.977963986531852,
          -1.6522872849716423,
          -0.5793361170634413,
          0.5558489986821461,
          1.065170588802731,
          1.3299176946618927,
          0.15570712345963303,
          -0.37284916437786214,
          0.8574099168049211,
          1.3580023577303706,
          -1.227710763935321,
          -1.581773724016081,
          -0.9583483914893025,
          0.5220724489139206,
          -0.9447623535968571,
          2.326472964841943,
          -1.0285467364486465,
          -0.9518028155898937,
          1.8256635162843007,
          -0.7447939489245792,
          -0.35542822662993445,
          2.0226683813177546,
          0.30189223247555663,
          -0.06399955557885503,
          -1.556050477309016,
          -1.6343501528936466,
          -0.41084832490311385,
          -0.16266217074037218,
          0.2914615780978868,
          -0.424044469491487,
          1.1063947607956812,
          -1.3891732650666997,
          -0.2954048676433976,
          1.1092818568490956,
          -0.19599030027340839,
          0.5291884870361916,
          0.36172739040270746,
          -0.560905791229739,
          -0.33918392310298456,
          0.5910664413066594,
          -1.0603114537944383,
          -0.16533511057927797,
          1.2364316740221963,
          0.1454372667550455,
          -1.4880456437309315,
          -0.0934156145073493,
          0.940054247885066,
          0.4769872896615898,
          2.142452777427751,
          -1.620668974236862,
          -0.019343804836262146,
          0.5090676133052232,
          -1.9161718154222847,
          0.3853671714937817,
          0.994868242832238,
          1.0964425597617593,
          1.467335409627744,
          0.7646621744062372,
          -1.7816290892180877,
          0.0907817268338275,
          -0.20687425439460655,
          -0.980047818319929,
          -0.07394196352769604,
          0.5749412114732553,
          -0.19751122740326005,
          1.2592560828216992,
          -0.094315966458522,
          1.016397700020748
         ],
         "xaxis": "x12",
         "y": [
          0.8322983650067056,
          2.9487944257739023,
          -0.9327203264414998,
          2.7933536990347863,
          0.8542454719675332,
          0.31809576337229933,
          -0.6715186412029381,
          0.15938393556550307,
          -1.7425405225991573,
          1.4863178222912832,
          -1.872915682609848,
          -0.5960420579789987,
          -2.203298476933827,
          -0.2329350022052127,
          0.7796450318301332,
          1.052891983781643,
          -0.1409371827770851,
          0.6474336473085542,
          -1.505571111529484,
          0.7062178145702688,
          -1.964670446835789,
          -0.4981514131178999,
          1.5181771987126984,
          -1.536175060551129,
          -0.38959992623384093,
          -0.3022172312940435,
          -0.25772880922383,
          -0.39695053175002115,
          -0.3095852443436779,
          -0.11194083861580877,
          0.7601753859738068,
          -0.530247095041203,
          0.20861687899845097,
          0.7674050485892783,
          0.4452817555900837,
          0.0767095841096248,
          -2.2259461140532677,
          -1.2116302710576747,
          -1.32822562098306,
          -0.5222062624020434,
          0.7911058892910624,
          0.4677239636003078,
          0.30047245775079023,
          0.3655170020081269,
          0.20289276559461722,
          0.4153352653664582,
          -0.052447423831299834,
          0.11944076654957166,
          0.8015700610030586,
          0.2918230148556353,
          1.4531188182365395,
          0.24933808921225617,
          0.3785975989601048,
          0.226260847886642,
          -0.41584412274397065,
          0.4454689629799662,
          -1.0586950119045058,
          -0.14716718680168142,
          0.8857301418421732,
          1.384794926717062,
          -0.4903542543080155,
          -0.2473618499212272,
          -0.7009630708566316,
          0.5156263381961245,
          -1.1291255812234384,
          -0.829298694609309,
          1.3248499130433977,
          0.08442761312503773,
          1.0275396393621423,
          -0.3766191390707656,
          -1.731605498902651,
          -0.8783732284756439,
          -0.4096881845872658,
          -0.9214946500952481,
          0.5544203859970838,
          0.055184168100756534,
          1.5837192344598334,
          1.7266557126922775,
          0.8683138050421154,
          -1.0555846243018687,
          -2.184309585184786,
          -0.3803520581700609,
          0.4206995113741631,
          0.085060901439029,
          1.15516801238735,
          1.256396811071076,
          0.6613073885245957,
          0.4055860332919486,
          0.7494503435914309,
          -0.3553773638208235,
          0.22709931025133642,
          -1.8067918820329791,
          -1.3655651555395014,
          -0.7013106904763116,
          -0.9608101653884948,
          -0.3913486413753859,
          -1.0725993756038412,
          1.8512012914505818,
          0.7088848612689266,
          -0.14842242801709593
         ],
         "yaxis": "y12"
        },
        {
         "line": {
          "color": "rgba(128, 128, 128, 1.0)",
          "dash": "solid",
          "shape": "linear",
          "width": 1.3
         },
         "marker": {
          "size": 2,
          "symbol": "circle"
         },
         "mode": "markers",
         "name": "D",
         "text": "",
         "type": "scatter",
         "x": [
          -0.14022739364165643,
          -0.06215427637826168,
          1.3604993525322426,
          -0.31499023670117493,
          1.0029694989154603,
          0.970785908978943,
          -1.9952834025092647,
          1.0039135826827332,
          -0.9158744798111359,
          -1.5467467590902721,
          0.37209295460286496,
          -0.11707489023640913,
          0.3729934586411193,
          -0.09155881745717738,
          -0.03683336514171592,
          -0.41858716289621883,
          1.2727487669685111,
          0.7032449700650091,
          -0.3738248467613199,
          1.5095426393794726,
          -0.18607365814905844,
          0.4183288835354543,
          0.19887318935897869,
          -0.8883000951919754,
          -0.5092841539648556,
          -0.6087002578641567,
          -0.9661264541068408,
          -1.915268445309993,
          0.6093753654788755,
          1.580437092556138,
          1.2038017025994858,
          -0.9256468334675966,
          1.4351143773603932,
          1.1091342369517356,
          -0.018304712037069137,
          -2.2313836406164778,
          0.7070440778124587,
          -0.5307156073349464,
          2.296219589090963,
          2.387706409516227,
          0.6271835271545523,
          -1.2173587220621744,
          0.42570764846744746,
          -1.865485577029963,
          0.09358857883241165,
          0.21890364457894615,
          -0.8132962135397189,
          0.8909606370067288,
          -1.3191599374713485,
          -0.266719405828341,
          1.1247976919873686,
          0.48999024384756007,
          0.5807255032073525,
          -0.6562912505872847,
          -0.6742217180417197,
          2.214992557360574,
          -0.9679289742345283,
          0.43124375434740847,
          1.2054308100887878,
          -0.0920927130932392,
          0.9421320700961858,
          0.11984996143687157,
          -0.15429180556311048,
          0.2918631513091189,
          -1.8717576688946829,
          -0.8679678182080496,
          -0.020103099947394832,
          -0.042027336524633696,
          1.239199523092614,
          0.31174508367849085,
          0.9361084479519998,
          -0.18618102912744675,
          0.5826791217951177,
          0.43352959070524805,
          0.05304296463400472,
          -0.5926127266145984,
          -2.714955903645562,
          -0.7302768692480879,
          0.5416647778556658,
          1.066691518602927,
          -0.20464590566938895,
          1.667570632967258,
          -1.2848121388168667,
          -1.2693020887010722,
          1.1961530520102446,
          -2.303978558507296,
          -0.34484568309621116,
          0.33316727300389903,
          -1.5277704570453603,
          -0.2677533280031435,
          -1.1069183000442135,
          -0.69696863763343,
          0.4220514472520369,
          -0.7119580435533539,
          -0.4861965889709872,
          -1.0514199478282396,
          -1.2973863778725738,
          -1.852599660498362,
          0.2669849512911801,
          0.6934313898697425
         ],
         "xaxis": "x13",
         "y": [
          0.14980519387875132,
          -1.4198798107052975,
          -0.7327077885129524,
          -0.6085377074797261,
          0.32603603643856804,
          0.05800489349336685,
          -0.7663414536041493,
          -0.4980972756109609,
          1.6291425865446543,
          0.4637796522855408,
          0.041789905018740685,
          0.3775787012811703,
          -1.5982595699465927,
          1.319815229205623,
          -0.7973020773164097,
          0.016588448398173073,
          0.7687636179232215,
          0.946061861862273,
          0.5630595028889144,
          -1.732414528269466,
          0.2202207093991576,
          -0.18890053343860205,
          -1.4304638653323456,
          -1.4128856795325917,
          0.06393104024926448,
          0.14144503101449765,
          0.4802131029118245,
          1.009367633119822,
          -0.5821688413981985,
          0.43607399705809297,
          -1.107229741845423,
          -0.1763841373336813,
          0.977963986531852,
          -1.6522872849716423,
          -0.5793361170634413,
          0.5558489986821461,
          1.065170588802731,
          1.3299176946618927,
          0.15570712345963303,
          -0.37284916437786214,
          0.8574099168049211,
          1.3580023577303706,
          -1.227710763935321,
          -1.581773724016081,
          -0.9583483914893025,
          0.5220724489139206,
          -0.9447623535968571,
          2.326472964841943,
          -1.0285467364486465,
          -0.9518028155898937,
          1.8256635162843007,
          -0.7447939489245792,
          -0.35542822662993445,
          2.0226683813177546,
          0.30189223247555663,
          -0.06399955557885503,
          -1.556050477309016,
          -1.6343501528936466,
          -0.41084832490311385,
          -0.16266217074037218,
          0.2914615780978868,
          -0.424044469491487,
          1.1063947607956812,
          -1.3891732650666997,
          -0.2954048676433976,
          1.1092818568490956,
          -0.19599030027340839,
          0.5291884870361916,
          0.36172739040270746,
          -0.560905791229739,
          -0.33918392310298456,
          0.5910664413066594,
          -1.0603114537944383,
          -0.16533511057927797,
          1.2364316740221963,
          0.1454372667550455,
          -1.4880456437309315,
          -0.0934156145073493,
          0.940054247885066,
          0.4769872896615898,
          2.142452777427751,
          -1.620668974236862,
          -0.019343804836262146,
          0.5090676133052232,
          -1.9161718154222847,
          0.3853671714937817,
          0.994868242832238,
          1.0964425597617593,
          1.467335409627744,
          0.7646621744062372,
          -1.7816290892180877,
          0.0907817268338275,
          -0.20687425439460655,
          -0.980047818319929,
          -0.07394196352769604,
          0.5749412114732553,
          -0.19751122740326005,
          1.2592560828216992,
          -0.094315966458522,
          1.016397700020748
         ],
         "yaxis": "y13"
        },
        {
         "line": {
          "color": "rgba(128, 128, 128, 1.0)",
          "dash": "solid",
          "shape": "linear",
          "width": 1.3
         },
         "marker": {
          "size": 2,
          "symbol": "circle"
         },
         "mode": "markers",
         "name": "D",
         "text": "",
         "type": "scatter",
         "x": [
          -0.49138081110649495,
          0.20096821703152126,
          -0.5118376940715328,
          -0.294754672042674,
          0.7912868491160063,
          0.6016396273238315,
          -1.8517024871032415,
          -0.8357324338017871,
          0.5567672502176182,
          0.34248645594707156,
          1.1284364585110525,
          -0.9475016318413956,
          0.6052496337791674,
          -0.14129046372803092,
          0.23878933595490678,
          -1.3302105428345574,
          0.7065868414255477,
          0.8596504098464547,
          -1.0289972766977775,
          0.38416590094808395,
          -0.6805516583040593,
          0.25047413304492844,
          -1.0934455244419623,
          0.21783950085433063,
          -1.6465140549141115,
          1.773635885242201,
          -0.15523341084556538,
          2.676693565466258,
          -0.5545091562056877,
          -1.1680827062075498,
          0.4012562551292746,
          1.5825339892798398,
          -0.5398529138511904,
          1.0645026613523625,
          -1.4028466624172862,
          -0.8110265275168601,
          0.017905104851356973,
          -0.5880126717343193,
          -1.9196292048084675,
          -0.5770587119572501,
          -0.3709996873352136,
          0.6380882254802426,
          -2.048108646820459,
          -0.6244061305032667,
          0.1979958562682151,
          1.235861000391054,
          -0.056613145024522714,
          1.4231514175036732,
          -0.12371210746402267,
          2.0043855782244577,
          0.24377248592591028,
          -0.9191773044109226,
          1.260013880741051,
          0.25973909324840844,
          0.7809547129755966,
          -1.1393604843367602,
          0.5155300758995982,
          -0.08659470454921091,
          0.7450800307774069,
          0.8763936308013027,
          0.6536472576730905,
          -0.5269623477618497,
          -0.3983721526933854,
          0.2628759268519323,
          -0.05138886524695858,
          1.999743718409326,
          0.08002061538393514,
          1.8932986126680995,
          -0.4392068648508249,
          1.8041669201375656,
          0.5014501185022648,
          0.6418703110176629,
          0.916215226940129,
          0.09519773076228714,
          0.2024566893905404,
          -1.126067618256918,
          -1.043129801809276,
          1.4232891346410141,
          0.45471152794813313,
          -0.3789454598854821,
          1.113225442536063,
          0.9673482795705286,
          -2.1035698135731296,
          0.5732793851398493,
          0.008794944506913387,
          -1.11121827900885,
          -1.242414784044673,
          0.23578253336456306,
          1.5892034787841012,
          -0.2997132280280576,
          -0.38497283723599923,
          0.7293960491010912,
          0.09212027910610585,
          0.1752052422872672,
          0.5906643403648387,
          -0.7612504986085381,
          1.2337359981255012,
          -0.5972867609627632,
          0.9206519061066598,
          -1.5461656964766408
         ],
         "xaxis": "x14",
         "y": [
          0.14980519387875132,
          -1.4198798107052975,
          -0.7327077885129524,
          -0.6085377074797261,
          0.32603603643856804,
          0.05800489349336685,
          -0.7663414536041493,
          -0.4980972756109609,
          1.6291425865446543,
          0.4637796522855408,
          0.041789905018740685,
          0.3775787012811703,
          -1.5982595699465927,
          1.319815229205623,
          -0.7973020773164097,
          0.016588448398173073,
          0.7687636179232215,
          0.946061861862273,
          0.5630595028889144,
          -1.732414528269466,
          0.2202207093991576,
          -0.18890053343860205,
          -1.4304638653323456,
          -1.4128856795325917,
          0.06393104024926448,
          0.14144503101449765,
          0.4802131029118245,
          1.009367633119822,
          -0.5821688413981985,
          0.43607399705809297,
          -1.107229741845423,
          -0.1763841373336813,
          0.977963986531852,
          -1.6522872849716423,
          -0.5793361170634413,
          0.5558489986821461,
          1.065170588802731,
          1.3299176946618927,
          0.15570712345963303,
          -0.37284916437786214,
          0.8574099168049211,
          1.3580023577303706,
          -1.227710763935321,
          -1.581773724016081,
          -0.9583483914893025,
          0.5220724489139206,
          -0.9447623535968571,
          2.326472964841943,
          -1.0285467364486465,
          -0.9518028155898937,
          1.8256635162843007,
          -0.7447939489245792,
          -0.35542822662993445,
          2.0226683813177546,
          0.30189223247555663,
          -0.06399955557885503,
          -1.556050477309016,
          -1.6343501528936466,
          -0.41084832490311385,
          -0.16266217074037218,
          0.2914615780978868,
          -0.424044469491487,
          1.1063947607956812,
          -1.3891732650666997,
          -0.2954048676433976,
          1.1092818568490956,
          -0.19599030027340839,
          0.5291884870361916,
          0.36172739040270746,
          -0.560905791229739,
          -0.33918392310298456,
          0.5910664413066594,
          -1.0603114537944383,
          -0.16533511057927797,
          1.2364316740221963,
          0.1454372667550455,
          -1.4880456437309315,
          -0.0934156145073493,
          0.940054247885066,
          0.4769872896615898,
          2.142452777427751,
          -1.620668974236862,
          -0.019343804836262146,
          0.5090676133052232,
          -1.9161718154222847,
          0.3853671714937817,
          0.994868242832238,
          1.0964425597617593,
          1.467335409627744,
          0.7646621744062372,
          -1.7816290892180877,
          0.0907817268338275,
          -0.20687425439460655,
          -0.980047818319929,
          -0.07394196352769604,
          0.5749412114732553,
          -0.19751122740326005,
          1.2592560828216992,
          -0.094315966458522,
          1.016397700020748
         ],
         "yaxis": "y14"
        },
        {
         "line": {
          "color": "rgba(128, 128, 128, 1.0)",
          "dash": "solid",
          "shape": "linear",
          "width": 1.3
         },
         "marker": {
          "size": 2,
          "symbol": "circle"
         },
         "mode": "markers",
         "name": "D",
         "text": "",
         "type": "scatter",
         "x": [
          0.8322983650067056,
          2.9487944257739023,
          -0.9327203264414998,
          2.7933536990347863,
          0.8542454719675332,
          0.31809576337229933,
          -0.6715186412029381,
          0.15938393556550307,
          -1.7425405225991573,
          1.4863178222912832,
          -1.872915682609848,
          -0.5960420579789987,
          -2.203298476933827,
          -0.2329350022052127,
          0.7796450318301332,
          1.052891983781643,
          -0.1409371827770851,
          0.6474336473085542,
          -1.505571111529484,
          0.7062178145702688,
          -1.964670446835789,
          -0.4981514131178999,
          1.5181771987126984,
          -1.536175060551129,
          -0.38959992623384093,
          -0.3022172312940435,
          -0.25772880922383,
          -0.39695053175002115,
          -0.3095852443436779,
          -0.11194083861580877,
          0.7601753859738068,
          -0.530247095041203,
          0.20861687899845097,
          0.7674050485892783,
          0.4452817555900837,
          0.0767095841096248,
          -2.2259461140532677,
          -1.2116302710576747,
          -1.32822562098306,
          -0.5222062624020434,
          0.7911058892910624,
          0.4677239636003078,
          0.30047245775079023,
          0.3655170020081269,
          0.20289276559461722,
          0.4153352653664582,
          -0.052447423831299834,
          0.11944076654957166,
          0.8015700610030586,
          0.2918230148556353,
          1.4531188182365395,
          0.24933808921225617,
          0.3785975989601048,
          0.226260847886642,
          -0.41584412274397065,
          0.4454689629799662,
          -1.0586950119045058,
          -0.14716718680168142,
          0.8857301418421732,
          1.384794926717062,
          -0.4903542543080155,
          -0.2473618499212272,
          -0.7009630708566316,
          0.5156263381961245,
          -1.1291255812234384,
          -0.829298694609309,
          1.3248499130433977,
          0.08442761312503773,
          1.0275396393621423,
          -0.3766191390707656,
          -1.731605498902651,
          -0.8783732284756439,
          -0.4096881845872658,
          -0.9214946500952481,
          0.5544203859970838,
          0.055184168100756534,
          1.5837192344598334,
          1.7266557126922775,
          0.8683138050421154,
          -1.0555846243018687,
          -2.184309585184786,
          -0.3803520581700609,
          0.4206995113741631,
          0.085060901439029,
          1.15516801238735,
          1.256396811071076,
          0.6613073885245957,
          0.4055860332919486,
          0.7494503435914309,
          -0.3553773638208235,
          0.22709931025133642,
          -1.8067918820329791,
          -1.3655651555395014,
          -0.7013106904763116,
          -0.9608101653884948,
          -0.3913486413753859,
          -1.0725993756038412,
          1.8512012914505818,
          0.7088848612689266,
          -0.14842242801709593
         ],
         "xaxis": "x15",
         "y": [
          0.14980519387875132,
          -1.4198798107052975,
          -0.7327077885129524,
          -0.6085377074797261,
          0.32603603643856804,
          0.05800489349336685,
          -0.7663414536041493,
          -0.4980972756109609,
          1.6291425865446543,
          0.4637796522855408,
          0.041789905018740685,
          0.3775787012811703,
          -1.5982595699465927,
          1.319815229205623,
          -0.7973020773164097,
          0.016588448398173073,
          0.7687636179232215,
          0.946061861862273,
          0.5630595028889144,
          -1.732414528269466,
          0.2202207093991576,
          -0.18890053343860205,
          -1.4304638653323456,
          -1.4128856795325917,
          0.06393104024926448,
          0.14144503101449765,
          0.4802131029118245,
          1.009367633119822,
          -0.5821688413981985,
          0.43607399705809297,
          -1.107229741845423,
          -0.1763841373336813,
          0.977963986531852,
          -1.6522872849716423,
          -0.5793361170634413,
          0.5558489986821461,
          1.065170588802731,
          1.3299176946618927,
          0.15570712345963303,
          -0.37284916437786214,
          0.8574099168049211,
          1.3580023577303706,
          -1.227710763935321,
          -1.581773724016081,
          -0.9583483914893025,
          0.5220724489139206,
          -0.9447623535968571,
          2.326472964841943,
          -1.0285467364486465,
          -0.9518028155898937,
          1.8256635162843007,
          -0.7447939489245792,
          -0.35542822662993445,
          2.0226683813177546,
          0.30189223247555663,
          -0.06399955557885503,
          -1.556050477309016,
          -1.6343501528936466,
          -0.41084832490311385,
          -0.16266217074037218,
          0.2914615780978868,
          -0.424044469491487,
          1.1063947607956812,
          -1.3891732650666997,
          -0.2954048676433976,
          1.1092818568490956,
          -0.19599030027340839,
          0.5291884870361916,
          0.36172739040270746,
          -0.560905791229739,
          -0.33918392310298456,
          0.5910664413066594,
          -1.0603114537944383,
          -0.16533511057927797,
          1.2364316740221963,
          0.1454372667550455,
          -1.4880456437309315,
          -0.0934156145073493,
          0.940054247885066,
          0.4769872896615898,
          2.142452777427751,
          -1.620668974236862,
          -0.019343804836262146,
          0.5090676133052232,
          -1.9161718154222847,
          0.3853671714937817,
          0.994868242832238,
          1.0964425597617593,
          1.467335409627744,
          0.7646621744062372,
          -1.7816290892180877,
          0.0907817268338275,
          -0.20687425439460655,
          -0.980047818319929,
          -0.07394196352769604,
          0.5749412114732553,
          -0.19751122740326005,
          1.2592560828216992,
          -0.094315966458522,
          1.016397700020748
         ],
         "yaxis": "y15"
        },
        {
         "histfunc": "count",
         "histnorm": "",
         "marker": {
          "color": "rgba(128, 0, 128, 1.0)",
          "line": {
           "color": "#4D5663",
           "width": 1.3
          }
         },
         "name": "D",
         "nbinsx": 10,
         "opacity": 0.8,
         "orientation": "v",
         "type": "histogram",
         "x": [
          0.14980519387875132,
          -1.4198798107052975,
          -0.7327077885129524,
          -0.6085377074797261,
          0.32603603643856804,
          0.05800489349336685,
          -0.7663414536041493,
          -0.4980972756109609,
          1.6291425865446543,
          0.4637796522855408,
          0.041789905018740685,
          0.3775787012811703,
          -1.5982595699465927,
          1.319815229205623,
          -0.7973020773164097,
          0.016588448398173073,
          0.7687636179232215,
          0.946061861862273,
          0.5630595028889144,
          -1.732414528269466,
          0.2202207093991576,
          -0.18890053343860205,
          -1.4304638653323456,
          -1.4128856795325917,
          0.06393104024926448,
          0.14144503101449765,
          0.4802131029118245,
          1.009367633119822,
          -0.5821688413981985,
          0.43607399705809297,
          -1.107229741845423,
          -0.1763841373336813,
          0.977963986531852,
          -1.6522872849716423,
          -0.5793361170634413,
          0.5558489986821461,
          1.065170588802731,
          1.3299176946618927,
          0.15570712345963303,
          -0.37284916437786214,
          0.8574099168049211,
          1.3580023577303706,
          -1.227710763935321,
          -1.581773724016081,
          -0.9583483914893025,
          0.5220724489139206,
          -0.9447623535968571,
          2.326472964841943,
          -1.0285467364486465,
          -0.9518028155898937,
          1.8256635162843007,
          -0.7447939489245792,
          -0.35542822662993445,
          2.0226683813177546,
          0.30189223247555663,
          -0.06399955557885503,
          -1.556050477309016,
          -1.6343501528936466,
          -0.41084832490311385,
          -0.16266217074037218,
          0.2914615780978868,
          -0.424044469491487,
          1.1063947607956812,
          -1.3891732650666997,
          -0.2954048676433976,
          1.1092818568490956,
          -0.19599030027340839,
          0.5291884870361916,
          0.36172739040270746,
          -0.560905791229739,
          -0.33918392310298456,
          0.5910664413066594,
          -1.0603114537944383,
          -0.16533511057927797,
          1.2364316740221963,
          0.1454372667550455,
          -1.4880456437309315,
          -0.0934156145073493,
          0.940054247885066,
          0.4769872896615898,
          2.142452777427751,
          -1.620668974236862,
          -0.019343804836262146,
          0.5090676133052232,
          -1.9161718154222847,
          0.3853671714937817,
          0.994868242832238,
          1.0964425597617593,
          1.467335409627744,
          0.7646621744062372,
          -1.7816290892180877,
          0.0907817268338275,
          -0.20687425439460655,
          -0.980047818319929,
          -0.07394196352769604,
          0.5749412114732553,
          -0.19751122740326005,
          1.2592560828216992,
          -0.094315966458522,
          1.016397700020748
         ],
         "xaxis": "x16",
         "yaxis": "y16"
        }
       ],
       "layout": {
        "bargap": 0.02,
        "legend": {
         "bgcolor": "#F5F6F9",
         "font": {
          "color": "#4D5663"
         }
        },
        "paper_bgcolor": "#F5F6F9",
        "plot_bgcolor": "#F5F6F9",
        "showlegend": false,
        "template": {
         "data": {
          "bar": [
           {
            "error_x": {
             "color": "#2a3f5f"
            },
            "error_y": {
             "color": "#2a3f5f"
            },
            "marker": {
             "line": {
              "color": "#E5ECF6",
              "width": 0.5
             }
            },
            "type": "bar"
           }
          ],
          "barpolar": [
           {
            "marker": {
             "line": {
              "color": "#E5ECF6",
              "width": 0.5
             }
            },
            "type": "barpolar"
           }
          ],
          "carpet": [
           {
            "aaxis": {
             "endlinecolor": "#2a3f5f",
             "gridcolor": "white",
             "linecolor": "white",
             "minorgridcolor": "white",
             "startlinecolor": "#2a3f5f"
            },
            "baxis": {
             "endlinecolor": "#2a3f5f",
             "gridcolor": "white",
             "linecolor": "white",
             "minorgridcolor": "white",
             "startlinecolor": "#2a3f5f"
            },
            "type": "carpet"
           }
          ],
          "choropleth": [
           {
            "colorbar": {
             "outlinewidth": 0,
             "ticks": ""
            },
            "type": "choropleth"
           }
          ],
          "contour": [
           {
            "colorbar": {
             "outlinewidth": 0,
             "ticks": ""
            },
            "colorscale": [
             [
              0,
              "#0d0887"
             ],
             [
              0.1111111111111111,
              "#46039f"
             ],
             [
              0.2222222222222222,
              "#7201a8"
             ],
             [
              0.3333333333333333,
              "#9c179e"
             ],
             [
              0.4444444444444444,
              "#bd3786"
             ],
             [
              0.5555555555555556,
              "#d8576b"
             ],
             [
              0.6666666666666666,
              "#ed7953"
             ],
             [
              0.7777777777777778,
              "#fb9f3a"
             ],
             [
              0.8888888888888888,
              "#fdca26"
             ],
             [
              1,
              "#f0f921"
             ]
            ],
            "type": "contour"
           }
          ],
          "contourcarpet": [
           {
            "colorbar": {
             "outlinewidth": 0,
             "ticks": ""
            },
            "type": "contourcarpet"
           }
          ],
          "heatmap": [
           {
            "colorbar": {
             "outlinewidth": 0,
             "ticks": ""
            },
            "colorscale": [
             [
              0,
              "#0d0887"
             ],
             [
              0.1111111111111111,
              "#46039f"
             ],
             [
              0.2222222222222222,
              "#7201a8"
             ],
             [
              0.3333333333333333,
              "#9c179e"
             ],
             [
              0.4444444444444444,
              "#bd3786"
             ],
             [
              0.5555555555555556,
              "#d8576b"
             ],
             [
              0.6666666666666666,
              "#ed7953"
             ],
             [
              0.7777777777777778,
              "#fb9f3a"
             ],
             [
              0.8888888888888888,
              "#fdca26"
             ],
             [
              1,
              "#f0f921"
             ]
            ],
            "type": "heatmap"
           }
          ],
          "heatmapgl": [
           {
            "colorbar": {
             "outlinewidth": 0,
             "ticks": ""
            },
            "colorscale": [
             [
              0,
              "#0d0887"
             ],
             [
              0.1111111111111111,
              "#46039f"
             ],
             [
              0.2222222222222222,
              "#7201a8"
             ],
             [
              0.3333333333333333,
              "#9c179e"
             ],
             [
              0.4444444444444444,
              "#bd3786"
             ],
             [
              0.5555555555555556,
              "#d8576b"
             ],
             [
              0.6666666666666666,
              "#ed7953"
             ],
             [
              0.7777777777777778,
              "#fb9f3a"
             ],
             [
              0.8888888888888888,
              "#fdca26"
             ],
             [
              1,
              "#f0f921"
             ]
            ],
            "type": "heatmapgl"
           }
          ],
          "histogram": [
           {
            "marker": {
             "colorbar": {
              "outlinewidth": 0,
              "ticks": ""
             }
            },
            "type": "histogram"
           }
          ],
          "histogram2d": [
           {
            "colorbar": {
             "outlinewidth": 0,
             "ticks": ""
            },
            "colorscale": [
             [
              0,
              "#0d0887"
             ],
             [
              0.1111111111111111,
              "#46039f"
             ],
             [
              0.2222222222222222,
              "#7201a8"
             ],
             [
              0.3333333333333333,
              "#9c179e"
             ],
             [
              0.4444444444444444,
              "#bd3786"
             ],
             [
              0.5555555555555556,
              "#d8576b"
             ],
             [
              0.6666666666666666,
              "#ed7953"
             ],
             [
              0.7777777777777778,
              "#fb9f3a"
             ],
             [
              0.8888888888888888,
              "#fdca26"
             ],
             [
              1,
              "#f0f921"
             ]
            ],
            "type": "histogram2d"
           }
          ],
          "histogram2dcontour": [
           {
            "colorbar": {
             "outlinewidth": 0,
             "ticks": ""
            },
            "colorscale": [
             [
              0,
              "#0d0887"
             ],
             [
              0.1111111111111111,
              "#46039f"
             ],
             [
              0.2222222222222222,
              "#7201a8"
             ],
             [
              0.3333333333333333,
              "#9c179e"
             ],
             [
              0.4444444444444444,
              "#bd3786"
             ],
             [
              0.5555555555555556,
              "#d8576b"
             ],
             [
              0.6666666666666666,
              "#ed7953"
             ],
             [
              0.7777777777777778,
              "#fb9f3a"
             ],
             [
              0.8888888888888888,
              "#fdca26"
             ],
             [
              1,
              "#f0f921"
             ]
            ],
            "type": "histogram2dcontour"
           }
          ],
          "mesh3d": [
           {
            "colorbar": {
             "outlinewidth": 0,
             "ticks": ""
            },
            "type": "mesh3d"
           }
          ],
          "parcoords": [
           {
            "line": {
             "colorbar": {
              "outlinewidth": 0,
              "ticks": ""
             }
            },
            "type": "parcoords"
           }
          ],
          "pie": [
           {
            "automargin": true,
            "type": "pie"
           }
          ],
          "scatter": [
           {
            "marker": {
             "colorbar": {
              "outlinewidth": 0,
              "ticks": ""
             }
            },
            "type": "scatter"
           }
          ],
          "scatter3d": [
           {
            "line": {
             "colorbar": {
              "outlinewidth": 0,
              "ticks": ""
             }
            },
            "marker": {
             "colorbar": {
              "outlinewidth": 0,
              "ticks": ""
             }
            },
            "type": "scatter3d"
           }
          ],
          "scattercarpet": [
           {
            "marker": {
             "colorbar": {
              "outlinewidth": 0,
              "ticks": ""
             }
            },
            "type": "scattercarpet"
           }
          ],
          "scattergeo": [
           {
            "marker": {
             "colorbar": {
              "outlinewidth": 0,
              "ticks": ""
             }
            },
            "type": "scattergeo"
           }
          ],
          "scattergl": [
           {
            "marker": {
             "colorbar": {
              "outlinewidth": 0,
              "ticks": ""
             }
            },
            "type": "scattergl"
           }
          ],
          "scattermapbox": [
           {
            "marker": {
             "colorbar": {
              "outlinewidth": 0,
              "ticks": ""
             }
            },
            "type": "scattermapbox"
           }
          ],
          "scatterpolar": [
           {
            "marker": {
             "colorbar": {
              "outlinewidth": 0,
              "ticks": ""
             }
            },
            "type": "scatterpolar"
           }
          ],
          "scatterpolargl": [
           {
            "marker": {
             "colorbar": {
              "outlinewidth": 0,
              "ticks": ""
             }
            },
            "type": "scatterpolargl"
           }
          ],
          "scatterternary": [
           {
            "marker": {
             "colorbar": {
              "outlinewidth": 0,
              "ticks": ""
             }
            },
            "type": "scatterternary"
           }
          ],
          "surface": [
           {
            "colorbar": {
             "outlinewidth": 0,
             "ticks": ""
            },
            "colorscale": [
             [
              0,
              "#0d0887"
             ],
             [
              0.1111111111111111,
              "#46039f"
             ],
             [
              0.2222222222222222,
              "#7201a8"
             ],
             [
              0.3333333333333333,
              "#9c179e"
             ],
             [
              0.4444444444444444,
              "#bd3786"
             ],
             [
              0.5555555555555556,
              "#d8576b"
             ],
             [
              0.6666666666666666,
              "#ed7953"
             ],
             [
              0.7777777777777778,
              "#fb9f3a"
             ],
             [
              0.8888888888888888,
              "#fdca26"
             ],
             [
              1,
              "#f0f921"
             ]
            ],
            "type": "surface"
           }
          ],
          "table": [
           {
            "cells": {
             "fill": {
              "color": "#EBF0F8"
             },
             "line": {
              "color": "white"
             }
            },
            "header": {
             "fill": {
              "color": "#C8D4E3"
             },
             "line": {
              "color": "white"
             }
            },
            "type": "table"
           }
          ]
         },
         "layout": {
          "annotationdefaults": {
           "arrowcolor": "#2a3f5f",
           "arrowhead": 0,
           "arrowwidth": 1
          },
          "coloraxis": {
           "colorbar": {
            "outlinewidth": 0,
            "ticks": ""
           }
          },
          "colorscale": {
           "diverging": [
            [
             0,
             "#8e0152"
            ],
            [
             0.1,
             "#c51b7d"
            ],
            [
             0.2,
             "#de77ae"
            ],
            [
             0.3,
             "#f1b6da"
            ],
            [
             0.4,
             "#fde0ef"
            ],
            [
             0.5,
             "#f7f7f7"
            ],
            [
             0.6,
             "#e6f5d0"
            ],
            [
             0.7,
             "#b8e186"
            ],
            [
             0.8,
             "#7fbc41"
            ],
            [
             0.9,
             "#4d9221"
            ],
            [
             1,
             "#276419"
            ]
           ],
           "sequential": [
            [
             0,
             "#0d0887"
            ],
            [
             0.1111111111111111,
             "#46039f"
            ],
            [
             0.2222222222222222,
             "#7201a8"
            ],
            [
             0.3333333333333333,
             "#9c179e"
            ],
            [
             0.4444444444444444,
             "#bd3786"
            ],
            [
             0.5555555555555556,
             "#d8576b"
            ],
            [
             0.6666666666666666,
             "#ed7953"
            ],
            [
             0.7777777777777778,
             "#fb9f3a"
            ],
            [
             0.8888888888888888,
             "#fdca26"
            ],
            [
             1,
             "#f0f921"
            ]
           ],
           "sequentialminus": [
            [
             0,
             "#0d0887"
            ],
            [
             0.1111111111111111,
             "#46039f"
            ],
            [
             0.2222222222222222,
             "#7201a8"
            ],
            [
             0.3333333333333333,
             "#9c179e"
            ],
            [
             0.4444444444444444,
             "#bd3786"
            ],
            [
             0.5555555555555556,
             "#d8576b"
            ],
            [
             0.6666666666666666,
             "#ed7953"
            ],
            [
             0.7777777777777778,
             "#fb9f3a"
            ],
            [
             0.8888888888888888,
             "#fdca26"
            ],
            [
             1,
             "#f0f921"
            ]
           ]
          },
          "colorway": [
           "#636efa",
           "#EF553B",
           "#00cc96",
           "#ab63fa",
           "#FFA15A",
           "#19d3f3",
           "#FF6692",
           "#B6E880",
           "#FF97FF",
           "#FECB52"
          ],
          "font": {
           "color": "#2a3f5f"
          },
          "geo": {
           "bgcolor": "white",
           "lakecolor": "white",
           "landcolor": "#E5ECF6",
           "showlakes": true,
           "showland": true,
           "subunitcolor": "white"
          },
          "hoverlabel": {
           "align": "left"
          },
          "hovermode": "closest",
          "mapbox": {
           "style": "light"
          },
          "paper_bgcolor": "white",
          "plot_bgcolor": "#E5ECF6",
          "polar": {
           "angularaxis": {
            "gridcolor": "white",
            "linecolor": "white",
            "ticks": ""
           },
           "bgcolor": "#E5ECF6",
           "radialaxis": {
            "gridcolor": "white",
            "linecolor": "white",
            "ticks": ""
           }
          },
          "scene": {
           "xaxis": {
            "backgroundcolor": "#E5ECF6",
            "gridcolor": "white",
            "gridwidth": 2,
            "linecolor": "white",
            "showbackground": true,
            "ticks": "",
            "zerolinecolor": "white"
           },
           "yaxis": {
            "backgroundcolor": "#E5ECF6",
            "gridcolor": "white",
            "gridwidth": 2,
            "linecolor": "white",
            "showbackground": true,
            "ticks": "",
            "zerolinecolor": "white"
           },
           "zaxis": {
            "backgroundcolor": "#E5ECF6",
            "gridcolor": "white",
            "gridwidth": 2,
            "linecolor": "white",
            "showbackground": true,
            "ticks": "",
            "zerolinecolor": "white"
           }
          },
          "shapedefaults": {
           "line": {
            "color": "#2a3f5f"
           }
          },
          "ternary": {
           "aaxis": {
            "gridcolor": "white",
            "linecolor": "white",
            "ticks": ""
           },
           "baxis": {
            "gridcolor": "white",
            "linecolor": "white",
            "ticks": ""
           },
           "bgcolor": "#E5ECF6",
           "caxis": {
            "gridcolor": "white",
            "linecolor": "white",
            "ticks": ""
           }
          },
          "title": {
           "x": 0.05
          },
          "xaxis": {
           "automargin": true,
           "gridcolor": "white",
           "linecolor": "white",
           "ticks": "",
           "title": {
            "standoff": 15
           },
           "zerolinecolor": "white",
           "zerolinewidth": 2
          },
          "yaxis": {
           "automargin": true,
           "gridcolor": "white",
           "linecolor": "white",
           "ticks": "",
           "title": {
            "standoff": 15
           },
           "zerolinecolor": "white",
           "zerolinewidth": 2
          }
         }
        },
        "title": {
         "font": {
          "color": "#4D5663"
         }
        },
        "xaxis": {
         "anchor": "y",
         "domain": [
          0,
          0.2125
         ],
         "gridcolor": "#E1E5ED",
         "showgrid": false,
         "tickfont": {
          "color": "#4D5663"
         },
         "title": {
          "font": {
           "color": "#4D5663"
          },
          "text": ""
         },
         "zerolinecolor": "#E1E5ED"
        },
        "xaxis10": {
         "anchor": "y10",
         "domain": [
          0.2625,
          0.475
         ],
         "gridcolor": "#E1E5ED",
         "showgrid": false,
         "tickfont": {
          "color": "#4D5663"
         },
         "title": {
          "font": {
           "color": "#4D5663"
          },
          "text": ""
         },
         "zerolinecolor": "#E1E5ED"
        },
        "xaxis11": {
         "anchor": "y11",
         "domain": [
          0.525,
          0.7375
         ],
         "gridcolor": "#E1E5ED",
         "showgrid": false,
         "tickfont": {
          "color": "#4D5663"
         },
         "title": {
          "font": {
           "color": "#4D5663"
          },
          "text": ""
         },
         "zerolinecolor": "#E1E5ED"
        },
        "xaxis12": {
         "anchor": "y12",
         "domain": [
          0.7875,
          1
         ],
         "gridcolor": "#E1E5ED",
         "showgrid": false,
         "tickfont": {
          "color": "#4D5663"
         },
         "title": {
          "font": {
           "color": "#4D5663"
          },
          "text": ""
         },
         "zerolinecolor": "#E1E5ED"
        },
        "xaxis13": {
         "anchor": "y13",
         "domain": [
          0,
          0.2125
         ],
         "gridcolor": "#E1E5ED",
         "showgrid": false,
         "tickfont": {
          "color": "#4D5663"
         },
         "title": {
          "font": {
           "color": "#4D5663"
          },
          "text": ""
         },
         "zerolinecolor": "#E1E5ED"
        },
        "xaxis14": {
         "anchor": "y14",
         "domain": [
          0.2625,
          0.475
         ],
         "gridcolor": "#E1E5ED",
         "showgrid": false,
         "tickfont": {
          "color": "#4D5663"
         },
         "title": {
          "font": {
           "color": "#4D5663"
          },
          "text": ""
         },
         "zerolinecolor": "#E1E5ED"
        },
        "xaxis15": {
         "anchor": "y15",
         "domain": [
          0.525,
          0.7375
         ],
         "gridcolor": "#E1E5ED",
         "showgrid": false,
         "tickfont": {
          "color": "#4D5663"
         },
         "title": {
          "font": {
           "color": "#4D5663"
          },
          "text": ""
         },
         "zerolinecolor": "#E1E5ED"
        },
        "xaxis16": {
         "anchor": "y16",
         "domain": [
          0.7875,
          1
         ],
         "gridcolor": "#E1E5ED",
         "showgrid": false,
         "tickfont": {
          "color": "#4D5663"
         },
         "title": {
          "font": {
           "color": "#4D5663"
          },
          "text": ""
         },
         "zerolinecolor": "#E1E5ED"
        },
        "xaxis2": {
         "anchor": "y2",
         "domain": [
          0.2625,
          0.475
         ],
         "gridcolor": "#E1E5ED",
         "showgrid": false,
         "tickfont": {
          "color": "#4D5663"
         },
         "title": {
          "font": {
           "color": "#4D5663"
          },
          "text": ""
         },
         "zerolinecolor": "#E1E5ED"
        },
        "xaxis3": {
         "anchor": "y3",
         "domain": [
          0.525,
          0.7375
         ],
         "gridcolor": "#E1E5ED",
         "showgrid": false,
         "tickfont": {
          "color": "#4D5663"
         },
         "title": {
          "font": {
           "color": "#4D5663"
          },
          "text": ""
         },
         "zerolinecolor": "#E1E5ED"
        },
        "xaxis4": {
         "anchor": "y4",
         "domain": [
          0.7875,
          1
         ],
         "gridcolor": "#E1E5ED",
         "showgrid": false,
         "tickfont": {
          "color": "#4D5663"
         },
         "title": {
          "font": {
           "color": "#4D5663"
          },
          "text": ""
         },
         "zerolinecolor": "#E1E5ED"
        },
        "xaxis5": {
         "anchor": "y5",
         "domain": [
          0,
          0.2125
         ],
         "gridcolor": "#E1E5ED",
         "showgrid": false,
         "tickfont": {
          "color": "#4D5663"
         },
         "title": {
          "font": {
           "color": "#4D5663"
          },
          "text": ""
         },
         "zerolinecolor": "#E1E5ED"
        },
        "xaxis6": {
         "anchor": "y6",
         "domain": [
          0.2625,
          0.475
         ],
         "gridcolor": "#E1E5ED",
         "showgrid": false,
         "tickfont": {
          "color": "#4D5663"
         },
         "title": {
          "font": {
           "color": "#4D5663"
          },
          "text": ""
         },
         "zerolinecolor": "#E1E5ED"
        },
        "xaxis7": {
         "anchor": "y7",
         "domain": [
          0.525,
          0.7375
         ],
         "gridcolor": "#E1E5ED",
         "showgrid": false,
         "tickfont": {
          "color": "#4D5663"
         },
         "title": {
          "font": {
           "color": "#4D5663"
          },
          "text": ""
         },
         "zerolinecolor": "#E1E5ED"
        },
        "xaxis8": {
         "anchor": "y8",
         "domain": [
          0.7875,
          1
         ],
         "gridcolor": "#E1E5ED",
         "showgrid": false,
         "tickfont": {
          "color": "#4D5663"
         },
         "title": {
          "font": {
           "color": "#4D5663"
          },
          "text": ""
         },
         "zerolinecolor": "#E1E5ED"
        },
        "xaxis9": {
         "anchor": "y9",
         "domain": [
          0,
          0.2125
         ],
         "gridcolor": "#E1E5ED",
         "showgrid": false,
         "tickfont": {
          "color": "#4D5663"
         },
         "title": {
          "font": {
           "color": "#4D5663"
          },
          "text": ""
         },
         "zerolinecolor": "#E1E5ED"
        },
        "yaxis": {
         "anchor": "x",
         "domain": [
          0.8025,
          1
         ],
         "gridcolor": "#E1E5ED",
         "showgrid": false,
         "tickfont": {
          "color": "#4D5663"
         },
         "title": {
          "font": {
           "color": "#4D5663"
          },
          "text": ""
         },
         "zerolinecolor": "#E1E5ED"
        },
        "yaxis10": {
         "anchor": "x10",
         "domain": [
          0.2675,
          0.465
         ],
         "gridcolor": "#E1E5ED",
         "showgrid": false,
         "tickfont": {
          "color": "#4D5663"
         },
         "title": {
          "font": {
           "color": "#4D5663"
          },
          "text": ""
         },
         "zerolinecolor": "#E1E5ED"
        },
        "yaxis11": {
         "anchor": "x11",
         "domain": [
          0.2675,
          0.465
         ],
         "gridcolor": "#E1E5ED",
         "showgrid": false,
         "tickfont": {
          "color": "#4D5663"
         },
         "title": {
          "font": {
           "color": "#4D5663"
          },
          "text": ""
         },
         "zerolinecolor": "#E1E5ED"
        },
        "yaxis12": {
         "anchor": "x12",
         "domain": [
          0.2675,
          0.465
         ],
         "gridcolor": "#E1E5ED",
         "showgrid": false,
         "tickfont": {
          "color": "#4D5663"
         },
         "title": {
          "font": {
           "color": "#4D5663"
          },
          "text": ""
         },
         "zerolinecolor": "#E1E5ED"
        },
        "yaxis13": {
         "anchor": "x13",
         "domain": [
          0,
          0.1975
         ],
         "gridcolor": "#E1E5ED",
         "showgrid": false,
         "tickfont": {
          "color": "#4D5663"
         },
         "title": {
          "font": {
           "color": "#4D5663"
          },
          "text": ""
         },
         "zerolinecolor": "#E1E5ED"
        },
        "yaxis14": {
         "anchor": "x14",
         "domain": [
          0,
          0.1975
         ],
         "gridcolor": "#E1E5ED",
         "showgrid": false,
         "tickfont": {
          "color": "#4D5663"
         },
         "title": {
          "font": {
           "color": "#4D5663"
          },
          "text": ""
         },
         "zerolinecolor": "#E1E5ED"
        },
        "yaxis15": {
         "anchor": "x15",
         "domain": [
          0,
          0.1975
         ],
         "gridcolor": "#E1E5ED",
         "showgrid": false,
         "tickfont": {
          "color": "#4D5663"
         },
         "title": {
          "font": {
           "color": "#4D5663"
          },
          "text": ""
         },
         "zerolinecolor": "#E1E5ED"
        },
        "yaxis16": {
         "anchor": "x16",
         "domain": [
          0,
          0.1975
         ],
         "gridcolor": "#E1E5ED",
         "showgrid": false,
         "tickfont": {
          "color": "#4D5663"
         },
         "title": {
          "font": {
           "color": "#4D5663"
          },
          "text": ""
         },
         "zerolinecolor": "#E1E5ED"
        },
        "yaxis2": {
         "anchor": "x2",
         "domain": [
          0.8025,
          1
         ],
         "gridcolor": "#E1E5ED",
         "showgrid": false,
         "tickfont": {
          "color": "#4D5663"
         },
         "title": {
          "font": {
           "color": "#4D5663"
          },
          "text": ""
         },
         "zerolinecolor": "#E1E5ED"
        },
        "yaxis3": {
         "anchor": "x3",
         "domain": [
          0.8025,
          1
         ],
         "gridcolor": "#E1E5ED",
         "showgrid": false,
         "tickfont": {
          "color": "#4D5663"
         },
         "title": {
          "font": {
           "color": "#4D5663"
          },
          "text": ""
         },
         "zerolinecolor": "#E1E5ED"
        },
        "yaxis4": {
         "anchor": "x4",
         "domain": [
          0.8025,
          1
         ],
         "gridcolor": "#E1E5ED",
         "showgrid": false,
         "tickfont": {
          "color": "#4D5663"
         },
         "title": {
          "font": {
           "color": "#4D5663"
          },
          "text": ""
         },
         "zerolinecolor": "#E1E5ED"
        },
        "yaxis5": {
         "anchor": "x5",
         "domain": [
          0.535,
          0.7325
         ],
         "gridcolor": "#E1E5ED",
         "showgrid": false,
         "tickfont": {
          "color": "#4D5663"
         },
         "title": {
          "font": {
           "color": "#4D5663"
          },
          "text": ""
         },
         "zerolinecolor": "#E1E5ED"
        },
        "yaxis6": {
         "anchor": "x6",
         "domain": [
          0.535,
          0.7325
         ],
         "gridcolor": "#E1E5ED",
         "showgrid": false,
         "tickfont": {
          "color": "#4D5663"
         },
         "title": {
          "font": {
           "color": "#4D5663"
          },
          "text": ""
         },
         "zerolinecolor": "#E1E5ED"
        },
        "yaxis7": {
         "anchor": "x7",
         "domain": [
          0.535,
          0.7325
         ],
         "gridcolor": "#E1E5ED",
         "showgrid": false,
         "tickfont": {
          "color": "#4D5663"
         },
         "title": {
          "font": {
           "color": "#4D5663"
          },
          "text": ""
         },
         "zerolinecolor": "#E1E5ED"
        },
        "yaxis8": {
         "anchor": "x8",
         "domain": [
          0.535,
          0.7325
         ],
         "gridcolor": "#E1E5ED",
         "showgrid": false,
         "tickfont": {
          "color": "#4D5663"
         },
         "title": {
          "font": {
           "color": "#4D5663"
          },
          "text": ""
         },
         "zerolinecolor": "#E1E5ED"
        },
        "yaxis9": {
         "anchor": "x9",
         "domain": [
          0.2675,
          0.465
         ],
         "gridcolor": "#E1E5ED",
         "showgrid": false,
         "tickfont": {
          "color": "#4D5663"
         },
         "title": {
          "font": {
           "color": "#4D5663"
          },
          "text": ""
         },
         "zerolinecolor": "#E1E5ED"
        }
       }
      },
      "text/html": [
       "<div>\n",
       "        \n",
       "        \n",
       "            <div id=\"adfc98b4-05d9-41ee-b1e3-59b7ed99656a\" class=\"plotly-graph-div\" style=\"height:525px; width:100%;\"></div>\n",
       "            <script type=\"text/javascript\">\n",
       "                require([\"plotly\"], function(Plotly) {\n",
       "                    window.PLOTLYENV=window.PLOTLYENV || {};\n",
       "                    window.PLOTLYENV.BASE_URL='https://plot.ly';\n",
       "                    \n",
       "                if (document.getElementById(\"adfc98b4-05d9-41ee-b1e3-59b7ed99656a\")) {\n",
       "                    Plotly.newPlot(\n",
       "                        'adfc98b4-05d9-41ee-b1e3-59b7ed99656a',\n",
       "                        [{\"histfunc\": \"count\", \"histnorm\": \"\", \"marker\": {\"color\": \"rgba(255, 153, 51, 1.0)\", \"line\": {\"color\": \"#4D5663\", \"width\": 1.3}}, \"name\": \"A\", \"nbinsx\": 10, \"opacity\": 0.8, \"orientation\": \"v\", \"type\": \"histogram\", \"x\": [-0.14022739364165643, -0.06215427637826168, 1.3604993525322426, -0.31499023670117493, 1.0029694989154603, 0.970785908978943, -1.9952834025092647, 1.0039135826827332, -0.9158744798111359, -1.5467467590902721, 0.37209295460286496, -0.11707489023640913, 0.3729934586411193, -0.09155881745717738, -0.03683336514171592, -0.41858716289621883, 1.2727487669685111, 0.7032449700650091, -0.3738248467613199, 1.5095426393794726, -0.18607365814905844, 0.4183288835354543, 0.19887318935897869, -0.8883000951919754, -0.5092841539648556, -0.6087002578641567, -0.9661264541068408, -1.915268445309993, 0.6093753654788755, 1.580437092556138, 1.2038017025994858, -0.9256468334675966, 1.4351143773603932, 1.1091342369517356, -0.018304712037069137, -2.2313836406164778, 0.7070440778124587, -0.5307156073349464, 2.296219589090963, 2.387706409516227, 0.6271835271545523, -1.2173587220621744, 0.42570764846744746, -1.865485577029963, 0.09358857883241165, 0.21890364457894615, -0.8132962135397189, 0.8909606370067288, -1.3191599374713485, -0.266719405828341, 1.1247976919873686, 0.48999024384756007, 0.5807255032073525, -0.6562912505872847, -0.6742217180417197, 2.214992557360574, -0.9679289742345283, 0.43124375434740847, 1.2054308100887878, -0.0920927130932392, 0.9421320700961858, 0.11984996143687157, -0.15429180556311048, 0.2918631513091189, -1.8717576688946829, -0.8679678182080496, -0.020103099947394832, -0.042027336524633696, 1.239199523092614, 0.31174508367849085, 0.9361084479519998, -0.18618102912744675, 0.5826791217951177, 0.43352959070524805, 0.05304296463400472, -0.5926127266145984, -2.714955903645562, -0.7302768692480879, 0.5416647778556658, 1.066691518602927, -0.20464590566938895, 1.667570632967258, -1.2848121388168667, -1.2693020887010722, 1.1961530520102446, -2.303978558507296, -0.34484568309621116, 0.33316727300389903, -1.5277704570453603, -0.2677533280031435, -1.1069183000442135, -0.69696863763343, 0.4220514472520369, -0.7119580435533539, -0.4861965889709872, -1.0514199478282396, -1.2973863778725738, -1.852599660498362, 0.2669849512911801, 0.6934313898697425], \"xaxis\": \"x\", \"yaxis\": \"y\"}, {\"line\": {\"color\": \"rgba(128, 128, 128, 1.0)\", \"dash\": \"solid\", \"shape\": \"linear\", \"width\": 1.3}, \"marker\": {\"size\": 2, \"symbol\": \"circle\"}, \"mode\": \"markers\", \"name\": \"A\", \"text\": \"\", \"type\": \"scatter\", \"x\": [-0.49138081110649495, 0.20096821703152126, -0.5118376940715328, -0.294754672042674, 0.7912868491160063, 0.6016396273238315, -1.8517024871032415, -0.8357324338017871, 0.5567672502176182, 0.34248645594707156, 1.1284364585110525, -0.9475016318413956, 0.6052496337791674, -0.14129046372803092, 0.23878933595490678, -1.3302105428345574, 0.7065868414255477, 0.8596504098464547, -1.0289972766977775, 0.38416590094808395, -0.6805516583040593, 0.25047413304492844, -1.0934455244419623, 0.21783950085433063, -1.6465140549141115, 1.773635885242201, -0.15523341084556538, 2.676693565466258, -0.5545091562056877, -1.1680827062075498, 0.4012562551292746, 1.5825339892798398, -0.5398529138511904, 1.0645026613523625, -1.4028466624172862, -0.8110265275168601, 0.017905104851356973, -0.5880126717343193, -1.9196292048084675, -0.5770587119572501, -0.3709996873352136, 0.6380882254802426, -2.048108646820459, -0.6244061305032667, 0.1979958562682151, 1.235861000391054, -0.056613145024522714, 1.4231514175036732, -0.12371210746402267, 2.0043855782244577, 0.24377248592591028, -0.9191773044109226, 1.260013880741051, 0.25973909324840844, 0.7809547129755966, -1.1393604843367602, 0.5155300758995982, -0.08659470454921091, 0.7450800307774069, 0.8763936308013027, 0.6536472576730905, -0.5269623477618497, -0.3983721526933854, 0.2628759268519323, -0.05138886524695858, 1.999743718409326, 0.08002061538393514, 1.8932986126680995, -0.4392068648508249, 1.8041669201375656, 0.5014501185022648, 0.6418703110176629, 0.916215226940129, 0.09519773076228714, 0.2024566893905404, -1.126067618256918, -1.043129801809276, 1.4232891346410141, 0.45471152794813313, -0.3789454598854821, 1.113225442536063, 0.9673482795705286, -2.1035698135731296, 0.5732793851398493, 0.008794944506913387, -1.11121827900885, -1.242414784044673, 0.23578253336456306, 1.5892034787841012, -0.2997132280280576, -0.38497283723599923, 0.7293960491010912, 0.09212027910610585, 0.1752052422872672, 0.5906643403648387, -0.7612504986085381, 1.2337359981255012, -0.5972867609627632, 0.9206519061066598, -1.5461656964766408], \"xaxis\": \"x2\", \"y\": [-0.14022739364165643, -0.06215427637826168, 1.3604993525322426, -0.31499023670117493, 1.0029694989154603, 0.970785908978943, -1.9952834025092647, 1.0039135826827332, -0.9158744798111359, -1.5467467590902721, 0.37209295460286496, -0.11707489023640913, 0.3729934586411193, -0.09155881745717738, -0.03683336514171592, -0.41858716289621883, 1.2727487669685111, 0.7032449700650091, -0.3738248467613199, 1.5095426393794726, -0.18607365814905844, 0.4183288835354543, 0.19887318935897869, -0.8883000951919754, -0.5092841539648556, -0.6087002578641567, -0.9661264541068408, -1.915268445309993, 0.6093753654788755, 1.580437092556138, 1.2038017025994858, -0.9256468334675966, 1.4351143773603932, 1.1091342369517356, -0.018304712037069137, -2.2313836406164778, 0.7070440778124587, -0.5307156073349464, 2.296219589090963, 2.387706409516227, 0.6271835271545523, -1.2173587220621744, 0.42570764846744746, -1.865485577029963, 0.09358857883241165, 0.21890364457894615, -0.8132962135397189, 0.8909606370067288, -1.3191599374713485, -0.266719405828341, 1.1247976919873686, 0.48999024384756007, 0.5807255032073525, -0.6562912505872847, -0.6742217180417197, 2.214992557360574, -0.9679289742345283, 0.43124375434740847, 1.2054308100887878, -0.0920927130932392, 0.9421320700961858, 0.11984996143687157, -0.15429180556311048, 0.2918631513091189, -1.8717576688946829, -0.8679678182080496, -0.020103099947394832, -0.042027336524633696, 1.239199523092614, 0.31174508367849085, 0.9361084479519998, -0.18618102912744675, 0.5826791217951177, 0.43352959070524805, 0.05304296463400472, -0.5926127266145984, -2.714955903645562, -0.7302768692480879, 0.5416647778556658, 1.066691518602927, -0.20464590566938895, 1.667570632967258, -1.2848121388168667, -1.2693020887010722, 1.1961530520102446, -2.303978558507296, -0.34484568309621116, 0.33316727300389903, -1.5277704570453603, -0.2677533280031435, -1.1069183000442135, -0.69696863763343, 0.4220514472520369, -0.7119580435533539, -0.4861965889709872, -1.0514199478282396, -1.2973863778725738, -1.852599660498362, 0.2669849512911801, 0.6934313898697425], \"yaxis\": \"y2\"}, {\"line\": {\"color\": \"rgba(128, 128, 128, 1.0)\", \"dash\": \"solid\", \"shape\": \"linear\", \"width\": 1.3}, \"marker\": {\"size\": 2, \"symbol\": \"circle\"}, \"mode\": \"markers\", \"name\": \"A\", \"text\": \"\", \"type\": \"scatter\", \"x\": [0.8322983650067056, 2.9487944257739023, -0.9327203264414998, 2.7933536990347863, 0.8542454719675332, 0.31809576337229933, -0.6715186412029381, 0.15938393556550307, -1.7425405225991573, 1.4863178222912832, -1.872915682609848, -0.5960420579789987, -2.203298476933827, -0.2329350022052127, 0.7796450318301332, 1.052891983781643, -0.1409371827770851, 0.6474336473085542, -1.505571111529484, 0.7062178145702688, -1.964670446835789, -0.4981514131178999, 1.5181771987126984, -1.536175060551129, -0.38959992623384093, -0.3022172312940435, -0.25772880922383, -0.39695053175002115, -0.3095852443436779, -0.11194083861580877, 0.7601753859738068, -0.530247095041203, 0.20861687899845097, 0.7674050485892783, 0.4452817555900837, 0.0767095841096248, -2.2259461140532677, -1.2116302710576747, -1.32822562098306, -0.5222062624020434, 0.7911058892910624, 0.4677239636003078, 0.30047245775079023, 0.3655170020081269, 0.20289276559461722, 0.4153352653664582, -0.052447423831299834, 0.11944076654957166, 0.8015700610030586, 0.2918230148556353, 1.4531188182365395, 0.24933808921225617, 0.3785975989601048, 0.226260847886642, -0.41584412274397065, 0.4454689629799662, -1.0586950119045058, -0.14716718680168142, 0.8857301418421732, 1.384794926717062, -0.4903542543080155, -0.2473618499212272, -0.7009630708566316, 0.5156263381961245, -1.1291255812234384, -0.829298694609309, 1.3248499130433977, 0.08442761312503773, 1.0275396393621423, -0.3766191390707656, -1.731605498902651, -0.8783732284756439, -0.4096881845872658, -0.9214946500952481, 0.5544203859970838, 0.055184168100756534, 1.5837192344598334, 1.7266557126922775, 0.8683138050421154, -1.0555846243018687, -2.184309585184786, -0.3803520581700609, 0.4206995113741631, 0.085060901439029, 1.15516801238735, 1.256396811071076, 0.6613073885245957, 0.4055860332919486, 0.7494503435914309, -0.3553773638208235, 0.22709931025133642, -1.8067918820329791, -1.3655651555395014, -0.7013106904763116, -0.9608101653884948, -0.3913486413753859, -1.0725993756038412, 1.8512012914505818, 0.7088848612689266, -0.14842242801709593], \"xaxis\": \"x3\", \"y\": [-0.14022739364165643, -0.06215427637826168, 1.3604993525322426, -0.31499023670117493, 1.0029694989154603, 0.970785908978943, -1.9952834025092647, 1.0039135826827332, -0.9158744798111359, -1.5467467590902721, 0.37209295460286496, -0.11707489023640913, 0.3729934586411193, -0.09155881745717738, -0.03683336514171592, -0.41858716289621883, 1.2727487669685111, 0.7032449700650091, -0.3738248467613199, 1.5095426393794726, -0.18607365814905844, 0.4183288835354543, 0.19887318935897869, -0.8883000951919754, -0.5092841539648556, -0.6087002578641567, -0.9661264541068408, -1.915268445309993, 0.6093753654788755, 1.580437092556138, 1.2038017025994858, -0.9256468334675966, 1.4351143773603932, 1.1091342369517356, -0.018304712037069137, -2.2313836406164778, 0.7070440778124587, -0.5307156073349464, 2.296219589090963, 2.387706409516227, 0.6271835271545523, -1.2173587220621744, 0.42570764846744746, -1.865485577029963, 0.09358857883241165, 0.21890364457894615, -0.8132962135397189, 0.8909606370067288, -1.3191599374713485, -0.266719405828341, 1.1247976919873686, 0.48999024384756007, 0.5807255032073525, -0.6562912505872847, -0.6742217180417197, 2.214992557360574, -0.9679289742345283, 0.43124375434740847, 1.2054308100887878, -0.0920927130932392, 0.9421320700961858, 0.11984996143687157, -0.15429180556311048, 0.2918631513091189, -1.8717576688946829, -0.8679678182080496, -0.020103099947394832, -0.042027336524633696, 1.239199523092614, 0.31174508367849085, 0.9361084479519998, -0.18618102912744675, 0.5826791217951177, 0.43352959070524805, 0.05304296463400472, -0.5926127266145984, -2.714955903645562, -0.7302768692480879, 0.5416647778556658, 1.066691518602927, -0.20464590566938895, 1.667570632967258, -1.2848121388168667, -1.2693020887010722, 1.1961530520102446, -2.303978558507296, -0.34484568309621116, 0.33316727300389903, -1.5277704570453603, -0.2677533280031435, -1.1069183000442135, -0.69696863763343, 0.4220514472520369, -0.7119580435533539, -0.4861965889709872, -1.0514199478282396, -1.2973863778725738, -1.852599660498362, 0.2669849512911801, 0.6934313898697425], \"yaxis\": \"y3\"}, {\"line\": {\"color\": \"rgba(128, 128, 128, 1.0)\", \"dash\": \"solid\", \"shape\": \"linear\", \"width\": 1.3}, \"marker\": {\"size\": 2, \"symbol\": \"circle\"}, \"mode\": \"markers\", \"name\": \"A\", \"text\": \"\", \"type\": \"scatter\", \"x\": [0.14980519387875132, -1.4198798107052975, -0.7327077885129524, -0.6085377074797261, 0.32603603643856804, 0.05800489349336685, -0.7663414536041493, -0.4980972756109609, 1.6291425865446543, 0.4637796522855408, 0.041789905018740685, 0.3775787012811703, -1.5982595699465927, 1.319815229205623, -0.7973020773164097, 0.016588448398173073, 0.7687636179232215, 0.946061861862273, 0.5630595028889144, -1.732414528269466, 0.2202207093991576, -0.18890053343860205, -1.4304638653323456, -1.4128856795325917, 0.06393104024926448, 0.14144503101449765, 0.4802131029118245, 1.009367633119822, -0.5821688413981985, 0.43607399705809297, -1.107229741845423, -0.1763841373336813, 0.977963986531852, -1.6522872849716423, -0.5793361170634413, 0.5558489986821461, 1.065170588802731, 1.3299176946618927, 0.15570712345963303, -0.37284916437786214, 0.8574099168049211, 1.3580023577303706, -1.227710763935321, -1.581773724016081, -0.9583483914893025, 0.5220724489139206, -0.9447623535968571, 2.326472964841943, -1.0285467364486465, -0.9518028155898937, 1.8256635162843007, -0.7447939489245792, -0.35542822662993445, 2.0226683813177546, 0.30189223247555663, -0.06399955557885503, -1.556050477309016, -1.6343501528936466, -0.41084832490311385, -0.16266217074037218, 0.2914615780978868, -0.424044469491487, 1.1063947607956812, -1.3891732650666997, -0.2954048676433976, 1.1092818568490956, -0.19599030027340839, 0.5291884870361916, 0.36172739040270746, -0.560905791229739, -0.33918392310298456, 0.5910664413066594, -1.0603114537944383, -0.16533511057927797, 1.2364316740221963, 0.1454372667550455, -1.4880456437309315, -0.0934156145073493, 0.940054247885066, 0.4769872896615898, 2.142452777427751, -1.620668974236862, -0.019343804836262146, 0.5090676133052232, -1.9161718154222847, 0.3853671714937817, 0.994868242832238, 1.0964425597617593, 1.467335409627744, 0.7646621744062372, -1.7816290892180877, 0.0907817268338275, -0.20687425439460655, -0.980047818319929, -0.07394196352769604, 0.5749412114732553, -0.19751122740326005, 1.2592560828216992, -0.094315966458522, 1.016397700020748], \"xaxis\": \"x4\", \"y\": [-0.14022739364165643, -0.06215427637826168, 1.3604993525322426, -0.31499023670117493, 1.0029694989154603, 0.970785908978943, -1.9952834025092647, 1.0039135826827332, -0.9158744798111359, -1.5467467590902721, 0.37209295460286496, -0.11707489023640913, 0.3729934586411193, -0.09155881745717738, -0.03683336514171592, -0.41858716289621883, 1.2727487669685111, 0.7032449700650091, -0.3738248467613199, 1.5095426393794726, -0.18607365814905844, 0.4183288835354543, 0.19887318935897869, -0.8883000951919754, -0.5092841539648556, -0.6087002578641567, -0.9661264541068408, -1.915268445309993, 0.6093753654788755, 1.580437092556138, 1.2038017025994858, -0.9256468334675966, 1.4351143773603932, 1.1091342369517356, -0.018304712037069137, -2.2313836406164778, 0.7070440778124587, -0.5307156073349464, 2.296219589090963, 2.387706409516227, 0.6271835271545523, -1.2173587220621744, 0.42570764846744746, -1.865485577029963, 0.09358857883241165, 0.21890364457894615, -0.8132962135397189, 0.8909606370067288, -1.3191599374713485, -0.266719405828341, 1.1247976919873686, 0.48999024384756007, 0.5807255032073525, -0.6562912505872847, -0.6742217180417197, 2.214992557360574, -0.9679289742345283, 0.43124375434740847, 1.2054308100887878, -0.0920927130932392, 0.9421320700961858, 0.11984996143687157, -0.15429180556311048, 0.2918631513091189, -1.8717576688946829, -0.8679678182080496, -0.020103099947394832, -0.042027336524633696, 1.239199523092614, 0.31174508367849085, 0.9361084479519998, -0.18618102912744675, 0.5826791217951177, 0.43352959070524805, 0.05304296463400472, -0.5926127266145984, -2.714955903645562, -0.7302768692480879, 0.5416647778556658, 1.066691518602927, -0.20464590566938895, 1.667570632967258, -1.2848121388168667, -1.2693020887010722, 1.1961530520102446, -2.303978558507296, -0.34484568309621116, 0.33316727300389903, -1.5277704570453603, -0.2677533280031435, -1.1069183000442135, -0.69696863763343, 0.4220514472520369, -0.7119580435533539, -0.4861965889709872, -1.0514199478282396, -1.2973863778725738, -1.852599660498362, 0.2669849512911801, 0.6934313898697425], \"yaxis\": \"y4\"}, {\"line\": {\"color\": \"rgba(128, 128, 128, 1.0)\", \"dash\": \"solid\", \"shape\": \"linear\", \"width\": 1.3}, \"marker\": {\"size\": 2, \"symbol\": \"circle\"}, \"mode\": \"markers\", \"name\": \"B\", \"text\": \"\", \"type\": \"scatter\", \"x\": [-0.14022739364165643, -0.06215427637826168, 1.3604993525322426, -0.31499023670117493, 1.0029694989154603, 0.970785908978943, -1.9952834025092647, 1.0039135826827332, -0.9158744798111359, -1.5467467590902721, 0.37209295460286496, -0.11707489023640913, 0.3729934586411193, -0.09155881745717738, -0.03683336514171592, -0.41858716289621883, 1.2727487669685111, 0.7032449700650091, -0.3738248467613199, 1.5095426393794726, -0.18607365814905844, 0.4183288835354543, 0.19887318935897869, -0.8883000951919754, -0.5092841539648556, -0.6087002578641567, -0.9661264541068408, -1.915268445309993, 0.6093753654788755, 1.580437092556138, 1.2038017025994858, -0.9256468334675966, 1.4351143773603932, 1.1091342369517356, -0.018304712037069137, -2.2313836406164778, 0.7070440778124587, -0.5307156073349464, 2.296219589090963, 2.387706409516227, 0.6271835271545523, -1.2173587220621744, 0.42570764846744746, -1.865485577029963, 0.09358857883241165, 0.21890364457894615, -0.8132962135397189, 0.8909606370067288, -1.3191599374713485, -0.266719405828341, 1.1247976919873686, 0.48999024384756007, 0.5807255032073525, -0.6562912505872847, -0.6742217180417197, 2.214992557360574, -0.9679289742345283, 0.43124375434740847, 1.2054308100887878, -0.0920927130932392, 0.9421320700961858, 0.11984996143687157, -0.15429180556311048, 0.2918631513091189, -1.8717576688946829, -0.8679678182080496, -0.020103099947394832, -0.042027336524633696, 1.239199523092614, 0.31174508367849085, 0.9361084479519998, -0.18618102912744675, 0.5826791217951177, 0.43352959070524805, 0.05304296463400472, -0.5926127266145984, -2.714955903645562, -0.7302768692480879, 0.5416647778556658, 1.066691518602927, -0.20464590566938895, 1.667570632967258, -1.2848121388168667, -1.2693020887010722, 1.1961530520102446, -2.303978558507296, -0.34484568309621116, 0.33316727300389903, -1.5277704570453603, -0.2677533280031435, -1.1069183000442135, -0.69696863763343, 0.4220514472520369, -0.7119580435533539, -0.4861965889709872, -1.0514199478282396, -1.2973863778725738, -1.852599660498362, 0.2669849512911801, 0.6934313898697425], \"xaxis\": \"x5\", \"y\": [-0.49138081110649495, 0.20096821703152126, -0.5118376940715328, -0.294754672042674, 0.7912868491160063, 0.6016396273238315, -1.8517024871032415, -0.8357324338017871, 0.5567672502176182, 0.34248645594707156, 1.1284364585110525, -0.9475016318413956, 0.6052496337791674, -0.14129046372803092, 0.23878933595490678, -1.3302105428345574, 0.7065868414255477, 0.8596504098464547, -1.0289972766977775, 0.38416590094808395, -0.6805516583040593, 0.25047413304492844, -1.0934455244419623, 0.21783950085433063, -1.6465140549141115, 1.773635885242201, -0.15523341084556538, 2.676693565466258, -0.5545091562056877, -1.1680827062075498, 0.4012562551292746, 1.5825339892798398, -0.5398529138511904, 1.0645026613523625, -1.4028466624172862, -0.8110265275168601, 0.017905104851356973, -0.5880126717343193, -1.9196292048084675, -0.5770587119572501, -0.3709996873352136, 0.6380882254802426, -2.048108646820459, -0.6244061305032667, 0.1979958562682151, 1.235861000391054, -0.056613145024522714, 1.4231514175036732, -0.12371210746402267, 2.0043855782244577, 0.24377248592591028, -0.9191773044109226, 1.260013880741051, 0.25973909324840844, 0.7809547129755966, -1.1393604843367602, 0.5155300758995982, -0.08659470454921091, 0.7450800307774069, 0.8763936308013027, 0.6536472576730905, -0.5269623477618497, -0.3983721526933854, 0.2628759268519323, -0.05138886524695858, 1.999743718409326, 0.08002061538393514, 1.8932986126680995, -0.4392068648508249, 1.8041669201375656, 0.5014501185022648, 0.6418703110176629, 0.916215226940129, 0.09519773076228714, 0.2024566893905404, -1.126067618256918, -1.043129801809276, 1.4232891346410141, 0.45471152794813313, -0.3789454598854821, 1.113225442536063, 0.9673482795705286, -2.1035698135731296, 0.5732793851398493, 0.008794944506913387, -1.11121827900885, -1.242414784044673, 0.23578253336456306, 1.5892034787841012, -0.2997132280280576, -0.38497283723599923, 0.7293960491010912, 0.09212027910610585, 0.1752052422872672, 0.5906643403648387, -0.7612504986085381, 1.2337359981255012, -0.5972867609627632, 0.9206519061066598, -1.5461656964766408], \"yaxis\": \"y5\"}, {\"histfunc\": \"count\", \"histnorm\": \"\", \"marker\": {\"color\": \"rgba(55, 128, 191, 1.0)\", \"line\": {\"color\": \"#4D5663\", \"width\": 1.3}}, \"name\": \"B\", \"nbinsx\": 10, \"opacity\": 0.8, \"orientation\": \"v\", \"type\": \"histogram\", \"x\": [-0.49138081110649495, 0.20096821703152126, -0.5118376940715328, -0.294754672042674, 0.7912868491160063, 0.6016396273238315, -1.8517024871032415, -0.8357324338017871, 0.5567672502176182, 0.34248645594707156, 1.1284364585110525, -0.9475016318413956, 0.6052496337791674, -0.14129046372803092, 0.23878933595490678, -1.3302105428345574, 0.7065868414255477, 0.8596504098464547, -1.0289972766977775, 0.38416590094808395, -0.6805516583040593, 0.25047413304492844, -1.0934455244419623, 0.21783950085433063, -1.6465140549141115, 1.773635885242201, -0.15523341084556538, 2.676693565466258, -0.5545091562056877, -1.1680827062075498, 0.4012562551292746, 1.5825339892798398, -0.5398529138511904, 1.0645026613523625, -1.4028466624172862, -0.8110265275168601, 0.017905104851356973, -0.5880126717343193, -1.9196292048084675, -0.5770587119572501, -0.3709996873352136, 0.6380882254802426, -2.048108646820459, -0.6244061305032667, 0.1979958562682151, 1.235861000391054, -0.056613145024522714, 1.4231514175036732, -0.12371210746402267, 2.0043855782244577, 0.24377248592591028, -0.9191773044109226, 1.260013880741051, 0.25973909324840844, 0.7809547129755966, -1.1393604843367602, 0.5155300758995982, -0.08659470454921091, 0.7450800307774069, 0.8763936308013027, 0.6536472576730905, -0.5269623477618497, -0.3983721526933854, 0.2628759268519323, -0.05138886524695858, 1.999743718409326, 0.08002061538393514, 1.8932986126680995, -0.4392068648508249, 1.8041669201375656, 0.5014501185022648, 0.6418703110176629, 0.916215226940129, 0.09519773076228714, 0.2024566893905404, -1.126067618256918, -1.043129801809276, 1.4232891346410141, 0.45471152794813313, -0.3789454598854821, 1.113225442536063, 0.9673482795705286, -2.1035698135731296, 0.5732793851398493, 0.008794944506913387, -1.11121827900885, -1.242414784044673, 0.23578253336456306, 1.5892034787841012, -0.2997132280280576, -0.38497283723599923, 0.7293960491010912, 0.09212027910610585, 0.1752052422872672, 0.5906643403648387, -0.7612504986085381, 1.2337359981255012, -0.5972867609627632, 0.9206519061066598, -1.5461656964766408], \"xaxis\": \"x6\", \"yaxis\": \"y6\"}, {\"line\": {\"color\": \"rgba(128, 128, 128, 1.0)\", \"dash\": \"solid\", \"shape\": \"linear\", \"width\": 1.3}, \"marker\": {\"size\": 2, \"symbol\": \"circle\"}, \"mode\": \"markers\", \"name\": \"B\", \"text\": \"\", \"type\": \"scatter\", \"x\": [0.8322983650067056, 2.9487944257739023, -0.9327203264414998, 2.7933536990347863, 0.8542454719675332, 0.31809576337229933, -0.6715186412029381, 0.15938393556550307, -1.7425405225991573, 1.4863178222912832, -1.872915682609848, -0.5960420579789987, -2.203298476933827, -0.2329350022052127, 0.7796450318301332, 1.052891983781643, -0.1409371827770851, 0.6474336473085542, -1.505571111529484, 0.7062178145702688, -1.964670446835789, -0.4981514131178999, 1.5181771987126984, -1.536175060551129, -0.38959992623384093, -0.3022172312940435, -0.25772880922383, -0.39695053175002115, -0.3095852443436779, -0.11194083861580877, 0.7601753859738068, -0.530247095041203, 0.20861687899845097, 0.7674050485892783, 0.4452817555900837, 0.0767095841096248, -2.2259461140532677, -1.2116302710576747, -1.32822562098306, -0.5222062624020434, 0.7911058892910624, 0.4677239636003078, 0.30047245775079023, 0.3655170020081269, 0.20289276559461722, 0.4153352653664582, -0.052447423831299834, 0.11944076654957166, 0.8015700610030586, 0.2918230148556353, 1.4531188182365395, 0.24933808921225617, 0.3785975989601048, 0.226260847886642, -0.41584412274397065, 0.4454689629799662, -1.0586950119045058, -0.14716718680168142, 0.8857301418421732, 1.384794926717062, -0.4903542543080155, -0.2473618499212272, -0.7009630708566316, 0.5156263381961245, -1.1291255812234384, -0.829298694609309, 1.3248499130433977, 0.08442761312503773, 1.0275396393621423, -0.3766191390707656, -1.731605498902651, -0.8783732284756439, -0.4096881845872658, -0.9214946500952481, 0.5544203859970838, 0.055184168100756534, 1.5837192344598334, 1.7266557126922775, 0.8683138050421154, -1.0555846243018687, -2.184309585184786, -0.3803520581700609, 0.4206995113741631, 0.085060901439029, 1.15516801238735, 1.256396811071076, 0.6613073885245957, 0.4055860332919486, 0.7494503435914309, -0.3553773638208235, 0.22709931025133642, -1.8067918820329791, -1.3655651555395014, -0.7013106904763116, -0.9608101653884948, -0.3913486413753859, -1.0725993756038412, 1.8512012914505818, 0.7088848612689266, -0.14842242801709593], \"xaxis\": \"x7\", \"y\": [-0.49138081110649495, 0.20096821703152126, -0.5118376940715328, -0.294754672042674, 0.7912868491160063, 0.6016396273238315, -1.8517024871032415, -0.8357324338017871, 0.5567672502176182, 0.34248645594707156, 1.1284364585110525, -0.9475016318413956, 0.6052496337791674, -0.14129046372803092, 0.23878933595490678, -1.3302105428345574, 0.7065868414255477, 0.8596504098464547, -1.0289972766977775, 0.38416590094808395, -0.6805516583040593, 0.25047413304492844, -1.0934455244419623, 0.21783950085433063, -1.6465140549141115, 1.773635885242201, -0.15523341084556538, 2.676693565466258, -0.5545091562056877, -1.1680827062075498, 0.4012562551292746, 1.5825339892798398, -0.5398529138511904, 1.0645026613523625, -1.4028466624172862, -0.8110265275168601, 0.017905104851356973, -0.5880126717343193, -1.9196292048084675, -0.5770587119572501, -0.3709996873352136, 0.6380882254802426, -2.048108646820459, -0.6244061305032667, 0.1979958562682151, 1.235861000391054, -0.056613145024522714, 1.4231514175036732, -0.12371210746402267, 2.0043855782244577, 0.24377248592591028, -0.9191773044109226, 1.260013880741051, 0.25973909324840844, 0.7809547129755966, -1.1393604843367602, 0.5155300758995982, -0.08659470454921091, 0.7450800307774069, 0.8763936308013027, 0.6536472576730905, -0.5269623477618497, -0.3983721526933854, 0.2628759268519323, -0.05138886524695858, 1.999743718409326, 0.08002061538393514, 1.8932986126680995, -0.4392068648508249, 1.8041669201375656, 0.5014501185022648, 0.6418703110176629, 0.916215226940129, 0.09519773076228714, 0.2024566893905404, -1.126067618256918, -1.043129801809276, 1.4232891346410141, 0.45471152794813313, -0.3789454598854821, 1.113225442536063, 0.9673482795705286, -2.1035698135731296, 0.5732793851398493, 0.008794944506913387, -1.11121827900885, -1.242414784044673, 0.23578253336456306, 1.5892034787841012, -0.2997132280280576, -0.38497283723599923, 0.7293960491010912, 0.09212027910610585, 0.1752052422872672, 0.5906643403648387, -0.7612504986085381, 1.2337359981255012, -0.5972867609627632, 0.9206519061066598, -1.5461656964766408], \"yaxis\": \"y7\"}, {\"line\": {\"color\": \"rgba(128, 128, 128, 1.0)\", \"dash\": \"solid\", \"shape\": \"linear\", \"width\": 1.3}, \"marker\": {\"size\": 2, \"symbol\": \"circle\"}, \"mode\": \"markers\", \"name\": \"B\", \"text\": \"\", \"type\": \"scatter\", \"x\": [0.14980519387875132, -1.4198798107052975, -0.7327077885129524, -0.6085377074797261, 0.32603603643856804, 0.05800489349336685, -0.7663414536041493, -0.4980972756109609, 1.6291425865446543, 0.4637796522855408, 0.041789905018740685, 0.3775787012811703, -1.5982595699465927, 1.319815229205623, -0.7973020773164097, 0.016588448398173073, 0.7687636179232215, 0.946061861862273, 0.5630595028889144, -1.732414528269466, 0.2202207093991576, -0.18890053343860205, -1.4304638653323456, -1.4128856795325917, 0.06393104024926448, 0.14144503101449765, 0.4802131029118245, 1.009367633119822, -0.5821688413981985, 0.43607399705809297, -1.107229741845423, -0.1763841373336813, 0.977963986531852, -1.6522872849716423, -0.5793361170634413, 0.5558489986821461, 1.065170588802731, 1.3299176946618927, 0.15570712345963303, -0.37284916437786214, 0.8574099168049211, 1.3580023577303706, -1.227710763935321, -1.581773724016081, -0.9583483914893025, 0.5220724489139206, -0.9447623535968571, 2.326472964841943, -1.0285467364486465, -0.9518028155898937, 1.8256635162843007, -0.7447939489245792, -0.35542822662993445, 2.0226683813177546, 0.30189223247555663, -0.06399955557885503, -1.556050477309016, -1.6343501528936466, -0.41084832490311385, -0.16266217074037218, 0.2914615780978868, -0.424044469491487, 1.1063947607956812, -1.3891732650666997, -0.2954048676433976, 1.1092818568490956, -0.19599030027340839, 0.5291884870361916, 0.36172739040270746, -0.560905791229739, -0.33918392310298456, 0.5910664413066594, -1.0603114537944383, -0.16533511057927797, 1.2364316740221963, 0.1454372667550455, -1.4880456437309315, -0.0934156145073493, 0.940054247885066, 0.4769872896615898, 2.142452777427751, -1.620668974236862, -0.019343804836262146, 0.5090676133052232, -1.9161718154222847, 0.3853671714937817, 0.994868242832238, 1.0964425597617593, 1.467335409627744, 0.7646621744062372, -1.7816290892180877, 0.0907817268338275, -0.20687425439460655, -0.980047818319929, -0.07394196352769604, 0.5749412114732553, -0.19751122740326005, 1.2592560828216992, -0.094315966458522, 1.016397700020748], \"xaxis\": \"x8\", \"y\": [-0.49138081110649495, 0.20096821703152126, -0.5118376940715328, -0.294754672042674, 0.7912868491160063, 0.6016396273238315, -1.8517024871032415, -0.8357324338017871, 0.5567672502176182, 0.34248645594707156, 1.1284364585110525, -0.9475016318413956, 0.6052496337791674, -0.14129046372803092, 0.23878933595490678, -1.3302105428345574, 0.7065868414255477, 0.8596504098464547, -1.0289972766977775, 0.38416590094808395, -0.6805516583040593, 0.25047413304492844, -1.0934455244419623, 0.21783950085433063, -1.6465140549141115, 1.773635885242201, -0.15523341084556538, 2.676693565466258, -0.5545091562056877, -1.1680827062075498, 0.4012562551292746, 1.5825339892798398, -0.5398529138511904, 1.0645026613523625, -1.4028466624172862, -0.8110265275168601, 0.017905104851356973, -0.5880126717343193, -1.9196292048084675, -0.5770587119572501, -0.3709996873352136, 0.6380882254802426, -2.048108646820459, -0.6244061305032667, 0.1979958562682151, 1.235861000391054, -0.056613145024522714, 1.4231514175036732, -0.12371210746402267, 2.0043855782244577, 0.24377248592591028, -0.9191773044109226, 1.260013880741051, 0.25973909324840844, 0.7809547129755966, -1.1393604843367602, 0.5155300758995982, -0.08659470454921091, 0.7450800307774069, 0.8763936308013027, 0.6536472576730905, -0.5269623477618497, -0.3983721526933854, 0.2628759268519323, -0.05138886524695858, 1.999743718409326, 0.08002061538393514, 1.8932986126680995, -0.4392068648508249, 1.8041669201375656, 0.5014501185022648, 0.6418703110176629, 0.916215226940129, 0.09519773076228714, 0.2024566893905404, -1.126067618256918, -1.043129801809276, 1.4232891346410141, 0.45471152794813313, -0.3789454598854821, 1.113225442536063, 0.9673482795705286, -2.1035698135731296, 0.5732793851398493, 0.008794944506913387, -1.11121827900885, -1.242414784044673, 0.23578253336456306, 1.5892034787841012, -0.2997132280280576, -0.38497283723599923, 0.7293960491010912, 0.09212027910610585, 0.1752052422872672, 0.5906643403648387, -0.7612504986085381, 1.2337359981255012, -0.5972867609627632, 0.9206519061066598, -1.5461656964766408], \"yaxis\": \"y8\"}, {\"line\": {\"color\": \"rgba(128, 128, 128, 1.0)\", \"dash\": \"solid\", \"shape\": \"linear\", \"width\": 1.3}, \"marker\": {\"size\": 2, \"symbol\": \"circle\"}, \"mode\": \"markers\", \"name\": \"C\", \"text\": \"\", \"type\": \"scatter\", \"x\": [-0.14022739364165643, -0.06215427637826168, 1.3604993525322426, -0.31499023670117493, 1.0029694989154603, 0.970785908978943, -1.9952834025092647, 1.0039135826827332, -0.9158744798111359, -1.5467467590902721, 0.37209295460286496, -0.11707489023640913, 0.3729934586411193, -0.09155881745717738, -0.03683336514171592, -0.41858716289621883, 1.2727487669685111, 0.7032449700650091, -0.3738248467613199, 1.5095426393794726, -0.18607365814905844, 0.4183288835354543, 0.19887318935897869, -0.8883000951919754, -0.5092841539648556, -0.6087002578641567, -0.9661264541068408, -1.915268445309993, 0.6093753654788755, 1.580437092556138, 1.2038017025994858, -0.9256468334675966, 1.4351143773603932, 1.1091342369517356, -0.018304712037069137, -2.2313836406164778, 0.7070440778124587, -0.5307156073349464, 2.296219589090963, 2.387706409516227, 0.6271835271545523, -1.2173587220621744, 0.42570764846744746, -1.865485577029963, 0.09358857883241165, 0.21890364457894615, -0.8132962135397189, 0.8909606370067288, -1.3191599374713485, -0.266719405828341, 1.1247976919873686, 0.48999024384756007, 0.5807255032073525, -0.6562912505872847, -0.6742217180417197, 2.214992557360574, -0.9679289742345283, 0.43124375434740847, 1.2054308100887878, -0.0920927130932392, 0.9421320700961858, 0.11984996143687157, -0.15429180556311048, 0.2918631513091189, -1.8717576688946829, -0.8679678182080496, -0.020103099947394832, -0.042027336524633696, 1.239199523092614, 0.31174508367849085, 0.9361084479519998, -0.18618102912744675, 0.5826791217951177, 0.43352959070524805, 0.05304296463400472, -0.5926127266145984, -2.714955903645562, -0.7302768692480879, 0.5416647778556658, 1.066691518602927, -0.20464590566938895, 1.667570632967258, -1.2848121388168667, -1.2693020887010722, 1.1961530520102446, -2.303978558507296, -0.34484568309621116, 0.33316727300389903, -1.5277704570453603, -0.2677533280031435, -1.1069183000442135, -0.69696863763343, 0.4220514472520369, -0.7119580435533539, -0.4861965889709872, -1.0514199478282396, -1.2973863778725738, -1.852599660498362, 0.2669849512911801, 0.6934313898697425], \"xaxis\": \"x9\", \"y\": [0.8322983650067056, 2.9487944257739023, -0.9327203264414998, 2.7933536990347863, 0.8542454719675332, 0.31809576337229933, -0.6715186412029381, 0.15938393556550307, -1.7425405225991573, 1.4863178222912832, -1.872915682609848, -0.5960420579789987, -2.203298476933827, -0.2329350022052127, 0.7796450318301332, 1.052891983781643, -0.1409371827770851, 0.6474336473085542, -1.505571111529484, 0.7062178145702688, -1.964670446835789, -0.4981514131178999, 1.5181771987126984, -1.536175060551129, -0.38959992623384093, -0.3022172312940435, -0.25772880922383, -0.39695053175002115, -0.3095852443436779, -0.11194083861580877, 0.7601753859738068, -0.530247095041203, 0.20861687899845097, 0.7674050485892783, 0.4452817555900837, 0.0767095841096248, -2.2259461140532677, -1.2116302710576747, -1.32822562098306, -0.5222062624020434, 0.7911058892910624, 0.4677239636003078, 0.30047245775079023, 0.3655170020081269, 0.20289276559461722, 0.4153352653664582, -0.052447423831299834, 0.11944076654957166, 0.8015700610030586, 0.2918230148556353, 1.4531188182365395, 0.24933808921225617, 0.3785975989601048, 0.226260847886642, -0.41584412274397065, 0.4454689629799662, -1.0586950119045058, -0.14716718680168142, 0.8857301418421732, 1.384794926717062, -0.4903542543080155, -0.2473618499212272, -0.7009630708566316, 0.5156263381961245, -1.1291255812234384, -0.829298694609309, 1.3248499130433977, 0.08442761312503773, 1.0275396393621423, -0.3766191390707656, -1.731605498902651, -0.8783732284756439, -0.4096881845872658, -0.9214946500952481, 0.5544203859970838, 0.055184168100756534, 1.5837192344598334, 1.7266557126922775, 0.8683138050421154, -1.0555846243018687, -2.184309585184786, -0.3803520581700609, 0.4206995113741631, 0.085060901439029, 1.15516801238735, 1.256396811071076, 0.6613073885245957, 0.4055860332919486, 0.7494503435914309, -0.3553773638208235, 0.22709931025133642, -1.8067918820329791, -1.3655651555395014, -0.7013106904763116, -0.9608101653884948, -0.3913486413753859, -1.0725993756038412, 1.8512012914505818, 0.7088848612689266, -0.14842242801709593], \"yaxis\": \"y9\"}, {\"line\": {\"color\": \"rgba(128, 128, 128, 1.0)\", \"dash\": \"solid\", \"shape\": \"linear\", \"width\": 1.3}, \"marker\": {\"size\": 2, \"symbol\": \"circle\"}, \"mode\": \"markers\", \"name\": \"C\", \"text\": \"\", \"type\": \"scatter\", \"x\": [-0.49138081110649495, 0.20096821703152126, -0.5118376940715328, -0.294754672042674, 0.7912868491160063, 0.6016396273238315, -1.8517024871032415, -0.8357324338017871, 0.5567672502176182, 0.34248645594707156, 1.1284364585110525, -0.9475016318413956, 0.6052496337791674, -0.14129046372803092, 0.23878933595490678, -1.3302105428345574, 0.7065868414255477, 0.8596504098464547, -1.0289972766977775, 0.38416590094808395, -0.6805516583040593, 0.25047413304492844, -1.0934455244419623, 0.21783950085433063, -1.6465140549141115, 1.773635885242201, -0.15523341084556538, 2.676693565466258, -0.5545091562056877, -1.1680827062075498, 0.4012562551292746, 1.5825339892798398, -0.5398529138511904, 1.0645026613523625, -1.4028466624172862, -0.8110265275168601, 0.017905104851356973, -0.5880126717343193, -1.9196292048084675, -0.5770587119572501, -0.3709996873352136, 0.6380882254802426, -2.048108646820459, -0.6244061305032667, 0.1979958562682151, 1.235861000391054, -0.056613145024522714, 1.4231514175036732, -0.12371210746402267, 2.0043855782244577, 0.24377248592591028, -0.9191773044109226, 1.260013880741051, 0.25973909324840844, 0.7809547129755966, -1.1393604843367602, 0.5155300758995982, -0.08659470454921091, 0.7450800307774069, 0.8763936308013027, 0.6536472576730905, -0.5269623477618497, -0.3983721526933854, 0.2628759268519323, -0.05138886524695858, 1.999743718409326, 0.08002061538393514, 1.8932986126680995, -0.4392068648508249, 1.8041669201375656, 0.5014501185022648, 0.6418703110176629, 0.916215226940129, 0.09519773076228714, 0.2024566893905404, -1.126067618256918, -1.043129801809276, 1.4232891346410141, 0.45471152794813313, -0.3789454598854821, 1.113225442536063, 0.9673482795705286, -2.1035698135731296, 0.5732793851398493, 0.008794944506913387, -1.11121827900885, -1.242414784044673, 0.23578253336456306, 1.5892034787841012, -0.2997132280280576, -0.38497283723599923, 0.7293960491010912, 0.09212027910610585, 0.1752052422872672, 0.5906643403648387, -0.7612504986085381, 1.2337359981255012, -0.5972867609627632, 0.9206519061066598, -1.5461656964766408], \"xaxis\": \"x10\", \"y\": [0.8322983650067056, 2.9487944257739023, -0.9327203264414998, 2.7933536990347863, 0.8542454719675332, 0.31809576337229933, -0.6715186412029381, 0.15938393556550307, -1.7425405225991573, 1.4863178222912832, -1.872915682609848, -0.5960420579789987, -2.203298476933827, -0.2329350022052127, 0.7796450318301332, 1.052891983781643, -0.1409371827770851, 0.6474336473085542, -1.505571111529484, 0.7062178145702688, -1.964670446835789, -0.4981514131178999, 1.5181771987126984, -1.536175060551129, -0.38959992623384093, -0.3022172312940435, -0.25772880922383, -0.39695053175002115, -0.3095852443436779, -0.11194083861580877, 0.7601753859738068, -0.530247095041203, 0.20861687899845097, 0.7674050485892783, 0.4452817555900837, 0.0767095841096248, -2.2259461140532677, -1.2116302710576747, -1.32822562098306, -0.5222062624020434, 0.7911058892910624, 0.4677239636003078, 0.30047245775079023, 0.3655170020081269, 0.20289276559461722, 0.4153352653664582, -0.052447423831299834, 0.11944076654957166, 0.8015700610030586, 0.2918230148556353, 1.4531188182365395, 0.24933808921225617, 0.3785975989601048, 0.226260847886642, -0.41584412274397065, 0.4454689629799662, -1.0586950119045058, -0.14716718680168142, 0.8857301418421732, 1.384794926717062, -0.4903542543080155, -0.2473618499212272, -0.7009630708566316, 0.5156263381961245, -1.1291255812234384, -0.829298694609309, 1.3248499130433977, 0.08442761312503773, 1.0275396393621423, -0.3766191390707656, -1.731605498902651, -0.8783732284756439, -0.4096881845872658, -0.9214946500952481, 0.5544203859970838, 0.055184168100756534, 1.5837192344598334, 1.7266557126922775, 0.8683138050421154, -1.0555846243018687, -2.184309585184786, -0.3803520581700609, 0.4206995113741631, 0.085060901439029, 1.15516801238735, 1.256396811071076, 0.6613073885245957, 0.4055860332919486, 0.7494503435914309, -0.3553773638208235, 0.22709931025133642, -1.8067918820329791, -1.3655651555395014, -0.7013106904763116, -0.9608101653884948, -0.3913486413753859, -1.0725993756038412, 1.8512012914505818, 0.7088848612689266, -0.14842242801709593], \"yaxis\": \"y10\"}, {\"histfunc\": \"count\", \"histnorm\": \"\", \"marker\": {\"color\": \"rgba(50, 171, 96, 1.0)\", \"line\": {\"color\": \"#4D5663\", \"width\": 1.3}}, \"name\": \"C\", \"nbinsx\": 10, \"opacity\": 0.8, \"orientation\": \"v\", \"type\": \"histogram\", \"x\": [0.8322983650067056, 2.9487944257739023, -0.9327203264414998, 2.7933536990347863, 0.8542454719675332, 0.31809576337229933, -0.6715186412029381, 0.15938393556550307, -1.7425405225991573, 1.4863178222912832, -1.872915682609848, -0.5960420579789987, -2.203298476933827, -0.2329350022052127, 0.7796450318301332, 1.052891983781643, -0.1409371827770851, 0.6474336473085542, -1.505571111529484, 0.7062178145702688, -1.964670446835789, -0.4981514131178999, 1.5181771987126984, -1.536175060551129, -0.38959992623384093, -0.3022172312940435, -0.25772880922383, -0.39695053175002115, -0.3095852443436779, -0.11194083861580877, 0.7601753859738068, -0.530247095041203, 0.20861687899845097, 0.7674050485892783, 0.4452817555900837, 0.0767095841096248, -2.2259461140532677, -1.2116302710576747, -1.32822562098306, -0.5222062624020434, 0.7911058892910624, 0.4677239636003078, 0.30047245775079023, 0.3655170020081269, 0.20289276559461722, 0.4153352653664582, -0.052447423831299834, 0.11944076654957166, 0.8015700610030586, 0.2918230148556353, 1.4531188182365395, 0.24933808921225617, 0.3785975989601048, 0.226260847886642, -0.41584412274397065, 0.4454689629799662, -1.0586950119045058, -0.14716718680168142, 0.8857301418421732, 1.384794926717062, -0.4903542543080155, -0.2473618499212272, -0.7009630708566316, 0.5156263381961245, -1.1291255812234384, -0.829298694609309, 1.3248499130433977, 0.08442761312503773, 1.0275396393621423, -0.3766191390707656, -1.731605498902651, -0.8783732284756439, -0.4096881845872658, -0.9214946500952481, 0.5544203859970838, 0.055184168100756534, 1.5837192344598334, 1.7266557126922775, 0.8683138050421154, -1.0555846243018687, -2.184309585184786, -0.3803520581700609, 0.4206995113741631, 0.085060901439029, 1.15516801238735, 1.256396811071076, 0.6613073885245957, 0.4055860332919486, 0.7494503435914309, -0.3553773638208235, 0.22709931025133642, -1.8067918820329791, -1.3655651555395014, -0.7013106904763116, -0.9608101653884948, -0.3913486413753859, -1.0725993756038412, 1.8512012914505818, 0.7088848612689266, -0.14842242801709593], \"xaxis\": \"x11\", \"yaxis\": \"y11\"}, {\"line\": {\"color\": \"rgba(128, 128, 128, 1.0)\", \"dash\": \"solid\", \"shape\": \"linear\", \"width\": 1.3}, \"marker\": {\"size\": 2, \"symbol\": \"circle\"}, \"mode\": \"markers\", \"name\": \"C\", \"text\": \"\", \"type\": \"scatter\", \"x\": [0.14980519387875132, -1.4198798107052975, -0.7327077885129524, -0.6085377074797261, 0.32603603643856804, 0.05800489349336685, -0.7663414536041493, -0.4980972756109609, 1.6291425865446543, 0.4637796522855408, 0.041789905018740685, 0.3775787012811703, -1.5982595699465927, 1.319815229205623, -0.7973020773164097, 0.016588448398173073, 0.7687636179232215, 0.946061861862273, 0.5630595028889144, -1.732414528269466, 0.2202207093991576, -0.18890053343860205, -1.4304638653323456, -1.4128856795325917, 0.06393104024926448, 0.14144503101449765, 0.4802131029118245, 1.009367633119822, -0.5821688413981985, 0.43607399705809297, -1.107229741845423, -0.1763841373336813, 0.977963986531852, -1.6522872849716423, -0.5793361170634413, 0.5558489986821461, 1.065170588802731, 1.3299176946618927, 0.15570712345963303, -0.37284916437786214, 0.8574099168049211, 1.3580023577303706, -1.227710763935321, -1.581773724016081, -0.9583483914893025, 0.5220724489139206, -0.9447623535968571, 2.326472964841943, -1.0285467364486465, -0.9518028155898937, 1.8256635162843007, -0.7447939489245792, -0.35542822662993445, 2.0226683813177546, 0.30189223247555663, -0.06399955557885503, -1.556050477309016, -1.6343501528936466, -0.41084832490311385, -0.16266217074037218, 0.2914615780978868, -0.424044469491487, 1.1063947607956812, -1.3891732650666997, -0.2954048676433976, 1.1092818568490956, -0.19599030027340839, 0.5291884870361916, 0.36172739040270746, -0.560905791229739, -0.33918392310298456, 0.5910664413066594, -1.0603114537944383, -0.16533511057927797, 1.2364316740221963, 0.1454372667550455, -1.4880456437309315, -0.0934156145073493, 0.940054247885066, 0.4769872896615898, 2.142452777427751, -1.620668974236862, -0.019343804836262146, 0.5090676133052232, -1.9161718154222847, 0.3853671714937817, 0.994868242832238, 1.0964425597617593, 1.467335409627744, 0.7646621744062372, -1.7816290892180877, 0.0907817268338275, -0.20687425439460655, -0.980047818319929, -0.07394196352769604, 0.5749412114732553, -0.19751122740326005, 1.2592560828216992, -0.094315966458522, 1.016397700020748], \"xaxis\": \"x12\", \"y\": [0.8322983650067056, 2.9487944257739023, -0.9327203264414998, 2.7933536990347863, 0.8542454719675332, 0.31809576337229933, -0.6715186412029381, 0.15938393556550307, -1.7425405225991573, 1.4863178222912832, -1.872915682609848, -0.5960420579789987, -2.203298476933827, -0.2329350022052127, 0.7796450318301332, 1.052891983781643, -0.1409371827770851, 0.6474336473085542, -1.505571111529484, 0.7062178145702688, -1.964670446835789, -0.4981514131178999, 1.5181771987126984, -1.536175060551129, -0.38959992623384093, -0.3022172312940435, -0.25772880922383, -0.39695053175002115, -0.3095852443436779, -0.11194083861580877, 0.7601753859738068, -0.530247095041203, 0.20861687899845097, 0.7674050485892783, 0.4452817555900837, 0.0767095841096248, -2.2259461140532677, -1.2116302710576747, -1.32822562098306, -0.5222062624020434, 0.7911058892910624, 0.4677239636003078, 0.30047245775079023, 0.3655170020081269, 0.20289276559461722, 0.4153352653664582, -0.052447423831299834, 0.11944076654957166, 0.8015700610030586, 0.2918230148556353, 1.4531188182365395, 0.24933808921225617, 0.3785975989601048, 0.226260847886642, -0.41584412274397065, 0.4454689629799662, -1.0586950119045058, -0.14716718680168142, 0.8857301418421732, 1.384794926717062, -0.4903542543080155, -0.2473618499212272, -0.7009630708566316, 0.5156263381961245, -1.1291255812234384, -0.829298694609309, 1.3248499130433977, 0.08442761312503773, 1.0275396393621423, -0.3766191390707656, -1.731605498902651, -0.8783732284756439, -0.4096881845872658, -0.9214946500952481, 0.5544203859970838, 0.055184168100756534, 1.5837192344598334, 1.7266557126922775, 0.8683138050421154, -1.0555846243018687, -2.184309585184786, -0.3803520581700609, 0.4206995113741631, 0.085060901439029, 1.15516801238735, 1.256396811071076, 0.6613073885245957, 0.4055860332919486, 0.7494503435914309, -0.3553773638208235, 0.22709931025133642, -1.8067918820329791, -1.3655651555395014, -0.7013106904763116, -0.9608101653884948, -0.3913486413753859, -1.0725993756038412, 1.8512012914505818, 0.7088848612689266, -0.14842242801709593], \"yaxis\": \"y12\"}, {\"line\": {\"color\": \"rgba(128, 128, 128, 1.0)\", \"dash\": \"solid\", \"shape\": \"linear\", \"width\": 1.3}, \"marker\": {\"size\": 2, \"symbol\": \"circle\"}, \"mode\": \"markers\", \"name\": \"D\", \"text\": \"\", \"type\": \"scatter\", \"x\": [-0.14022739364165643, -0.06215427637826168, 1.3604993525322426, -0.31499023670117493, 1.0029694989154603, 0.970785908978943, -1.9952834025092647, 1.0039135826827332, -0.9158744798111359, -1.5467467590902721, 0.37209295460286496, -0.11707489023640913, 0.3729934586411193, -0.09155881745717738, -0.03683336514171592, -0.41858716289621883, 1.2727487669685111, 0.7032449700650091, -0.3738248467613199, 1.5095426393794726, -0.18607365814905844, 0.4183288835354543, 0.19887318935897869, -0.8883000951919754, -0.5092841539648556, -0.6087002578641567, -0.9661264541068408, -1.915268445309993, 0.6093753654788755, 1.580437092556138, 1.2038017025994858, -0.9256468334675966, 1.4351143773603932, 1.1091342369517356, -0.018304712037069137, -2.2313836406164778, 0.7070440778124587, -0.5307156073349464, 2.296219589090963, 2.387706409516227, 0.6271835271545523, -1.2173587220621744, 0.42570764846744746, -1.865485577029963, 0.09358857883241165, 0.21890364457894615, -0.8132962135397189, 0.8909606370067288, -1.3191599374713485, -0.266719405828341, 1.1247976919873686, 0.48999024384756007, 0.5807255032073525, -0.6562912505872847, -0.6742217180417197, 2.214992557360574, -0.9679289742345283, 0.43124375434740847, 1.2054308100887878, -0.0920927130932392, 0.9421320700961858, 0.11984996143687157, -0.15429180556311048, 0.2918631513091189, -1.8717576688946829, -0.8679678182080496, -0.020103099947394832, -0.042027336524633696, 1.239199523092614, 0.31174508367849085, 0.9361084479519998, -0.18618102912744675, 0.5826791217951177, 0.43352959070524805, 0.05304296463400472, -0.5926127266145984, -2.714955903645562, -0.7302768692480879, 0.5416647778556658, 1.066691518602927, -0.20464590566938895, 1.667570632967258, -1.2848121388168667, -1.2693020887010722, 1.1961530520102446, -2.303978558507296, -0.34484568309621116, 0.33316727300389903, -1.5277704570453603, -0.2677533280031435, -1.1069183000442135, -0.69696863763343, 0.4220514472520369, -0.7119580435533539, -0.4861965889709872, -1.0514199478282396, -1.2973863778725738, -1.852599660498362, 0.2669849512911801, 0.6934313898697425], \"xaxis\": \"x13\", \"y\": [0.14980519387875132, -1.4198798107052975, -0.7327077885129524, -0.6085377074797261, 0.32603603643856804, 0.05800489349336685, -0.7663414536041493, -0.4980972756109609, 1.6291425865446543, 0.4637796522855408, 0.041789905018740685, 0.3775787012811703, -1.5982595699465927, 1.319815229205623, -0.7973020773164097, 0.016588448398173073, 0.7687636179232215, 0.946061861862273, 0.5630595028889144, -1.732414528269466, 0.2202207093991576, -0.18890053343860205, -1.4304638653323456, -1.4128856795325917, 0.06393104024926448, 0.14144503101449765, 0.4802131029118245, 1.009367633119822, -0.5821688413981985, 0.43607399705809297, -1.107229741845423, -0.1763841373336813, 0.977963986531852, -1.6522872849716423, -0.5793361170634413, 0.5558489986821461, 1.065170588802731, 1.3299176946618927, 0.15570712345963303, -0.37284916437786214, 0.8574099168049211, 1.3580023577303706, -1.227710763935321, -1.581773724016081, -0.9583483914893025, 0.5220724489139206, -0.9447623535968571, 2.326472964841943, -1.0285467364486465, -0.9518028155898937, 1.8256635162843007, -0.7447939489245792, -0.35542822662993445, 2.0226683813177546, 0.30189223247555663, -0.06399955557885503, -1.556050477309016, -1.6343501528936466, -0.41084832490311385, -0.16266217074037218, 0.2914615780978868, -0.424044469491487, 1.1063947607956812, -1.3891732650666997, -0.2954048676433976, 1.1092818568490956, -0.19599030027340839, 0.5291884870361916, 0.36172739040270746, -0.560905791229739, -0.33918392310298456, 0.5910664413066594, -1.0603114537944383, -0.16533511057927797, 1.2364316740221963, 0.1454372667550455, -1.4880456437309315, -0.0934156145073493, 0.940054247885066, 0.4769872896615898, 2.142452777427751, -1.620668974236862, -0.019343804836262146, 0.5090676133052232, -1.9161718154222847, 0.3853671714937817, 0.994868242832238, 1.0964425597617593, 1.467335409627744, 0.7646621744062372, -1.7816290892180877, 0.0907817268338275, -0.20687425439460655, -0.980047818319929, -0.07394196352769604, 0.5749412114732553, -0.19751122740326005, 1.2592560828216992, -0.094315966458522, 1.016397700020748], \"yaxis\": \"y13\"}, {\"line\": {\"color\": \"rgba(128, 128, 128, 1.0)\", \"dash\": \"solid\", \"shape\": \"linear\", \"width\": 1.3}, \"marker\": {\"size\": 2, \"symbol\": \"circle\"}, \"mode\": \"markers\", \"name\": \"D\", \"text\": \"\", \"type\": \"scatter\", \"x\": [-0.49138081110649495, 0.20096821703152126, -0.5118376940715328, -0.294754672042674, 0.7912868491160063, 0.6016396273238315, -1.8517024871032415, -0.8357324338017871, 0.5567672502176182, 0.34248645594707156, 1.1284364585110525, -0.9475016318413956, 0.6052496337791674, -0.14129046372803092, 0.23878933595490678, -1.3302105428345574, 0.7065868414255477, 0.8596504098464547, -1.0289972766977775, 0.38416590094808395, -0.6805516583040593, 0.25047413304492844, -1.0934455244419623, 0.21783950085433063, -1.6465140549141115, 1.773635885242201, -0.15523341084556538, 2.676693565466258, -0.5545091562056877, -1.1680827062075498, 0.4012562551292746, 1.5825339892798398, -0.5398529138511904, 1.0645026613523625, -1.4028466624172862, -0.8110265275168601, 0.017905104851356973, -0.5880126717343193, -1.9196292048084675, -0.5770587119572501, -0.3709996873352136, 0.6380882254802426, -2.048108646820459, -0.6244061305032667, 0.1979958562682151, 1.235861000391054, -0.056613145024522714, 1.4231514175036732, -0.12371210746402267, 2.0043855782244577, 0.24377248592591028, -0.9191773044109226, 1.260013880741051, 0.25973909324840844, 0.7809547129755966, -1.1393604843367602, 0.5155300758995982, -0.08659470454921091, 0.7450800307774069, 0.8763936308013027, 0.6536472576730905, -0.5269623477618497, -0.3983721526933854, 0.2628759268519323, -0.05138886524695858, 1.999743718409326, 0.08002061538393514, 1.8932986126680995, -0.4392068648508249, 1.8041669201375656, 0.5014501185022648, 0.6418703110176629, 0.916215226940129, 0.09519773076228714, 0.2024566893905404, -1.126067618256918, -1.043129801809276, 1.4232891346410141, 0.45471152794813313, -0.3789454598854821, 1.113225442536063, 0.9673482795705286, -2.1035698135731296, 0.5732793851398493, 0.008794944506913387, -1.11121827900885, -1.242414784044673, 0.23578253336456306, 1.5892034787841012, -0.2997132280280576, -0.38497283723599923, 0.7293960491010912, 0.09212027910610585, 0.1752052422872672, 0.5906643403648387, -0.7612504986085381, 1.2337359981255012, -0.5972867609627632, 0.9206519061066598, -1.5461656964766408], \"xaxis\": \"x14\", \"y\": [0.14980519387875132, -1.4198798107052975, -0.7327077885129524, -0.6085377074797261, 0.32603603643856804, 0.05800489349336685, -0.7663414536041493, -0.4980972756109609, 1.6291425865446543, 0.4637796522855408, 0.041789905018740685, 0.3775787012811703, -1.5982595699465927, 1.319815229205623, -0.7973020773164097, 0.016588448398173073, 0.7687636179232215, 0.946061861862273, 0.5630595028889144, -1.732414528269466, 0.2202207093991576, -0.18890053343860205, -1.4304638653323456, -1.4128856795325917, 0.06393104024926448, 0.14144503101449765, 0.4802131029118245, 1.009367633119822, -0.5821688413981985, 0.43607399705809297, -1.107229741845423, -0.1763841373336813, 0.977963986531852, -1.6522872849716423, -0.5793361170634413, 0.5558489986821461, 1.065170588802731, 1.3299176946618927, 0.15570712345963303, -0.37284916437786214, 0.8574099168049211, 1.3580023577303706, -1.227710763935321, -1.581773724016081, -0.9583483914893025, 0.5220724489139206, -0.9447623535968571, 2.326472964841943, -1.0285467364486465, -0.9518028155898937, 1.8256635162843007, -0.7447939489245792, -0.35542822662993445, 2.0226683813177546, 0.30189223247555663, -0.06399955557885503, -1.556050477309016, -1.6343501528936466, -0.41084832490311385, -0.16266217074037218, 0.2914615780978868, -0.424044469491487, 1.1063947607956812, -1.3891732650666997, -0.2954048676433976, 1.1092818568490956, -0.19599030027340839, 0.5291884870361916, 0.36172739040270746, -0.560905791229739, -0.33918392310298456, 0.5910664413066594, -1.0603114537944383, -0.16533511057927797, 1.2364316740221963, 0.1454372667550455, -1.4880456437309315, -0.0934156145073493, 0.940054247885066, 0.4769872896615898, 2.142452777427751, -1.620668974236862, -0.019343804836262146, 0.5090676133052232, -1.9161718154222847, 0.3853671714937817, 0.994868242832238, 1.0964425597617593, 1.467335409627744, 0.7646621744062372, -1.7816290892180877, 0.0907817268338275, -0.20687425439460655, -0.980047818319929, -0.07394196352769604, 0.5749412114732553, -0.19751122740326005, 1.2592560828216992, -0.094315966458522, 1.016397700020748], \"yaxis\": \"y14\"}, {\"line\": {\"color\": \"rgba(128, 128, 128, 1.0)\", \"dash\": \"solid\", \"shape\": \"linear\", \"width\": 1.3}, \"marker\": {\"size\": 2, \"symbol\": \"circle\"}, \"mode\": \"markers\", \"name\": \"D\", \"text\": \"\", \"type\": \"scatter\", \"x\": [0.8322983650067056, 2.9487944257739023, -0.9327203264414998, 2.7933536990347863, 0.8542454719675332, 0.31809576337229933, -0.6715186412029381, 0.15938393556550307, -1.7425405225991573, 1.4863178222912832, -1.872915682609848, -0.5960420579789987, -2.203298476933827, -0.2329350022052127, 0.7796450318301332, 1.052891983781643, -0.1409371827770851, 0.6474336473085542, -1.505571111529484, 0.7062178145702688, -1.964670446835789, -0.4981514131178999, 1.5181771987126984, -1.536175060551129, -0.38959992623384093, -0.3022172312940435, -0.25772880922383, -0.39695053175002115, -0.3095852443436779, -0.11194083861580877, 0.7601753859738068, -0.530247095041203, 0.20861687899845097, 0.7674050485892783, 0.4452817555900837, 0.0767095841096248, -2.2259461140532677, -1.2116302710576747, -1.32822562098306, -0.5222062624020434, 0.7911058892910624, 0.4677239636003078, 0.30047245775079023, 0.3655170020081269, 0.20289276559461722, 0.4153352653664582, -0.052447423831299834, 0.11944076654957166, 0.8015700610030586, 0.2918230148556353, 1.4531188182365395, 0.24933808921225617, 0.3785975989601048, 0.226260847886642, -0.41584412274397065, 0.4454689629799662, -1.0586950119045058, -0.14716718680168142, 0.8857301418421732, 1.384794926717062, -0.4903542543080155, -0.2473618499212272, -0.7009630708566316, 0.5156263381961245, -1.1291255812234384, -0.829298694609309, 1.3248499130433977, 0.08442761312503773, 1.0275396393621423, -0.3766191390707656, -1.731605498902651, -0.8783732284756439, -0.4096881845872658, -0.9214946500952481, 0.5544203859970838, 0.055184168100756534, 1.5837192344598334, 1.7266557126922775, 0.8683138050421154, -1.0555846243018687, -2.184309585184786, -0.3803520581700609, 0.4206995113741631, 0.085060901439029, 1.15516801238735, 1.256396811071076, 0.6613073885245957, 0.4055860332919486, 0.7494503435914309, -0.3553773638208235, 0.22709931025133642, -1.8067918820329791, -1.3655651555395014, -0.7013106904763116, -0.9608101653884948, -0.3913486413753859, -1.0725993756038412, 1.8512012914505818, 0.7088848612689266, -0.14842242801709593], \"xaxis\": \"x15\", \"y\": [0.14980519387875132, -1.4198798107052975, -0.7327077885129524, -0.6085377074797261, 0.32603603643856804, 0.05800489349336685, -0.7663414536041493, -0.4980972756109609, 1.6291425865446543, 0.4637796522855408, 0.041789905018740685, 0.3775787012811703, -1.5982595699465927, 1.319815229205623, -0.7973020773164097, 0.016588448398173073, 0.7687636179232215, 0.946061861862273, 0.5630595028889144, -1.732414528269466, 0.2202207093991576, -0.18890053343860205, -1.4304638653323456, -1.4128856795325917, 0.06393104024926448, 0.14144503101449765, 0.4802131029118245, 1.009367633119822, -0.5821688413981985, 0.43607399705809297, -1.107229741845423, -0.1763841373336813, 0.977963986531852, -1.6522872849716423, -0.5793361170634413, 0.5558489986821461, 1.065170588802731, 1.3299176946618927, 0.15570712345963303, -0.37284916437786214, 0.8574099168049211, 1.3580023577303706, -1.227710763935321, -1.581773724016081, -0.9583483914893025, 0.5220724489139206, -0.9447623535968571, 2.326472964841943, -1.0285467364486465, -0.9518028155898937, 1.8256635162843007, -0.7447939489245792, -0.35542822662993445, 2.0226683813177546, 0.30189223247555663, -0.06399955557885503, -1.556050477309016, -1.6343501528936466, -0.41084832490311385, -0.16266217074037218, 0.2914615780978868, -0.424044469491487, 1.1063947607956812, -1.3891732650666997, -0.2954048676433976, 1.1092818568490956, -0.19599030027340839, 0.5291884870361916, 0.36172739040270746, -0.560905791229739, -0.33918392310298456, 0.5910664413066594, -1.0603114537944383, -0.16533511057927797, 1.2364316740221963, 0.1454372667550455, -1.4880456437309315, -0.0934156145073493, 0.940054247885066, 0.4769872896615898, 2.142452777427751, -1.620668974236862, -0.019343804836262146, 0.5090676133052232, -1.9161718154222847, 0.3853671714937817, 0.994868242832238, 1.0964425597617593, 1.467335409627744, 0.7646621744062372, -1.7816290892180877, 0.0907817268338275, -0.20687425439460655, -0.980047818319929, -0.07394196352769604, 0.5749412114732553, -0.19751122740326005, 1.2592560828216992, -0.094315966458522, 1.016397700020748], \"yaxis\": \"y15\"}, {\"histfunc\": \"count\", \"histnorm\": \"\", \"marker\": {\"color\": \"rgba(128, 0, 128, 1.0)\", \"line\": {\"color\": \"#4D5663\", \"width\": 1.3}}, \"name\": \"D\", \"nbinsx\": 10, \"opacity\": 0.8, \"orientation\": \"v\", \"type\": \"histogram\", \"x\": [0.14980519387875132, -1.4198798107052975, -0.7327077885129524, -0.6085377074797261, 0.32603603643856804, 0.05800489349336685, -0.7663414536041493, -0.4980972756109609, 1.6291425865446543, 0.4637796522855408, 0.041789905018740685, 0.3775787012811703, -1.5982595699465927, 1.319815229205623, -0.7973020773164097, 0.016588448398173073, 0.7687636179232215, 0.946061861862273, 0.5630595028889144, -1.732414528269466, 0.2202207093991576, -0.18890053343860205, -1.4304638653323456, -1.4128856795325917, 0.06393104024926448, 0.14144503101449765, 0.4802131029118245, 1.009367633119822, -0.5821688413981985, 0.43607399705809297, -1.107229741845423, -0.1763841373336813, 0.977963986531852, -1.6522872849716423, -0.5793361170634413, 0.5558489986821461, 1.065170588802731, 1.3299176946618927, 0.15570712345963303, -0.37284916437786214, 0.8574099168049211, 1.3580023577303706, -1.227710763935321, -1.581773724016081, -0.9583483914893025, 0.5220724489139206, -0.9447623535968571, 2.326472964841943, -1.0285467364486465, -0.9518028155898937, 1.8256635162843007, -0.7447939489245792, -0.35542822662993445, 2.0226683813177546, 0.30189223247555663, -0.06399955557885503, -1.556050477309016, -1.6343501528936466, -0.41084832490311385, -0.16266217074037218, 0.2914615780978868, -0.424044469491487, 1.1063947607956812, -1.3891732650666997, -0.2954048676433976, 1.1092818568490956, -0.19599030027340839, 0.5291884870361916, 0.36172739040270746, -0.560905791229739, -0.33918392310298456, 0.5910664413066594, -1.0603114537944383, -0.16533511057927797, 1.2364316740221963, 0.1454372667550455, -1.4880456437309315, -0.0934156145073493, 0.940054247885066, 0.4769872896615898, 2.142452777427751, -1.620668974236862, -0.019343804836262146, 0.5090676133052232, -1.9161718154222847, 0.3853671714937817, 0.994868242832238, 1.0964425597617593, 1.467335409627744, 0.7646621744062372, -1.7816290892180877, 0.0907817268338275, -0.20687425439460655, -0.980047818319929, -0.07394196352769604, 0.5749412114732553, -0.19751122740326005, 1.2592560828216992, -0.094315966458522, 1.016397700020748], \"xaxis\": \"x16\", \"yaxis\": \"y16\"}],\n",
       "                        {\"bargap\": 0.02, \"legend\": {\"bgcolor\": \"#F5F6F9\", \"font\": {\"color\": \"#4D5663\"}}, \"paper_bgcolor\": \"#F5F6F9\", \"plot_bgcolor\": \"#F5F6F9\", \"showlegend\": false, \"template\": {\"data\": {\"bar\": [{\"error_x\": {\"color\": \"#2a3f5f\"}, \"error_y\": {\"color\": \"#2a3f5f\"}, \"marker\": {\"line\": {\"color\": \"#E5ECF6\", \"width\": 0.5}}, \"type\": \"bar\"}], \"barpolar\": [{\"marker\": {\"line\": {\"color\": \"#E5ECF6\", \"width\": 0.5}}, \"type\": \"barpolar\"}], \"carpet\": [{\"aaxis\": {\"endlinecolor\": \"#2a3f5f\", \"gridcolor\": \"white\", \"linecolor\": \"white\", \"minorgridcolor\": \"white\", \"startlinecolor\": \"#2a3f5f\"}, \"baxis\": {\"endlinecolor\": \"#2a3f5f\", \"gridcolor\": \"white\", \"linecolor\": \"white\", \"minorgridcolor\": \"white\", \"startlinecolor\": \"#2a3f5f\"}, \"type\": \"carpet\"}], \"choropleth\": [{\"colorbar\": {\"outlinewidth\": 0, \"ticks\": \"\"}, \"type\": \"choropleth\"}], \"contour\": [{\"colorbar\": {\"outlinewidth\": 0, \"ticks\": \"\"}, \"colorscale\": [[0.0, \"#0d0887\"], [0.1111111111111111, \"#46039f\"], [0.2222222222222222, \"#7201a8\"], [0.3333333333333333, \"#9c179e\"], [0.4444444444444444, \"#bd3786\"], [0.5555555555555556, \"#d8576b\"], [0.6666666666666666, \"#ed7953\"], [0.7777777777777778, \"#fb9f3a\"], [0.8888888888888888, \"#fdca26\"], [1.0, \"#f0f921\"]], \"type\": \"contour\"}], \"contourcarpet\": [{\"colorbar\": {\"outlinewidth\": 0, \"ticks\": \"\"}, \"type\": \"contourcarpet\"}], \"heatmap\": [{\"colorbar\": {\"outlinewidth\": 0, \"ticks\": \"\"}, \"colorscale\": [[0.0, \"#0d0887\"], [0.1111111111111111, \"#46039f\"], [0.2222222222222222, \"#7201a8\"], [0.3333333333333333, \"#9c179e\"], [0.4444444444444444, \"#bd3786\"], [0.5555555555555556, \"#d8576b\"], [0.6666666666666666, \"#ed7953\"], [0.7777777777777778, \"#fb9f3a\"], [0.8888888888888888, \"#fdca26\"], [1.0, \"#f0f921\"]], \"type\": \"heatmap\"}], \"heatmapgl\": [{\"colorbar\": {\"outlinewidth\": 0, \"ticks\": \"\"}, \"colorscale\": [[0.0, \"#0d0887\"], [0.1111111111111111, \"#46039f\"], [0.2222222222222222, \"#7201a8\"], [0.3333333333333333, \"#9c179e\"], [0.4444444444444444, \"#bd3786\"], [0.5555555555555556, \"#d8576b\"], [0.6666666666666666, \"#ed7953\"], [0.7777777777777778, \"#fb9f3a\"], [0.8888888888888888, \"#fdca26\"], [1.0, \"#f0f921\"]], \"type\": \"heatmapgl\"}], \"histogram\": [{\"marker\": {\"colorbar\": {\"outlinewidth\": 0, \"ticks\": \"\"}}, \"type\": \"histogram\"}], \"histogram2d\": [{\"colorbar\": {\"outlinewidth\": 0, \"ticks\": \"\"}, \"colorscale\": [[0.0, \"#0d0887\"], [0.1111111111111111, \"#46039f\"], [0.2222222222222222, \"#7201a8\"], [0.3333333333333333, \"#9c179e\"], [0.4444444444444444, \"#bd3786\"], [0.5555555555555556, \"#d8576b\"], [0.6666666666666666, \"#ed7953\"], [0.7777777777777778, \"#fb9f3a\"], [0.8888888888888888, \"#fdca26\"], [1.0, \"#f0f921\"]], \"type\": \"histogram2d\"}], \"histogram2dcontour\": [{\"colorbar\": {\"outlinewidth\": 0, \"ticks\": \"\"}, \"colorscale\": [[0.0, \"#0d0887\"], [0.1111111111111111, \"#46039f\"], [0.2222222222222222, \"#7201a8\"], [0.3333333333333333, \"#9c179e\"], [0.4444444444444444, \"#bd3786\"], [0.5555555555555556, \"#d8576b\"], [0.6666666666666666, \"#ed7953\"], [0.7777777777777778, \"#fb9f3a\"], [0.8888888888888888, \"#fdca26\"], [1.0, \"#f0f921\"]], \"type\": \"histogram2dcontour\"}], \"mesh3d\": [{\"colorbar\": {\"outlinewidth\": 0, \"ticks\": \"\"}, \"type\": \"mesh3d\"}], \"parcoords\": [{\"line\": {\"colorbar\": {\"outlinewidth\": 0, \"ticks\": \"\"}}, \"type\": \"parcoords\"}], \"pie\": [{\"automargin\": true, \"type\": \"pie\"}], \"scatter\": [{\"marker\": {\"colorbar\": {\"outlinewidth\": 0, \"ticks\": \"\"}}, \"type\": \"scatter\"}], \"scatter3d\": [{\"line\": {\"colorbar\": {\"outlinewidth\": 0, \"ticks\": \"\"}}, \"marker\": {\"colorbar\": {\"outlinewidth\": 0, \"ticks\": \"\"}}, \"type\": \"scatter3d\"}], \"scattercarpet\": [{\"marker\": {\"colorbar\": {\"outlinewidth\": 0, \"ticks\": \"\"}}, \"type\": \"scattercarpet\"}], \"scattergeo\": [{\"marker\": {\"colorbar\": {\"outlinewidth\": 0, \"ticks\": \"\"}}, \"type\": \"scattergeo\"}], \"scattergl\": [{\"marker\": {\"colorbar\": {\"outlinewidth\": 0, \"ticks\": \"\"}}, \"type\": \"scattergl\"}], \"scattermapbox\": [{\"marker\": {\"colorbar\": {\"outlinewidth\": 0, \"ticks\": \"\"}}, \"type\": \"scattermapbox\"}], \"scatterpolar\": [{\"marker\": {\"colorbar\": {\"outlinewidth\": 0, \"ticks\": \"\"}}, \"type\": \"scatterpolar\"}], \"scatterpolargl\": [{\"marker\": {\"colorbar\": {\"outlinewidth\": 0, \"ticks\": \"\"}}, \"type\": \"scatterpolargl\"}], \"scatterternary\": [{\"marker\": {\"colorbar\": {\"outlinewidth\": 0, \"ticks\": \"\"}}, \"type\": \"scatterternary\"}], \"surface\": [{\"colorbar\": {\"outlinewidth\": 0, \"ticks\": \"\"}, \"colorscale\": [[0.0, \"#0d0887\"], [0.1111111111111111, \"#46039f\"], [0.2222222222222222, \"#7201a8\"], [0.3333333333333333, \"#9c179e\"], [0.4444444444444444, \"#bd3786\"], [0.5555555555555556, \"#d8576b\"], [0.6666666666666666, \"#ed7953\"], [0.7777777777777778, \"#fb9f3a\"], [0.8888888888888888, \"#fdca26\"], [1.0, \"#f0f921\"]], \"type\": \"surface\"}], \"table\": [{\"cells\": {\"fill\": {\"color\": \"#EBF0F8\"}, \"line\": {\"color\": \"white\"}}, \"header\": {\"fill\": {\"color\": \"#C8D4E3\"}, \"line\": {\"color\": \"white\"}}, \"type\": \"table\"}]}, \"layout\": {\"annotationdefaults\": {\"arrowcolor\": \"#2a3f5f\", \"arrowhead\": 0, \"arrowwidth\": 1}, \"coloraxis\": {\"colorbar\": {\"outlinewidth\": 0, \"ticks\": \"\"}}, \"colorscale\": {\"diverging\": [[0, \"#8e0152\"], [0.1, \"#c51b7d\"], [0.2, \"#de77ae\"], [0.3, \"#f1b6da\"], [0.4, \"#fde0ef\"], [0.5, \"#f7f7f7\"], [0.6, \"#e6f5d0\"], [0.7, \"#b8e186\"], [0.8, \"#7fbc41\"], [0.9, \"#4d9221\"], [1, \"#276419\"]], \"sequential\": [[0.0, \"#0d0887\"], [0.1111111111111111, \"#46039f\"], [0.2222222222222222, \"#7201a8\"], [0.3333333333333333, \"#9c179e\"], [0.4444444444444444, \"#bd3786\"], [0.5555555555555556, \"#d8576b\"], [0.6666666666666666, \"#ed7953\"], [0.7777777777777778, \"#fb9f3a\"], [0.8888888888888888, \"#fdca26\"], [1.0, \"#f0f921\"]], \"sequentialminus\": [[0.0, \"#0d0887\"], [0.1111111111111111, \"#46039f\"], [0.2222222222222222, \"#7201a8\"], [0.3333333333333333, \"#9c179e\"], [0.4444444444444444, \"#bd3786\"], [0.5555555555555556, \"#d8576b\"], [0.6666666666666666, \"#ed7953\"], [0.7777777777777778, \"#fb9f3a\"], [0.8888888888888888, \"#fdca26\"], [1.0, \"#f0f921\"]]}, \"colorway\": [\"#636efa\", \"#EF553B\", \"#00cc96\", \"#ab63fa\", \"#FFA15A\", \"#19d3f3\", \"#FF6692\", \"#B6E880\", \"#FF97FF\", \"#FECB52\"], \"font\": {\"color\": \"#2a3f5f\"}, \"geo\": {\"bgcolor\": \"white\", \"lakecolor\": \"white\", \"landcolor\": \"#E5ECF6\", \"showlakes\": true, \"showland\": true, \"subunitcolor\": \"white\"}, \"hoverlabel\": {\"align\": \"left\"}, \"hovermode\": \"closest\", \"mapbox\": {\"style\": \"light\"}, \"paper_bgcolor\": \"white\", \"plot_bgcolor\": \"#E5ECF6\", \"polar\": {\"angularaxis\": {\"gridcolor\": \"white\", \"linecolor\": \"white\", \"ticks\": \"\"}, \"bgcolor\": \"#E5ECF6\", \"radialaxis\": {\"gridcolor\": \"white\", \"linecolor\": \"white\", \"ticks\": \"\"}}, \"scene\": {\"xaxis\": {\"backgroundcolor\": \"#E5ECF6\", \"gridcolor\": \"white\", \"gridwidth\": 2, \"linecolor\": \"white\", \"showbackground\": true, \"ticks\": \"\", \"zerolinecolor\": \"white\"}, \"yaxis\": {\"backgroundcolor\": \"#E5ECF6\", \"gridcolor\": \"white\", \"gridwidth\": 2, \"linecolor\": \"white\", \"showbackground\": true, \"ticks\": \"\", \"zerolinecolor\": \"white\"}, \"zaxis\": {\"backgroundcolor\": \"#E5ECF6\", \"gridcolor\": \"white\", \"gridwidth\": 2, \"linecolor\": \"white\", \"showbackground\": true, \"ticks\": \"\", \"zerolinecolor\": \"white\"}}, \"shapedefaults\": {\"line\": {\"color\": \"#2a3f5f\"}}, \"ternary\": {\"aaxis\": {\"gridcolor\": \"white\", \"linecolor\": \"white\", \"ticks\": \"\"}, \"baxis\": {\"gridcolor\": \"white\", \"linecolor\": \"white\", \"ticks\": \"\"}, \"bgcolor\": \"#E5ECF6\", \"caxis\": {\"gridcolor\": \"white\", \"linecolor\": \"white\", \"ticks\": \"\"}}, \"title\": {\"x\": 0.05}, \"xaxis\": {\"automargin\": true, \"gridcolor\": \"white\", \"linecolor\": \"white\", \"ticks\": \"\", \"title\": {\"standoff\": 15}, \"zerolinecolor\": \"white\", \"zerolinewidth\": 2}, \"yaxis\": {\"automargin\": true, \"gridcolor\": \"white\", \"linecolor\": \"white\", \"ticks\": \"\", \"title\": {\"standoff\": 15}, \"zerolinecolor\": \"white\", \"zerolinewidth\": 2}}}, \"title\": {\"font\": {\"color\": \"#4D5663\"}}, \"xaxis\": {\"anchor\": \"y\", \"domain\": [0.0, 0.2125], \"gridcolor\": \"#E1E5ED\", \"showgrid\": false, \"tickfont\": {\"color\": \"#4D5663\"}, \"title\": {\"font\": {\"color\": \"#4D5663\"}, \"text\": \"\"}, \"zerolinecolor\": \"#E1E5ED\"}, \"xaxis10\": {\"anchor\": \"y10\", \"domain\": [0.2625, 0.475], \"gridcolor\": \"#E1E5ED\", \"showgrid\": false, \"tickfont\": {\"color\": \"#4D5663\"}, \"title\": {\"font\": {\"color\": \"#4D5663\"}, \"text\": \"\"}, \"zerolinecolor\": \"#E1E5ED\"}, \"xaxis11\": {\"anchor\": \"y11\", \"domain\": [0.525, 0.7375], \"gridcolor\": \"#E1E5ED\", \"showgrid\": false, \"tickfont\": {\"color\": \"#4D5663\"}, \"title\": {\"font\": {\"color\": \"#4D5663\"}, \"text\": \"\"}, \"zerolinecolor\": \"#E1E5ED\"}, \"xaxis12\": {\"anchor\": \"y12\", \"domain\": [0.7875, 1.0], \"gridcolor\": \"#E1E5ED\", \"showgrid\": false, \"tickfont\": {\"color\": \"#4D5663\"}, \"title\": {\"font\": {\"color\": \"#4D5663\"}, \"text\": \"\"}, \"zerolinecolor\": \"#E1E5ED\"}, \"xaxis13\": {\"anchor\": \"y13\", \"domain\": [0.0, 0.2125], \"gridcolor\": \"#E1E5ED\", \"showgrid\": false, \"tickfont\": {\"color\": \"#4D5663\"}, \"title\": {\"font\": {\"color\": \"#4D5663\"}, \"text\": \"\"}, \"zerolinecolor\": \"#E1E5ED\"}, \"xaxis14\": {\"anchor\": \"y14\", \"domain\": [0.2625, 0.475], \"gridcolor\": \"#E1E5ED\", \"showgrid\": false, \"tickfont\": {\"color\": \"#4D5663\"}, \"title\": {\"font\": {\"color\": \"#4D5663\"}, \"text\": \"\"}, \"zerolinecolor\": \"#E1E5ED\"}, \"xaxis15\": {\"anchor\": \"y15\", \"domain\": [0.525, 0.7375], \"gridcolor\": \"#E1E5ED\", \"showgrid\": false, \"tickfont\": {\"color\": \"#4D5663\"}, \"title\": {\"font\": {\"color\": \"#4D5663\"}, \"text\": \"\"}, \"zerolinecolor\": \"#E1E5ED\"}, \"xaxis16\": {\"anchor\": \"y16\", \"domain\": [0.7875, 1.0], \"gridcolor\": \"#E1E5ED\", \"showgrid\": false, \"tickfont\": {\"color\": \"#4D5663\"}, \"title\": {\"font\": {\"color\": \"#4D5663\"}, \"text\": \"\"}, \"zerolinecolor\": \"#E1E5ED\"}, \"xaxis2\": {\"anchor\": \"y2\", \"domain\": [0.2625, 0.475], \"gridcolor\": \"#E1E5ED\", \"showgrid\": false, \"tickfont\": {\"color\": \"#4D5663\"}, \"title\": {\"font\": {\"color\": \"#4D5663\"}, \"text\": \"\"}, \"zerolinecolor\": \"#E1E5ED\"}, \"xaxis3\": {\"anchor\": \"y3\", \"domain\": [0.525, 0.7375], \"gridcolor\": \"#E1E5ED\", \"showgrid\": false, \"tickfont\": {\"color\": \"#4D5663\"}, \"title\": {\"font\": {\"color\": \"#4D5663\"}, \"text\": \"\"}, \"zerolinecolor\": \"#E1E5ED\"}, \"xaxis4\": {\"anchor\": \"y4\", \"domain\": [0.7875, 1.0], \"gridcolor\": \"#E1E5ED\", \"showgrid\": false, \"tickfont\": {\"color\": \"#4D5663\"}, \"title\": {\"font\": {\"color\": \"#4D5663\"}, \"text\": \"\"}, \"zerolinecolor\": \"#E1E5ED\"}, \"xaxis5\": {\"anchor\": \"y5\", \"domain\": [0.0, 0.2125], \"gridcolor\": \"#E1E5ED\", \"showgrid\": false, \"tickfont\": {\"color\": \"#4D5663\"}, \"title\": {\"font\": {\"color\": \"#4D5663\"}, \"text\": \"\"}, \"zerolinecolor\": \"#E1E5ED\"}, \"xaxis6\": {\"anchor\": \"y6\", \"domain\": [0.2625, 0.475], \"gridcolor\": \"#E1E5ED\", \"showgrid\": false, \"tickfont\": {\"color\": \"#4D5663\"}, \"title\": {\"font\": {\"color\": \"#4D5663\"}, \"text\": \"\"}, \"zerolinecolor\": \"#E1E5ED\"}, \"xaxis7\": {\"anchor\": \"y7\", \"domain\": [0.525, 0.7375], \"gridcolor\": \"#E1E5ED\", \"showgrid\": false, \"tickfont\": {\"color\": \"#4D5663\"}, \"title\": {\"font\": {\"color\": \"#4D5663\"}, \"text\": \"\"}, \"zerolinecolor\": \"#E1E5ED\"}, \"xaxis8\": {\"anchor\": \"y8\", \"domain\": [0.7875, 1.0], \"gridcolor\": \"#E1E5ED\", \"showgrid\": false, \"tickfont\": {\"color\": \"#4D5663\"}, \"title\": {\"font\": {\"color\": \"#4D5663\"}, \"text\": \"\"}, \"zerolinecolor\": \"#E1E5ED\"}, \"xaxis9\": {\"anchor\": \"y9\", \"domain\": [0.0, 0.2125], \"gridcolor\": \"#E1E5ED\", \"showgrid\": false, \"tickfont\": {\"color\": \"#4D5663\"}, \"title\": {\"font\": {\"color\": \"#4D5663\"}, \"text\": \"\"}, \"zerolinecolor\": \"#E1E5ED\"}, \"yaxis\": {\"anchor\": \"x\", \"domain\": [0.8025, 1.0], \"gridcolor\": \"#E1E5ED\", \"showgrid\": false, \"tickfont\": {\"color\": \"#4D5663\"}, \"title\": {\"font\": {\"color\": \"#4D5663\"}, \"text\": \"\"}, \"zerolinecolor\": \"#E1E5ED\"}, \"yaxis10\": {\"anchor\": \"x10\", \"domain\": [0.2675, 0.465], \"gridcolor\": \"#E1E5ED\", \"showgrid\": false, \"tickfont\": {\"color\": \"#4D5663\"}, \"title\": {\"font\": {\"color\": \"#4D5663\"}, \"text\": \"\"}, \"zerolinecolor\": \"#E1E5ED\"}, \"yaxis11\": {\"anchor\": \"x11\", \"domain\": [0.2675, 0.465], \"gridcolor\": \"#E1E5ED\", \"showgrid\": false, \"tickfont\": {\"color\": \"#4D5663\"}, \"title\": {\"font\": {\"color\": \"#4D5663\"}, \"text\": \"\"}, \"zerolinecolor\": \"#E1E5ED\"}, \"yaxis12\": {\"anchor\": \"x12\", \"domain\": [0.2675, 0.465], \"gridcolor\": \"#E1E5ED\", \"showgrid\": false, \"tickfont\": {\"color\": \"#4D5663\"}, \"title\": {\"font\": {\"color\": \"#4D5663\"}, \"text\": \"\"}, \"zerolinecolor\": \"#E1E5ED\"}, \"yaxis13\": {\"anchor\": \"x13\", \"domain\": [0.0, 0.1975], \"gridcolor\": \"#E1E5ED\", \"showgrid\": false, \"tickfont\": {\"color\": \"#4D5663\"}, \"title\": {\"font\": {\"color\": \"#4D5663\"}, \"text\": \"\"}, \"zerolinecolor\": \"#E1E5ED\"}, \"yaxis14\": {\"anchor\": \"x14\", \"domain\": [0.0, 0.1975], \"gridcolor\": \"#E1E5ED\", \"showgrid\": false, \"tickfont\": {\"color\": \"#4D5663\"}, \"title\": {\"font\": {\"color\": \"#4D5663\"}, \"text\": \"\"}, \"zerolinecolor\": \"#E1E5ED\"}, \"yaxis15\": {\"anchor\": \"x15\", \"domain\": [0.0, 0.1975], \"gridcolor\": \"#E1E5ED\", \"showgrid\": false, \"tickfont\": {\"color\": \"#4D5663\"}, \"title\": {\"font\": {\"color\": \"#4D5663\"}, \"text\": \"\"}, \"zerolinecolor\": \"#E1E5ED\"}, \"yaxis16\": {\"anchor\": \"x16\", \"domain\": [0.0, 0.1975], \"gridcolor\": \"#E1E5ED\", \"showgrid\": false, \"tickfont\": {\"color\": \"#4D5663\"}, \"title\": {\"font\": {\"color\": \"#4D5663\"}, \"text\": \"\"}, \"zerolinecolor\": \"#E1E5ED\"}, \"yaxis2\": {\"anchor\": \"x2\", \"domain\": [0.8025, 1.0], \"gridcolor\": \"#E1E5ED\", \"showgrid\": false, \"tickfont\": {\"color\": \"#4D5663\"}, \"title\": {\"font\": {\"color\": \"#4D5663\"}, \"text\": \"\"}, \"zerolinecolor\": \"#E1E5ED\"}, \"yaxis3\": {\"anchor\": \"x3\", \"domain\": [0.8025, 1.0], \"gridcolor\": \"#E1E5ED\", \"showgrid\": false, \"tickfont\": {\"color\": \"#4D5663\"}, \"title\": {\"font\": {\"color\": \"#4D5663\"}, \"text\": \"\"}, \"zerolinecolor\": \"#E1E5ED\"}, \"yaxis4\": {\"anchor\": \"x4\", \"domain\": [0.8025, 1.0], \"gridcolor\": \"#E1E5ED\", \"showgrid\": false, \"tickfont\": {\"color\": \"#4D5663\"}, \"title\": {\"font\": {\"color\": \"#4D5663\"}, \"text\": \"\"}, \"zerolinecolor\": \"#E1E5ED\"}, \"yaxis5\": {\"anchor\": \"x5\", \"domain\": [0.535, 0.7325], \"gridcolor\": \"#E1E5ED\", \"showgrid\": false, \"tickfont\": {\"color\": \"#4D5663\"}, \"title\": {\"font\": {\"color\": \"#4D5663\"}, \"text\": \"\"}, \"zerolinecolor\": \"#E1E5ED\"}, \"yaxis6\": {\"anchor\": \"x6\", \"domain\": [0.535, 0.7325], \"gridcolor\": \"#E1E5ED\", \"showgrid\": false, \"tickfont\": {\"color\": \"#4D5663\"}, \"title\": {\"font\": {\"color\": \"#4D5663\"}, \"text\": \"\"}, \"zerolinecolor\": \"#E1E5ED\"}, \"yaxis7\": {\"anchor\": \"x7\", \"domain\": [0.535, 0.7325], \"gridcolor\": \"#E1E5ED\", \"showgrid\": false, \"tickfont\": {\"color\": \"#4D5663\"}, \"title\": {\"font\": {\"color\": \"#4D5663\"}, \"text\": \"\"}, \"zerolinecolor\": \"#E1E5ED\"}, \"yaxis8\": {\"anchor\": \"x8\", \"domain\": [0.535, 0.7325], \"gridcolor\": \"#E1E5ED\", \"showgrid\": false, \"tickfont\": {\"color\": \"#4D5663\"}, \"title\": {\"font\": {\"color\": \"#4D5663\"}, \"text\": \"\"}, \"zerolinecolor\": \"#E1E5ED\"}, \"yaxis9\": {\"anchor\": \"x9\", \"domain\": [0.2675, 0.465], \"gridcolor\": \"#E1E5ED\", \"showgrid\": false, \"tickfont\": {\"color\": \"#4D5663\"}, \"title\": {\"font\": {\"color\": \"#4D5663\"}, \"text\": \"\"}, \"zerolinecolor\": \"#E1E5ED\"}},\n",
       "                        {\"showLink\": true, \"linkText\": \"Export to plot.ly\", \"plotlyServerURL\": \"https://plot.ly\", \"responsive\": true}\n",
       "                    ).then(function(){\n",
       "                            \n",
       "var gd = document.getElementById('adfc98b4-05d9-41ee-b1e3-59b7ed99656a');\n",
       "var x = new MutationObserver(function (mutations, observer) {{\n",
       "        var display = window.getComputedStyle(gd).display;\n",
       "        if (!display || display === 'none') {{\n",
       "            console.log([gd, 'removed!']);\n",
       "            Plotly.purge(gd);\n",
       "            observer.disconnect();\n",
       "        }}\n",
       "}});\n",
       "\n",
       "// Listen for the removal of the full notebook cells\n",
       "var notebookContainer = gd.closest('#notebook-container');\n",
       "if (notebookContainer) {{\n",
       "    x.observe(notebookContainer, {childList: true});\n",
       "}}\n",
       "\n",
       "// Listen for the clearing of the current output cell\n",
       "var outputEl = gd.closest('.output');\n",
       "if (outputEl) {{\n",
       "    x.observe(outputEl, {childList: true});\n",
       "}}\n",
       "\n",
       "                        })\n",
       "                };\n",
       "                });\n",
       "            </script>\n",
       "        </div>"
      ]
     },
     "metadata": {},
     "output_type": "display_data"
    }
   ],
   "source": [
    "df.scatter_matrix()"
   ]
  },
  {
   "cell_type": "code",
   "execution_count": null,
   "metadata": {},
   "outputs": [],
   "source": []
  }
 ],
 "metadata": {
  "kernelspec": {
   "display_name": "Python 3",
   "language": "python",
   "name": "python3"
  },
  "language_info": {
   "codemirror_mode": {
    "name": "ipython",
    "version": 3
   },
   "file_extension": ".py",
   "mimetype": "text/x-python",
   "name": "python",
   "nbconvert_exporter": "python",
   "pygments_lexer": "ipython3",
   "version": "3.7.4"
  }
 },
 "nbformat": 4,
 "nbformat_minor": 2
}
